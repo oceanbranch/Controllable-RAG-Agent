{
  "cells": [
    {
      "cell_type": "markdown",
      "metadata": {},
      "source": [
        "### Importing Necessary Libraries\n"
      ]
    },
    {
      "cell_type": "code",
      "execution_count": 52,
      "metadata": {
        "id": "XIL5OCqJ7bh8"
      },
      "outputs": [
        {
          "ename": "ImportError",
          "evalue": "cannot import name 'save_object' from 'helper_functions' (c:\\Users\\N7\\PycharmProjects\\llm_tasks\\RAG-Harry-Potter\\helper_functions.py)",
          "output_type": "error",
          "traceback": [
            "\u001b[1;31m---------------------------------------------------------------------------\u001b[0m",
            "\u001b[1;31mImportError\u001b[0m                               Traceback (most recent call last)",
            "Cell \u001b[1;32mIn[52], line 39\u001b[0m\n\u001b[0;32m     35\u001b[0m \u001b[38;5;28;01mimport\u001b[39;00m \u001b[38;5;21;01mpickle\u001b[39;00m\n\u001b[0;32m     38\u001b[0m \u001b[38;5;66;03m### Helper functions for the notebook\u001b[39;00m\n\u001b[1;32m---> 39\u001b[0m \u001b[38;5;28;01mfrom\u001b[39;00m \u001b[38;5;21;01mhelper_functions\u001b[39;00m \u001b[38;5;28;01mimport\u001b[39;00m num_tokens_from_string, replace_t_with_space, replace_double_lines_with_one_line, split_into_chapters,\\\n\u001b[0;32m     40\u001b[0m analyse_metric_results, escape_quotes, text_wrap, save_object, load_object\n\u001b[0;32m     42\u001b[0m load_dotenv()\n\u001b[0;32m     44\u001b[0m os\u001b[38;5;241m.\u001b[39menviron[\u001b[38;5;124m\"\u001b[39m\u001b[38;5;124mPYDEVD_WARN_EVALUATION_TIMEOUT\u001b[39m\u001b[38;5;124m\"\u001b[39m] \u001b[38;5;241m=\u001b[39m \u001b[38;5;124m\"\u001b[39m\u001b[38;5;124m100000\u001b[39m\u001b[38;5;124m\"\u001b[39m\n",
            "\u001b[1;31mImportError\u001b[0m: cannot import name 'save_object' from 'helper_functions' (c:\\Users\\N7\\PycharmProjects\\llm_tasks\\RAG-Harry-Potter\\helper_functions.py)"
          ]
        }
      ],
      "source": [
        "from langchain_openai import ChatOpenAI \n",
        "from langchain_groq import ChatGroq\n",
        "from langchain.document_loaders import  PyPDFLoader\n",
        "from langchain.vectorstores import  FAISS\n",
        "from langchain.text_splitter import  RecursiveCharacterTextSplitter\n",
        "from langchain.embeddings import OpenAIEmbeddings \n",
        "from langchain.prompts import PromptTemplate\n",
        "from langchain.docstore.document import Document\n",
        "from langchain.chains.summarize import load_summarize_chain\n",
        "from langchain_core.pydantic_v1 import BaseModel, Field\n",
        "from langchain_core.output_parsers import JsonOutputParser\n",
        "from langchain_core.runnables.graph import MermaidDrawMethod\n",
        "\n",
        "from langgraph.graph import END, StateGraph\n",
        "\n",
        "from time import monotonic\n",
        "from dotenv import load_dotenv\n",
        "from pprint import pprint\n",
        "import os\n",
        "from datasets import Dataset\n",
        "from typing_extensions import TypedDict\n",
        "from IPython.display import display, Image\n",
        "from typing import List, TypedDict\n",
        "\n",
        "from ragas import evaluate\n",
        "from ragas.metrics import (\n",
        "    answer_correctness,\n",
        "    faithfulness,\n",
        "    answer_relevancy,\n",
        "    context_recall,\n",
        "    answer_similarity\n",
        ")\n",
        "\n",
        "import langgraph\n",
        "\n",
        "\n",
        "### Helper functions for the notebook\n",
        "from helper_functions import num_tokens_from_string, replace_t_with_space, replace_double_lines_with_one_line, split_into_chapters,\\\n",
        "analyse_metric_results, escape_quotes, text_wrap, save_object, load_object\n",
        "\n",
        "load_dotenv()\n",
        "\n",
        "os.environ[\"PYDEVD_WARN_EVALUATION_TIMEOUT\"] = \"100000\""
      ]
    },
    {
      "cell_type": "markdown",
      "metadata": {},
      "source": [
        "### Setting Preferred Encoding for PyPDF ** ONLY FOR GOOGLE COLAB **\n"
      ]
    },
    {
      "cell_type": "code",
      "execution_count": 2,
      "metadata": {
        "id": "c6QeKRm37HwC"
      },
      "outputs": [],
      "source": [
        "import locale\n",
        "def getpreferredencoding(do_setlocale = True):\n",
        "    return \"UTF-8\"\n",
        "locale.getpreferredencoding = getpreferredencoding # For using PyPDF on google colab "
      ]
    },
    {
      "cell_type": "markdown",
      "metadata": {},
      "source": [
        "### Setting OPENAI and GROQ API keys"
      ]
    },
    {
      "cell_type": "code",
      "execution_count": 2,
      "metadata": {},
      "outputs": [],
      "source": [
        "os.environ[\"OPENAI_API_KEY\"] = os.getenv('OPENAI_API_KEY')\n",
        "groq_api_key = os.getenv('GROQ_API_KEY')"
      ]
    },
    {
      "cell_type": "markdown",
      "metadata": {},
      "source": [
        "# Data preprocessing"
      ]
    },
    {
      "cell_type": "markdown",
      "metadata": {},
      "source": [
        "### Defining Path to Harry Potter PDF\n"
      ]
    },
    {
      "cell_type": "code",
      "execution_count": 4,
      "metadata": {
        "id": "8mUYHG_S6y22"
      },
      "outputs": [],
      "source": [
        "hp_pdf_path =\"Harry_Potter_Book_1_The_Sorcerers_Stone.pdf\""
      ]
    },
    {
      "cell_type": "markdown",
      "metadata": {},
      "source": [
        "### Splitting the PDF into Chapters and Preprocessing\n"
      ]
    },
    {
      "cell_type": "code",
      "execution_count": 5,
      "metadata": {
        "id": "cDHfDODdTIBY"
      },
      "outputs": [
        {
          "name": "stdout",
          "output_type": "stream",
          "text": [
            "17\n"
          ]
        }
      ],
      "source": [
        "chapters = split_into_chapters(hp_pdf_path) \n",
        "chapters = replace_t_with_space(chapters)\n",
        "print(len(chapters))"
      ]
    },
    {
      "cell_type": "markdown",
      "metadata": {},
      "source": [
        "### Defining Prompt Template for Summarization\n"
      ]
    },
    {
      "cell_type": "code",
      "execution_count": 6,
      "metadata": {
        "id": "49RqsAhDxjFg"
      },
      "outputs": [],
      "source": [
        "summarization_prompt_template = \"\"\"Write an extensive summary of about of the following:\n",
        "\n",
        "{text}\n",
        "\n",
        "SUMMARY:\"\"\"\n",
        "\n",
        "summarization_prompt = PromptTemplate(template=summarization_prompt_template, input_variables=[\"text\"])"
      ]
    },
    {
      "cell_type": "markdown",
      "metadata": {},
      "source": [
        "### Defining Function to Create Chapter Summaries using LLMs\n"
      ]
    },
    {
      "cell_type": "code",
      "execution_count": 7,
      "metadata": {
        "id": "ehe6iObnx4l9"
      },
      "outputs": [],
      "source": [
        "def create_chapter_summary(chapter):\n",
        "    \"\"\"\n",
        "    Creates a summary of a chapter using a large language model (LLM).\n",
        "\n",
        "    Args:\n",
        "        chapter: A Document object representing the chapter to summarize.\n",
        "\n",
        "    Returns:\n",
        "        A Document object containing the summary of the chapter.\n",
        "    \"\"\"\n",
        "\n",
        "    chapter_txt = chapter.page_content  # Extract chapter text\n",
        "    model_name = \"gpt-3.5-turbo-0125\"  # Specify LLM model\n",
        "    llm = ChatOpenAI(temperature=0, model_name=model_name)  # Create LLM instance\n",
        "    gpt_35_turbo_max_tokens = 16000  # Maximum token limit for the LLM\n",
        "    verbose = False  # Set to True for more detailed output\n",
        "\n",
        "    # Calculate number of tokens in the chapter text\n",
        "    num_tokens = num_tokens_from_string(chapter_txt, model_name)\n",
        "\n",
        "    # Choose appropriate chain type based on token count\n",
        "    if num_tokens < gpt_35_turbo_max_tokens:\n",
        "        chain = load_summarize_chain(llm, chain_type=\"stuff\", prompt=summarization_prompt, verbose=verbose) \n",
        "    else:\n",
        "        chain = load_summarize_chain(llm, chain_type=\"map_reduce\", map_prompt=summarization_prompt, combine_prompt=summarization_prompt, verbose=verbose)\n",
        "\n",
        "    start_time = monotonic()  # Start timer\n",
        "    doc_chapter = Document(page_content=chapter_txt)  # Create Document object for chapter\n",
        "    summary = chain.invoke([doc_chapter])  # Generate summary using the chain\n",
        "    print(f\"Chain type: {chain.__class__.__name__}\")  # Print chain type\n",
        "    print(f\"Run time: {monotonic() - start_time}\")  # Print execution time\n",
        "\n",
        "    # Clean up summary text\n",
        "    summary = replace_double_lines_with_one_line(summary[\"output_text\"])\n",
        "\n",
        "    # Create Document object for summary\n",
        "    doc_summary = Document(page_content=summary, metadata=chapter.metadata)\n",
        "\n",
        "    return doc_summary"
      ]
    },
    {
      "cell_type": "markdown",
      "metadata": {},
      "source": [
        "### Generating Summaries for Each Chapter\n"
      ]
    },
    {
      "cell_type": "code",
      "execution_count": null,
      "metadata": {
        "colab": {
          "base_uri": "https://localhost:8080/"
        },
        "id": "l4UBurLsMCHj",
        "outputId": "668932cf-02d8-446d-e0ed-3f85b30d3bba"
      },
      "outputs": [],
      "source": [
        "chapter_summaries = []\n",
        "for chapter in chapters:\n",
        "    chapter_summaries.append(create_chapter_summary(chapter))"
      ]
    },
    {
      "cell_type": "markdown",
      "metadata": {},
      "source": [
        "# Encoding the data"
      ]
    },
    {
      "cell_type": "markdown",
      "metadata": {},
      "source": [
        "### Function to Encode a Book into a Vector Store using OpenAI Embeddings\n"
      ]
    },
    {
      "cell_type": "code",
      "execution_count": 9,
      "metadata": {
        "id": "9t1Kq6fGS0EA"
      },
      "outputs": [],
      "source": [
        "def encode_book(path, chunk_size=1000, chunk_overlap=200):\n",
        "    \"\"\"\n",
        "    Encodes a PDF book into a vector store using OpenAI embeddings.\n",
        "\n",
        "    Args:\n",
        "        path: The path to the PDF file.\n",
        "        chunk_size: The desired size of each text chunk.\n",
        "        chunk_overlap: The amount of overlap between consecutive chunks.\n",
        "\n",
        "    Returns:\n",
        "        A FAISS vector store containing the encoded book content.\n",
        "    \"\"\"\n",
        "\n",
        "    # Load PDF documents\n",
        "    loader = PyPDFLoader(path)\n",
        "    documents = loader.load()\n",
        "\n",
        "    # Split documents into chunks\n",
        "    text_splitter = RecursiveCharacterTextSplitter(\n",
        "        chunk_size=chunk_size, chunk_overlap=chunk_overlap, length_function=len\n",
        "    )\n",
        "    texts = text_splitter.split_documents(documents)\n",
        "    cleaned_texts = replace_t_with_space(texts)\n",
        "\n",
        "    # Create embeddings and vector store\n",
        "    embeddings = OpenAIEmbeddings()\n",
        "    vectorstore = FAISS.from_documents(cleaned_texts, embeddings)\n",
        "\n",
        "    return vectorstore"
      ]
    },
    {
      "cell_type": "markdown",
      "metadata": {},
      "source": [
        "### Encoding Chapter Summaries into Vector Store\n"
      ]
    },
    {
      "cell_type": "code",
      "execution_count": 10,
      "metadata": {
        "id": "FHt9Y12gMp2z"
      },
      "outputs": [],
      "source": [
        "def encode_chapter_summaries(chapter_summaries):\n",
        "    \"\"\"\n",
        "    Encodes a list of chapter summaries into a vector store using OpenAI embeddings.\n",
        "\n",
        "    Args:\n",
        "        chapter_summaries: A list of Document objects representing the chapter summaries.\n",
        "\n",
        "    Returns:\n",
        "        A FAISS vector store containing the encoded chapter summaries.\n",
        "    \"\"\"\n",
        "\n",
        "    embeddings = OpenAIEmbeddings()  # Create OpenAI embeddings\n",
        "    chapter_summaries_vectorstore = FAISS.from_documents(chapter_summaries, embeddings)  # Create vector store\n",
        "    return chapter_summaries_vectorstore"
      ]
    },
    {
      "cell_type": "markdown",
      "metadata": {},
      "source": [
        "# Creating vector stores and retrievers "
      ]
    },
    {
      "cell_type": "markdown",
      "metadata": {},
      "source": [
        "### Creating Vector Stores and Retrievers for Book and Chapter Summaries\n"
      ]
    },
    {
      "cell_type": "code",
      "execution_count": 3,
      "metadata": {},
      "outputs": [
        {
          "name": "stderr",
          "output_type": "stream",
          "text": [
            "c:\\Users\\N7\\PycharmProjects\\llm_tasks\\RAG-Harry-Potter\\.venv\\Lib\\site-packages\\langchain_core\\_api\\deprecation.py:119: LangChainDeprecationWarning: The class `OpenAIEmbeddings` was deprecated in LangChain 0.0.9 and will be removed in 0.3.0. An updated version of the class exists in the langchain-openai package and should be used instead. To use it run `pip install -U langchain-openai` and import as `from langchain_openai import OpenAIEmbeddings`.\n",
            "  warn_deprecated(\n"
          ]
        }
      ],
      "source": [
        "# ### IF VECTOR STORES ALREADY EXIST, LOAD THEM\n",
        "if os.path.exists(\"chunks_vector_store\") and os.path.exists(\"chapter_summaries_vector_store\"):\n",
        "    embeddings = OpenAIEmbeddings()\n",
        "    chunks_vector_store =  FAISS.load_local(\"chunks_vector_store\", embeddings, allow_dangerous_deserialization=True)\n",
        "    chapter_summaries_vector_store =  FAISS.load_local(\"chapter_summaries_vector_store\", embeddings, allow_dangerous_deserialization=True)\n",
        "\n",
        "else:\n",
        "    # Encode the book and chapter summaries\n",
        "    chunks_vector_store = encode_book(hp_pdf_path, chunk_size=1000, chunk_overlap=200)\n",
        "    chapter_summaries_vector_store = encode_chapter_summaries(chapter_summaries)\n",
        "\n",
        "    # Save the vector stores\n",
        "    chunks_vector_store.save_local(\"chunks_vector_store\")\n",
        "    chapter_summaries_vector_store.save_local(\"chapter_summaries_vector_store\")"
      ]
    },
    {
      "cell_type": "markdown",
      "metadata": {},
      "source": [
        "### Create retrievers from the vector stores"
      ]
    },
    {
      "cell_type": "code",
      "execution_count": 4,
      "metadata": {},
      "outputs": [],
      "source": [
        "chunks_query_retriever = chunks_vector_store.as_retriever(search_kwargs={\"k\": 1})     \n",
        "chapter_summaries_query_retriever = chapter_summaries_vector_store.as_retriever(search_kwargs={\"k\": 1})"
      ]
    },
    {
      "cell_type": "markdown",
      "metadata": {},
      "source": [
        "# For advanced RAGing\n",
        "## For questions that can be answered by retrieval based on the original query, we create a `langgraph` graph for answering the query.\n"
      ]
    },
    {
      "cell_type": "markdown",
      "metadata": {},
      "source": [
        "### Agrregate retrieved content as string context"
      ]
    },
    {
      "cell_type": "code",
      "execution_count": 5,
      "metadata": {},
      "outputs": [],
      "source": [
        "def retrieve_context_per_question(state):\n",
        "    \"\"\"\n",
        "    Retrieves relevant context for a given question. The context is retrieved from the book chunks and chapter summaries.\n",
        "\n",
        "    Args:\n",
        "        state: A dictionary containing the question to answer.\n",
        "    \"\"\"\n",
        "    # Retrieve relevant documents\n",
        "    print(\"Retrieving relevant chunks...\")\n",
        "    question = state[\"question\"]\n",
        "    docs = chunks_query_retriever.get_relevant_documents(question)\n",
        "\n",
        "    # Concatenate document content\n",
        "    context = \" \".join(doc.page_content for doc in docs)\n",
        "\n",
        "\n",
        "\n",
        "    print(\"Retrieving relevant chapter summaries...\")\n",
        "    docs_summaries = chapter_summaries_query_retriever.get_relevant_documents(state[\"question\"])\n",
        "\n",
        "    # Concatenate chapter summaries with citation information\n",
        "    context_summaries = \" \".join(\n",
        "        f\"{doc.page_content} (Chapter {doc.metadata['chapter']})\" for doc in docs_summaries\n",
        "    )\n",
        "\n",
        "\n",
        "    all_contexts = context + context_summaries\n",
        "    all_contexts = escape_quotes(all_contexts)\n",
        "\n",
        "    return {\"context\": all_contexts, \"question\": question}"
      ]
    },
    {
      "cell_type": "markdown",
      "metadata": {},
      "source": [
        "### LLM based function to distill only relevant retrieved content"
      ]
    },
    {
      "cell_type": "code",
      "execution_count": 6,
      "metadata": {},
      "outputs": [],
      "source": [
        "keep_only_relevant_content_prompt_template = \"\"\"you receive a query: {query} and retrieved docuemnts: {retrieved_documents} from a\n",
        " vector store.\n",
        " You need to filter out all the non relevant information that don't supply important information regarding the {query}.\n",
        " your goal is just to filter out the non relevant information.\n",
        " you can remove parts of sentences that are not relevant to the query or remove whole sentences that are not relevant to the query.\n",
        " DO NOT ADD ANY NEW INFORMATION THAT IS NOT IN THE RETRIEVED DOCUMENTS.\n",
        " output the filtered relevant content.\n",
        "\"\"\"\n",
        "\n",
        "\n",
        "class KeepRelevantContent(BaseModel):\n",
        "    relevant_content: str = Field(description=\"The relevant content from the retrieved documents that is relevant to the query.\")\n",
        "\n",
        "keep_only_relevant_content_prompt = PromptTemplate(\n",
        "    template=keep_only_relevant_content_prompt_template,\n",
        "    input_variables=[\"query\", \"retrieved_documents\"],\n",
        ")\n",
        "\n",
        "\n",
        "keep_only_relevant_content_llm = ChatOpenAI(temperature=0, model_name=\"gpt-4o\", max_tokens=2000)\n",
        "keep_only_relevant_content_chain = keep_only_relevant_content_prompt | keep_only_relevant_content_llm.with_structured_output(KeepRelevantContent)\n",
        "\n",
        "\n",
        "def keep_only_relevant_content(state):\n",
        "    \"\"\"\n",
        "    Keeps only the relevant content from the retrieved documents that is relevant to the query.\n",
        "\n",
        "    Args:\n",
        "        question: The query question.\n",
        "        context: The retrieved documents.\n",
        "        chain: The LLMChain instance.\n",
        "\n",
        "    Returns:\n",
        "        The relevant content from the retrieved documents that is relevant to the query.\n",
        "    \"\"\"\n",
        "    question = state[\"question\"]\n",
        "    context = state[\"context\"]\n",
        "\n",
        "    input_data = {\n",
        "    \"query\": question,\n",
        "    \"retrieved_documents\": context\n",
        "}\n",
        "    print(\"keeping only the relevant content...\")\n",
        "    pprint(\"--------------------\")\n",
        "    output = keep_only_relevant_content_chain.invoke(input_data)\n",
        "    relevant_content = output.relevant_content\n",
        "    relevant_content = \"\".join(relevant_content)\n",
        "    relevant_content = escape_quotes(relevant_content)\n",
        "\n",
        "    return {\"relevant_context\": relevant_content, \"context\": context, \"question\": question}"
      ]
    },
    {
      "cell_type": "markdown",
      "metadata": {},
      "source": [
        "### LLM based function to re-write a question"
      ]
    },
    {
      "cell_type": "code",
      "execution_count": 7,
      "metadata": {},
      "outputs": [],
      "source": [
        "class RewriteQuestion(BaseModel):\n",
        "    \"\"\"\n",
        "    Output schema for the rewritten question.\n",
        "    \"\"\"\n",
        "    rewritten_question: str = Field(description=\"The improved question optimized for vectorstore retrieval.\")\n",
        "    explanation: str = Field(description=\"The explanation of the rewritten question.\")\n",
        "\n",
        "rewrite_question_string_parser = JsonOutputParser(pydantic_object=RewriteQuestion)\n",
        "\n",
        "\n",
        "rewrite_llm = ChatGroq(temperature=0, model_name=\"llama3-70b-8192\", groq_api_key=groq_api_key, max_tokens=4000)\n",
        "rewrite_prompt_template = \"\"\"You are a question re-writer that converts an input question to a better version optimized for vectorstore retrieval.\n",
        " Analyze the input question {question} and try to reason about the underlying semantic intent / meaning.\n",
        " {format_instructions}\n",
        " \"\"\"\n",
        "\n",
        "rewrite_prompt = PromptTemplate(\n",
        "    template=rewrite_prompt_template,\n",
        "    input_variables=[\"question\"],\n",
        "    partial_variables={\"format_instructions\": rewrite_question_string_parser.get_format_instructions()},\n",
        ")\n",
        "\n",
        "question_rewriter = rewrite_prompt | rewrite_llm | rewrite_question_string_parser  # Combine prompt, LLM, and parser\n",
        "\n",
        "def rewrite_question(state):\n",
        "    \"\"\"Rewrites the given question using the LLM.\n",
        "\n",
        "    Args:\n",
        "        state: A dictionary containing the question to rewrite.\n",
        "    \"\"\"\n",
        "    question = state[\"question\"]\n",
        "    print(\"Rewriting the question...\")\n",
        "    result = question_rewriter.invoke({\"question\": question})\n",
        "    new_question = result[\"rewritten_question\"]\n",
        "    return {\"question\": new_question}"
      ]
    },
    {
      "cell_type": "markdown",
      "metadata": {},
      "source": [
        "### LLM based function to answer a question given context, using Chain of Thought"
      ]
    },
    {
      "cell_type": "code",
      "execution_count": 8,
      "metadata": {},
      "outputs": [],
      "source": [
        "class QuestionAnswerFromContext(BaseModel):\n",
        "    answer_based_on_content: str = Field(description=\"generates an answer to a query based on a given context.\")\n",
        "\n",
        "question_answer_from_context_llm = ChatOpenAI(temperature=0, model_name=\"gpt-4o\", max_tokens=2000)\n",
        "\n",
        "\n",
        "question_answer_cot_prompt_template = \"\"\" \n",
        "Examples of Chain-of-Thought Reasoning\n",
        "\n",
        "Example 1\n",
        "\n",
        "Context: Mary is taller than Jane. Jane is shorter than Tom. Tom is the same height as David.\n",
        "Question: Who is the tallest person?\n",
        "Reasoning Chain:\n",
        "The context tells us Mary is taller than Jane\n",
        "It also says Jane is shorter than Tom\n",
        "And Tom is the same height as David\n",
        "So the order from tallest to shortest is: Mary, Tom/David, Jane\n",
        "Therefore, Mary must be the tallest person\n",
        "\n",
        "Example 2\n",
        "Context: Harry was reading a book about magic spells. One spell allowed the caster to turn a person into an animal for a short time. Another spell could levitate objects.\n",
        " A third spell created a bright light at the end of the caster's wand.\n",
        "Question: Based on the context, if Harry cast these spells, what could he do?\n",
        "Reasoning Chain:\n",
        "The context describes three different magic spells\n",
        "The first spell allows turning a person into an animal temporarily\n",
        "The second spell can levitate or float objects\n",
        "The third spell creates a bright light\n",
        "If Harry cast these spells, he could turn someone into an animal for a while, make objects float, and create a bright light source\n",
        "So based on the context, if Harry cast these spells he could transform people, levitate things, and illuminate an area\n",
        "Instructions.\n",
        "\n",
        "Example 3 \n",
        "Context: Harry Potter woke up on his birthday to find a present at the end of his bed. He excitedly opened it to reveal a Nimbus 2000 broomstick.\n",
        "Question: Why did Harry receive a broomstick for his birthday?\n",
        "Reasoning Chain:\n",
        "The context states that Harry Potter woke up on his birthday and received a present - a Nimbus 2000 broomstick.\n",
        "However, the context does not provide any information about why he received that specific present or who gave it to him.\n",
        "There are no details about Harry's interests, hobbies, or the person who gifted him the broomstick.\n",
        "Without any additional context about Harry's background or the gift-giver's motivations, there is no way to determine the reason he received a broomstick as a birthday present.\n",
        "\n",
        "For the question below, provide your answer by first showing your step-by-step reasoning process, breaking down the problem into a chain of thought before arriving at the final answer,\n",
        " just like in the previous examples.\n",
        "Context\n",
        "{context}\n",
        "Question\n",
        "{question}\n",
        "\"\"\"\n",
        "\n",
        "question_answer_from_context_cot_prompt = PromptTemplate(\n",
        "    template=question_answer_cot_prompt_template,\n",
        "    input_variables=[\"context\", \"question\"],\n",
        ")\n",
        "question_answer_from_context_cot_chain = question_answer_from_context_cot_prompt | question_answer_from_context_llm.with_structured_output(QuestionAnswerFromContext)\n",
        "\n",
        "\n",
        "def answer_question_from_context(state):\n",
        "    \"\"\"\n",
        "    Answers a question from a given context.\n",
        "\n",
        "    Args:\n",
        "        question: The query question.\n",
        "        context: The context to answer the question from.\n",
        "        chain: The LLMChain instance.\n",
        "\n",
        "    Returns:\n",
        "        The answer to the question from the context.\n",
        "    \"\"\"\n",
        "    question = state[\"question\"]\n",
        "    context = state[\"aggregated_context\"] if \"aggregated_context\" in state else state[\"context\"]\n",
        "\n",
        "    input_data = {\n",
        "    \"question\": question,\n",
        "    \"context\": context\n",
        "}\n",
        "    print(\"Answering the question from the retrieved context...\")\n",
        "\n",
        "    output = question_answer_from_context_cot_chain.invoke(input_data)\n",
        "    answer = output.answer_based_on_content\n",
        "    print(f'answer before checking hallucination: {answer}')\n",
        "    return {\"answer\": answer, \"context\": context, \"question\": question}\n",
        "\n",
        "\n",
        "\n"
      ]
    },
    {
      "cell_type": "markdown",
      "metadata": {},
      "source": [
        "## Create graph edges"
      ]
    },
    {
      "cell_type": "markdown",
      "metadata": {},
      "source": [
        "### LLM based function to determine if retrieved content is relevant to the question"
      ]
    },
    {
      "cell_type": "code",
      "execution_count": 9,
      "metadata": {},
      "outputs": [],
      "source": [
        "is_relevant_content_prompt_template = \"\"\"you receive a query: {query} and a context: {context} retrieved from a vector store. \n",
        "You need to determine if the document is relevant to the query. \n",
        "\n",
        "{format_instructions}\"\"\"\n",
        "\n",
        "class Relevance(BaseModel):\n",
        "    is_relevant: bool = Field(description=\"Whether the document is relevant to the query.\")\n",
        "    explanation: str = Field(description=\"An explanation of why the document is relevant or not.\")\n",
        "\n",
        "is_relevant_json_parser = JsonOutputParser(pydantic_object=Relevance)\n",
        "is_relevant_llm = ChatGroq(temperature=0, model_name=\"llama3-70b-8192\", groq_api_key=groq_api_key, max_tokens=4000)\n",
        "\n",
        "is_relevant_content_prompt = PromptTemplate(\n",
        "    template=is_relevant_content_prompt_template,\n",
        "    input_variables=[\"query\", \"context\"],\n",
        "    partial_variables={\"format_instructions\": is_relevant_json_parser.get_format_instructions()},\n",
        ")\n",
        "is_relevant_content_chain = is_relevant_content_prompt | is_relevant_llm | is_relevant_json_parser\n",
        "\n",
        "def is_relevant_content(state):\n",
        "    \"\"\"\n",
        "    Determines if the document is relevant to the query.\n",
        "\n",
        "    Args:\n",
        "        question: The query question.\n",
        "        context: The context to determine relevance.\n",
        "    \"\"\"\n",
        "\n",
        "    question = state[\"question\"]\n",
        "    context = state[\"context\"]\n",
        "\n",
        "    input_data = {\n",
        "    \"query\": question,\n",
        "    \"context\": context\n",
        "}\n",
        "\n",
        "    # Invoke the chain to determine if the document is relevant\n",
        "    output = is_relevant_content_chain.invoke(input_data)\n",
        "    print(\"Determining if the document is relevant...\")\n",
        "    if output[\"is_relevant\"] == True:\n",
        "        print(\"The document is relevant.\")\n",
        "        return \"relevant\"\n",
        "    else:\n",
        "        print(\"The document is not relevant.\")\n",
        "        return \"not relevant\""
      ]
    },
    {
      "cell_type": "markdown",
      "metadata": {},
      "source": [
        "### LLM chain to check if an answer is a hallucination or grounded on facts"
      ]
    },
    {
      "cell_type": "code",
      "execution_count": 10,
      "metadata": {},
      "outputs": [],
      "source": [
        "class is_grounded_on_facts(BaseModel):\n",
        "    \"\"\"\n",
        "    Output schema for the rewritten question.\n",
        "    \"\"\"\n",
        "    grounded_on_facts: bool = Field(description=\"Answer is grounded in the facts, 'yes' or 'no'\")\n",
        "\n",
        "is_grounded_on_facts_llm = ChatOpenAI(temperature=0, model_name=\"gpt-4o\", max_tokens=2000)\n",
        "is_grounded_on_facts_prompt_template = \"\"\"You are a fact-checker that determines if the given answer {answer} is grounded in the given context {context}\n",
        "you don't mind if it doesn't make sense, as long as it is grounded in the context.\n",
        "output a json containing the answer to the question, and appart from the json format don't output any additional text.\n",
        "\n",
        " \"\"\"\n",
        "is_grounded_on_facts_prompt = PromptTemplate(\n",
        "    template=is_grounded_on_facts_prompt_template,\n",
        "    input_variables=[\"context\", \"answer\"],\n",
        ")\n",
        "is_grounded_on_facts_chain = is_grounded_on_facts_prompt | is_grounded_on_facts_llm.with_structured_output(is_grounded_on_facts)"
      ]
    },
    {
      "cell_type": "markdown",
      "metadata": {},
      "source": [
        "### LLM chain to determine if a question can be fully answered given a context"
      ]
    },
    {
      "cell_type": "code",
      "execution_count": 11,
      "metadata": {},
      "outputs": [],
      "source": [
        "can_be_answered_prompt_template = \"\"\"You receive a query: {question} and a context: {context}. \n",
        "You need to determine if the question can be fully answered based on the context.\n",
        "{format_instructions}\n",
        "\"\"\"\n",
        "\n",
        "class QuestionAnswer(BaseModel):\n",
        "    can_be_answered: bool = Field(description=\"binary result of whether the question can be fully answered or not\")\n",
        "    explanation: str = Field(description=\"An explanation of why the question can be fully answered or not.\")\n",
        "\n",
        "can_be_answered_json_parser = JsonOutputParser(pydantic_object=QuestionAnswer)\n",
        "\n",
        "answer_question_prompt = PromptTemplate(\n",
        "    template=can_be_answered_prompt_template,\n",
        "    input_variables=[\"question\",\"context\"],\n",
        "    partial_variables={\"format_instructions\": can_be_answered_json_parser.get_format_instructions()},\n",
        ")\n",
        "\n",
        "can_be_answered_llm = ChatGroq(temperature=0, model_name=\"llama3-70b-8192\", groq_api_key=groq_api_key, max_tokens=4000)\n",
        "can_be_answered_chain = answer_question_prompt | can_be_answered_llm | can_be_answered_json_parser"
      ]
    },
    {
      "cell_type": "markdown",
      "metadata": {},
      "source": [
        "### function to check both cases - hallucination and full answer"
      ]
    },
    {
      "cell_type": "code",
      "execution_count": 12,
      "metadata": {},
      "outputs": [],
      "source": [
        "def grade_generation_v_documents_and_question(state):\n",
        "    \"\"\"\n",
        "    Grades the generation of the answer to the question based on the context, if it is grounded in the facts, and if the question can be fully answered\n",
        "\n",
        "    Args:\n",
        "        state: A dictionary containing the context, question, and answer.\n",
        "    \"\"\"\n",
        "    \n",
        "    print(\"Checking if the answer is grounded in the facts...\")\n",
        "    context = state[\"context\"]\n",
        "    answer = state[\"answer\"]\n",
        "    question = state[\"question\"]\n",
        "    \n",
        "    result = is_grounded_on_facts_chain.invoke({\"context\": context, \"answer\": answer})\n",
        "    grounded_on_facts = result.grounded_on_facts\n",
        "    if not grounded_on_facts:\n",
        "        print(\"The answer is hallucination.\")\n",
        "        return \"hallucination\"\n",
        "    else:\n",
        "        print(\"The answer is grounded in the facts.\")\n",
        "\n",
        "        input_data = {\n",
        "            \"question\": question,\n",
        "            \"context\": context\n",
        "        }\n",
        "\n",
        "        # Invoke the chain to determine if the question can be answered\n",
        "        print(\"Determining if the question is fully answered...\")\n",
        "        output = can_be_answered_chain.invoke(input_data)\n",
        "        can_be_answered = output[\"can_be_answered\"]\n",
        "        if can_be_answered == True:\n",
        "            print(\"The question can be fully answered.\")\n",
        "            return \"useful\"\n",
        "        else:\n",
        "            print(\"The question cannot be fully answered.\")\n",
        "            return \"not_useful\""
      ]
    },
    {
      "cell_type": "markdown",
      "metadata": {},
      "source": [
        "### Test a pipeline of all parts"
      ]
    },
    {
      "cell_type": "code",
      "execution_count": 179,
      "metadata": {},
      "outputs": [
        {
          "name": "stdout",
          "output_type": "stream",
          "text": [
            "Retrieving relevant chunks...\n",
            "Retrieving relevant chapter summaries...\n",
            "keeping only the relevant content...\n",
            "'--------------------'\n",
            "Determining if the document is relevant...\n",
            "The document is relevant.\n",
            "Answering the question from the retrieved context...\n",
            "answer before checking hallucination: Fluffy is a three-headed dog.\n",
            "Checking if the answer is grounded in the facts...\n",
            "The answer is grounded in the facts.\n",
            "Determining if the question is fully answered...\n",
            "The question can be fully answered.\n",
            "Fluffy is a three-headed dog.\n"
          ]
        }
      ],
      "source": [
        "init_state = {\"question\": \"who is fluffy?\"}  # The question to answer\n",
        "context_state = retrieve_context_per_question(init_state)  # Retrieve context for the question\n",
        "relevant_content_state = keep_only_relevant_content(context_state)  # Keep only the relevant content\n",
        "is_relevant_content_state = is_relevant_content(relevant_content_state) # Check if the content is relevant\n",
        "answer_state = answer_question_from_context(relevant_content_state) # Answer the question from the context\n",
        "final_answer = grade_generation_v_documents_and_question(answer_state) # Grade the answer\n",
        "print(answer_state[\"answer\"])"
      ]
    },
    {
      "cell_type": "markdown",
      "metadata": {},
      "source": [
        "### Build the Graph"
      ]
    },
    {
      "cell_type": "code",
      "execution_count": 13,
      "metadata": {},
      "outputs": [
        {
          "data": {
            "image/jpeg": "[encoded data removed]",
            "text/plain": [
              "<IPython.core.display.Image object>"
            ]
          },
          "metadata": {},
          "output_type": "display_data"
        }
      ],
      "source": [
        "class QualitativeRetievalAnswerGraphState(TypedDict):\n",
        "\n",
        "    question: str\n",
        "    context: str\n",
        "    answer: str\n",
        "\n",
        "# Create the graph\n",
        "qualitative_retrieval_answer_workflow = StateGraph(QualitativeRetievalAnswerGraphState)\n",
        "\n",
        "# Define the nodes\n",
        "\n",
        "# Add the nodes to the graph\n",
        "qualitative_retrieval_answer_workflow.add_node(\"retrieve_context_per_question\",retrieve_context_per_question)\n",
        "qualitative_retrieval_answer_workflow.add_node(\"keep_only_relevant_content\",keep_only_relevant_content)\n",
        "qualitative_retrieval_answer_workflow.add_node(\"rewrite_question\",rewrite_question)\n",
        "qualitative_retrieval_answer_workflow.add_node(\"answer_question_from_context\",answer_question_from_context)\n",
        "\n",
        "# Build the graph\n",
        "qualitative_retrieval_answer_workflow.set_entry_point(\"retrieve_context_per_question\")\n",
        "qualitative_retrieval_answer_workflow.add_edge(\"retrieve_context_per_question\", \"keep_only_relevant_content\")\n",
        "qualitative_retrieval_answer_workflow.add_conditional_edges(\n",
        "    \"keep_only_relevant_content\",\n",
        "    is_relevant_content,\n",
        "    {\"relevant\":\"answer_question_from_context\",\n",
        "      \"not relevant\":\"rewrite_question\"},\n",
        "    )\n",
        "qualitative_retrieval_answer_workflow.add_edge(\"rewrite_question\", \"retrieve_context_per_question\")\n",
        "qualitative_retrieval_answer_workflow.add_conditional_edges(\n",
        "\"answer_question_from_context\",\n",
        "grade_generation_v_documents_and_question,\n",
        "{\"hallucination\":\"answer_question_from_context\",\n",
        "\"not_useful\":\"rewrite_question\",\n",
        "\"useful\":END},\n",
        ")\n",
        "\n",
        "qualitative_retrieval_answer_retrival_app = qualitative_retrieval_answer_workflow.compile()\n",
        "\n",
        "display(\n",
        "    Image(\n",
        "        qualitative_retrieval_answer_retrival_app.get_graph().draw_mermaid_png(\n",
        "            draw_method=MermaidDrawMethod.API,\n",
        "        )\n",
        "    )\n",
        ")"
      ]
    },
    {
      "cell_type": "markdown",
      "metadata": {},
      "source": [
        "# For more complex tasks, where the question cannot be answered solely by retrieving information based on semantic similarity, we need a more sophisticated pipeline. To achieve this, we may first break down the graph into two sub-graphs that will serve as functions for the sophisticated pipeline.\n",
        "\n",
        "\n",
        "\n",
        "\n",
        "\n"
      ]
    },
    {
      "cell_type": "markdown",
      "metadata": {},
      "source": [
        "### Let's add a function that Verifies that the distilled content is grounded in the original context"
      ]
    },
    {
      "cell_type": "code",
      "execution_count": 14,
      "metadata": {},
      "outputs": [],
      "source": [
        "is_distilled_content_grounded_on_content_prompt_template = \"\"\"you receive some distilled content: {distilled_content} and the original context: {original_context}.\n",
        "    you need to determine if the distilled content is grounded on the original context.\n",
        "    if the distilled content is grounded on the original context, set the grounded field to true.\n",
        "    if the distilled content is not grounded on the original context, set the grounded field to false. {format_instructions}\"\"\"\n",
        "  \n",
        "\n",
        "class IsDistilledContentGroundedOnContent(BaseModel):\n",
        "    grounded: bool = Field(description=\"Whether the distilled content is grounded on the original context.\")\n",
        "    explanation: str = Field(description=\"An explanation of why the distilled content is or is not grounded on the original context.\")\n",
        "\n",
        "is_distilled_content_grounded_on_content_json_parser = JsonOutputParser(pydantic_object=IsDistilledContentGroundedOnContent)\n",
        "\n",
        "is_distilled_content_grounded_on_content_prompt = PromptTemplate(\n",
        "    template=is_distilled_content_grounded_on_content_prompt_template,\n",
        "    input_variables=[\"distilled_content\", \"original_context\"],\n",
        "    partial_variables={\"format_instructions\": is_distilled_content_grounded_on_content_json_parser.get_format_instructions()},\n",
        ")\n",
        "\n",
        "is_distilled_content_grounded_on_content_llm = ChatGroq(temperature=0, model_name=\"llama3-70b-8192\", groq_api_key=groq_api_key, max_tokens=4000)\n",
        "\n",
        "is_distilled_content_grounded_on_content_chain = is_distilled_content_grounded_on_content_prompt | is_distilled_content_grounded_on_content_llm | is_distilled_content_grounded_on_content_json_parser\n",
        "\n",
        "\n",
        "def is_distilled_content_grounded_on_content(state):\n",
        "    pprint(\"--------------------\")\n",
        "\n",
        "    \"\"\"\n",
        "    Determines if the distilled content is grounded on the original context.\n",
        "\n",
        "    Args:\n",
        "        distilled_content: The distilled content.\n",
        "        original_context: The original context.\n",
        "\n",
        "    Returns:\n",
        "        Whether the distilled content is grounded on the original context.\n",
        "    \"\"\"\n",
        "\n",
        "    print(\"Determining if the distilled content is grounded on the original context...\")\n",
        "    distilled_content = state[\"relevant_context\"]\n",
        "    original_context = state[\"context\"]\n",
        "\n",
        "    input_data = {\n",
        "        \"distilled_content\": distilled_content,\n",
        "        \"original_context\": original_context\n",
        "    }\n",
        "\n",
        "    output = is_distilled_content_grounded_on_content_chain.invoke(input_data)\n",
        "    grounded = output[\"grounded\"]\n",
        "\n",
        "    if grounded:\n",
        "        print(\"The distilled content is grounded on the original context.\")\n",
        "        return \"grounded on the original context\"\n",
        "    else:\n",
        "        print(\"The distilled content is not grounded on the original context.\")\n",
        "        return \"not grounded on the original context\""
      ]
    },
    {
      "cell_type": "markdown",
      "metadata": {},
      "source": [
        "### The first sub-graph would be for retrieval and distillation of the relevant information with some modification"
      ]
    },
    {
      "cell_type": "code",
      "execution_count": 15,
      "metadata": {},
      "outputs": [
        {
          "data": {
            "image/jpeg": "[encoded data removed]",
            "text/plain": [
              "<IPython.core.display.Image object>"
            ]
          },
          "metadata": {},
          "output_type": "display_data"
        }
      ],
      "source": [
        "class QualitativeRetrievalGraphState(TypedDict):\n",
        "    \"\"\"\n",
        "    Represents the state of our graph.\n",
        "    \"\"\"\n",
        "\n",
        "    question: str\n",
        "    context: str\n",
        "    relevant_context: str\n",
        "\n",
        "qualitative_retrieval_workflow = StateGraph(QualitativeRetrievalGraphState)\n",
        "\n",
        "# Define the nodes\n",
        "qualitative_retrieval_workflow.add_node(\"retrieve_context_per_question\",retrieve_context_per_question)\n",
        "qualitative_retrieval_workflow.add_node(\"keep_only_relevant_content\",keep_only_relevant_content)\n",
        "\n",
        "# Build the graph\n",
        "qualitative_retrieval_workflow.set_entry_point(\"retrieve_context_per_question\")\n",
        "qualitative_retrieval_workflow.add_edge(\"retrieve_context_per_question\", \"keep_only_relevant_content\")\n",
        "\n",
        "qualitative_retrieval_workflow.add_conditional_edges(\n",
        "    \"keep_only_relevant_content\",\n",
        "    is_distilled_content_grounded_on_content,\n",
        "    {\"grounded on the original context\":END,\n",
        "      \"not grounded on the original context\":\"keep_only_relevant_content\"},\n",
        "    )\n",
        "\n",
        "\n",
        "qualitative_retrieval_workflow_app = qualitative_retrieval_workflow.compile()\n",
        "\n",
        "display(\n",
        "    Image(\n",
        "        qualitative_retrieval_workflow_app.get_graph().draw_mermaid_png(\n",
        "            draw_method=MermaidDrawMethod.API,\n",
        "        )\n",
        "    )\n",
        ")"
      ]
    },
    {
      "cell_type": "markdown",
      "metadata": {},
      "source": [
        "### Test the retreive-and-keep-relevant-content graph"
      ]
    },
    {
      "cell_type": "code",
      "execution_count": 17,
      "metadata": {},
      "outputs": [
        {
          "name": "stdout",
          "output_type": "stream",
          "text": [
            "Retrieving relevant chunks...\n"
          ]
        },
        {
          "name": "stderr",
          "output_type": "stream",
          "text": [
            "c:\\Users\\N7\\PycharmProjects\\llm_tasks\\RAG-Harry-Potter\\.venv\\Lib\\site-packages\\langchain_core\\_api\\deprecation.py:119: LangChainDeprecationWarning: The method `BaseRetriever.get_relevant_documents` was deprecated in langchain-core 0.1.46 and will be removed in 0.3.0. Use invoke instead.\n",
            "  warn_deprecated(\n"
          ]
        },
        {
          "name": "stdout",
          "output_type": "stream",
          "text": [
            "Retrieving relevant chapter summaries...\n",
            "keeping only the relevant content...\n",
            "'--------------------'\n",
            "Retrieving relevant chunks...\n",
            "Retrieving relevant chapter summaries...\n",
            "'--------------------'\n",
            "keeping only the relevant content...\n",
            "'--------------------'\n",
            "Determining if the distilled content is grounded on the original context...\n",
            "'--------------------'\n",
            "The distilled content is grounded on the original context.\n",
            "'--------------------'\n",
            "relevant context: Harry heard the little girl’s voice. \\\"Oh, Mom, can I go on the train and see him, Mom, eh please....\\\" \\\"You’ve already seen him, Ginny, and the poor boy isn’t something you goggle at in a zoo. Is he really, Fred? How do you know?\\\" \\\"Asked him. Saw his scar. It’s really there — like lightning.\\\" \\\"Poor dear — no wonder he was alone, I wondered. He was ever so polite when he asked how to get onto the platform.\\\" \\\"Never mind that, do you think he remembers what You-Know-WhoIn Chapter Four of Harry Potter and the Sorcerer\\'s Stone, titled \\\"The Keeper of the Keys,\\\" Harry, Dudley, and the Dursleys are visited by a giant man named Hagrid, who reveals to Harry that he is a wizard and has been accepted to Hogwarts School of Witchcraft and Wizardry. Hagrid explains to Harry about his parents, who were killed by the dark wizard Voldemort when Harry was just a baby. He also tells Harry about the magical world and the significance of his survival against Voldemort\\'s curse. Hagrid shares with Harry the letter of acceptance to Hogwarts and helps him send a message to the headmaster, Dumbledore, about their meeting. The Dursleys are shocked and resistant to the idea of Harry attending Hogwarts, but Hagrid stands up for Harry and insists that he will be going to the school. Hagrid also reveals that he was expelled from Hogwarts in his third year but was allowed to stay on as the gamekeeper. He explains that he is not supposed to do magic but has been helping Harry behind the scenes. Hagrid then gives Harry his coat to sleep under and mentions that there may be some doormice in the pockets. Overall, this chapter sets the stage for Harry\\'s journey into the magical world and introduces him to key elements of his past and future at Hogwarts. It also highlights the conflict between Harry\\'s newfound identity as a wizard and the resistance from his non-magical family. (Chapter 4) from a vector store.\\\"\n"
          ]
        }
      ],
      "source": [
        "init_state = {\"question\": \"who is harry?\"}  # The question to answer\n",
        "context_state = retrieve_context_per_question(init_state)   # Retrieve context for the question\n",
        "relevant_content_state = keep_only_relevant_content(context_state)  # Keep only the relevant content\n",
        "for output in qualitative_retrieval_workflow_app.stream(init_state):    \n",
        "    for _, value in output.items():\n",
        "        pass \n",
        "    pprint(\"--------------------\")\n",
        "print(f'relevant context: {value[\"relevant_context\"]}')"
      ]
    },
    {
      "cell_type": "markdown",
      "metadata": {},
      "source": [
        "### Add a shorter version of the answer verification, checking only if grounded on context"
      ]
    },
    {
      "cell_type": "code",
      "execution_count": 16,
      "metadata": {},
      "outputs": [],
      "source": [
        "def is_answer_grounded_on_context(state):\n",
        "    \"\"\"Determines if the answer to the question is grounded in the facts.\n",
        "    \n",
        "    Args:\n",
        "        state: A dictionary containing the context and answer.\n",
        "    \"\"\"\n",
        "    print(\"Checking if the answer is grounded in the facts...\")\n",
        "    context = state[\"context\"]\n",
        "    answer = state[\"answer\"]\n",
        "    \n",
        "    result = is_grounded_on_facts_chain.invoke({\"context\": context, \"answer\": answer})\n",
        "    grounded_on_facts = result.grounded_on_facts\n",
        "    if not grounded_on_facts:\n",
        "        print(\"The answer is hallucination.\")\n",
        "        return \"hallucination\"\n",
        "    else:\n",
        "        print(\"The answer is grounded in the facts.\")\n",
        "        return \"grounded on context\""
      ]
    },
    {
      "cell_type": "markdown",
      "metadata": {},
      "source": [
        "### The second sub-graph will be a component that answers a question given context, without hallucinations"
      ]
    },
    {
      "cell_type": "code",
      "execution_count": 17,
      "metadata": {},
      "outputs": [
        {
          "data": {
            "image/jpeg": "[encoded data removed]",
            "text/plain": [
              "<IPython.core.display.Image object>"
            ]
          },
          "metadata": {},
          "output_type": "display_data"
        }
      ],
      "source": [
        "class QualitativeAnswerGraphState(TypedDict):\n",
        "    \"\"\"\n",
        "    Represents the state of our graph.\n",
        "\n",
        "    \"\"\"\n",
        "\n",
        "    question: str\n",
        "    context: str\n",
        "    answer: str\n",
        "\n",
        "qualitative_answer_workflow = StateGraph(QualitativeAnswerGraphState)\n",
        "\n",
        "# Define the nodes\n",
        "\n",
        "qualitative_answer_workflow.add_node(\"answer_question_from_context\",answer_question_from_context)\n",
        "\n",
        "# Build the graph\n",
        "qualitative_answer_workflow.set_entry_point(\"answer_question_from_context\")\n",
        "\n",
        "qualitative_answer_workflow.add_conditional_edges(\n",
        "\"answer_question_from_context\",is_answer_grounded_on_context ,{\"hallucination\":\"answer_question_from_context\", \"grounded on context\":END}\n",
        "\n",
        ")\n",
        "\n",
        "qualitative_answer_workflow_app = qualitative_answer_workflow.compile()\n",
        "\n",
        "display(\n",
        "    Image(\n",
        "        qualitative_answer_workflow_app.get_graph().draw_mermaid_png(\n",
        "            draw_method=MermaidDrawMethod.API,\n",
        "        )\n",
        "    )\n",
        ")"
      ]
    },
    {
      "cell_type": "markdown",
      "metadata": {},
      "source": [
        "### Test the answer-from-question-graph"
      ]
    },
    {
      "cell_type": "code",
      "execution_count": 155,
      "metadata": {},
      "outputs": [
        {
          "name": "stdout",
          "output_type": "stream",
          "text": [
            "Answering the question from the retrieved context...\n",
            "answer before checking hallucination: Harry is a cat.\n",
            "Checking if the answer is grounded in the facts...\n",
            "The answer is grounded in the facts.\n",
            "'--------------------'\n",
            "answer: Harry is a cat.\n"
          ]
        }
      ],
      "source": [
        "question = \"who is harry?\" # The question to answer\n",
        "context = \"Harry Potter is a cat.\" # The context to answer the question from\n",
        "init_state = {\"question\": question, \"context\": context} # The initial state\n",
        "for output in qualitative_answer_workflow_app.stream(init_state): \n",
        "    for _, value in output.items():\n",
        "        pass  # Node\n",
        "        # ... (your existing code)\n",
        "    pprint(\"--------------------\")\n",
        "print(f'answer: {value[\"answer\"]}')"
      ]
    },
    {
      "cell_type": "markdown",
      "metadata": {},
      "source": [
        "# Now let's define the sophisticated pipline components"
      ]
    },
    {
      "cell_type": "markdown",
      "metadata": {},
      "source": [
        "### The state of each step of the graph should be in this structure:"
      ]
    },
    {
      "cell_type": "code",
      "execution_count": 41,
      "metadata": {},
      "outputs": [],
      "source": [
        "class PlanExecute(TypedDict):\n",
        "    curr_state: str\n",
        "    question: str\n",
        "    anonymized_question: str\n",
        "    query_to_retrieve_or_answer: str\n",
        "    plan: List[str]\n",
        "    past_steps: List[str]\n",
        "    mapping: dict \n",
        "    curr_context: str\n",
        "    aggregated_context: str\n",
        "    tool: str\n",
        "    response: str"
      ]
    },
    {
      "cell_type": "markdown",
      "metadata": {},
      "source": [
        "### Define the Plan node - constructs a plan composed of steps, of how to tackle a question"
      ]
    },
    {
      "cell_type": "code",
      "execution_count": 19,
      "metadata": {},
      "outputs": [],
      "source": [
        "class Plan(BaseModel):\n",
        "    \"\"\"Plan to follow in future\"\"\"\n",
        "\n",
        "    steps: List[str] = Field(\n",
        "        description=\"different steps to follow, should be in sorted order\"\n",
        "    )\n",
        "\n",
        "planner_prompt =\"\"\" For the given query {question}, come up with a simple step by step plan of how to figure out the answer. \n",
        "\n",
        "This plan should involve individual tasks, that if executed correctly will yield the correct answer. Do not add any superfluous steps. \n",
        "The result of the final step should be the final answer. Make sure that each step has all the information needed - do not skip steps.\n",
        "\n",
        "\"\"\"\n",
        "\n",
        "planner_prompt = PromptTemplate(\n",
        "    template=planner_prompt,\n",
        "      input_variables=[\"question\"], \n",
        "     )\n",
        "\n",
        "planner_llm = ChatOpenAI(temperature=0, model_name=\"gpt-4o\", max_tokens=2000)\n",
        "\n",
        "planner = planner_prompt | planner_llm.with_structured_output(Plan)"
      ]
    },
    {
      "cell_type": "markdown",
      "metadata": {},
      "source": [
        "### A function to break down each task to either retrieve or answer"
      ]
    },
    {
      "cell_type": "code",
      "execution_count": 20,
      "metadata": {},
      "outputs": [],
      "source": [
        "break_down_plan_prompt_template = \"\"\"You receive a plan {plan} which contains a series of steps to follow in order to answer a query. \n",
        "you need to go through the plan refine it according to this:\n",
        "1. every step has to be able to be executed by either retrieving relevant information from a vector store based on a given query, or answering a question from a given context.\n",
        "2. every step should contain all the information needed to execute it.\n",
        "\n",
        "output the refined plan\n",
        "\"\"\"\n",
        "\n",
        "break_down_plan_prompt = PromptTemplate(\n",
        "    template=break_down_plan_prompt_template,\n",
        "    input_variables=[\"plan\"],\n",
        ")\n",
        "\n",
        "break_down_plan_llm = ChatOpenAI(temperature=0, model_name=\"gpt-4o\", max_tokens=2000)\n",
        "\n",
        "break_down_plan_chain = break_down_plan_prompt | break_down_plan_llm.with_structured_output(Plan)\n"
      ]
    },
    {
      "cell_type": "markdown",
      "metadata": {},
      "source": [
        "### Example of how to use the planner\n"
      ]
    },
    {
      "cell_type": "code",
      "execution_count": 135,
      "metadata": {},
      "outputs": [
        {
          "name": "stdout",
          "output_type": "stream",
          "text": [
            "steps=['Identify the main character and the villain in the story.', 'Find the specific scene or chapter where the main character confronts the villain.', 'Read the scene or chapter carefully to understand the actions taken by the main character.', 'Note down the key actions and strategies used by the main character to defeat the villain.', 'Summarize the key actions and strategies into a concise answer.']\n",
            "steps=['Retrieve relevant information from a vector store to identify the main character and the villain in the story.', 'Retrieve relevant information from a vector store to find the specific scene or chapter where the main character confronts the villain.', 'Retrieve relevant information from a vector store to read the scene or chapter where the main character confronts the villain.', 'Answer the question from the given context to note down the key actions and strategies used by the main character to defeat the villain.', 'Answer the question from the given context to summarize the key actions and strategies into a concise answer.']\n"
          ]
        }
      ],
      "source": [
        "question = {\"question\": \"how did the main character beat the villain?\"} # The question to answer\n",
        "my_plan = planner.invoke(question) # Generate a plan to answer the question\n",
        "print(my_plan)\n",
        "refined_plan = break_down_plan_chain.invoke(my_plan.steps) # Refine the plan\n",
        "print(refined_plan)"
      ]
    },
    {
      "cell_type": "markdown",
      "metadata": {},
      "source": [
        "### Given the original question, the current plan, the past steps, and the so far aggregated information, update the plan"
      ]
    },
    {
      "cell_type": "code",
      "execution_count": 21,
      "metadata": {},
      "outputs": [],
      "source": [
        "class ActPossibleResults(BaseModel):\n",
        "    \"\"\"Possible results of the action.\"\"\"\n",
        "    plan: Plan = Field(description=\"Plan to follow in future.\")\n",
        "    explanation: str = Field(description=\"Explanation of the action.\")\n",
        "    \n",
        "\n",
        "act_possible_results_parser = JsonOutputParser(pydantic_object=ActPossibleResults)\n",
        "\n",
        "replanner_prompt_template =\"\"\" For the given objective, come up with a simple step by step plan of how to figure out the answer. \n",
        "This plan should involve individual tasks, that if executed correctly will yield the correct answer. Do not add any superfluous steps. \n",
        "The result of the final step should be the final answer. Make sure that each step has all the information needed - do not skip steps.\n",
        "\n",
        "assume that the answer was not found yet and you need to update the plan accordingly, so the plan should never be empty.\n",
        "\n",
        "Your objective was this:\n",
        "{question}\n",
        "\n",
        "Your original plan was this:\n",
        "{plan}\n",
        "\n",
        "You have currently done the follow steps:\n",
        "{past_steps}\n",
        "\n",
        "You already have the following context:\n",
        "{aggregated_context}\n",
        "\n",
        "Update your plan accordingly. If further steps are needed, fill out the plan with only those steps.\n",
        "Do not return previously done steps as part of the plan.\n",
        "\n",
        "the format is json so escape quotes and new lines.\n",
        "\n",
        "{format_instructions}\n",
        "\n",
        "\"\"\"\n",
        "\n",
        "replanner_prompt = PromptTemplate(\n",
        "    template=replanner_prompt_template,\n",
        "    input_variables=[\"question\", \"plan\", \"past_steps\", \"aggregated_context\"],\n",
        "    partial_variables={\"format_instructions\": act_possible_results_parser.get_format_instructions()},\n",
        ")\n",
        "\n",
        "replanner_llm = ChatOpenAI(temperature=0, model_name=\"gpt-4o\", max_tokens=2000)\n",
        "\n",
        "\n",
        "\n",
        "replanner = replanner_prompt | replanner_llm | act_possible_results_parser"
      ]
    },
    {
      "cell_type": "markdown",
      "metadata": {},
      "source": [
        "### Define the task handler - decides whether to use the first sub-graph or the second sub-graph to handle each task from the plan"
      ]
    },
    {
      "cell_type": "code",
      "execution_count": 22,
      "metadata": {},
      "outputs": [],
      "source": [
        "tasks_handler_prompt_template = \"\"\"You are a task handler that receives a task {curr_task} and have to decide with tool to use to execute the task.\n",
        "You have the following tools at your disposal:\n",
        "Tool A: a tool that retrieves relevant information from a vector store based on a given query.\n",
        "use Tool A when you think the current task should be executed by retrieving relevant information from a vector store.\n",
        "Tool B: a tool that answers a question from a given context.\n",
        "use Tool B ONLY when you the current task can be answered by the aggregated context {aggregated_context}\n",
        "\n",
        "You also have the past steps {past_steps} that you can use to make decisions and understand the context of the task.\n",
        "You also have the initial user's question {question} that you can use to make decisions and understand the context of the task.\n",
        "if you decide to use Tool A, output the query to be used for the tool and also that the tool to be used is Tool A.\n",
        "if you decide to use Tool B, output the question to be used for the tool, the context, and also that the tool to be used is Tool B.\n",
        "\"\"\"\n",
        "\n",
        "class TaskHandlerOutput(BaseModel):\n",
        "    \"\"\"Output schema for the task handler.\"\"\"\n",
        "    query: str = Field(description=\"The query to be either retrieved from the vector store, or the question that should be answered from context.\")\n",
        "    curr_context: str = Field(description=\"The context to be based on in order to answer the query.\")\n",
        "    tool: str = Field(description=\"The tool to be used should be either 'retrieve' or 'answer_from_context'.\")\n",
        "\n",
        "\n",
        "task_handler_prompt = PromptTemplate(\n",
        "    template=tasks_handler_prompt_template,\n",
        "    input_variables=[\"curr_task\", \"aggregated_context\", \"past_steps\", \"question\"],\n",
        ")\n",
        "\n",
        "task_handler_llm = ChatOpenAI(temperature=0, model_name=\"gpt-4o\", max_tokens=2000)\n",
        "task_handler_chain = task_handler_prompt | task_handler_llm.with_structured_output(TaskHandlerOutput)"
      ]
    },
    {
      "cell_type": "markdown",
      "metadata": {},
      "source": [
        "### In order to generate a general plan, without any biases based on prior knowledge of any LLM, we anonymize the input question, first, and map the name entities into variables"
      ]
    },
    {
      "cell_type": "code",
      "execution_count": 23,
      "metadata": {},
      "outputs": [],
      "source": [
        "class AnonymizeQuestion(BaseModel):\n",
        "    \"\"\"Anonymized question and mapping.\"\"\"\n",
        "    anonymized_question : str = Field(description=\"Anonymized question.\")\n",
        "    mapping: dict = Field(description=\"Mapping of original name entities to variables.\")\n",
        "    explanation: str = Field(description=\"Explanation of the action.\")\n",
        "\n",
        "anonymize_question_parser = JsonOutputParser(pydantic_object=AnonymizeQuestion)\n",
        "\n",
        "\n",
        "anonymize_question_prompt_template = \"\"\" You are a question anonymizer. The input You receive is a string containing several words that\n",
        " construct a question {question}. Your goal is to changes all name entities in the input to variables, and remember the mapping of the original name entities to the variables.\n",
        " ```example1:\n",
        "        if the input is \\\"who is harry potter?\\\" the output should be \\\"who is X?\\\" and the mapping should be {{\\\"X\\\": \\\"harry potter\\\"}} ```\n",
        "```example2:\n",
        "        if the input is \\\"how did the bad guy played with the alex and rony?\\\"\n",
        "          the output should be \\\"how did the X played with the Y and Z?\\\" and the mapping should be {{\\\"X\\\": \\\"bad guy\\\", \\\"Y\\\": \\\"alex\\\", \\\"Z\\\": \\\"rony\\\"}}```\n",
        " you must replace all name entities in the input with variables, and remember the mapping of the original name entities to the variables.\n",
        "  output the anonymized question and the mapping in a json format. {format_instructions}\"\"\"\n",
        "\n",
        "\n",
        "\n",
        "anonymize_question_prompt = PromptTemplate(\n",
        "    template=anonymize_question_prompt_template,\n",
        "    input_variables=[\"question\"],\n",
        "    partial_variables={\"format_instructions\": anonymize_question_parser.get_format_instructions()},\n",
        ")\n",
        "\n",
        "anonymize_question_llm = ChatOpenAI(temperature=0, model_name=\"gpt-4o\", max_tokens=2000)\n",
        "anonymize_question_chain = anonymize_question_prompt | anonymize_question_llm | anonymize_question_parser"
      ]
    },
    {
      "cell_type": "markdown",
      "metadata": {},
      "source": [
        "### After the plan is constructed based on the anonymized question, we de-anonymize the plan, using the mapped variables"
      ]
    },
    {
      "cell_type": "code",
      "execution_count": 24,
      "metadata": {},
      "outputs": [],
      "source": [
        "class DeAnonymizePlan(BaseModel):\n",
        "    \"\"\"Possible results of the action.\"\"\"\n",
        "    plan: List = Field(description=\"Plan to follow in future. with all the variables replaced with the mapped words.\")\n",
        "\n",
        "de_anonymize_plan_prompt_template = \"\"\" you receive a list of tasks: {plan}, where some of the words are replaced with mapped variables. you also receive\n",
        "the mapping for those variables to words {mapping}. replace all the variables in the list of tasks with the mapped words. if no variables are present,\n",
        "return the original list of tasks. in any case, just output the updated list of tasks in a json format as described here, without any additional text apart from the\n",
        "\"\"\"\n",
        "\n",
        "\n",
        "de_anonymize_plan_prompt = PromptTemplate(\n",
        "    template=de_anonymize_plan_prompt_template,\n",
        "    input_variables=[\"plan\", \"mapping\"],\n",
        ")\n",
        "\n",
        "de_anonymize_plan_llm = ChatOpenAI(temperature=0, model_name=\"gpt-4o\", max_tokens=2000)\n",
        "de_anonymize_plan_chain = de_anonymize_plan_prompt | de_anonymize_plan_llm.with_structured_output(DeAnonymizePlan)"
      ]
    },
    {
      "cell_type": "markdown",
      "metadata": {},
      "source": [
        "### Example of how to build a plan\n"
      ]
    },
    {
      "cell_type": "code",
      "execution_count": 72,
      "metadata": {},
      "outputs": [
        {
          "name": "stdout",
          "output_type": "stream",
          "text": [
            "question: how did the harry beat quirrell? \n",
            "\n",
            "anonimized_querry: how did the X beat Y? \n",
            "\n",
            "mapping: {'X': 'harry', 'Y': 'quirrell'} \n",
            "\n",
            "plan: ['Identify the context or domain of the query (e.g., sports, competition, game, etc.).', 'Gather information about\n",
            "the event or competition where X and Y participated.', 'Find the specific instance or match where X competed against\n",
            "Y.', 'Look up the results of that specific instance or match.', 'Analyze the details of the match to understand how X\n",
            "managed to beat Y.', 'Summarize the key points that explain how X beat Y.']\n",
            "\n",
            "deanonimized_plan: ['Identify the context or domain of the query (e.g., sports, competition, game, etc.).', 'Gather\n",
            "information about the event or competition where harry and quirrell participated.', 'Find the specific instance or match\n",
            "where harry competed against quirrell.', 'Look up the results of that specific instance or match.', 'Analyze the details\n",
            "of the match to understand how harry managed to beat quirrell.', 'Summarize the key points that explain how harry beat\n",
            "quirrell.']\n"
          ]
        }
      ],
      "source": [
        "state1 = {'question': \"how did the harry beat quirrell? \\n\"}  # The question to answer\n",
        "print(f'question: {state1[\"question\"]}')\n",
        "anonymized_question_output = anonymize_question_chain.invoke(state1) # Anonymize the question\n",
        "anonymized_question = anonymized_question_output[\"anonymized_question\"] # Get the anonymized question\n",
        "mapping = anonymized_question_output[\"mapping\"] # Get the mapping of the original name entities to the variables\n",
        "print(f'anonimized_querry: {anonymized_question} \\n')\n",
        "print(f'mapping: {mapping} \\n')\n",
        "plan = planner.invoke({\"question\": anonymized_question}) # Generate a plan to answer the question\n",
        "print(text_wrap(f'plan: {plan.steps}'))\n",
        "print(\"\")\n",
        "deanonimzed_plan = de_anonymize_plan_chain.invoke({\"plan\": plan.steps, \"mapping\": mapping}) # De-anonymize the plan\n",
        "print(text_wrap(f'deanonimized_plan: {deanonimzed_plan.plan}'))"
      ]
    },
    {
      "cell_type": "markdown",
      "metadata": {},
      "source": [
        "### A function that checks if the final answer can be deduced already, based on the aggregated information"
      ]
    },
    {
      "cell_type": "code",
      "execution_count": 25,
      "metadata": {},
      "outputs": [],
      "source": [
        "class CanBeAnsweredAlready(BaseModel):\n",
        "    \"\"\"Possible results of the action.\"\"\"\n",
        "    can_be_answered: bool = Field(description=\"Whether the question can be fully answered or not based on the given context.\")\n",
        "\n",
        "can_be_answered_already_prompt_template = \"\"\"You receive a query: {question} and a context: {context}.\n",
        "You need to determine if the question can be fully answered relying only the given context.\n",
        "The only infomation you have and can rely on is the context you received. \n",
        "you have no prior knowledge of the question or the context.\n",
        "if you think the question can be answered based on the context, output 'true', otherwise output 'false'.\n",
        "\"\"\"\n",
        "\n",
        "can_be_answered_already_prompt = PromptTemplate(\n",
        "    template=can_be_answered_already_prompt_template,\n",
        "    input_variables=[\"question\",\"context\"],\n",
        ")\n",
        "\n",
        "can_be_answered_already_llm = ChatOpenAI(temperature=0, model_name=\"gpt-4o\", max_tokens=2000)\n",
        "can_be_answered_already_chain = can_be_answered_already_prompt | can_be_answered_already_llm.with_structured_output(CanBeAnsweredAlready)"
      ]
    },
    {
      "cell_type": "markdown",
      "metadata": {},
      "source": [
        "### Define the sophisticated pipeline graph functions"
      ]
    },
    {
      "cell_type": "code",
      "execution_count": 42,
      "metadata": {},
      "outputs": [],
      "source": [
        "def run_task_handler_chain(state: PlanExecute):\n",
        "    \"\"\" Run the task handler chain to decide which tool to use to execute the task.\n",
        "    Args:\n",
        "       state: The current state of the plan execution.\n",
        "    Returns:\n",
        "       The updated state of the plan execution.\n",
        "    \"\"\"\n",
        "    state[\"curr_state\"] = \"task_handler\"\n",
        "    print(\"the current plan is:\")\n",
        "    print(state[\"plan\"])\n",
        "    pprint(\"--------------------\") \n",
        "\n",
        "    if not state['past_steps']:\n",
        "        state[\"past_steps\"] = []\n",
        "\n",
        "    curr_task = state[\"plan\"][0]\n",
        "\n",
        "    inputs = {\"curr_task\": curr_task,\n",
        "               \"aggregated_context\": state[\"aggregated_context\"],\n",
        "                \"past_steps\": state[\"past_steps\"],\n",
        "                \"question\": state[\"question\"]}\n",
        "    \n",
        "    output = task_handler_chain.invoke(inputs)\n",
        "  \n",
        "    state[\"past_steps\"].append(curr_task)\n",
        "    state[\"plan\"].pop(0)\n",
        "\n",
        "    if output.tool == \"retrieve\":\n",
        "        state[\"query_to_retrieve_or_answer\"] = output.query\n",
        "        state[\"tool\"]=\"retrieve\"\n",
        "    elif output.tool == \"answer_from_context\":\n",
        "        state[\"query_to_retrieve_or_answer\"] = output.query\n",
        "        state[\"curr_context\"] = output.curr_context\n",
        "        state[\"tool\"]=\"answer\"\n",
        "    else:\n",
        "        raise ValueError(\"Invalid tool was outputed. Must be either 'retrieve' or 'answer_from_context'\")\n",
        "    return state  \n",
        "\n",
        "\n",
        "\n",
        "def retrieve_or_answer(state: PlanExecute):\n",
        "    \"\"\"Decide whether to retrieve or answer the question based on the current state.\n",
        "    Args:\n",
        "        state: The current state of the plan execution.\n",
        "    Returns:\n",
        "        updates the tool to use .\n",
        "    \"\"\"\n",
        "    state[\"curr_state\"] = \"decide_tool\"\n",
        "    print(\"deciding whether to retrieve or answer\")\n",
        "    if state[\"tool\"] == \"retrieve\":\n",
        "        return \"retrieve_from_vector_store\"\n",
        "    elif state[\"tool\"] == \"answer\":\n",
        "        return \"answer_from_context\"\n",
        "    else:\n",
        "        raise ValueError(\"Invalid tool was outputed. Must be either 'retrieve' or 'answer_from_context'\")  \n",
        "\n",
        "\n",
        "def run_qualitative_retrieval_workflow(state):\n",
        "    \"\"\"\n",
        "    Run the qualitative retrieval workflow.\n",
        "    Args:\n",
        "        state: The current state of the plan execution.\n",
        "    Returns:\n",
        "        The state with the updated aggregated context.\n",
        "    \"\"\"\n",
        "    state[\"curr_state\"] = \"retrieve\"\n",
        "    print(\"Running the qualitative retrieval workflow...\")\n",
        "    question = state[\"query_to_retrieve_or_answer\"]\n",
        "    inputs = {\"question\": question}\n",
        "    for output in qualitative_retrieval_workflow_app.stream(inputs):\n",
        "        for _, _ in output.items():\n",
        "            pass \n",
        "        pprint(\"--------------------\")\n",
        "    \n",
        "    if not state[\"aggregated_context\"]:\n",
        "        state[\"aggregated_context\"] = \"\"\n",
        "    state[\"aggregated_context\"] += output['relevant_context']\n",
        "    return state\n",
        "\n",
        "\n",
        "def run_qualtative_answer_workflow(state):\n",
        "    \"\"\"\n",
        "    Run the qualitative answer workflow.\n",
        "    Args:\n",
        "        state: The current state of the plan execution.\n",
        "    Returns:\n",
        "        The state with the updated aggregated context.\n",
        "    \"\"\"\n",
        "    state[\"curr_state\"] = \"answer\"\n",
        "    print(\"Running the qualitative answer workflow...\")\n",
        "    question = state[\"query_to_retrieve_or_answer\"]\n",
        "    context = state[\"curr_context\"]\n",
        "    inputs = {\"question\": question, \"context\": context}\n",
        "    for output in qualitative_answer_workflow_app.stream(inputs):\n",
        "        for _, _ in output.items():\n",
        "            pass \n",
        "        pprint(\"--------------------\")\n",
        "    if not state[\"aggregated_context\"]:\n",
        "        state[\"aggregated_context\"] = \"\"\n",
        "    state[\"aggregated_context\"] += output[\"answer\"]\n",
        "    return state\n",
        "\n",
        "def run_qualtative_answer_workflow_for_final_answer(state):\n",
        "    \"\"\"\n",
        "    Run the qualitative answer workflow for the final answer.\n",
        "    Args:\n",
        "        state: The current state of the plan execution.\n",
        "    Returns:\n",
        "        The state with the updated response.\n",
        "    \"\"\"\n",
        "    state[\"curr_state\"] = \"get_final_answer\"\n",
        "    print(\"Running the qualitative answer workflow for final answer...\")\n",
        "    question = state[\"question\"]\n",
        "    context = state[\"aggregated_context\"]\n",
        "    inputs = {\"question\": question, \"context\": context}\n",
        "    for output in qualitative_answer_workflow_app.stream(inputs):\n",
        "        for _, value in output.items():\n",
        "            pass  \n",
        "        pprint(\"--------------------\")\n",
        "    state[\"response\"] = value\n",
        "    return state\n",
        "\n",
        "\n",
        "def anonymize_queries(state: PlanExecute):\n",
        "    \"\"\"\n",
        "    Anonymizes the question.\n",
        "    Args:\n",
        "        state: The current state of the plan execution.\n",
        "    Returns:\n",
        "        The updated state with the anonymized question and mapping.\n",
        "    \"\"\"\n",
        "    state[\"curr_state\"] = \"anonymize_question\"\n",
        "    print(\"Anonymizing question\")\n",
        "    pprint(\"--------------------\")\n",
        "    anonymized_question_output = anonymize_question_chain.invoke(state['question'])\n",
        "    anonymized_question = anonymized_question_output[\"anonymized_question\"]\n",
        "    print(f'anonimized_querry: {anonymized_question}')\n",
        "    pprint(\"--------------------\")\n",
        "    mapping = anonymized_question_output[\"mapping\"]\n",
        "    state[\"anonymized_question\"] = anonymized_question\n",
        "    state[\"mapping\"] = mapping\n",
        "    return state\n",
        "\n",
        "\n",
        "def deanonymize_queries(state: PlanExecute):\n",
        "    \"\"\"\n",
        "    De-anonymizes the plan.\n",
        "    Args:\n",
        "        state: The current state of the plan execution.\n",
        "    Returns:\n",
        "        The updated state with the de-anonymized plan.\n",
        "    \"\"\"\n",
        "    state[\"curr_state\"] = \"de_anonymize_plan\"\n",
        "    print(\"De-anonymizing plan\")\n",
        "    pprint(\"--------------------\")\n",
        "    deanonimzed_plan = de_anonymize_plan_chain.invoke({\"plan\": state[\"plan\"], \"mapping\": state[\"mapping\"]})\n",
        "    state[\"plan\"] = deanonimzed_plan.plan\n",
        "    print(f'de-anonimized_plan: {deanonimzed_plan.plan}')\n",
        "    return state\n",
        "\n",
        "\n",
        "def plan_step(state: PlanExecute):\n",
        "    \"\"\"\n",
        "    Plans the next step.\n",
        "    Args:\n",
        "        state: The current state of the plan execution.\n",
        "    Returns:\n",
        "        The updated state with the plan.\n",
        "    \"\"\"\n",
        "    state[\"curr_state\"] = \"planner\"\n",
        "    print(\"Planning step\")\n",
        "    pprint(\"--------------------\")\n",
        "    plan = planner.invoke({\"question\": state['anonymized_question']})\n",
        "    state[\"plan\"] = plan.steps\n",
        "    print(f'plan: {state[\"plan\"]}')\n",
        "    return state\n",
        "\n",
        "\n",
        "def break_down_plan_step(state: PlanExecute):\n",
        "    \"\"\"\n",
        "    Breaks down the plan steps into retrievable or answerable tasks.\n",
        "    Args:\n",
        "        state: The current state of the plan execution.\n",
        "    Returns:\n",
        "        The updated state with the refined plan.\n",
        "    \"\"\"\n",
        "    state[\"curr_state\"] = \"break_down_plan\"\n",
        "    print(\"Breaking down plan steps into retrievable or answerable tasks\")\n",
        "    pprint(\"--------------------\")\n",
        "    refined_plan = break_down_plan_chain.invoke(state[\"plan\"])\n",
        "    state[\"plan\"] = refined_plan.steps\n",
        "    return state\n",
        "\n",
        "\n",
        "\n",
        "def replan_step(state: PlanExecute):\n",
        "    \"\"\"\n",
        "    Replans the next step.\n",
        "    Args:\n",
        "        state: The current state of the plan execution.\n",
        "    Returns:\n",
        "        The updated state with the plan.\n",
        "    \"\"\"\n",
        "    state[\"curr_state\"] = \"replan\"\n",
        "    print(\"Replanning step\")\n",
        "    pprint(\"--------------------\")\n",
        "    inputs = {\"question\": state[\"question\"], \"plan\": state[\"plan\"], \"past_steps\": state[\"past_steps\"], \"aggregated_context\": state[\"aggregated_context\"]}\n",
        "    output = replanner.invoke(inputs)\n",
        "    state[\"plan\"] = output['plan']['steps']\n",
        "    return state\n",
        "\n",
        "\n",
        "def can_be_answered(state: PlanExecute):\n",
        "    \"\"\"\n",
        "    Determines if the question can be answered.\n",
        "    Args:\n",
        "        state: The current state of the plan execution.\n",
        "    Returns:\n",
        "        whether the original question can be answered or not.\n",
        "    \"\"\"\n",
        "    state[\"curr_state\"] = \"can_be_answered_already\"\n",
        "    print(\"Checking if the ORIGINAL QUESTION can be answered already\")\n",
        "    pprint(\"--------------------\")\n",
        "    question = state[\"question\"]\n",
        "    context = state[\"aggregated_context\"]\n",
        "    inputs = {\"question\": question, \"context\": context}\n",
        "    output = can_be_answered_already_chain.invoke(inputs)\n",
        "    if output.can_be_answered == True:\n",
        "        print(\"The ORIGINAL QUESTION can be fully answered already.\")\n",
        "        pprint(\"--------------------\")\n",
        "        print(\"the aggregated context is:\")\n",
        "        print(text_wrap(state[\"aggregated_context\"]))\n",
        "        print(\"--------------------\")\n",
        "        return \"can_be_answered_already\"\n",
        "    else:\n",
        "        print(\"The ORIGINAL QUESTION cannot be fully answered yet.\")\n",
        "        pprint(\"--------------------\")\n",
        "        return \"cannot_be_answered_yet\""
      ]
    },
    {
      "cell_type": "markdown",
      "metadata": {},
      "source": [
        "### Define the sophisticated graph structure"
      ]
    },
    {
      "cell_type": "code",
      "execution_count": 43,
      "metadata": {},
      "outputs": [
        {
          "data": {
            "image/jpeg": "[encoded data removed]",
            "text/plain": [
              "<IPython.core.display.Image object>"
            ]
          },
          "metadata": {},
          "output_type": "display_data"
        }
      ],
      "source": [
        "from langgraph.graph import StateGraph\n",
        "\n",
        "agent_workflow = StateGraph(PlanExecute)\n",
        "\n",
        "# Add the anonymize node\n",
        "agent_workflow.add_node(\"anonymize_question\", anonymize_queries)\n",
        "\n",
        "# Add the plan node\n",
        "agent_workflow.add_node(\"planner\", plan_step)\n",
        "\n",
        "# Add the break down plan node\n",
        "\n",
        "agent_workflow.add_node(\"break_down_plan\", break_down_plan_step)\n",
        "\n",
        "# Add the deanonymize node\n",
        "agent_workflow.add_node(\"de_anonymize_plan\", deanonymize_queries)\n",
        "\n",
        "# Add the qualitative retrieval node\n",
        "agent_workflow.add_node(\"retrieve\", run_qualitative_retrieval_workflow)\n",
        "\n",
        "# Add the qualitative answer node\n",
        "agent_workflow.add_node(\"answer\", run_qualtative_answer_workflow)\n",
        "\n",
        "# Add the task handler node\n",
        "agent_workflow.add_node(\"task_handler\", run_task_handler_chain)\n",
        "\n",
        "# Add a replan node\n",
        "agent_workflow.add_node(\"replan\", replan_step)\n",
        "\n",
        "# Add answer from context node\n",
        "agent_workflow.add_node(\"get_final_answer\", run_qualtative_answer_workflow_for_final_answer)\n",
        "\n",
        "\n",
        "\n",
        "# Set the entry point\n",
        "agent_workflow.set_entry_point(\"anonymize_question\")\n",
        "\n",
        "# From anonymize we go to plan\n",
        "agent_workflow.add_edge(\"anonymize_question\", \"planner\")\n",
        "\n",
        "# From plan we go to deanonymize\n",
        "agent_workflow.add_edge(\"planner\", \"de_anonymize_plan\")\n",
        "\n",
        "# From deanonymize we go to break down plan\n",
        "\n",
        "agent_workflow.add_edge(\"de_anonymize_plan\", \"break_down_plan\")\n",
        "\n",
        "# From break_down_plan we go to task handler\n",
        "agent_workflow.add_edge(\"break_down_plan\", \"task_handler\")\n",
        "\n",
        "# From task handler we go to either retrieve or answer\n",
        "agent_workflow.add_conditional_edges(\"task_handler\", retrieve_or_answer, {\"retrieve_from_vector_store\": \"retrieve\", \"answer_from_context\": \"answer\"})\n",
        "\n",
        "# After retrieving we go to replan\n",
        "agent_workflow.add_edge(\"retrieve\", \"replan\")\n",
        "\n",
        "# After answering we go to replan\n",
        "agent_workflow.add_edge(\"answer\", \"replan\")\n",
        "\n",
        "# After replanning we check if the question can be answered, if yes we go to get_final_answer, if not we go to task_handler\n",
        "agent_workflow.add_conditional_edges(\"replan\",can_be_answered, {\"can_be_answered_already\": \"get_final_answer\", \"cannot_be_answered_yet\": \"break_down_plan\"})\n",
        "\n",
        "# After getting the final answer we end\n",
        "agent_workflow.add_edge(\"get_final_answer\", END)\n",
        "\n",
        "\n",
        "plan_and_execute_app = agent_workflow.compile()\n",
        "\n",
        "display(Image(plan_and_execute_app.get_graph(xray=True).draw_mermaid_png()))"
      ]
    },
    {
      "cell_type": "markdown",
      "metadata": {},
      "source": [
        "### Run the sophisticated graph function"
      ]
    },
    {
      "cell_type": "code",
      "execution_count": 60,
      "metadata": {},
      "outputs": [],
      "source": [
        "def execute_plan_and_print_steps(inputs, recursion_limit=15):\n",
        "    \"\"\"\n",
        "    Execute the plan and print the steps.\n",
        "    Args:\n",
        "        inputs: The inputs to the plan.\n",
        "        recursion_limit: The recursion limit.\n",
        "    Returns:\n",
        "        The response and the final state.\n",
        "    \"\"\"\n",
        "    \n",
        "    config = {\"recursion_limit\": recursion_limit}\n",
        "    try:    \n",
        "        for plan_output in plan_and_execute_app.stream(inputs, config=config):\n",
        "            for _, agent_state_value in plan_output.items():\n",
        "                pass\n",
        "                print(f' curr step: {agent_state_value}')\n",
        "        response = agent_state_value['response']\n",
        "    except langgraph.pregel.GraphRecursionError:\n",
        "        response = \"The answer wasn't found in the data.\"\n",
        "    final_state = agent_state_value\n",
        "    print(text_wrap(f' the final answer is: {response}'))\n",
        "    return response, final_state"
      ]
    },
    {
      "cell_type": "markdown",
      "metadata": {},
      "source": [
        "### Examples"
      ]
    },
    {
      "cell_type": "markdown",
      "metadata": {},
      "source": [
        "#### An example we want the model to fail"
      ]
    },
    {
      "cell_type": "code",
      "execution_count": null,
      "metadata": {},
      "outputs": [],
      "source": [
        "input = {\"question\": \"what did professor lupin teach?\"}\n",
        "final_answer, final_state = execute_plan_and_print_steps(input)"
      ]
    },
    {
      "cell_type": "markdown",
      "metadata": {},
      "source": [
        "#### An example we want the model to succeed"
      ]
    },
    {
      "cell_type": "code",
      "execution_count": null,
      "metadata": {},
      "outputs": [],
      "source": [
        "input = {\"question\": \"what is the class that the proffessor who helped the villain is teaching?\"}\n",
        "final_answer, final_state = execute_plan_and_print_steps(input)"
      ]
    },
    {
      "cell_type": "markdown",
      "metadata": {},
      "source": [
        "#### An example that demonstrates the CoT reasoning, when answering a question"
      ]
    },
    {
      "cell_type": "code",
      "execution_count": null,
      "metadata": {},
      "outputs": [],
      "source": [
        "input = {\"question\": \"how did harry beat quirrell?\"}\n",
        "final_answer, final_state = execute_plan_and_print_steps(input)"
      ]
    },
    {
      "cell_type": "markdown",
      "metadata": {
        "id": "JBKQkR-W4ZyV"
      },
      "source": [
        "### Model Evaluation\n"
      ]
    },
    {
      "cell_type": "code",
      "execution_count": 102,
      "metadata": {
        "id": "ME52zvjPNv47"
      },
      "outputs": [],
      "source": [
        "questions = [\n",
        "    \"What is the name of the three-headed dog guarding the Sorcerer's Stone?\",\n",
        "    \"Who gave Harry Potter his first broomstick?\",\n",
        "    \"Which house did the Sorting Hat initially consider for Harry?\",\n",
        "    # \"What is the name of Harry's owl?\"\n",
        "]\n",
        "#     \"How did Harry and his friends get past Fluffy?\",\n",
        "#     \"What is the Mirror of Erised?\",\n",
        "#     \"Who tried to steal the Sorcerer's Stone?\",\n",
        "#     \"How did Harry defeat Quirrell?\",\n",
        "#     \"What is Harry's parent's secret weapon against Voldemort?\",\n",
        "# ]\n",
        "\n",
        "ground_truth_answers = [\n",
        "    \"Fluffy\",\n",
        "    \"Professor McGonagall\",\n",
        "    \"Slytherin\",\n",
        "    # \"Hedwig\",\n",
        "    # \"They played music to put Fluffy to sleep.\",\n",
        "    # \"A magical mirror that shows the 'deepest, most desperate desire of our hearts.'\",\n",
        "    # \"Professor Quirrell, possessed by Voldemort\",\n",
        "    # \"Harry's mother's love protected him, causing Quirrell/Voldemort pain when they touched him.\",\n",
        "]"
      ]
    },
    {
      "cell_type": "markdown",
      "metadata": {},
      "source": [
        "### Generating Answers and Retrieving Documents for Predefined Questions\n"
      ]
    },
    {
      "cell_type": "code",
      "execution_count": null,
      "metadata": {
        "colab": {
          "base_uri": "https://localhost:8080/",
          "height": 460
        },
        "id": "Wo9EEV0j4mJA",
        "outputId": "14c46214-8fb8-41aa-9845-73367d9a738f"
      },
      "outputs": [],
      "source": [
        "generated_answers = [] # To store the generated answers\n",
        "retrieved_documents = [] # To store the retrieved documents\n",
        "for question in questions:\n",
        "    input = {\"question\": question} # The input to the plan\n",
        "    print(f\"Answering the question: {question}\")\n",
        "    final_answer, final_state = execute_plan_and_print_steps(input) # Execute the pipline \n",
        "    generated_answers.append(final_answer) # Append the generated answer\n",
        "    retrieved_documents.append(final_state['aggregated_context']) # Append the retrieved documents"
      ]
    },
    {
      "cell_type": "markdown",
      "metadata": {},
      "source": [
        "### Displaying Retrieved Documents and Generated Answers\n"
      ]
    },
    {
      "cell_type": "code",
      "execution_count": null,
      "metadata": {},
      "outputs": [],
      "source": [
        "print(text_wrap(f'retrieved_documents: {retrieved_documents}\\n'))\n",
        "print(text_wrap(f'generated_answers: {generated_answers}'))"
      ]
    },
    {
      "cell_type": "markdown",
      "metadata": {},
      "source": [
        "### Preparing Data and Conducting Ragas Evaluation\n"
      ]
    },
    {
      "cell_type": "code",
      "execution_count": 123,
      "metadata": {},
      "outputs": [
        {
          "name": "stderr",
          "output_type": "stream",
          "text": [
            "Evaluating: 100%|██████████| 15/15 [00:51<00:00,  3.44s/it]\n"
          ]
        },
        {
          "name": "stdout",
          "output_type": "stream",
          "text": [
            "                                            question                answer  \\\n",
            "0  What is the name of the three-headed dog guard...                Fluffy   \n",
            "1        Who gave Harry Potter his first broomstick?  Professor McGonagall   \n",
            "2  Which house did the Sorting Hat initially cons...             Slytherin   \n",
            "\n",
            "                                            contexts          ground_truth  \\\n",
            "0  [I, n,  , C, h, a, p, t, e, r,  , S, i, x, t, ...                Fluffy   \n",
            "1  [I, n,  , C, h, a, p, t, e, r,  , E, i, g, h, ...  Professor McGonagall   \n",
            "2  [T, h, e,  , S, o, r, t, i, n, g,  , H, a, t, ...             Slytherin   \n",
            "\n",
            "   answer_correctness  faithfulness  answer_relevancy  context_recall  \\\n",
            "0                 1.0           1.0          1.000000             1.0   \n",
            "1                 1.0           1.0          0.946824             1.0   \n",
            "2                 1.0           0.0          0.889830             0.0   \n",
            "\n",
            "   answer_similarity  \n",
            "0                1.0  \n",
            "1                1.0  \n",
            "2                1.0  \n"
          ]
        }
      ],
      "source": [
        "# Prepare data for Ragas evaluation\n",
        "data_samples = {\n",
        "    'question': questions,  # Replace with your list of questions\n",
        "    'answer': generated_answers,  # Replace with your list of generated answers\n",
        "    'contexts': retrieved_documents,  # Your retrieved_documents list\n",
        "    'ground_truth': ground_truth_answers  # Replace with your list of ground truth answers\n",
        "}\n",
        "\n",
        "# Convert contexts to list of strings (if necessary)\n",
        "data_samples['contexts'] = [list(context) for context in data_samples['contexts']]\n",
        "\n",
        "dataset = Dataset.from_dict(data_samples)\n",
        "\n",
        "# Evaluate using Ragas with the specified metrics\n",
        "metrics = [\n",
        "    answer_correctness,\n",
        "    faithfulness,\n",
        "    answer_relevancy,\n",
        "    context_recall,\n",
        "    answer_similarity\n",
        "]\n",
        "llm = ChatOpenAI(temperature=0, model_name=\"gpt-4o\", max_tokens=4000)\n",
        "score = evaluate(dataset, metrics=metrics, llm=llm)\n",
        "\n",
        "# Print results and explanations\n",
        "results_df = score.to_pandas()\n",
        "print(results_df)"
      ]
    },
    {
      "cell_type": "markdown",
      "metadata": {},
      "source": [
        "### Analyzing Metric Results from Ragas Evaluation\n"
      ]
    },
    {
      "cell_type": "code",
      "execution_count": 124,
      "metadata": {},
      "outputs": [
        {
          "name": "stdout",
          "output_type": "stream",
          "text": [
            "\n",
            "**QUESTION**\n",
            "\n",
            "**ANSWER**\n",
            "\n",
            "**CONTEXTS**\n",
            "\n",
            "**GROUND_TRUTH**\n",
            "\n",
            "**ANSWER_CORRECTNESS**\n",
            "Measures whether the generated answer is factually correct.\n",
            "Score: 1.0000\n",
            "\n",
            "**FAITHFULNESS**\n",
            "Measures how well the generated answer is supported by the retrieved documents.\n",
            "Score: 1.0000\n",
            "\n",
            "**ANSWER_RELEVANCY**\n",
            "Measures how relevant the generated answer is to the question.\n",
            "Score: 1.0000\n",
            "\n",
            "**CONTEXT_RECALL**\n",
            "Measures the proportion of relevant documents that are successfully retrieved.\n",
            "Score: 1.0000\n",
            "\n",
            "**ANSWER_SIMILARITY**\n",
            "Measures the semantic similarity between the generated answer and the ground truth answer.\n",
            "Score: 1.0000\n"
          ]
        }
      ],
      "source": [
        "analyse_metric_results(results_df) # Analyse the results"
      ]
    }
  ],
  "metadata": {
    "colab": {
      "provenance": []
    },
    "kernelspec": {
      "display_name": "Python 3",
      "name": "python3"
    },
    "language_info": {
      "codemirror_mode": {
        "name": "ipython",
        "version": 3
      },
      "file_extension": ".py",
      "mimetype": "text/x-python",
      "name": "python",
      "nbconvert_exporter": "python",
      "pygments_lexer": "ipython3",
      "version": "3.12.0"
    }
  },
  "nbformat": 4,
  "nbformat_minor": 0
}
