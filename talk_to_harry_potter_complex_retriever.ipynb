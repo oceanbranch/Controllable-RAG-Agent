{
  "cells": [
    {
      "cell_type": "code",
      "execution_count": null,
      "metadata": {
        "colab": {
          "base_uri": "https://localhost:8080/"
        },
        "id": "TjDmS3Cn2jKm",
        "outputId": "569cfc27-0dbb-455a-85cb-3a75b57bbbf2"
      },
      "outputs": [],
      "source": [
        "!pip install langchain\n",
        "!pip install openai\n",
        "!pip install tiktoken\n",
        "!pip install faiss-gpu\n",
        "!pip install langchain_experimental\n",
        "!pip install \"langchain[docarray]\"\n",
        "!pip install pylcs\n",
        "!pip3 install pypdf"
      ]
    },
    {
      "cell_type": "code",
      "execution_count": 1,
      "metadata": {
        "id": "XIL5OCqJ7bh8"
      },
      "outputs": [
        {
          "name": "stderr",
          "output_type": "stream",
          "text": [
            "c:\\Users\\N7\\Anaconda3\\envs\\openai-env\\Lib\\site-packages\\tqdm\\auto.py:21: TqdmWarning: IProgress not found. Please update jupyter and ipywidgets. See https://ipywidgets.readthedocs.io/en/stable/user_install.html\n",
            "  from .autonotebook import tqdm as notebook_tqdm\n"
          ]
        }
      ],
      "source": [
        "from langchain.chat_models import ChatOpenAI\n",
        "from langchain.document_loaders import  PyPDFLoader\n",
        "from langchain.vectorstores import  FAISS\n",
        "from langchain.text_splitter import  RecursiveCharacterTextSplitter\n",
        "from langchain.embeddings import OpenAIEmbeddings  # Remove HuggingFaceInstructEmbeddings if not used\n",
        "from langchain.prompts import PromptTemplate\n",
        "from langchain.retrievers.multi_query import MultiQueryRetriever\n",
        "from langchain.chains import LLMChain\n",
        "from langchain.docstore.document import Document\n",
        "from langchain.chains.summarize import load_summarize_chain\n",
        "from time import monotonic\n",
        "\n",
        "\n",
        "import pylcs\n",
        "import textwrap\n",
        "import os\n",
        "import re\n",
        "import copy\n",
        "import tiktoken\n",
        "import ast\n",
        "import PyPDF2\n",
        "from datasets import Dataset\n",
        "from ragas import evaluate\n",
        "from ragas.metrics import (\n",
        "    answer_correctness,\n",
        "    faithfulness,\n",
        "    answer_relevancy,\n",
        "    context_recall,\n",
        "    answer_similarity\n",
        ")\n"
      ]
    },
    {
      "cell_type": "code",
      "execution_count": 2,
      "metadata": {
        "id": "c6QeKRm37HwC"
      },
      "outputs": [],
      "source": [
        "import locale\n",
        "def getpreferredencoding(do_setlocale = True):\n",
        "    return \"UTF-8\"\n",
        "locale.getpreferredencoding = getpreferredencoding"
      ]
    },
    {
      "cell_type": "code",
      "execution_count": 3,
      "metadata": {
        "colab": {
          "base_uri": "https://localhost:8080/"
        },
        "id": "xJ_QFM5S2nyK",
        "outputId": "93549ee6-0afb-41db-d67c-4355f946570c"
      },
      "outputs": [],
      "source": [
        "# Prompt the user for their OpenAI API key\n",
        "api_key = input(\"Please enter your OpenAI API key: \")"
      ]
    },
    {
      "cell_type": "code",
      "execution_count": 4,
      "metadata": {
        "colab": {
          "base_uri": "https://localhost:8080/"
        },
        "id": "7WsKZUN02pAI",
        "outputId": "11e3ae7a-e2ed-4224-c1e6-17f4316dd6f4"
      },
      "outputs": [
        {
          "name": "stdout",
          "output_type": "stream",
          "text": [
            "OPENAI_API_KEY has been set!\n"
          ]
        }
      ],
      "source": [
        "# Set the API key as an environment variable\n",
        "os.environ[\"OPENAI_API_KEY\"] = api_key\n",
        "# Optionally, check that the environment variable was set correctly\n",
        "print(\"OPENAI_API_KEY has been set!\")"
      ]
    },
    {
      "cell_type": "code",
      "execution_count": 5,
      "metadata": {
        "id": "8mUYHG_S6y22"
      },
      "outputs": [],
      "source": [
        "hp_pdf_path =\"Harry_Potter_Book_1_The_Sorcerers_Stone.pdf\""
      ]
    },
    {
      "cell_type": "code",
      "execution_count": 7,
      "metadata": {
        "id": "wmtLiio3TGaf"
      },
      "outputs": [],
      "source": [
        "def split_into_chapters(book_path):\n",
        "    with open(book_path, 'rb') as pdf_file:\n",
        "        pdf_reader = PyPDF2.PdfReader(pdf_file)\n",
        "        documents = pdf_reader.pages\n",
        "        text = \" \".join([doc.extract_text() for doc in documents])\n",
        "\n",
        "        # Adjust the pattern as needed based on the chapter titles' formatting\n",
        "        chapters = re.split(r'(CHAPTER\\s[A-Z]+(?:\\s[A-Z]+)*)', text)\n",
        "\n",
        "        # Create Document objects with only chapter metadata\n",
        "        chapter_docs = []\n",
        "        chapter_num = 1\n",
        "        for i in range(1, len(chapters), 2):\n",
        "            chapter_text = chapters[i] + chapters[i + 1]\n",
        "            doc = Document(page_content=chapter_text, metadata={\"chapter\": chapter_num})\n",
        "            chapter_docs.append(doc)\n",
        "            chapter_num += 1\n",
        "\n",
        "    return chapter_docs"
      ]
    },
    {
      "cell_type": "code",
      "execution_count": 8,
      "metadata": {
        "id": "cDHfDODdTIBY"
      },
      "outputs": [],
      "source": [
        "chapters = split_into_chapters(hp_pdf_path) # with additional metadata of chapter"
      ]
    },
    {
      "cell_type": "code",
      "execution_count": 9,
      "metadata": {
        "colab": {
          "base_uri": "https://localhost:8080/"
        },
        "id": "-ct-zRX5X1PU",
        "outputId": "d99c0936-a0de-461d-b3fb-c5b95d32abfb"
      },
      "outputs": [
        {
          "name": "stdout",
          "output_type": "stream",
          "text": [
            "17\n"
          ]
        }
      ],
      "source": [
        "print(len(chapters))"
      ]
    },
    {
      "cell_type": "code",
      "execution_count": 10,
      "metadata": {
        "id": "_XG4FgB6JYUc"
      },
      "outputs": [],
      "source": [
        "def replace_t_with_space(list_of_documents):\n",
        "    for doc in list_of_documents:\n",
        "        doc.page_content = doc.page_content.replace('\\t', ' ')\n",
        "    return list_of_documents"
      ]
    },
    {
      "cell_type": "code",
      "execution_count": 11,
      "metadata": {
        "id": "-FH0HH26WJOb"
      },
      "outputs": [],
      "source": [
        "chapters = replace_t_with_space(chapters)"
      ]
    },
    {
      "cell_type": "code",
      "execution_count": 12,
      "metadata": {
        "id": "49RqsAhDxjFg"
      },
      "outputs": [],
      "source": [
        "summarization_prompt_template = \"\"\"Write an extensive summary of about of the following:\n",
        "\n",
        "{text}\n",
        "\n",
        "SUMMARY:\"\"\"\n",
        "\n",
        "summarization_prompt = PromptTemplate(template=summarization_prompt_template, input_variables=[\"text\"])"
      ]
    },
    {
      "cell_type": "code",
      "execution_count": 13,
      "metadata": {
        "id": "47Trz9fSxuaF"
      },
      "outputs": [],
      "source": [
        "def num_tokens_from_string(string: str, encoding_name: str) -> int:\n",
        "    encoding = tiktoken.encoding_for_model(encoding_name)\n",
        "    num_tokens = len(encoding.encode(string))\n",
        "    return num_tokens"
      ]
    },
    {
      "cell_type": "code",
      "execution_count": 14,
      "metadata": {
        "id": "qkQm0tqX9kAL"
      },
      "outputs": [],
      "source": [
        "def replace_double_lines_with_one_line(text):\n",
        "  cleaned_text = re.sub(r'\\n\\n', '\\n', text)\n",
        "  return cleaned_text"
      ]
    },
    {
      "cell_type": "code",
      "execution_count": 15,
      "metadata": {
        "id": "ehe6iObnx4l9"
      },
      "outputs": [],
      "source": [
        "def create_chapter_summary(chapter):\n",
        "  chapter_txt = chapter.page_content\n",
        "  model_name = \"gpt-3.5-turbo-0125\"\n",
        "  llm = ChatOpenAI(temperature=0, model_name=model_name)\n",
        "\n",
        "  gpt_35_turbo_max_tokens = 16000\n",
        "  verbose = False\n",
        "\n",
        "  num_tokens = num_tokens_from_string(chapter_txt, model_name)\n",
        "\n",
        "  if num_tokens < gpt_35_turbo_max_tokens:\n",
        "    chain = load_summarize_chain(llm, chain_type=\"stuff\", prompt=summarization_prompt, verbose=verbose)\n",
        "  else:\n",
        "    chain = load_summarize_chain(llm, chain_type=\"map_reduce\", map_prompt=summarization_prompt, combine_prompt=summarization_prompt, verbose=verbose)\n",
        "\n",
        "  start_time = monotonic()\n",
        "  doc_chapter = Document(page_content=chapter_txt)\n",
        "  summary = chain.invoke([doc_chapter])\n",
        "\n",
        "\n",
        "  print(f\"Chain type: {chain.__class__.__name__}\")\n",
        "  print(f\"Run time: {monotonic() - start_time}\")\n",
        "  summary = replace_double_lines_with_one_line(summary[\"output_text\"])\n",
        "  doc_summary = Document(page_content=summary, metadata=chapter.metadata)\n",
        "  return doc_summary"
      ]
    },
    {
      "cell_type": "code",
      "execution_count": 18,
      "metadata": {
        "colab": {
          "base_uri": "https://localhost:8080/"
        },
        "id": "l4UBurLsMCHj",
        "outputId": "668932cf-02d8-446d-e0ed-3f85b30d3bba"
      },
      "outputs": [
        {
          "name": "stdout",
          "output_type": "stream",
          "text": [
            "Chain type: StuffDocumentsChain\n",
            "Run time: 5.765999999945052\n",
            "Chain type: StuffDocumentsChain\n",
            "Run time: 5.077999999979511\n",
            "Chain type: StuffDocumentsChain\n",
            "Run time: 9.577999999979511\n",
            "Chain type: StuffDocumentsChain\n",
            "Run time: 5.10999999998603\n",
            "Chain type: StuffDocumentsChain\n",
            "Run time: 5.60999999998603\n",
            "Chain type: StuffDocumentsChain\n",
            "Run time: 5.968999999924563\n",
            "Chain type: StuffDocumentsChain\n",
            "Run time: 5.75\n",
            "Chain type: StuffDocumentsChain\n",
            "Run time: 7.765999999945052\n",
            "Chain type: StuffDocumentsChain\n",
            "Run time: 5.125\n",
            "Chain type: StuffDocumentsChain\n",
            "Run time: 7.109000000054948\n",
            "Chain type: StuffDocumentsChain\n",
            "Run time: 7.468999999924563\n",
            "Chain type: StuffDocumentsChain\n",
            "Run time: 6.655999999959022\n",
            "Chain type: StuffDocumentsChain\n",
            "Run time: 7.547000000020489\n",
            "Chain type: StuffDocumentsChain\n",
            "Run time: 8.780999999959022\n",
            "Chain type: StuffDocumentsChain\n",
            "Run time: 6.420999999972992\n",
            "Chain type: StuffDocumentsChain\n",
            "Run time: 7.26500000001397\n",
            "Chain type: StuffDocumentsChain\n",
            "Run time: 5.422000000020489\n"
          ]
        }
      ],
      "source": [
        "chapter_summaries = []\n",
        "for chapter in chapters:\n",
        "    chapter_summaries.append(create_chapter_summary(chapter))"
      ]
    },
    {
      "cell_type": "code",
      "execution_count": 19,
      "metadata": {
        "id": "9t1Kq6fGS0EA"
      },
      "outputs": [],
      "source": [
        "def encode_book(path,chunk_size=1000,chunk_overlap=200):\n",
        "    loader = PyPDFLoader(path)\n",
        "    documents = loader.load()\n",
        "    text_splitter = RecursiveCharacterTextSplitter(chunk_size=chunk_size, chunk_overlap=chunk_overlap, length_function=len)\n",
        "    texts = text_splitter.split_documents(documents)\n",
        "    cleaned_texts = copy.deepcopy(texts)\n",
        "    for text in cleaned_texts:\n",
        "        text.page_content = text.page_content.replace('\\t', ' ')  # Replace tab characters with spaces\n",
        "    embeddings = OpenAIEmbeddings()\n",
        "    vectorstore = FAISS.from_documents(cleaned_texts, embeddings)\n",
        "    return vectorstore"
      ]
    },
    {
      "cell_type": "code",
      "execution_count": 20,
      "metadata": {
        "id": "FHt9Y12gMp2z"
      },
      "outputs": [],
      "source": [
        "def encode_chapter_summaries(chapter_summaries):\n",
        "  embeddings = OpenAIEmbeddings()\n",
        "  chapter_summaries_vectorstore = FAISS.from_documents(chapter_summaries, embeddings)\n",
        "  return chapter_summaries_vectorstore"
      ]
    },
    {
      "cell_type": "code",
      "execution_count": 21,
      "metadata": {
        "id": "TpVkNzd1hs8v"
      },
      "outputs": [],
      "source": [
        "modifier_prompt_template = \"\"\"\n",
        "You are an expert on analyzing and understanding books based solely on their textual content. You have no prior knowledge about the specific book in the question.\n",
        "If you ever read the related book before, FORGET ANYTHING about it.\n",
        "You have access to two vector stores:\n",
        "\n",
        "• One containing all the book content divided into chunks of 1000 characters with 200 character overlap.\n",
        "• Another containing summaries of each chapter, approximately 250 tokens each.\n",
        "\n",
        "Given a user's question about the book, your task is to generate a list of no more than 3 sub-questions that can be used as queries to retrieve relevant information from the vector stores based on semantic similarity. These sub-questions should be designed to collectively cover all the information needed to answer the original question comprehensively, without relying on any prior knowledge of the book's plot, characters, or events.\n",
        "\n",
        "When generating the sub-questions, consider the following:\n",
        "\n",
        "\n",
        "1.No Pre-knowledge: you're unaware of the book's details like plot or characters. The sub-questions must not present any prior knowledge of the book.\n",
        "2.Directly Derived: Create sub-questions strictly from the user's question, aiming to retrieve book information without presupposing specific plot details or events.\n",
        "3.Break Down: Decompose the user's question into finer, detailed sub-questions using only the textual content provided.\n",
        "4.Key Concepts: Identify essential information needed from the original question and form targeted sub-questions to gather this data.\n",
        "5.Self-contained Queries: Each sub-question should stand alone for effective vector store querying through semantic similarity.\n",
        "6.Logical Sequence: Arrange sub-questions in a logical order that collectively provides a thorough answer.\n",
        "7.Efficiency: Ensure sub-questions are unique and focused to avoid redundant searches and streamline information retrieval.\n",
        "\n",
        "Output your response as a Python list, where each item is a self-contained sub-question that can be used as a standalone query for vector retrieval.\n",
        "\n",
        "User's question: {question}\n",
        "\"\"\"\n",
        "modifier_prompt = PromptTemplate(\n",
        "input_variables=[\"question\"],\n",
        "template=modifier_prompt_template,\n",
        ")\n",
        "\n",
        "llm = ChatOpenAI(temperature=0, model_name=\"gpt-4-1106-preview\", max_tokens=4000)\n",
        "\n",
        "question_modifier_llm_chain = LLMChain(llm=llm, prompt=modifier_prompt)"
      ]
    },
    {
      "cell_type": "code",
      "execution_count": 22,
      "metadata": {
        "id": "uwSLdGdb1FiO"
      },
      "outputs": [],
      "source": [
        "def modify_question(question):\n",
        "    result = question_modifier_llm_chain.invoke(input=question)\n",
        "    modified_questions_str = result['text']\n",
        "    print(\"Original Output:\", modified_questions_str)\n",
        "\n",
        "    # Remove the Markdown code block syntax and the variable assignment part\n",
        "    clean_str = modified_questions_str.replace(\"```python\", \"\").replace(\"```\", \"\").strip()\n",
        "    clean_str = clean_str.replace(\"sub_questions = \", \"\").strip()\n",
        "\n",
        "    # Dedent the string to remove unexpected indents\n",
        "    clean_str = textwrap.dedent(clean_str)\n",
        "\n",
        "    try:\n",
        "        modified_questions = ast.literal_eval(clean_str)\n",
        "    except SyntaxError as e:\n",
        "        print(f\"Syntax error during ast.literal_eval: {e}\")\n",
        "        modified_questions = []  # Default to an empty list in case of error\n",
        "\n",
        "    return modified_questions"
      ]
    },
    {
      "cell_type": "code",
      "execution_count": 23,
      "metadata": {
        "id": "tXfrK0m5DUq8"
      },
      "outputs": [
        {
          "name": "stdout",
          "output_type": "stream",
          "text": [
            "Original Output: ```python\n",
            "[\n",
            "    \"What methods or strategies does Harry use to confront adversaries?\",\n",
            "    \"What are the specific events leading to the defeat of Quirrell?\",\n",
            "    \"What unique abilities or tools does Harry possess that aid in overcoming challenges?\"\n",
            "]\n",
            "```\n"
          ]
        }
      ],
      "source": [
        "question = \"how did harry beat quirrell?\"\n",
        "modified_question = modify_question(question)"
      ]
    },
    {
      "cell_type": "code",
      "execution_count": 23,
      "metadata": {
        "id": "CEFLePy-0YS3"
      },
      "outputs": [],
      "source": [
        "def create_context_per_question(question, multi_query_retriever, multi_query_retriever_chapter_summaries):\n",
        "    # Retrieve relevant documents based on the question\n",
        "    docs = multi_query_retriever.get_relevant_documents(question)\n",
        "    docs_summaries = multi_query_retriever_chapter_summaries.get_relevant_documents(question)\n",
        "\n",
        "    # Concatenate the relevant content with citation information\n",
        "    context = \" \".join(doc.page_content for doc in docs)\n",
        "\n",
        "    # context = \" \".join(f\"{doc.page_content} (Chapter {doc.metadata['chapter']}, Page {doc.metadata['page']})\" for doc in docs)\n",
        "    context_summaries = \"\".join(f\"{doc.page_content} (Chapter {doc.metadata['chapter']})\" for doc in docs_summaries)\n",
        "\n",
        "    return context, context_summaries"
      ]
    },
    {
      "cell_type": "code",
      "execution_count": 24,
      "metadata": {
        "id": "sXFPHxmSC6W4"
      },
      "outputs": [],
      "source": [
        "def is_similarity_ratio_lower_than_th(large_string, short_string, th):\n",
        "  lcs = pylcs.lcs_sequence_length(large_string,short_string)\n",
        "  if lcs / len(short_string) < th:\n",
        "    return True\n",
        "  return False"
      ]
    },
    {
      "cell_type": "code",
      "execution_count": 25,
      "metadata": {
        "id": "sjk7u5ME7ZzX"
      },
      "outputs": [],
      "source": [
        "def answer_question_pipline(question,retriever,chapter_summaries_retriever, answer_from_context_llm_chain, multi_query_retriver_llm):\n",
        "        multi_query_retriever = MultiQueryRetriever.from_llm(retriever=retriever, llm=multi_query_retriver_llm)\n",
        "        multi_query_retriever_chapter_summaries = MultiQueryRetriever.from_llm(retriever=chapter_summaries_retriever, llm=multi_query_retriver_llm)\n",
        "\n",
        "        modified_questions = modify_question(question)\n",
        "        all_context_book = \"\"\n",
        "        all_context_summaries = \"\"\n",
        "        similarity_th = 0.5\n",
        "\n",
        "\n",
        "        for modified_question in modified_questions:\n",
        "            curr_question_relevant_context, curr_question_relevant_summaries_context = create_context_per_question(modified_question, multi_query_retriever, multi_query_retriever_chapter_summaries)\n",
        "\n",
        "            if is_similarity_ratio_lower_than_th(all_context_book, curr_question_relevant_context, similarity_th):\n",
        "                all_context_book += curr_question_relevant_context\n",
        "            if is_similarity_ratio_lower_than_th(all_context_summaries, curr_question_relevant_summaries_context, similarity_th):\n",
        "                all_context_summaries += curr_question_relevant_summaries_context\n",
        "\n",
        "        all_context = all_context_book + all_context_summaries\n",
        "\n",
        "        input_data = {\n",
        "        \"context\": all_context,  # Your context string\n",
        "        \"question\": question  # Your question string\n",
        "        }\n",
        "\n",
        "        # Execute the chain and get the response\n",
        "        result = answer_from_context_llm_chain.invoke(input=input_data)\n",
        "        return result, all_context_book, all_context_summaries\n"
      ]
    },
    {
      "cell_type": "code",
      "execution_count": 102,
      "metadata": {
        "id": "lV7UvEofS1nv"
      },
      "outputs": [],
      "source": [
        "def chat_with_data(retriever,chapter_summaries_retriever, answer_from_context_llm_chain, multi_query_retriver_llm):\n",
        "    print(\"You can start chatting with me about Harry Potter. Type 'exit' to stop.\")\n",
        "    while True:\n",
        "        # Prompt the user for a question\n",
        "        question = input(\"What's your question? \\n\")\n",
        "\n",
        "        # Check if the user wants to exit\n",
        "        if question.lower() == 'exit':\n",
        "            print(\"Exiting chat. Goodbye!\")\n",
        "            break\n",
        "\n",
        "        # Execute the chain and get the response\n",
        "        result, _, _ = answer_question_pipline(question,retriever,chapter_summaries_retriever, answer_from_context_llm_chain, multi_query_retriver_llm)\n",
        "\n",
        "        # Print the response\n",
        "\n",
        "        print(\"Answer:\")\n",
        "        wrapped_result = textwrap.fill(result['text'], width=120)\n",
        "        print(wrapped_result)\n",
        "        print(\"-\" * 80)  # Print a separator line for readability"
      ]
    },
    {
      "cell_type": "code",
      "execution_count": 26,
      "metadata": {
        "id": "4bWP7iLNS6Ey"
      },
      "outputs": [
        {
          "name": "stderr",
          "output_type": "stream",
          "text": [
            "c:\\Users\\N7\\Anaconda3\\envs\\openai-env\\Lib\\site-packages\\langchain_core\\_api\\deprecation.py:117: LangChainDeprecationWarning: The class `langchain_community.embeddings.openai.OpenAIEmbeddings` was deprecated in langchain-community 0.0.9 and will be removed in 0.2.0. An updated version of the class exists in the langchain-openai package and should be used instead. To use it run `pip install -U langchain-openai` and import as `from langchain_openai import OpenAIEmbeddings`.\n",
            "  warn_deprecated(\n"
          ]
        }
      ],
      "source": [
        "vector_store = encode_book(hp_pdf_path,chunk_size=1000,chunk_overlap=200)"
      ]
    },
    {
      "cell_type": "code",
      "execution_count": 27,
      "metadata": {
        "id": "qmk3ZDtiPxzQ"
      },
      "outputs": [],
      "source": [
        "chapter_summaries_vector_store = encode_chapter_summaries(chapter_summaries)"
      ]
    },
    {
      "cell_type": "code",
      "execution_count": 28,
      "metadata": {
        "id": "vtEVVzHCP4uz"
      },
      "outputs": [],
      "source": [
        "retriever=vector_store.as_retriever(search_kwargs={\"k\": 4})"
      ]
    },
    {
      "cell_type": "code",
      "execution_count": 29,
      "metadata": {
        "id": "_iD1Zz1uP8Zn"
      },
      "outputs": [],
      "source": [
        "chapter_summaries_retriever = chapter_summaries_vector_store.as_retriever(search_kwargs={\"k\": 4})"
      ]
    },
    {
      "cell_type": "code",
      "execution_count": 30,
      "metadata": {
        "id": "SV6v5-ajP_i-"
      },
      "outputs": [],
      "source": [
        "agent_answer_prompt_template = \"\"\"\n",
        "Based solely on the information provided in this context, and without using any information outside of this context, please answer the following question as concisely and as shortly as possible. You can rephrase the question for better fitting to the context.\n",
        "\n",
        "Context:{context}\n",
        "Question:{question}\n",
        "\n",
        "**If the answer cannot be derived from the context, or if it requires knowledge from outside sources, simply answer: \"I don't know\".**\n",
        "\n",
        "Please cite specific parts of the context in your answer to demonstrate how it supports your response.\n",
        "If the chapter number of the relevant context appears, specify it in your answer.\n",
        "\"\"\"\n",
        "agent_answer_prompt = PromptTemplate(\n",
        "input_variables=[\"context\", \"question\"],\n",
        "template=agent_answer_prompt_template,\n",
        ")\n",
        "\n",
        "multi_query_retriver_llm = ChatOpenAI(temperature=0, model_name=\"gpt-4-1106-preview\", max_tokens=4000)\n",
        "\n",
        "answer_from_context_llm_chain = LLMChain(llm=llm, prompt=agent_answer_prompt)"
      ]
    },
    {
      "cell_type": "code",
      "execution_count": 79,
      "metadata": {
        "id": "3YlJOyrULV5c"
      },
      "outputs": [],
      "source": [
        "question = 'how did harry beat quirrell?'"
      ]
    },
    {
      "cell_type": "code",
      "execution_count": 103,
      "metadata": {
        "id": "Fgs-qE6mLVBb"
      },
      "outputs": [
        {
          "name": "stdout",
          "output_type": "stream",
          "text": [
            "Original Output: ```python\n",
            "[\n",
            "    \"Which character in the book has an owl as a pet?\",\n",
            "    \"What are the names of the pets mentioned in the story?\",\n",
            "    \"How is Harry's pet owl referred to or addressed in the text?\"\n",
            "]\n",
            "```\n"
          ]
        }
      ],
      "source": [
        "result, all_context_book, all_context_summaries = answer_question_pipline(question,retriever,chapter_summaries_retriever, answer_from_context_llm_chain, multi_query_retriver_llm)"
      ]
    },
    {
      "cell_type": "code",
      "execution_count": 98,
      "metadata": {},
      "outputs": [
        {
          "data": {
            "text/plain": [
              "'without further clues.\\n      Neither Neville nor Hermione showed the slightest interest in what lay\\nunderneath the dog and the trapdoor. All Neville cared about was never going\\nnear the dog again.\\n      Hermione was now refusing to speak to Harry and Ron, but she was such\\na bossy know-it-all that they saw this as an added bonus. All they really wanted\\nnow was a way of getting back at Malfoy, and to their great delight, just such a\\nthing arrived in the mail about a week later.\\n      As the owls flooded into the Great Hall as usual, everyone’s attention\\nwas caught at once by a long, thin package carried by six large screech owls.\\nHarry was just as interested as everyone else to see what was in this large parcel,\\nand was amazed when the owls soared down and dropped it right in front of him,\\nknocking his bacon to the floor. They had hardly fluttered out of the way when\\nanother owl dropped a letter on top of the parcel. toads went outta fashion years ago, yeh’d be laughed at — an’ I don’ like cats,\\nthey make me sneeze. I’ll get yer an owl. All the kids want owls, they’re dead\\nuseful, carry yer mail an’ everythin’.”\\n      Twenty minutes later, they left Eeylops Owl Emporium, which had been\\ndark and full of rustling and flickering, jewel-bright eyes. Harry now carried a\\nlarge cage that held a beautiful snowy owl, fast asleep with her head under her\\nwing. He couldn’t stop stammering his thanks, sounding just like Professor\\nQuirrell.\\n      “Don’ mention it,” said Hagrid gruffly. “Don’ expect you’ve had a lotta\\npresents from them Dursleys. Just Ollivanders left now — only place fer wands,\\nOllivanders, and yeh gotta have the best wand.”\\n      A magic wand…this was what Harry had been really looking forward to.\\n      The last shop was narrow and shabby. Peeling gold letters over the door\\nread Ollivanders: Makers of Fine Wands since 382 B.C. A single wand lay on a\\nfaded purple cushion in the dusty window. knocking his bacon to the floor. They had hardly fluttered out of the way when\\nanother owl dropped a letter on top of the parcel.\\n      Harry ripped open the letter first, which was lucky, because it said:\\n \\nDO NOT OPEN THE PARCEL AT THE TABLE.\\n            It contains your new Nimbus Two Thousand, but I don’t want\\neverybody knowing you’ve got a broomstick or they’ll all want one. Oliver\\nWood will meet you tonight on the Quidditch field at seven o’clock for your first\\ntraining session. beak.\\n      Harry scrambled to his feet, so happy he felt as though a large balloon\\nwas swelling inside him. He went straight to the window and jerked it open. The\\nowl swooped in and dropped the newspaper on top of Hagrid, who didn’t wake\\nup. The owl then fluttered onto the floor and began to attack Hagrid’s coat.\\n      “Don’t do that.”\\n      Harry tried to wave the owl out of the way, but it snapped its beak\\nfiercely at him and carried on savaging the coat.\\n      “Hagrid!” said Harry loudly. “There’s an owl —”\\n      “Pay him,” Hagrid grunted into the sofa.\\n      “What?”\\n      “He wants payin’ fer deliverin’ the paper. Look in the pockets.”\\n      Hagrid’s coat seemed to be made of nothing but pockets — bunches of\\nkeys, slug pellets, balls of string, peppermint humbugs, teabags...finally, Harry\\npulled out a handful of strange-looking coins.\\n      “Give him five Knuts,” said Hagrid sleepily.\\n      “Knuts?”\\n      “The little bronze ones.” a rather severe-looking woman who was wearing square glasses exactly the\\nshape of the markings the cat had had around its eyes. She, too, was wearing a\\ncloak, an emerald one. Her black hair was drawn into a tight bun. She looked\\ndistinctly ruffled.\\n      “How did you know it was me?” she asked.\\n      “My dear Professor, I’ve never seen a cat sit so stiffly.”\\n      “You’d be stiff if you’d been sitting on a brick wall all day,” said\\nProfessor McGonagall.\\n      “All day? When you could have been celebrating? I must have passed a\\ndozen feasts and parties on my way here.”\\n      Professor McGonagall sniffed angrily.\\n      “Oh yes, I’ve celebrating, all right,” she said impatiently. “You’d think\\nthey’d be a bit more careful, but no —even the Muggles have noticed\\nsomething’s going on. It was on their news.” She jerked her head back at the\\nDursleys’ dark living-room window. “I heard it. Flocks of owls…shooting\\nstars…Well, they’re not completely stupid. They were bound to notice “No — Charlie — your brother, Charlie. In Romania. Studying dragons.\\nWe could send Norbert to him. Charlie can take care of him and then put him\\nback in the wild!”\\n      “Brilliant!” said Ron. “How about it, Hagrid?”\\n      And in the end, Hagrid agreed that they could send an owl to Charlie to\\nask him.\\n \\nThe following week dragged by. Wednesday night found Hermione and\\nHarry sitting alone in the common room, long after everyone else had gone to\\nbed. The clock on the wall had just chimed midnight when the portrait hole burst\\nopen. Ron appeared out of nowhere as he pulled off Harry’s invisibility cloak.\\nHe had been down at Hagrid’s hut, helping him feed Norbert, who was now\\neating dead rats by the crate.\\n      “It bit me!” he said, showing them his hand, which was wrapped in a\\nbloody handkerchief. “I’m not going to be able to hold a quill for a week. I tell\\nyou, that dragon’s the most horrible animal I’ve ever met, but the way Hagrid pocket inside his overcoat he pulled an owl — a real, live, rather ruffled-looking\\nowl — a long quill, and a roll of parchment. With his tongue between his teeth\\nhe scribbled a note that Harry could read upside down:\\n \\nDear Professor Dumbledore,\\nGiven Harry his letter.\\nTaking him to buy his things tomorrow.\\nWeather’s horrible. Hope you’re well.\\nHagrid\\n \\nHagrid rolled up the note, gave it to the owl, which clamped it in its beak,\\nwent to the door, and threw the owl out into the storm. Then he came back and\\nsat down as though this was as normal as talking on the telephone.\\n      Harry realized his mouth was open and closed it quickly.\\n      “Where was I?” said Hagrid, but at that moment, Uncle Vernon, still\\nashen-faced but looking very angry, moved into the firelight.\\n      “He’s not going,” he said.\\n      Hagrid grunted.\\n      “I’d like ter see a great Muggle like you stop him,” he said.\\n      “A what?” said Harry, interested.what he and Petunia thought about them and their kind....He couldn’t see how he\\nand Petunia could get mixed up in anything that might be going on — he\\nyawned and turned over — it couldn’t affect them.…\\n      How very wrong he was.\\n      Mr. Dursley might have been drifting into an uneasy sleep, but the cat on\\nthe wall outside was showing no sign of sleepiness. It was sitting as still as a\\nstatue, its eyes fixed unblinkingly on the far corner of Privet Drive. It didn’t so\\nmuch as quiver when a car door slammed on the next street, nor when two owls\\nswooped overhead. In fact, it was nearly midnight before the cat moved at all.\\n      A man appeared on the corner the cat had been watching, appeared so\\nsuddenly and silently you’d have thought he’d just popped out of the ground.\\nThe cat’s tail twitched and its eyes narrowed.\\n      Nothing like this man had ever been seen on Privet Drive. He was tall,\\nthin, and very old, judging by the silver of his hair and beard, which were both Students may also bring an owl OR a cat OR a toad\\n \\nPARENTS ARE REMINDED THAT FIRST YEARS ARE NOT\\nALLOWED THEIR OWN BROOMSTICKS\\n \\n“Can we buy all this in London?” Harry wondered aloud.\\n      “If yeh know where to go,” said Hagrid.\\n \\nHarry had never been to London before. Although Hagrid seemed to know\\nwhere he was going, he was obviously not used to getting there in an ordinary\\nway. He got stuck in the ticket barrier on the Underground, and complained\\nloudly that the seats were too small and the trains too slow.\\n      “I don’t know how the Muggles manage without magic,” he said as they\\nclimbed a broken-down escalator that led up to a bustling road lined with shops.\\n      Hagrid was so huge that he parted the crowd easily; all Harry had to do\\nwas keep close behind him. They passed book shops and music stores,\\nhamburger restaurants and cinemas, but nowhere that looked as if it could sell\\nyou a magic wand. This was just an ordinary street full of ordinary people. The zoo director himself made Aunt Petunia a cup of strong, sweet tea\\nwhile he apologized over and over again. Piers and Dudley could only gibber. As\\nfar as Harry had seen, the snake hadn’t done anything except snap playfully at\\ntheir heels as it passed, but by the time they were all back in Uncle Vernon’s car,\\nDudley was telling them how it had nearly bitten off his leg, while Piers was\\nswearing it had tried to squeeze him to death. But worst of all, for Harry at least,\\nwas Piers calming down enough to say, “Harry was talking to it, weren’t you,\\nHarry?”\\n      Uncle Vernon waited until Piers was safely out of the house before\\nstarting on Harry. He was so angry he could hardly speak. He managed to say,\\n“Go — cupboard — stay — no meals,” before he collapsed into a chair, and without further clues.\\n      Neither Neville nor Hermione showed the slightest interest in what lay\\nunderneath the dog and the trapdoor. All Neville cared about was never going\\nnear the dog again.\\n      Hermione was now refusing to speak to Harry and Ron, but she was such\\na bossy know-it-all that they saw this as an added bonus. All they really wanted\\nnow was a way of getting back at Malfoy, and to their great delight, just such a\\nthing arrived in the mail about a week later.\\n      As the owls flooded into the Great Hall as usual, everyone’s attention\\nwas caught at once by a long, thin package carried by six large screech owls.\\nHarry was just as interested as everyone else to see what was in this large parcel,\\nand was amazed when the owls soared down and dropped it right in front of him,\\nknocking his bacon to the floor. They had hardly fluttered out of the way when\\nanother owl dropped a letter on top of the parcel. CHAPTER TEN\\n \\nHALLOWEEN\\n \\nM \\nalfoy couldn’t believe his eyes when he saw that Harry and Ron were still\\nat Hogwarts the next day, looking tired but perfectly cheerful. Indeed, by the\\nnext morning Harry and Ron thought that meeting the three-headed dog had\\nbeen an excellent adventure, and they were quite keen to have another one. In\\nthe meantime, Harry filled Ron in about the package that seemed to have been\\nmoved from Gringotts to Hogwarts, and they spent a lot of time wondering what\\ncould possibly need such heavy protection.\\n      “It’s either really valuable or really dangerous,” said Ron.\\n      “Or both,” said Harry.\\n      But as all they knew for sure about the mysterious object was that it was\\nabout two inches long, they didn’t have much chance of guessing what it was\\nwithout further clues.\\n      Neither Neville nor Hermione showed the slightest interest in what lay\\nunderneath the dog and the trapdoor. All Neville cared about was never going\\nnear the dog again. rescued by Professor Quirrell, who was passing.\\n      Filch owned a cat called Mrs. Norris, a scrawny, dust-colored creature\\nwith bulging, lamp like eyes just like Filch’s. She patrolled the corridors alone.\\nBreak a rule in front of her, put just one toe out of line, and she’d whisk off for\\nFilch, who’d appear, wheezing, two seconds later. Filch knew the secret\\npassageways of the school better than anyone (except perhaps the Weasley\\ntwins) and could pop up as suddenly as any of the ghosts. The students all hated\\nhim, and it was the dearest ambition of many to give Mrs. Norris a good kick.\\n      And then, once you had managed to find them, there were the classes\\nthemselves. There was a lot more to magic, as Harry quickly found out, than\\nwaving your wand and saying a few funny words.\\n      They had to study the night skies through their telescopes every\\nWednesday at midnight and learn the names of different stars and the movements “P-P-Petunia!” he gasped.\\n      Dudley tried to grab the letter to read it, but Uncle Vernon held it high\\nout of his reach. Aunt Petunia took it curiously and read the first line. For a\\nmoment it looked as though she might faint. She clutched her throat and made a\\nchoking noise.\\n      “Vernon! Oh my goodness — Vernon!”\\n      They stared at each other, seeming to have forgotten that Harry and\\nDudley were still in the room. Dudley wasn’t used to being ignored. He gave his\\nfather a sharp tap on the head with his Smelting stick. only the owls that have been acting oddly today. Viewers as far apart as Kent,\\nYorkshire, and Dundee have been phoning in to tell me that instead of the rain I\\npromised yesterday, they’ve had a downpour of shooting stars! Perhaps people\\nhave been celebrating Bonfire Night early — it’s not until next week, folks! But\\nI can promise a wet night tonight.”\\n      Mr. Dursley sat frozen in his armchair. Shooting stars all over Britain?\\nOwls flying by daylight? Mysterious people in cloaks all over the place? And a\\nwhisper, a whisper about the Potters.…\\n      Mrs. Dursley came into the living room carrying two cups of tea. It was\\nno good. He’d have to say something to her. He cleared his throat nervously. “Er\\n— Petunia, dear — you haven’t heard from your sister lately, have you?”\\n      As he had expected, Mrs. Dursley looked shocked and angry. After all,\\nthey normally pretended she didn’t have a sister.\\n      “No,” she said sharply. “Why?”In Chapter Ten of Harry Potter and the Sorcerer\\'s Stone, titled \"Halloween,\" Harry and Ron are still at Hogwarts the day after their encounter with the three-headed dog. They are excited about the adventure and curious about the mysterious package that was moved from Gringotts to Hogwarts. The package turns out to be a Nimbus Two Thousand broomstick, a gift from Professor McGonagall for Harry. Malfoy tries to taunt Harry about the broomstick, but Professor Flitwick intervenes and congratulates Harry on his new broomstick.\\nHarry has his first Quidditch training session with Oliver Wood, the Quidditch captain. Wood explains the rules of Quidditch to Harry and shows him the different balls used in the game. Harry impresses Wood with his flying skills and catches all the practice balls thrown at him.\\nAs the weeks go by, Harry becomes more settled at Hogwarts and feels like the castle is more like home than Privet Drive. On Halloween morning, Professor Flitwick teaches the students how to make objects fly in Charms class. Harry partners with Seamus Finnigan, while Ron partners with Hermione, who is still not speaking to them. Hermione excels in the lesson, causing Ron to become even more frustrated with her.\\nDuring the Halloween feast, Professor Quirrell interrupts the festivities to announce that there is a troll in the dungeons. Percy leads the students back to their dormitories, but Harry and Ron realize that Hermione doesn\\'t know about the troll. They rush to warn her and find her in the girls\\' bathroom, cornered by the troll. Harry and Ron manage to save Hermione by distracting the troll and knocking it out.\\nProfessor McGonagall praises Harry and Ron for their bravery, and Hermione takes the blame for being in the bathroom alone. She lies to protect Harry and Ron, earning Gryffindor house points and solidifying their friendship. From that moment on, Hermione becomes a part of their trio, and they bond over their shared experience of facing a mountain troll together. (Chapter 10)In Chapter Fourteen of Harry Potter and the Sorcerer\\'s Stone, titled \"Norbert the Norwegian Ridgeback,\" the trio of Harry, Ron, and Hermione continue to keep an eye on the third-floor corridor where Fluffy, the three-headed dog, is guarding the Sorcerer\\'s Stone. Quirrell, who is trying to steal the Stone, appears to be getting weaker but has not given up yet. Meanwhile, Hermione is focused on studying for their upcoming exams, much to the annoyance of Harry and Ron.\\nHagrid, the gamekeeper, is discovered to be hiding a dragon egg in his hut, which eventually hatches into a baby dragon named Norbert. Hagrid is thrilled with his new pet, but Harry, Ron, and Hermione are concerned about the consequences of keeping an illegal dragon. They come up with a plan to send Norbert to Charlie Weasley in Romania, who works with dragons.\\nAs the trio prepares to send Norbert away, they face obstacles such as Ron getting bitten by the dragon and the risk of Malfoy discovering their plan. Despite these challenges, they successfully send Norbert off with Charlie\\'s friends and return to the castle. However, they realize they have left the invisibility cloak on top of the tower, leading to a confrontation with Filch.\\nOverall, this chapter highlights the trio\\'s efforts to protect the Sorcerer\\'s Stone and deal with the consequences of Hagrid\\'s decision to keep a dragon. It also showcases their resourcefulness and determination to solve problems, even in the face of danger. (Chapter 14)In Chapter Eleven of Harry Potter and the Sorcerer\\'s Stone, the Quidditch season has begun at Hogwarts School of Witchcraft and Wizardry. Harry is playing as the Seeker for Gryffindor in his first match against Slytherin. The team is hoping for a win to move up in the house championship standings. Harry has been practicing hard, with the help of his friends Ron and Hermione, who have been supporting him and helping him with his homework.\\nAs the match approaches, Harry faces nerves and pressure, especially as his role as Seeker has been leaked to the school. Despite the distractions, Harry is determined to do his best. However, during the match, Harry\\'s broom suddenly starts behaving erratically, almost throwing him off. It becomes clear that someone is jinxing the broom, and Hermione suspects it is Professor Snape.\\nIn a tense moment, Hermione uses a spell to set Snape\\'s robes on fire, distracting him and allowing Harry to regain control of his broom. Harry manages to catch the Golden Snitch, winning the match for Gryffindor. After the match, Harry, Ron, and Hermione confront Hagrid about Snape\\'s suspicious behavior and his possible involvement in trying to steal something guarded by a three-headed dog named Fluffy.\\nHagrid is defensive and dismisses their concerns, insisting that Snape would never harm a student. He also reveals that the object Fluffy is guarding is connected to someone named Nicolas Flamel. Despite Hagrid\\'s warnings, Harry, Ron, and Hermione are determined to uncover the truth behind Snape\\'s actions and the mystery surrounding Fluffy and Nicolas Flamel. The chapter ends with the trio determined to investigate further, despite the dangers involved. (Chapter 11)In Chapter Five of Harry Potter and the Sorcerer\\'s Stone, titled \"Diagon Alley,\" Harry wakes up to find that his encounter with Hagrid and the news of his magical abilities was not a dream. Hagrid is asleep in the hut, and an owl delivers a newspaper to Harry. Hagrid instructs Harry to pay the owl with wizard coins called Knuts. Hagrid then takes Harry to Diagon Alley, a hidden street in London where wizards and witches shop for magical supplies.\\nIn Diagon Alley, Harry and Hagrid visit various shops to purchase items for Harry\\'s first year at Hogwarts School of Witchcraft and Wizardry. They visit Gringotts, the wizarding bank run by goblins, where Harry retrieves his inheritance left by his parents. They also visit shops like Flourish and Blotts for school books, the Apothecary for potion ingredients, and Ollivanders for Harry\\'s wand.\\nAt Ollivanders, Harry tries out several wands before finding the perfect match - a wand made of holly and phoenix feather. Mr. Ollivander, the wandmaker, reveals that the phoenix feather in Harry\\'s wand comes from the same phoenix that gave a feather for Voldemort\\'s wand, the wand that gave Harry his lightning scar.\\nAfter their shopping trip, Hagrid and Harry share a meal before Harry boards the train back to the Dursleys. Hagrid gives Harry his ticket for Hogwarts and assures him that he will have a great time at the school. The chapter ends with Harry watching Hagrid disappear from view as the train pulls away.\\nOverall, Chapter Five introduces Harry to the magical world of Diagon Alley, where he acquires his school supplies and his wand, setting the stage for his journey to Hogwarts and his adventures as a wizard. The chapter also highlights Harry\\'s feelings of uncertainty and excitement as he navigates his newfound fame and abilities. (Chapter 5)In Chapter Four of Harry Potter and the Sorcerer\\'s Stone, titled \"The Keeper of the Keys,\" the Dursleys are visited by a giant man named Rubeus Hagrid, who reveals to Harry that he is a wizard and has been accepted to Hogwarts School of Witchcraft and Wizardry. Hagrid explains to Harry about his parents, who were famous wizards, and how they were killed by the dark wizard Voldemort when Harry was just a baby. He also tells Harry about the failed attempt by Voldemort to kill him, resulting in the lightning-shaped scar on his forehead.\\nHagrid shares the history of Voldemort\\'s rise to power and eventual disappearance after his failed attempt to kill Harry. He also explains the magical world to Harry and the significance of his acceptance to Hogwarts. Despite Uncle Vernon\\'s objections, Hagrid insists that Harry will attend Hogwarts and begins making plans for his journey to the school.\\nHagrid accidentally turns Dudley into a pig after a confrontation with Uncle Vernon, revealing his magical abilities. He explains to Harry that he was expelled from Hogwarts but was allowed to stay on as the gamekeeper. Hagrid then gives Harry his coat to sleep under and prepares for their trip to Diagon Alley to purchase Harry\\'s school supplies.\\nOverall, this chapter introduces Harry to the magical world, his own history, and sets the stage for his journey to Hogwarts and the adventures that await him. It also establishes the bond between Harry and Hagrid, who becomes a mentor and friend to him throughout the series. (Chapter 4)'"
            ]
          },
          "execution_count": 98,
          "metadata": {},
          "output_type": "execute_result"
        }
      ],
      "source": [
        "all_context"
      ]
    },
    {
      "cell_type": "code",
      "execution_count": 107,
      "metadata": {
        "id": "hUEPhiHNUSP0"
      },
      "outputs": [
        {
          "name": "stdout",
          "output_type": "stream",
          "text": [
            " conetxt book: without further clues.       Neither Neville nor Hermione showed the slightest interest in what lay underneath the dog\n",
            "and the trapdoor. All Neville cared about was never going near the dog again.       Hermione was now refusing to speak\n",
            "to Harry and Ron, but she was such a bossy know-it-all that they saw this as an added bonus. All they really wanted now\n",
            "was a way of getting back at Malfoy, and to their great delight, just such a thing arrived in the mail about a week\n",
            "later.       As the owls flooded into the Great Hall as usual, everyone’s attention was caught at once by a long, thin\n",
            "package carried by six large screech owls. Harry was just as interested as everyone else to see what was in this large\n",
            "parcel, and was amazed when the owls soared down and dropped it right in front of him, knocking his bacon to the floor.\n",
            "They had hardly fluttered out of the way when another owl dropped a letter on top of the parcel. toads went outta\n",
            "fashion years ago, yeh’d be laughed at — an’ I don’ like cats, they make me sneeze. I’ll get yer an owl. All the kids\n",
            "want owls, they’re dead useful, carry yer mail an’ everythin’.”       Twenty minutes later, they left Eeylops Owl\n",
            "Emporium, which had been dark and full of rustling and flickering, jewel-bright eyes. Harry now carried a large cage\n",
            "that held a beautiful snowy owl, fast asleep with her head under her wing. He couldn’t stop stammering his thanks,\n",
            "sounding just like Professor Quirrell.       “Don’ mention it,” said Hagrid gruffly. “Don’ expect you’ve had a lotta\n",
            "presents from them Dursleys. Just Ollivanders left now — only place fer wands, Ollivanders, and yeh gotta have the best\n",
            "wand.”       A magic wand…this was what Harry had been really looking forward to.       The last shop was narrow and\n",
            "shabby. Peeling gold letters over the door read Ollivanders: Makers of Fine Wands since 382 B.C. A single wand lay on a\n",
            "faded purple cushion in the dusty window. knocking his bacon to the floor. They had hardly fluttered out of the way when\n",
            "another owl dropped a letter on top of the parcel.       Harry ripped open the letter first, which was lucky, because it\n",
            "said:   DO NOT OPEN THE PARCEL AT THE TABLE.             It contains your new Nimbus Two Thousand, but I don’t want\n",
            "everybody knowing you’ve got a broomstick or they’ll all want one. Oliver Wood will meet you tonight on the Quidditch\n",
            "field at seven o’clock for your first training session. beak.       Harry scrambled to his feet, so happy he felt as\n",
            "though a large balloon was swelling inside him. He went straight to the window and jerked it open. The owl swooped in\n",
            "and dropped the newspaper on top of Hagrid, who didn’t wake up. The owl then fluttered onto the floor and began to\n",
            "attack Hagrid’s coat.       “Don’t do that.”       Harry tried to wave the owl out of the way, but it snapped its beak\n",
            "fiercely at him and carried on savaging the coat.       “Hagrid!” said Harry loudly. “There’s an owl —”       “Pay him,”\n",
            "Hagrid grunted into the sofa.       “What?”       “He wants payin’ fer deliverin’ the paper. Look in the pockets.”\n",
            "Hagrid’s coat seemed to be made of nothing but pockets — bunches of keys, slug pellets, balls of string, peppermint\n",
            "humbugs, teabags...finally, Harry pulled out a handful of strange-looking coins.       “Give him five Knuts,” said\n",
            "Hagrid sleepily.       “Knuts?”       “The little bronze ones.” “No — Charlie — your brother, Charlie. In Romania.\n",
            "Studying dragons. We could send Norbert to him. Charlie can take care of him and then put him back in the wild!”\n",
            "“Brilliant!” said Ron. “How about it, Hagrid?”       And in the end, Hagrid agreed that they could send an owl to\n",
            "Charlie to ask him.   The following week dragged by. Wednesday night found Hermione and Harry sitting alone in the\n",
            "common room, long after everyone else had gone to bed. The clock on the wall had just chimed midnight when the portrait\n",
            "hole burst open. Ron appeared out of nowhere as he pulled off Harry’s invisibility cloak. He had been down at Hagrid’s\n",
            "hut, helping him feed Norbert, who was now eating dead rats by the crate.       “It bit me!” he said, showing them his\n",
            "hand, which was wrapped in a bloody handkerchief. “I’m not going to be able to hold a quill for a week. I tell you, that\n",
            "dragon’s the most horrible animal I’ve ever met, but the way Hagrid a rather severe-looking woman who was wearing square\n",
            "glasses exactly the shape of the markings the cat had had around its eyes. She, too, was wearing a cloak, an emerald\n",
            "one. Her black hair was drawn into a tight bun. She looked distinctly ruffled.       “How did you know it was me?” she\n",
            "asked.       “My dear Professor, I’ve never seen a cat sit so stiffly.”       “You’d be stiff if you’d been sitting on a\n",
            "brick wall all day,” said Professor McGonagall.       “All day? When you could have been celebrating? I must have passed\n",
            "a dozen feasts and parties on my way here.”       Professor McGonagall sniffed angrily.       “Oh yes, I’ve celebrating,\n",
            "all right,” she said impatiently. “You’d think they’d be a bit more careful, but no —even the Muggles have noticed\n",
            "something’s going on. It was on their news.” She jerked her head back at the Dursleys’ dark living-room window. “I heard\n",
            "it. Flocks of owls…shooting stars…Well, they’re not completely stupid. They were bound to notice pocket inside his\n",
            "overcoat he pulled an owl — a real, live, rather ruffled-looking owl — a long quill, and a roll of parchment. With his\n",
            "tongue between his teeth he scribbled a note that Harry could read upside down:   Dear Professor Dumbledore, Given Harry\n",
            "his letter. Taking him to buy his things tomorrow. Weather’s horrible. Hope you’re well. Hagrid   Hagrid rolled up the\n",
            "note, gave it to the owl, which clamped it in its beak, went to the door, and threw the owl out into the storm. Then he\n",
            "came back and sat down as though this was as normal as talking on the telephone.       Harry realized his mouth was open\n",
            "and closed it quickly.       “Where was I?” said Hagrid, but at that moment, Uncle Vernon, still ashen-faced but looking\n",
            "very angry, moved into the firelight.       “He’s not going,” he said.       Hagrid grunted.       “I’d like ter see a\n",
            "great Muggle like you stop him,” he said.       “A what?” said Harry, interested.what he and Petunia thought about them\n",
            "and their kind....He couldn’t see how he and Petunia could get mixed up in anything that might be going on — he yawned\n",
            "and turned over — it couldn’t affect them.…       How very wrong he was.       Mr. Dursley might have been drifting into\n",
            "an uneasy sleep, but the cat on the wall outside was showing no sign of sleepiness. It was sitting as still as a statue,\n",
            "its eyes fixed unblinkingly on the far corner of Privet Drive. It didn’t so much as quiver when a car door slammed on\n",
            "the next street, nor when two owls swooped overhead. In fact, it was nearly midnight before the cat moved at all.\n",
            "A man appeared on the corner the cat had been watching, appeared so suddenly and silently you’d have thought he’d just\n",
            "popped out of the ground. The cat’s tail twitched and its eyes narrowed.       Nothing like this man had ever been seen\n",
            "on Privet Drive. He was tall, thin, and very old, judging by the silver of his hair and beard, which were both Students\n",
            "may also bring an owl OR a cat OR a toad   PARENTS ARE REMINDED THAT FIRST YEARS ARE NOT ALLOWED THEIR OWN BROOMSTICKS\n",
            "“Can we buy all this in London?” Harry wondered aloud.       “If yeh know where to go,” said Hagrid.   Harry had never\n",
            "been to London before. Although Hagrid seemed to know where he was going, he was obviously not used to getting there in\n",
            "an ordinary way. He got stuck in the ticket barrier on the Underground, and complained loudly that the seats were too\n",
            "small and the trains too slow.       “I don’t know how the Muggles manage without magic,” he said as they climbed a\n",
            "broken-down escalator that led up to a bustling road lined with shops.       Hagrid was so huge that he parted the crowd\n",
            "easily; all Harry had to do was keep close behind him. They passed book shops and music stores, hamburger restaurants\n",
            "and cinemas, but nowhere that looked as if it could sell you a magic wand. This was just an ordinary street full of\n",
            "ordinary people. without further clues.       Neither Neville nor Hermione showed the slightest interest in what lay\n",
            "underneath the dog and the trapdoor. All Neville cared about was never going near the dog again.       Hermione was now\n",
            "refusing to speak to Harry and Ron, but she was such a bossy know-it-all that they saw this as an added bonus. All they\n",
            "really wanted now was a way of getting back at Malfoy, and to their great delight, just such a thing arrived in the mail\n",
            "about a week later.       As the owls flooded into the Great Hall as usual, everyone’s attention was caught at once by a\n",
            "long, thin package carried by six large screech owls. Harry was just as interested as everyone else to see what was in\n",
            "this large parcel, and was amazed when the owls soared down and dropped it right in front of him, knocking his bacon to\n",
            "the floor. They had hardly fluttered out of the way when another owl dropped a letter on top of the parcel. something\n",
            "peculiar — a cat reading a map. For a second, Mr. Dursley didn’t realize what he had seen — then he jerked his head\n",
            "around to look again. There was a tabby cat standing on the corner of Privet Drive, but there wasn’t a map in sight.\n",
            "What could he have been thinking of? It must have been a trick of the light. Mr. Dursley blinked and stared at the cat.\n",
            "It stared back. As Mr. Dursley drove around the corner and up the road, he watched the cat in his mirror. It was now\n",
            "reading the sign that said Privet Drive — no, looking at the sign; cats couldn’t read maps or signs. Mr. Dursley gave\n",
            "himself a little shake and put the cat out of his mind. As he drove toward town he thought of nothing except a large\n",
            "order of drills he was hoping to get that day.       But on the edge of town, drills were driven out of his mind by\n",
            "something else. As he sat in the usual morning traffic jam, he couldn’t help noticing that CHAPTER TEN   HALLOWEEN   M\n",
            "alfoy couldn’t believe his eyes when he saw that Harry and Ron were still at Hogwarts the next day, looking tired but\n",
            "perfectly cheerful. Indeed, by the next morning Harry and Ron thought that meeting the three-headed dog had been an\n",
            "excellent adventure, and they were quite keen to have another one. In the meantime, Harry filled Ron in about the\n",
            "package that seemed to have been moved from Gringotts to Hogwarts, and they spent a lot of time wondering what could\n",
            "possibly need such heavy protection.       “It’s either really valuable or really dangerous,” said Ron.       “Or both,”\n",
            "said Harry.       But as all they knew for sure about the mysterious object was that it was about two inches long, they\n",
            "didn’t have much chance of guessing what it was without further clues.       Neither Neville nor Hermione showed the\n",
            "slightest interest in what lay underneath the dog and the trapdoor. All Neville cared about was never going near the dog\n",
            "again. rescued by Professor Quirrell, who was passing.       Filch owned a cat called Mrs. Norris, a scrawny, dust-\n",
            "colored creature with bulging, lamp like eyes just like Filch’s. She patrolled the corridors alone. Break a rule in\n",
            "front of her, put just one toe out of line, and she’d whisk off for Filch, who’d appear, wheezing, two seconds later.\n",
            "Filch knew the secret passageways of the school better than anyone (except perhaps the Weasley twins) and could pop up\n",
            "as suddenly as any of the ghosts. The students all hated him, and it was the dearest ambition of many to give Mrs.\n",
            "Norris a good kick.       And then, once you had managed to find them, there were the classes themselves. There was a\n",
            "lot more to magic, as Harry quickly found out, than waving your wand and saying a few funny words.       They had to\n",
            "study the night skies through their telescopes every Wednesday at midnight and learn the names of different stars and\n",
            "the movements “P-P-Petunia!” he gasped.       Dudley tried to grab the letter to read it, but Uncle Vernon held it high\n",
            "out of his reach. Aunt Petunia took it curiously and read the first line. For a moment it looked as though she might\n",
            "faint. She clutched her throat and made a choking noise.       “Vernon! Oh my goodness — Vernon!”       They stared at\n",
            "each other, seeming to have forgotten that Harry and Dudley were still in the room. Dudley wasn’t used to being ignored.\n",
            "He gave his father a sharp tap on the head with his Smelting stick. only the owls that have been acting oddly today.\n",
            "Viewers as far apart as Kent, Yorkshire, and Dundee have been phoning in to tell me that instead of the rain I promised\n",
            "yesterday, they’ve had a downpour of shooting stars! Perhaps people have been celebrating Bonfire Night early — it’s not\n",
            "until next week, folks! But I can promise a wet night tonight.”       Mr. Dursley sat frozen in his armchair. Shooting\n",
            "stars all over Britain? Owls flying by daylight? Mysterious people in cloaks all over the place? And a whisper, a\n",
            "whisper about the Potters.…       Mrs. Dursley came into the living room carrying two cups of tea. It was no good. He’d\n",
            "have to say something to her. He cleared his throat nervously. “Er — Petunia, dear — you haven’t heard from your sister\n",
            "lately, have you?”       As he had expected, Mrs. Dursley looked shocked and angry. After all, they normally pretended\n",
            "she didn’t have a sister.       “No,” she said sharply. “Why?” \n",
            "\n",
            " context summaries: In Chapter Ten of Harry Potter and the Sorcerer's Stone, titled \"Halloween,\" Harry and Ron are still at Hogwarts the day\n",
            "after their encounter with the three-headed dog. They are excited about the adventure and curious about the mysterious\n",
            "package that was moved from Gringotts to Hogwarts. The package turns out to be a Nimbus Two Thousand broomstick, a gift\n",
            "from Professor McGonagall for Harry. Malfoy tries to taunt Harry about the broomstick, but Professor Flitwick intervenes\n",
            "and congratulates Harry on his new broomstick. Harry has his first Quidditch training session with Oliver Wood, the\n",
            "Quidditch captain. Wood explains the rules of Quidditch to Harry and shows him the different balls used in the game.\n",
            "Harry impresses Wood with his flying skills and catches all the practice balls thrown at him. As the weeks go by, Harry\n",
            "becomes more settled at Hogwarts and feels like the castle is more like home than Privet Drive. On Halloween morning,\n",
            "Professor Flitwick teaches the students how to make objects fly in Charms class. Harry partners with Seamus Finnigan,\n",
            "while Ron partners with Hermione, who is still not speaking to them. Hermione excels in the lesson, causing Ron to\n",
            "become even more frustrated with her. During the Halloween feast, Professor Quirrell interrupts the festivities to\n",
            "announce that there is a troll in the dungeons. Percy leads the students back to their dormitories, but Harry and Ron\n",
            "realize that Hermione doesn't know about the troll. They rush to warn her and find her in the girls' bathroom, cornered\n",
            "by the troll. Harry and Ron manage to save Hermione by distracting the troll and knocking it out. Professor McGonagall\n",
            "praises Harry and Ron for their bravery, and Hermione takes the blame for being in the bathroom alone. She lies to\n",
            "protect Harry and Ron, earning Gryffindor house points and solidifying their friendship. From that moment on, Hermione\n",
            "becomes a part of their trio, and they bond over their shared experience of facing a mountain troll together. (Chapter\n",
            "10)In Chapter Fourteen of Harry Potter and the Sorcerer's Stone, titled \"Norbert the Norwegian Ridgeback,\" the trio of\n",
            "Harry, Ron, and Hermione continue to keep an eye on the third-floor corridor where Fluffy, the three-headed dog, is\n",
            "guarding the Sorcerer's Stone. Quirrell, who is trying to steal the Stone, appears to be getting weaker but has not\n",
            "given up yet. Meanwhile, Hermione is focused on studying for their upcoming exams, much to the annoyance of Harry and\n",
            "Ron. Hagrid, the gamekeeper, is discovered to be hiding a dragon egg in his hut, which eventually hatches into a baby\n",
            "dragon named Norbert. Hagrid is thrilled with his new pet, but Harry, Ron, and Hermione are concerned about the\n",
            "consequences of keeping an illegal dragon. They come up with a plan to send Norbert to Charlie Weasley in Romania, who\n",
            "works with dragons. As the trio prepares to send Norbert away, they face obstacles such as Ron getting bitten by the\n",
            "dragon and the risk of Malfoy discovering their plan. Despite these challenges, they successfully send Norbert off with\n",
            "Charlie's friends and return to the castle. However, they realize they have left the invisibility cloak on top of the\n",
            "tower, leading to a confrontation with Filch. Overall, this chapter highlights the trio's efforts to protect the\n",
            "Sorcerer's Stone and deal with the consequences of Hagrid's decision to keep a dragon. It also showcases their\n",
            "resourcefulness and determination to solve problems, even in the face of danger. (Chapter 14)In Chapter Eleven of Harry\n",
            "Potter and the Sorcerer's Stone, the Quidditch season has begun at Hogwarts School of Witchcraft and Wizardry. Harry is\n",
            "playing as the Seeker for Gryffindor in his first match against Slytherin. The team is hoping for a win to move up in\n",
            "the house championship standings. Harry has been practicing hard, with the help of his friends Ron and Hermione, who\n",
            "have been supporting him and helping him with his homework. As the match approaches, Harry faces nerves and pressure,\n",
            "especially as his role as Seeker has been leaked to the school. Despite the distractions, Harry is determined to do his\n",
            "best. However, during the match, Harry's broom suddenly starts behaving erratically, almost throwing him off. It becomes\n",
            "clear that someone is jinxing the broom, and Hermione suspects it is Professor Snape. In a tense moment, Hermione uses a\n",
            "spell to set Snape's robes on fire, distracting him and allowing Harry to regain control of his broom. Harry manages to\n",
            "catch the Golden Snitch, winning the match for Gryffindor. After the match, Harry, Ron, and Hermione confront Hagrid\n",
            "about Snape's suspicious behavior and his possible involvement in trying to steal something guarded by a three-headed\n",
            "dog named Fluffy. Hagrid is defensive and dismisses their concerns, insisting that Snape would never harm a student. He\n",
            "also reveals that the object Fluffy is guarding is connected to someone named Nicolas Flamel. Despite Hagrid's warnings,\n",
            "Harry, Ron, and Hermione are determined to uncover the truth behind Snape's actions and the mystery surrounding Fluffy\n",
            "and Nicolas Flamel. The chapter ends with the trio determined to investigate further, despite the dangers involved.\n",
            "(Chapter 11)In Chapter Five of Harry Potter and the Sorcerer's Stone, titled \"Diagon Alley,\" Harry wakes up to find that\n",
            "his encounter with Hagrid and the news of his magical abilities was not a dream. Hagrid is asleep in the hut, and an owl\n",
            "delivers a newspaper to Harry. Hagrid instructs Harry to pay the owl with wizard coins called Knuts. Hagrid then takes\n",
            "Harry to Diagon Alley, a hidden street in London where wizards and witches shop for magical supplies. In Diagon Alley,\n",
            "Harry and Hagrid visit various shops to purchase items for Harry's first year at Hogwarts School of Witchcraft and\n",
            "Wizardry. They visit Gringotts, the wizarding bank run by goblins, where Harry retrieves his inheritance left by his\n",
            "parents. They also visit shops like Flourish and Blotts for school books, the Apothecary for potion ingredients, and\n",
            "Ollivanders for Harry's wand. At Ollivanders, Harry tries out several wands before finding the perfect match - a wand\n",
            "made of holly and phoenix feather. Mr. Ollivander, the wandmaker, reveals that the phoenix feather in Harry's wand comes\n",
            "from the same phoenix that gave a feather for Voldemort's wand, the wand that gave Harry his lightning scar. After their\n",
            "shopping trip, Hagrid and Harry share a meal before Harry boards the train back to the Dursleys. Hagrid gives Harry his\n",
            "ticket for Hogwarts and assures him that he will have a great time at the school. The chapter ends with Harry watching\n",
            "Hagrid disappear from view as the train pulls away. Overall, Chapter Five introduces Harry to the magical world of\n",
            "Diagon Alley, where he acquires his school supplies and his wand, setting the stage for his journey to Hogwarts and his\n",
            "adventures as a wizard. The chapter also highlights Harry's feelings of uncertainty and excitement as he navigates his\n",
            "newfound fame and abilities. (Chapter 5)In Chapter Four of Harry Potter and the Sorcerer's Stone, titled \"The Keeper of\n",
            "the Keys,\" the Dursleys are visited by a giant man named Rubeus Hagrid, who reveals to Harry that he is a wizard and has\n",
            "been accepted to Hogwarts School of Witchcraft and Wizardry. Hagrid explains to Harry about his parents, who were famous\n",
            "wizards, and how they were killed by the dark wizard Voldemort when Harry was just a baby. He also tells Harry about the\n",
            "failed attempt by Voldemort to kill him, resulting in the lightning-shaped scar on his forehead. Hagrid shares the\n",
            "history of Voldemort's rise to power and eventual disappearance after his failed attempt to kill Harry. He also explains\n",
            "the magical world to Harry and the significance of his acceptance to Hogwarts. Despite Uncle Vernon's objections, Hagrid\n",
            "insists that Harry will attend Hogwarts and begins making plans for his journey to the school. Hagrid accidentally turns\n",
            "Dudley into a pig after a confrontation with Uncle Vernon, revealing his magical abilities. He explains to Harry that he\n",
            "was expelled from Hogwarts but was allowed to stay on as the gamekeeper. Hagrid then gives Harry his coat to sleep under\n",
            "and prepares for their trip to Diagon Alley to purchase Harry's school supplies. Overall, this chapter introduces Harry\n",
            "to the magical world, his own history, and sets the stage for his journey to Hogwarts and the adventures that await him.\n",
            "It also establishes the bond between Harry and Hagrid, who becomes a mentor and friend to him throughout the series.\n",
            "(Chapter 4)In Chapter Three of Harry Potter and the Sorcerer's Stone, titled \"Letters from No One,\" Harry experiences\n",
            "the aftermath of his punishment for the escape of the Brazilian boa constrictor. The summer holidays have started, and\n",
            "Dudley's gang continues to torment Harry. Despite this, Harry finds solace in the fact that he will be attending a\n",
            "different school than Dudley in September. One day, Aunt Petunia takes Dudley to London to buy his school uniform,\n",
            "leaving Harry at Mrs. Figg's house. Harry receives a mysterious letter addressed to him, which shocks him as he has\n",
            "never received a letter before. The letter is written on yellow parchment with emerald-green ink and bears a coat of\n",
            "arms with a lion, eagle, badger, and snake surrounding the letter H. Uncle Vernon becomes increasingly agitated and\n",
            "paranoid about the letters, eventually nailing up the mail slot and boarding up the doors to prevent any more letters\n",
            "from entering the house. However, the letters continue to find their way to Harry, causing Uncle Vernon to take drastic\n",
            "measures, such as fleeing to a remote shack during a storm. As Harry's eleventh birthday approaches, he is left\n",
            "wondering about the mysterious letters and the sender's identity. The chapter ends with a mysterious knock on the door\n",
            "of the shack, leaving readers eager to find out what will happen next. (Chapter 3) \n",
            "\n",
            " answer: The name of Harry's owl is not provided in the context given.\n"
          ]
        }
      ],
      "source": [
        "wrapped_all_context_book = textwrap.fill(all_context_book, width=120)\n",
        "print(f' conetxt book: {wrapped_all_context_book} \\n')\n",
        "\n",
        "wrapped_all_context_summaries = textwrap.fill(all_context_summaries, width=120)\n",
        "print(f' context summaries: {wrapped_all_context_summaries} \\n')\n",
        "\n",
        "wrapped_result = textwrap.fill(result['text'], width=120)\n",
        "print(f' answer: {wrapped_result}')"
      ]
    },
    {
      "cell_type": "markdown",
      "metadata": {
        "id": "JBKQkR-W4ZyV"
      },
      "source": [
        "## Model Evaluation\n"
      ]
    },
    {
      "cell_type": "code",
      "execution_count": 32,
      "metadata": {
        "id": "ME52zvjPNv47"
      },
      "outputs": [],
      "source": [
        "questions = [\n",
        "    \"Who gave Harry Potter his first broomstick?\",\n",
        "    \"What is the name of the three-headed dog guarding the Sorcerer's Stone?\",\n",
        "    \"Which house did the Sorting Hat initially consider for Harry?\",\n",
        "    \"What is the name of Harry's owl?\"\n",
        "]\n",
        "#     \"How did Harry and his friends get past Fluffy?\",\n",
        "#     \"What is the Mirror of Erised?\",\n",
        "#     \"Who tried to steal the Sorcerer's Stone?\",\n",
        "#     \"How did Harry defeat Quirrell/Voldemort?\",\n",
        "#     \"What is Harry's parent's secret weapon against Voldemort?\",\n",
        "# ]\n",
        "\n",
        "ground_truth_answers = [\n",
        "    \"Professor McGonagall\",\n",
        "    \"Fluffy\",\n",
        "    \"Slytherin\",\n",
        "    \"Hedwig\",\n",
        "    # \"They played music to put Fluffy to sleep.\",\n",
        "    # \"A magical mirror that shows the 'deepest, most desperate desire of our hearts.'\",\n",
        "    # \"Professor Quirrell, possessed by Voldemort\",\n",
        "    # \"Harry's mother's love protected him, causing Quirrell/Voldemort pain when they touched him.\",\n",
        "    # \"Love\",\n",
        "]"
      ]
    },
    {
      "cell_type": "code",
      "execution_count": 33,
      "metadata": {
        "colab": {
          "base_uri": "https://localhost:8080/",
          "height": 460
        },
        "id": "Wo9EEV0j4mJA",
        "outputId": "14c46214-8fb8-41aa-9845-73367d9a738f"
      },
      "outputs": [
        {
          "name": "stdout",
          "output_type": "stream",
          "text": [
            "Original Output: ```python\n",
            "[\n",
            "    \"Which character presents Harry Potter with a broomstick for the first time?\",\n",
            "    \"In which part of the book does Harry Potter receive his initial broomstick?\",\n",
            "    \"What are the circumstances surrounding Harry Potter obtaining his first broomstick?\"\n",
            "]\n",
            "```\n",
            "Original Output: ```python\n",
            "[\n",
            "    \"What creature is guarding an important object in the story?\",\n",
            "    \"How many heads does the guard creature have?\",\n",
            "    \"What is the name given to the creature with multiple heads?\"\n",
            "]\n",
            "```\n",
            "Original Output: ```python\n",
            "[\n",
            "    \"What are the characteristics of the different houses mentioned by the Sorting Hat?\",\n",
            "    \"How does the Sorting Hat determine the house for new students?\",\n",
            "    \"What interactions or discussions does Harry have with the Sorting Hat about house placement?\"\n",
            "]\n",
            "```\n",
            "Original Output: ```python\n",
            "[\n",
            "    \"Which character in the book has an owl as a pet?\",\n",
            "    \"What are the names of any pets mentioned in the story?\",\n",
            "    \"How is Harry's pet owl referred to or addressed in the text?\"\n",
            "]\n",
            "```\n"
          ]
        }
      ],
      "source": [
        "generated_answers = []\n",
        "retrieved_documents = []\n",
        "for question in questions:\n",
        "    result, all_context_book, all_context_summaries = answer_question_pipline(question, retriever, chapter_summaries_retriever, answer_from_context_llm_chain, multi_query_retriver_llm)\n",
        "    generated_answers.append(result['text'])\n",
        "    retrieved_documents.append(all_context_book + all_context_summaries)\n"
      ]
    },
    {
      "cell_type": "code",
      "execution_count": 119,
      "metadata": {},
      "outputs": [
        {
          "name": "stdout",
          "output_type": "stream",
          "text": [
            "['HP 1 - Harry Potter and the\\nSorcerer\\'s Stone HP 1 - Harry Potter and the\\nSorcerer\\'s Stone HP 1 - Harry Potter and the\\nSorcerer\\'s Stone HP 1 - Harry Potter and the\\nSorcerer\\'s Stone dancing spots of light on to the walls. \\nHagrid whooped and clapped and Mr.\\nOllivander cried, “Oh, bravo! Yes, indeed, oh, very good. Well, well, well…how\\ncurious…how very curious…”\\n      He put Harry’s wand back into its box and wrapped it in brown paper,\\nstill muttering, “Curious…curious…\\n      “Sorry,” said Harry, “but what’s curious?”\\n      Mr. Ollivander fixed Harry with his pale stare.\\n      “I remember every wand I’ve ever sold, Mr. Potter. Every single wand. It\\nso happens that the phoenix whose tail feather is in your wand, gave another\\nfeather — just one other. It is very curious indeed that you should be destined for\\nthis wand when its brother — why, its brother gave you that scar.”\\n      Harry swallowed.\\n      “Yes, thirteen-and-a-half inches. Yew. Curious indeed how these things\\nhappen. The wand chooses the wizard, remember…I think we must expect great\\nthings from you, Mr. Potter….After all, He-Who-Must-Not-Be-Named did great\\nthings — terrible, yes, but great.” Students may also bring an owl OR a cat OR a toad\\n \\nPARENTS ARE REMINDED THAT FIRST YEARS ARE NOT\\nALLOWED THEIR OWN BROOMSTICKS\\n \\n“Can we buy all this in London?” Harry wondered aloud.\\n      “If yeh know where to go,” said Hagrid.\\n \\nHarry had never been to London before. Although Hagrid seemed to know\\nwhere he was going, he was obviously not used to getting there in an ordinary\\nway. He got stuck in the ticket barrier on the Underground, and complained\\nloudly that the seats were too small and the trains too slow.\\n      “I don’t know how the Muggles manage without magic,” he said as they\\nclimbed a broken-down escalator that led up to a bustling road lined with shops.\\n      Hagrid was so huge that he parted the crowd easily; all Harry had to do\\nwas keep close behind him. They passed book shops and music stores,\\nhamburger restaurants and cinemas, but nowhere that looked as if it could sell\\nyou a magic wand. This was just an ordinary street full of ordinary people. snowball fight on the grounds. Then, cold, wet, and gasping for breath, they\\nreturned to the fire in the Gryffindor common room, where Harry broke in his\\nnew chess set by losing spectacularly to Ron. He suspected he wouldn’t have\\nlost so badly if Percy hadn’t tried to help him so much.\\n      After a meal of turkey sandwiches, crumpets, trifle, and Christmas cake,\\neveryone felt too full and sleepy to do much before bed except sit and watch\\nPercy chase Fred and George all over Gryffindor tower because they’d stolen his\\nprefect badge.\\n      It had been Harry’s best Christmas day ever. Yet something had been\\nnagging at the back of his mind all day. Not until he climbed into bed was he\\nfree to think about it: the invisibility cloak and whoever had sent it.\\n      Ron, full of turkey and cake and with nothing mysterious to bother him,\\nfell asleep almost as soon as he’d drawn the curtains of his four-poster. Harry\\nleaned over the side of his own bed and pulled the cloak out from under it. through his binoculars. “If I didn’ know better, I’d say he’d lost control of his\\nbroom…but he can’t have.…”\\n      Suddenly, people were pointing up at Harry all over the stands. His\\nbroom had started to roll over and over, with him only just managing to hold on.\\nThen the whole crowd gasped. Harry’s broom had given a wild jerk and Harry\\nswung off it. He was now dangling from it, holding on with only one hand.\\n      “Did something happen to it when Flint blocked him?” Seamus\\nwhispered.\\n      “Can’t have,” Hagrid said, his voice shaking. “Can’t nothing interfere\\nwith a broomstick except powerful Dark magic — no kid could do that to a\\nNimbus Two Thousand.”\\n      At these words, Hermione seized Hagrid’s binoculars, but instead of\\nlooking up at Harry, she started looking frantically at the crowd.\\n      “What are you doing?” moaned Ron, gray-faced.\\n      “I knew it,” Hermione gasped, “Snape — look.”\\n      Ron grabbed the binoculars. Snape was in the middle of the stands down the front steps onto the grounds for their first flying lesson. It was a clear,\\nbreezy day, and the grass rippled under their feet as they marched down the\\nsloping lawns toward a smooth, flat lawn on the opposite side of the grounds to\\nthe forbidden forest, whose trees were swaying darkly in the distance.\\n      The Slytherins were already there, and so were twenty broomsticks lying\\nin neat lines on the ground. Harry had heard Fred and George Weasley complain\\nabout the school brooms, saying that some of them started to vibrate if you flew\\ntoo high, or always flew slightly to the left.\\n      Their teacher, Madam Hooch, arrived. She had short, gray hair, and\\nyellow eyes like a hawk.\\n      “Well, what are you all waiting for?” she barked. “Everyone stand by a\\nbroomstick. Come on, hurry up.”\\n      Harry glanced down at his broom. It was old and some of the twigs stuck out at odd angles.\\n      “Stick out your right hand over your broom,” called Madam Hooch at the\\nfront, “and say ‘Up!’”\\n      “UP” everyone shouted.\\n      Harry’s broom jumped into his hand at once, but it was one of the few\\nthat did. Hermione Granger’s had simply rolled over on the ground, and\\nNeville’s hadn’t moved at all. Perhaps brooms, like horses, could tell when you\\nwere afraid, thought Harry; there was a quaver in Neville’s voice that said only\\ntoo clearly that he wanted to keep his feet on the ground.\\n      Madam Hooch then showed them how to mount their brooms without\\nsliding off the end, and walked up and down the rows correcting their grips.\\nHarry and Ron were delighted when she told Malfoy he’d been doing it wrong\\nfor years.\\n      “Now, when I blow my whistle, you kick off from the ground, hard,” said\\nMadam Hooch. “Keep your brooms steady, rise a few feet, and then come\\nstraight back down by leaning forward slightly. On my whistle — three — two\\n—”In Chapter Eleven of Harry Potter and the Sorcerer\\'s Stone, the Quidditch season has begun at Hogwarts School of Witchcraft and Wizardry. Harry is playing as the Seeker for Gryffindor in his first match against Slytherin. The team is hoping for a win to move up in the house championship standings. Harry has been practicing hard, with the help of his friends Ron and Hermione, who have been supporting him and helping him with his homework.\\nAs the match approaches, Harry faces nerves and pressure, especially as his role as Seeker has been leaked to the school. Despite the distractions, Harry is determined to do his best. However, during the match, Harry\\'s broom suddenly starts behaving erratically, almost throwing him off. It becomes clear that someone is jinxing the broom, and Hermione suspects it is Professor Snape.\\nIn a tense moment, Hermione uses a spell to set Snape\\'s robes on fire, distracting him and allowing Harry to regain control of his broom. Harry manages to catch the Golden Snitch, winning the match for Gryffindor. After the match, Harry, Ron, and Hermione confront Hagrid about Snape\\'s suspicious behavior and his possible involvement in trying to steal something guarded by a three-headed dog named Fluffy.\\nHagrid is defensive and dismisses their concerns, insisting that Snape would never harm a student. He also reveals that the object Fluffy is guarding is connected to someone named Nicolas Flamel. Despite Hagrid\\'s warnings, Harry, Ron, and Hermione are determined to uncover the truth behind Snape\\'s actions and the mystery surrounding Fluffy and Nicolas Flamel. The chapter ends with the trio determined to investigate further, despite the dangers involved. (Chapter 11)In Chapter Ten of Harry Potter and the Sorcerer\\'s Stone, titled \"Halloween,\" Harry and Ron are still at Hogwarts the day after their encounter with the three-headed dog. They are excited about the adventure and curious about the mysterious package that was moved from Gringotts to Hogwarts. The package turns out to be a Nimbus Two Thousand broomstick, a gift from Professor McGonagall for Harry. Malfoy tries to taunt Harry about the broomstick, but Professor Flitwick intervenes and congratulates Harry on his new broomstick.\\nHarry has his first Quidditch training session with Oliver Wood, the Quidditch captain. Wood explains the rules of Quidditch to Harry and shows him the different balls used in the game. Harry impresses Wood with his flying skills and catches all the practice balls thrown at him.\\nAs the weeks go by, Harry becomes more settled at Hogwarts and feels like the castle is more like home than Privet Drive. On Halloween morning, Professor Flitwick teaches the students how to make objects fly in Charms class. Harry partners with Seamus Finnigan, while Ron partners with Hermione, who is still not speaking to them. Hermione excels in the lesson, causing Ron to become even more frustrated with her.\\nDuring the Halloween feast, Professor Quirrell interrupts the festivities to announce that there is a troll in the dungeons. Percy leads the students back to their dormitories, but Harry and Ron realize that Hermione doesn\\'t know about the troll. They rush to warn her and find her in the girls\\' bathroom, cornered by the troll. Harry and Ron manage to save Hermione by distracting the troll and knocking it out.\\nProfessor McGonagall praises Harry and Ron for their bravery, and Hermione takes the blame for being in the bathroom alone. She lies to protect Harry and Ron, earning Gryffindor house points and solidifying their friendship. From that moment on, Hermione becomes a part of their trio, and they bond over their shared experience of facing a mountain troll together. (Chapter 10)In Chapter Twelve of Harry Potter and the Sorcerer\\'s Stone, titled \"The Mirror of Erised,\" Christmas is approaching at Hogwarts and the school is covered in snow. The Weasley twins are punished for bewitching snowballs to follow Professor Quirrell around. Harry, Ron, and Hermione decide to stay at Hogwarts for the holidays, as Ron\\'s family is visiting Charlie in Romania and Harry doesn\\'t want to go back to the Dursleys. \\nDuring a Potions class, Draco Malfoy taunts Harry about not having a proper family, leading to a confrontation between Ron and Malfoy. Hagrid, the gamekeeper, intervenes and takes Harry, Ron, and Hermione to see the Christmas decorations in the Great Hall. \\nAs the holidays begin, Harry receives presents from Hagrid, his aunt and uncle, and Hermione. The most significant gift is an invisibility cloak that once belonged to his father. Harry discovers that the cloak allows him to become invisible. \\nOn Christmas Eve, Harry and Ron visit the Mirror of Erised, which shows the deepest desires of one\\'s heart. Harry sees his deceased parents and other family members in the mirror, while Ron sees himself as head boy and the best of his siblings. Dumbledore explains the nature of the mirror to Harry, warning him not to become obsessed with what he sees. \\nHarry continues to visit the mirror, but Dumbledore moves it to a new location and advises Harry not to seek it out again. Dumbledore reveals that when he looks in the mirror, he sees himself holding a pair of socks. Harry reflects on the experience and the importance of living in the present rather than dwelling on dreams. (Chapter 12)In Chapter Five of Harry Potter and the Sorcerer\\'s Stone, titled \"Diagon Alley,\" Harry wakes up to find that his encounter with Hagrid and the news of his magical abilities was not a dream. Hagrid is asleep in the hut, and an owl delivers a newspaper to Harry. Hagrid instructs Harry to pay the owl with wizard coins called Knuts. Hagrid then takes Harry to Diagon Alley, a hidden street in London where wizards and witches shop for magical supplies.\\nIn Diagon Alley, Harry and Hagrid visit various shops to purchase items for Harry\\'s first year at Hogwarts School of Witchcraft and Wizardry. They visit Gringotts, the wizarding bank run by goblins, where Harry retrieves his inheritance left by his parents. They also visit shops like Flourish and Blotts for school books, the Apothecary for potion ingredients, and Ollivanders for Harry\\'s wand.\\nAt Ollivanders, Harry tries out several wands before finding the perfect match - a wand made of holly and phoenix feather. Mr. Ollivander, the wandmaker, reveals that the phoenix feather in Harry\\'s wand comes from the same phoenix that gave a feather for Voldemort\\'s wand, the wand that gave Harry his lightning scar.\\nAfter their shopping trip, Hagrid and Harry share a meal before Harry boards the train back to the Dursleys. Hagrid gives Harry his ticket for Hogwarts and assures him that he will have a great time at the school. The chapter ends with Harry watching Hagrid disappear from view as the train pulls away.\\nOverall, Chapter Five introduces Harry to the magical world of Diagon Alley, where he acquires his school supplies and his wand, setting the stage for his journey to Hogwarts and his adventures as a wizard. The chapter also highlights Harry\\'s feelings of uncertainty and excitement as he navigates his newfound fame and abilities. (Chapter 5)In Chapter Four of Harry Potter and the Sorcerer\\'s Stone, titled \"The Keeper of the Keys,\" the Dursleys are visited by a giant man named Rubeus Hagrid, who reveals to Harry that he is a wizard and has been accepted to Hogwarts School of Witchcraft and Wizardry. Hagrid explains to Harry about his parents, who were famous wizards, and how they were killed by the dark wizard Voldemort when Harry was just a baby. He also tells Harry about the failed attempt by Voldemort to kill him, resulting in the lightning-shaped scar on his forehead.\\nHagrid shares the history of Voldemort\\'s rise to power and eventual disappearance after his failed attempt to kill Harry. He also explains the magical world to Harry and the significance of his acceptance to Hogwarts. Despite Uncle Vernon\\'s objections, Hagrid insists that Harry will attend Hogwarts and begins making plans for his journey to the school.\\nHagrid accidentally turns Dudley into a pig after a confrontation with Uncle Vernon, revealing his magical abilities. He explains to Harry that he was expelled from Hogwarts but was allowed to stay on as the gamekeeper. Hagrid then gives Harry his coat to sleep under and prepares for their trip to Diagon Alley to purchase Harry\\'s school supplies.\\nOverall, this chapter introduces Harry to the magical world, his own history, and sets the stage for his journey to Hogwarts and the adventures that await him. It also establishes the bond between Harry and Hagrid, who becomes a mentor and friend to him throughout the series. (Chapter 4)', 'a legendary substance with astonishing powers. The stone will transform any\\nmetal into pure gold. It also produces the Elixir of Life, which will make the\\ndrinker immortal.\\nThere have been many reports of the Sorcerer’s Stone over the centuries, but\\nthe only Stone currently in existence belongs to Mr. Nicolas Flamel, the noted\\nalchemist and opera lover. Mr. Flamel, who celebrated his six hundred and sixty-\\nfifth birthday last year, enjoys a quiet life in Devon with his wife, Perenelle (six\\nhundred and fifty-eight).\\n \\n“See?” said Hermione, when Harry and Ron had finished. “The dog must be\\nguarding Flamel’s Sorcerer’s Stone! I bet he asked Dumbledore to keep it safe\\nfor him, because they’re friends and he knew someone was after it, that’s why he\\nwanted the Stone moved out of Gringotts!”\\n      “A stone that makes gold and stops you from ever dying!” said Harry.\\n“No wonder Snape’s after it! Anyone would want it.”\\n      “And no wonder we couldn’t find Flamel in that Study of Recent HP 1 - Harry Potter and the\\nSorcerer\\'s Stone HP 1 - Harry Potter and the\\nSorcerer\\'s Stone HP 1 - Harry Potter and the\\nSorcerer\\'s Stone When they knocked on the door of the gamekeeper’s hut an hour later, they\\nwere surprised to see that all the curtains were closed. Hagrid called “Who is it?”\\nbefore he let them in, and then shut the door quickly behind them.\\n      It was stifling hot inside. Even though it was such a warm day, there was\\na blazing fire in the grate. Hagrid made them tea and offered them stoat\\nsandwiches, which they refused.\\n      “So — yeh wanted to ask me somethin’?”\\n      “Yes,” said Harry. There was no point beating around the bush. “We were\\nwondering if you could tell us what’s guarding the Sorcerer’s Stone apart from\\nFluffy.”\\n      Hagrid frowned at him.\\n      “O’ course I can’t,“ he said. “Number one, I don’ know meself. Number\\ntwo, yeh know too much already, so I wouldn’ tell yeh if I could. That Stone’s\\nhere fer a good reason. It was almost stolen outta Gringotts — I s’ppose yeh’ve\\nworked that out an’ all? Beats me how yeh even know abou’ Fluffy.” something up, and started flicking frantically through the pages, muttering to\\nherself.\\n      At last she found what she was looking for.\\n      “I knew it! I knew it!”\\n      “Are we allowed to speak yet?” said Ron grumpily. Hermione ignored\\nhim.\\n      “Nicolas Flamel,” she whispered dramatically, “is the only known maker\\nof the Sorcerer’s Stone!”\\n      This didn’t have quite the effect she’d expected.\\n      “The what?” said Harry and Ron.\\n      “Oh, honestly, don’t you two read? Look – read that, there.”\\n      She pushed the book toward them, and Harry and Ron read:\\n \\nThe ancient study of alchemy is concerned with making the Sorcerer’s Stone, know what is hidden in the school at this very moment?”\\n      “The Sorcerer’s Stone! Of course — the Elixir of Life! But I don’t\\nunderstand who —”\\n      “Can you think of nobody who has waited many years to return to power,\\nwho has clung to life, awaiting their chance?”\\n      It was as though an iron fist had clenched suddenly around Harry’s heart.\\nOver the rustling of the trees, he seemed to hear once more what Hagrid had told\\nhim on the night they had met: “Some say he died. Codswallop, in my opinion.\\nDunno if he had enough human left in him to die.”\\n      “Do you mean,” Harry croaked, “that was Vol-”\\n      “Harry! Harry, are you all right?”\\n      Hermione was running toward them down the path, Hagrid puffing along\\nbehind her.\\n      “I’m fine,” said Harry, hardly knowing what he was saying. “The\\nunicorn’s dead, Hagrid, it’s in that clearing back there.”\\n      “This is where I leave you,” Firenze murmured as Hagrid hurried off to\\nexamine the unicorn. “You are safe now.”held up his lamp to read the titles.\\n      They didn’t tell him much. Their peeling, faded gold letters spelled\\nwords in languages Harry couldn’t understand. Some had no title at all. One\\nbook had a dark stain on it that looked horribly like blood. The hairs on the back\\nof Harry’s neck prickled. Maybe he was imagining it, maybe not, but he thought\\na faint whispering was coming from the books, as though they knew someone\\nwas there who shouldn’t be.\\n      He had to start somewhere. Setting the lamp down carefully on the floor,\\nhe looked along the bottom shelf for an interesting looking book. A large black\\nand silver volume caught his eye. He pulled it out with difficulty, because it was\\nvery heavy, and, balancing it on his knee, let it fall open.\\n      A piercing, bloodcurdling shriek split the silence — the book was\\nscreaming! Harry snapped it shut, but the shriek went on and on, one high,\\nunbroken, earsplitting note. He stumbled backward and knocked over his lamp, HP 1 - Harry Potter and the\\nSorcerer\\'s Stone HP 1 - Harry Potter and the\\nSorcerer\\'s Stone HP 1 - Harry Potter and the\\nSorcerer\\'s Stone CHAPTER TEN\\n \\nHALLOWEEN\\n \\nM \\nalfoy couldn’t believe his eyes when he saw that Harry and Ron were still\\nat Hogwarts the next day, looking tired but perfectly cheerful. Indeed, by the\\nnext morning Harry and Ron thought that meeting the three-headed dog had\\nbeen an excellent adventure, and they were quite keen to have another one. In\\nthe meantime, Harry filled Ron in about the package that seemed to have been\\nmoved from Gringotts to Hogwarts, and they spent a lot of time wondering what\\ncould possibly need such heavy protection.\\n      “It’s either really valuable or really dangerous,” said Ron.\\n      “Or both,” said Harry.\\n      But as all they knew for sure about the mysterious object was that it was\\nabout two inches long, they didn’t have much chance of guessing what it was\\nwithout further clues.\\n      Neither Neville nor Hermione showed the slightest interest in what lay\\nunderneath the dog and the trapdoor. All Neville cared about was never going\\nnear the dog again. where it had fallen and its mane was spread pearly-white on the dark leaves.\\n      Harry had taken one step toward it when a slithering sound made him\\nfreeze where he stood. A bush on the edge of the clearing quivered.…Then, out\\nof the shadows, a hooded figure came crawling across the ground like some\\nstalking beast. Harry, Malfoy, and Fang stood transfixed. The cloaked figure\\nreached the unicorn, lowered its head over the wound in the animal’s side, and\\nbegan to drink its blood.\\n      “AAAAAAAAAARGH!”\\n      Malfoy let out a terrible scream and bolted — so did Fang. The hooded\\nfigure raised its head and looked right at Harry — unicorn blood was dribbling\\ndown its front. It got to its feet and came swiftly toward Harry — he couldn’t\\nmove for fear.\\n      Then a pain like he’d never felt before pierced his head; it was as though\\nhis scar were on fire. Half blinded, he staggered backward. He heard hooves\\nbehind him, galloping, and something jumped clean over Harry, charging at the\\nfigure. headlight; it swelled to a roar as they both looked up at the sky — and a huge\\nmotorcycle fell out of the air and landed on the road in front of them.\\n      If the motorcycle was huge, it was nothing to the man sitting astride it.\\nHe was almost twice as tall as a normal man and at least five times as wide. He\\nlooked simply too big to be allowed, and so wild — long tangles of bushy black\\nhair and beard hid most of his face, he had hands the size of trash can lids, and\\nhis feet in their leather boots were like baby dolphins. In his vast, muscular arms\\nhe was holding a bundle of blankets.\\n      “Hagrid,” said Dumbledore, sounding relieved. “At last. And where did\\nyou get that motorcycle?”\\n      “Borrowed it, Professor Dumbledore, sir,” said the giant, climbing\\ncarefully off the motorcycle as he spoke. “Young Sirius Black lent it to me. I’ve\\ngot him, sir.”\\n      “No problems, were there?”\\n      “No, sir — house was almost destroyed, but I got him out all right before Hermione, Harry, you go with Fang an’ this idiot. I’m sorry,” Hagrid added in a\\nwhisper to Harry, “but he’ll have a harder time frightenin’ you, an’ we’ve gotta\\nget this done.”\\n      So Harry set off into the heart of the forest with Malfoy and Fang. They\\nwalked for nearly half an hour, deeper and deeper into the forest, until the path\\nbecame almost impossible to follow because the trees were so thick. Harry\\nthought the blood seemed to be getting thicker. There were splashes on the roots\\nof a tree, as though the poor creature had been thrashing around in pain close by.\\nHarry could see a clearing ahead, through the tangled branches of an ancient\\noak.\\n      “Look —” he murmured, holding out his arm to stop Malfoy.\\n      Something bright white was gleaming on the ground. They inched closer.\\n      It was the unicorn all right, and it was dead. Harry had never seen\\nanything so beautiful and sad. Its long, slender legs were stuck out at odd anglesIn Chapter Thirteen of Harry Potter and the Sorcerer\\'s Stone, Harry is haunted by nightmares of his parents\\' death and the mysterious figure he saw in the Mirror of Erised. He, Ron, and Hermione continue their search for Nicolas Flamel, the maker of the Sorcerer\\'s Stone, and finally discover that he is the only one who possesses the stone. They realize that the stone is capable of producing the Elixir of Life, which grants immortality, and turning any metal into gold. \\nAs Quidditch practice intensifies and the Gryffindor team prepares for a crucial match against Hufflepuff, tensions rise when it is revealed that Snape will be refereeing the game. Harry is determined to play despite his fears of Snape\\'s bias. During the match, Snape shows favoritism towards Hufflepuff, but Harry manages to catch the Snitch quickly, securing Gryffindor\\'s victory.\\nAfter the match, Harry witnesses Snape meeting with Quirrell in the Forbidden Forest, discussing the Sorcerer\\'s Stone and the obstacles guarding it. Snape pressures Quirrell to help him obtain the stone, revealing his dark intentions. Harry shares this information with Ron and Hermione, realizing that the stone is in danger as long as Quirrell is under Snape\\'s influence.\\nThe chapter ends with Harry, Ron, and Hermione realizing the urgency of the situation and the need to protect the Sorcerer\\'s Stone from falling into the wrong hands. They understand that Snape\\'s motives are sinister, and they must act quickly to prevent him from obtaining the stone. The tension and suspense build as the trio prepares to face the challenges ahead in order to protect the valuable and powerful artifact. (Chapter 13)In Chapter Sixteen of Harry Potter and the Sorcerer\\'s Stone, Harry, Ron, and Hermione are in the midst of their final exams at Hogwarts. Despite the looming threat of Voldemort, they manage to focus on their exams and complete them successfully. However, Harry is plagued by his scar hurting and recurring nightmares, which he believes are warning signs of danger approaching.\\nAs they finish their exams, the trio relaxes by the lake and enjoy their freedom for a week before receiving their results. Harry becomes increasingly worried about the safety of the Sorcerer\\'s Stone, especially after realizing that Hagrid may have inadvertently revealed how to get past Fluffy to a stranger who had a dragon egg.\\nHarry, Ron, and Hermione decide to investigate Hagrid\\'s involvement further and confront him about the stranger he played cards with. They learn that the stranger may have tricked Hagrid into revealing information about Fluffy. They rush to inform Dumbledore, only to find out that he has left for London on urgent business.\\nDespite their concerns, they decide to take matters into their own hands and head towards the trapdoor that leads to the Stone. They navigate through various obstacles, including a chess game and a troll, before finally reaching the final chamber where the Stone is kept. Hermione solves a logic puzzle to determine which potion will allow them to proceed safely.\\nIn the end, Hermione drinks the potion that will allow her to go back and get help, while Harry drinks the potion that will lead him to the Stone. He successfully passes through the black flames and reaches the final chamber, where he encounters someone unexpected. The chapter ends with Harry facing a new challenge as he gets closer to the Sorcerer\\'s Stone. (Chapter 16)In Chapter Seventeen, titled \"The Man with Two Faces,\" Harry comes face to face with Professor Quirrell, who reveals himself to be the one behind the attempts to steal the Sorcerer\\'s Stone. Quirrell explains how he tried to kill Harry during the Quidditch match and how Snape was actually trying to save him. He also reveals his allegiance to Voldemort and his plan to kill Harry that night. Quirrell uses the Mirror of Erised to try and locate the Stone, but Harry manages to trick him and retrieve the Stone himself. Quirrell, possessed by Voldemort, tries to force Harry to give him the Stone, but Harry refuses. In a final showdown, Harry manages to defeat Quirrell by touching him, causing him to suffer excruciating pain due to his pure-hearted nature. Dumbledore arrives just in time to save Harry and prevent Quirrell from getting the Stone. \\nAfter the events, Harry is visited by Hagrid, who feels guilty for inadvertently helping Quirrell. Dumbledore awards Gryffindor house points for Harry, Ron, Hermione, and Neville for their bravery and courage. The house cup is tied between Gryffindor and Slytherin, with Gryffindor winning due to Dumbledore\\'s last-minute points. The students prepare to leave Hogwarts for the summer, with Harry looking forward to spending time with his friends and planning to have fun with Dudley, as his family is unaware of the restrictions on magic at home. The chapter ends with Harry heading back to the Muggle world, ready for a summer of adventures. (Chapter 17)In Chapter Fourteen of Harry Potter and the Sorcerer\\'s Stone, titled \"Norbert the Norwegian Ridgeback,\" the trio of Harry, Ron, and Hermione continue to keep an eye on the third-floor corridor where Fluffy, the three-headed dog, is guarding the Sorcerer\\'s Stone. Quirrell, who is trying to steal the Stone, appears to be getting weaker but has not given up yet. Meanwhile, Hermione is focused on studying for their upcoming exams, much to the annoyance of Harry and Ron.\\nHagrid, the gamekeeper, is discovered to be hiding a dragon egg in his hut, which eventually hatches into a baby dragon named Norbert. Hagrid is thrilled with his new pet, but Harry, Ron, and Hermione are concerned about the consequences of keeping an illegal dragon. They come up with a plan to send Norbert to Charlie Weasley in Romania, who works with dragons.\\nAs the trio prepares to send Norbert away, they face obstacles such as Ron getting bitten by the dragon and the risk of Malfoy discovering their plan. Despite these challenges, they successfully send Norbert off with Charlie\\'s friends and return to the castle. However, they realize they have left the invisibility cloak on top of the tower, leading to a confrontation with Filch.\\nOverall, this chapter highlights the trio\\'s efforts to protect the Sorcerer\\'s Stone and deal with the consequences of Hagrid\\'s decision to keep a dragon. It also showcases their resourcefulness and determination to solve problems, even in the face of danger. (Chapter 14)In Chapter Four of Harry Potter and the Sorcerer\\'s Stone, titled \"The Keeper of the Keys,\" the Dursleys are visited by a giant man named Rubeus Hagrid, who reveals to Harry that he is a wizard and has been accepted to Hogwarts School of Witchcraft and Wizardry. Hagrid explains to Harry about his parents, who were famous wizards, and how they were killed by the dark wizard Voldemort when Harry was just a baby. He also tells Harry about the failed attempt by Voldemort to kill him, resulting in the lightning-shaped scar on his forehead.\\nHagrid shares the history of Voldemort\\'s rise to power and eventual disappearance after his failed attempt to kill Harry. He also explains the magical world to Harry and the significance of his acceptance to Hogwarts. Despite Uncle Vernon\\'s objections, Hagrid insists that Harry will attend Hogwarts and begins making plans for his journey to the school.\\nHagrid accidentally turns Dudley into a pig after a confrontation with Uncle Vernon, revealing his magical abilities. He explains to Harry that he was expelled from Hogwarts but was allowed to stay on as the gamekeeper. Hagrid then gives Harry his coat to sleep under and prepares for their trip to Diagon Alley to purchase Harry\\'s school supplies.\\nOverall, this chapter introduces Harry to the magical world, his own history, and sets the stage for his journey to Hogwarts and the adventures that await him. It also establishes the bond between Harry and Hagrid, who becomes a mentor and friend to him throughout the series. (Chapter 4)', 'Slytherin. Each house has its own noble history and each has produced\\noutstanding witches and wizards. While you are at Hogwarts, your triumphs will\\nearn your house points, while any rulebreaking will lose house points. At the end\\nof the year, the house with the most points is awarded the house cup, a great\\nhonor. I hope each of you will be a credit to whichever house becomes yours.\\n      “The Sorting Ceremony will take place in a few minutes in front of the\\nrest of the school. I suggest you all smarten yourselves up as much as you can\\nwhile you are waiting.”\\n      Her eyes lingered for a moment on Neville’s cloak, which was fastened\\nunder his left ear, and on Ron’s smudged nose. Harry nervously tried to flatten The Sorting Hat can’t see,\\nSo try me on and I will tell you\\nWhere you ought to be.\\nYou might belong in Gryffindor,\\nWhere dwell the brave at heart,\\nTheir daring, nerve, and chivalry\\nSet Gryffindors apart;\\nYou might belong in Hufflepuff,\\nWhere they are just and loyal,\\nThose patient Hufflepuffs are true\\nAnd unafraid of toil;\\nOr yet in wise old Ravenclaw,\\nif you’ve a ready mind,\\nWhere those of wit and learning,\\nWill always find their kind;\\nOr perhaps in Slytherin\\nYou’ll make your real friends,\\nThose cunning folk use any means\\nTo achieve their ends.\\nSo put me on! Don’t be afraid!\\nAnd don’t get in a flap!\\nYou’re in safe hands (though I have none)\\nFor I’m a Thinking Cap!”\\n \\nThe whole hall burst into applause as the hat finished its song. It bowed to\\neach of the four tables and then became quite still again.\\n      “So we’ve just got to try on the hat!” Ron whispered to Harry. “I’ll kill\\nFred, he was going on about wrestling a troll.” CHAPTER SEVEN\\n \\nTHE SORTING HAT\\n \\nT \\nhe door swung open at once. A tall, black-haired witch in emerald-green\\nrobes stood there. She had a very stern face and Harry’s first thought was that\\nthis was not someone to cross.\\n      “The firs’ years, Professor McGonagall,” said Hagrid.\\n      “Thank you, Hagrid. I will take them from here.”\\n      She pulled the door wide. The entrance hall was so big you could have fit\\nthe whole of the Dursleys’ house in it. The stone walls were lit with flaming\\ntorches like the ones at Gringotts, the ceiling was too high to make out, and a\\nmagnificent marble staircase facing them led to the upper floors.\\n      They followed Professor McGonagall across the flagged stone floor.\\nHarry could hear the drone of hundreds of voices from a doorway to the right —\\nthe rest of the school must already be here — but Professor McGonagall showed\\nthe first years into a small, empty chamber off the hall. They crowded in, the rest of the school must already be here — but Professor McGonagall showed\\nthe first years into a small, empty chamber off the hall. They crowded in,\\nstanding rather closer together than they would usually have done, peering about\\nnervously.\\n      “Welcome to Hogwarts,” said Professor McGonagall. “The start-of-term\\nbanquet will begin shortly, but before you take your seats in the Great Hall, you\\nwill be sorted into your houses. The Sorting is a very important ceremony\\nbecause, while you are here, your house will be something like your family\\nwithin Hogwarts. You will have classes with the rest of your house, sleep in your\\nhouse dormitory, and spend free time in your house common room.\\n      “The four houses are called Gryffindor, Hufflepuff, Ravenclaw, and\\nSlytherin. Each house has its own noble history and each has produced\\noutstanding witches and wizards. While you are at Hogwarts, your triumphs willIn Chapter Seven of Harry Potter and the Sorcerer\\'s Stone, titled \"The Sorting Hat,\" Harry and the other first-year students arrive at Hogwarts and are greeted by Professor McGonagall. She explains the importance of the Sorting Ceremony, where students are sorted into one of four houses: Gryffindor, Hufflepuff, Ravenclaw, and Slytherin. Each house has its own characteristics and history, and students earn points for their house through their actions throughout the school year. The ceremony involves putting on a magical hat that determines which house each student belongs to.\\nAs the students wait nervously for their turn to be sorted, ghosts appear and float through the walls, adding to the tension in the room. Eventually, it is Harry\\'s turn to be sorted, and he is relieved to be placed in Gryffindor, along with his new friends Ron and Hermione. The chapter also introduces some of the other students and teachers at Hogwarts, including the strict Professor Snape and the eccentric headmaster, Albus Dumbledore.\\nAfter the Sorting Ceremony, the students enjoy a feast in the Great Hall and learn about some of the rules and traditions of the school. Dumbledore gives a quirky speech and the students sing the school song before heading to bed in their respective dormitories. Harry has a strange dream involving a talking turban and a sinister figure, but he quickly forgets about it upon waking.\\nOverall, Chapter Seven sets the stage for Harry\\'s adventures at Hogwarts and introduces the magical world of the school and its inhabitants. It highlights themes of friendship, bravery, and the importance of belonging to a community. (Chapter 7)In Chapter Twelve of Harry Potter and the Sorcerer\\'s Stone, titled \"The Mirror of Erised,\" Christmas is approaching at Hogwarts and the school is covered in snow. The Weasley twins are punished for bewitching snowballs to follow Professor Quirrell around. Harry, Ron, and Hermione decide to stay at Hogwarts for the holidays, as Ron\\'s family is visiting Charlie in Romania and Harry doesn\\'t want to go back to the Dursleys. \\nDuring a Potions class, Draco Malfoy taunts Harry about not having a proper family, leading to a confrontation between Ron and Malfoy. Hagrid, the gamekeeper, intervenes and takes Harry, Ron, and Hermione to see the Christmas decorations in the Great Hall. \\nAs the holidays begin, Harry receives presents from Hagrid, his aunt and uncle, and Hermione. The most significant gift is an invisibility cloak that once belonged to his father. Harry discovers that the cloak allows him to become invisible. \\nOn Christmas Eve, Harry and Ron visit the Mirror of Erised, which shows the deepest desires of one\\'s heart. Harry sees his deceased parents and other family members in the mirror, while Ron sees himself as head boy and the best of his siblings. Dumbledore explains the nature of the mirror to Harry, warning him not to become obsessed with what he sees. \\nHarry continues to visit the mirror, but Dumbledore moves it to a new location and advises Harry not to seek it out again. Dumbledore reveals that when he looks in the mirror, he sees himself holding a pair of socks. Harry reflects on the experience and the importance of living in the present rather than dwelling on dreams. (Chapter 12)In Chapter Eight of Harry Potter and the Sorcerer\\'s Stone, titled \"The Potions Master,\" Harry experiences the aftermath of his newfound fame as the \"Boy Who Lived.\" Whispers and stares follow him as he navigates the complex and ever-changing Hogwarts castle. He struggles to find his way to classes among the moving staircases, trick doors, and mischievous ghosts. The caretaker, Filch, and his cat, Mrs. Norris, add to the challenges of Hogwarts with their strict enforcement of rules.\\nIn his classes, Harry learns that magic is much more than waving a wand and saying funny words. He attends Astronomy, Herbology, History of Magic, Charms, and Defense Against the Dark Arts classes. Professor McGonagall warns the students about the complexity and danger of Transfiguration, while Professor Flitwick and Professor Binns teach Charms and History of Magic, respectively. Defense Against the Dark Arts with Professor Quirrell turns out to be underwhelming, with Quirrell\\'s strange stories and odd behavior raising suspicions among the students.\\nThe most challenging class for Harry is Potions with Professor Snape. Snape shows a clear dislike for Harry and favors students like Draco Malfoy. During a disastrous Potions lesson, Neville accidentally causes chaos in the classroom, leading to Snape\\'s anger and deducting points from Gryffindor. Despite Ron\\'s warnings, Harry can\\'t help but feel Snape\\'s hatred towards him.\\nAfter the Potions lesson, Harry and Ron visit Hagrid for tea. Hagrid shares stories about his encounters with Filch and Mrs. Norris, and Harry confides in him about Snape\\'s behavior. Hagrid seems to avoid Harry\\'s questions about the Gringotts break-in that happened on Harry\\'s birthday, raising suspicions in Harry\\'s mind.\\nAs Harry and Ron leave Hagrid\\'s house, Harry ponders the mysteries surrounding the break-in and Hagrid\\'s involvement. The chapter ends with Harry realizing that his tea with Hagrid has given him more to think about than any of his classes at Hogwarts. (Chapter 8)In Chapter Ten of Harry Potter and the Sorcerer\\'s Stone, titled \"Halloween,\" Harry and Ron are still at Hogwarts the day after their encounter with the three-headed dog. They are excited about the adventure and curious about the mysterious package that was moved from Gringotts to Hogwarts. The package turns out to be a Nimbus Two Thousand broomstick, a gift from Professor McGonagall for Harry. Malfoy tries to taunt Harry about the broomstick, but Professor Flitwick intervenes and congratulates Harry on his new broomstick.\\nHarry has his first Quidditch training session with Oliver Wood, the Quidditch captain. Wood explains the rules of Quidditch to Harry and shows him the different balls used in the game. Harry impresses Wood with his flying skills and catches all the practice balls thrown at him.\\nAs the weeks go by, Harry becomes more settled at Hogwarts and feels like the castle is more like home than Privet Drive. On Halloween morning, Professor Flitwick teaches the students how to make objects fly in Charms class. Harry partners with Seamus Finnigan, while Ron partners with Hermione, who is still not speaking to them. Hermione excels in the lesson, causing Ron to become even more frustrated with her.\\nDuring the Halloween feast, Professor Quirrell interrupts the festivities to announce that there is a troll in the dungeons. Percy leads the students back to their dormitories, but Harry and Ron realize that Hermione doesn\\'t know about the troll. They rush to warn her and find her in the girls\\' bathroom, cornered by the troll. Harry and Ron manage to save Hermione by distracting the troll and knocking it out.\\nProfessor McGonagall praises Harry and Ron for their bravery, and Hermione takes the blame for being in the bathroom alone. She lies to protect Harry and Ron, earning Gryffindor house points and solidifying their friendship. From that moment on, Hermione becomes a part of their trio, and they bond over their shared experience of facing a mountain troll together. (Chapter 10)In Chapter Seven of Harry Potter and the Sorcerer\\'s Stone, titled \"The Sorting Hat,\" Harry and the other first-year students arrive at Hogwarts and are greeted by Professor McGonagall. She explains the importance of the Sorting Ceremony, where students are sorted into one of four houses: Gryffindor, Hufflepuff, Ravenclaw, and Slytherin. Each house has its own characteristics and history, and students earn points for their house through their actions throughout the school year. The ceremony involves putting on a magical hat that determines which house each student belongs to.\\nAs the students wait nervously for their turn to be sorted, ghosts appear and float through the walls, adding to the tension in the room. Eventually, it is Harry\\'s turn to be sorted, and he is relieved to be placed in Gryffindor, along with his new friends Ron and Hermione. The chapter also introduces some of the other students and teachers at Hogwarts, including the strict Professor Snape and the eccentric headmaster, Albus Dumbledore.\\nAfter the Sorting Ceremony, the students enjoy a feast in the Great Hall and learn about some of the rules and traditions of the school. Dumbledore gives a quirky speech and the students sing the school song before heading to bed in their respective dormitories. Harry has a strange dream involving a talking turban and a sinister figure, but he quickly forgets about it upon waking.\\nOverall, Chapter Seven sets the stage for Harry\\'s adventures at Hogwarts and introduces the magical world of the school and its inhabitants. It highlights themes of friendship, bravery, and the importance of belonging to a community. (Chapter 7)In Chapter One of \"Harry Potter and the Sorcerer\\'s Stone,\" we are introduced to the Dursley family, who live on Privet Drive and are described as perfectly normal and not interested in anything strange or mysterious. Mr. Dursley works at a drill company, Mrs. Dursley is obsessed with spying on the neighbors, and they have a son named Dudley whom they dote on. The Dursleys have a secret fear of the Potters, Mrs. Dursley\\'s sister\\'s family, who they believe are strange and unDursleyish.\\nThe chapter sets the stage for the magical world of Harry Potter by introducing elements of magic and mystery. Mr. Dursley notices strange occurrences in his neighborhood, such as a cat reading a map and people in cloaks whispering about the Potters. These events hint at the existence of a hidden magical world that is about to collide with the Dursleys\\' ordinary lives.\\nAs the chapter progresses, we learn that something significant has happened involving the Potters and a dark wizard named Voldemort. Dumbledore, a powerful wizard, arrives on Privet Drive with Hagrid, a giant, to deliver baby Harry Potter to the Dursleys. It is revealed that Voldemort tried to kill Harry as a baby but failed, leading to his own downfall. Harry is left on the Dursleys\\' doorstep with a letter explaining his magical heritage.\\nThe chapter ends with Dumbledore leaving Harry on the doorstep and disappearing, while Harry sleeps unknowingly of his magical destiny. The chapter sets the stage for the rest of the series, introducing key characters and laying the groundwork for Harry\\'s journey as the \"boy who lived.\" (Chapter 1)In Chapter Five of Harry Potter and the Sorcerer\\'s Stone, titled \"Diagon Alley,\" Harry wakes up to find that his encounter with Hagrid and the news of his magical abilities was not a dream. Hagrid is asleep in the hut, and an owl delivers a newspaper to Harry. Hagrid instructs Harry to pay the owl with wizard coins called Knuts. Hagrid then takes Harry to Diagon Alley, a hidden street in London where wizards and witches shop for magical supplies.\\nIn Diagon Alley, Harry and Hagrid visit various shops to purchase items for Harry\\'s first year at Hogwarts School of Witchcraft and Wizardry. They visit Gringotts, the wizarding bank run by goblins, where Harry retrieves his inheritance left by his parents. They also visit shops like Flourish and Blotts for school books, the Apothecary for potion ingredients, and Ollivanders for Harry\\'s wand.\\nAt Ollivanders, Harry tries out several wands before finding the perfect match - a wand made of holly and phoenix feather. Mr. Ollivander, the wandmaker, reveals that the phoenix feather in Harry\\'s wand comes from the same phoenix that gave a feather for Voldemort\\'s wand, the wand that gave Harry his lightning scar.\\nAfter their shopping trip, Hagrid and Harry share a meal before Harry boards the train back to the Dursleys. Hagrid gives Harry his ticket for Hogwarts and assures him that he will have a great time at the school. The chapter ends with Harry watching Hagrid disappear from view as the train pulls away.\\nOverall, Chapter Five introduces Harry to the magical world of Diagon Alley, where he acquires his school supplies and his wand, setting the stage for his journey to Hogwarts and his adventures as a wizard. The chapter also highlights Harry\\'s feelings of uncertainty and excitement as he navigates his newfound fame and abilities. (Chapter 5)In Chapter Two of \"Harry Potter and the Sorcerer\\'s Stone,\" we are introduced to Harry Potter\\'s mundane life with the Dursleys, his abusive aunt, uncle, and cousin. The chapter begins with a description of the Dursleys\\' home on Privet Drive, which has hardly changed in the ten years since Harry was left on their doorstep. Harry is treated as a servant in the household, forced to do chores and live in a cupboard under the stairs.\\nOn Dudley\\'s birthday, Harry is tasked with cooking breakfast for the family and is reminded of his cousin\\'s special day. Dudley receives numerous extravagant gifts, while Harry is ignored and mistreated. The Dursleys plan to take Dudley and his friend to the zoo for the day, leaving Harry behind with their unpleasant neighbor, Mrs. Figg.\\nHowever, when Mrs. Figg breaks her leg and is unable to watch Harry, the Dursleys are forced to take him to the zoo with them. At the zoo, Harry has a rare moment of enjoyment as he observes a boa constrictor in the reptile house. He strikes up a conversation with the snake, who winks at him and communicates through gestures.\\nWhen Dudley and his friend Piers disturb the snake, it escapes from its enclosure, causing chaos in the zoo. Harry is blamed for the incident and punished by Uncle Vernon, who threatens to lock him in the cupboard for the rest of the year.\\nThe chapter ends with Harry reflecting on his lonely and miserable life with the Dursleys, longing for a connection to his deceased parents and hoping for a better future. Despite the abuse and neglect he faces, Harry remains hopeful and curious about the strange occurrences around him, hinting at his magical abilities and mysterious past. (Chapter 2)In Chapter Ten of Harry Potter and the Sorcerer\\'s Stone, titled \"Halloween,\" Harry and Ron are still at Hogwarts the day after their encounter with the three-headed dog. They are excited about the adventure and curious about the mysterious package that was moved from Gringotts to Hogwarts. The package turns out to be a Nimbus Two Thousand broomstick, a gift from Professor McGonagall for Harry. Malfoy tries to taunt Harry about the broomstick, but Professor Flitwick intervenes and congratulates Harry on his new broomstick.\\nHarry has his first Quidditch training session with Oliver Wood, the Quidditch captain. Wood explains the rules of Quidditch to Harry and shows him the different balls used in the game. Harry impresses Wood with his flying skills and catches all the practice balls thrown at him.\\nAs the weeks go by, Harry becomes more settled at Hogwarts and feels like the castle is more like home than Privet Drive. On Halloween morning, Professor Flitwick teaches the students how to make objects fly in Charms class. Harry partners with Seamus Finnigan, while Ron partners with Hermione, who is still not speaking to them. Hermione excels in the lesson, causing Ron to become even more frustrated with her.\\nDuring the Halloween feast, Professor Quirrell interrupts the festivities to announce that there is a troll in the dungeons. Percy leads the students back to their dormitories, but Harry and Ron realize that Hermione doesn\\'t know about the troll. They rush to warn her and find her in the girls\\' bathroom, cornered by the troll. Harry and Ron manage to save Hermione by distracting the troll and knocking it out.\\nProfessor McGonagall praises Harry and Ron for their bravery, and Hermione takes the blame for being in the bathroom alone. She lies to protect Harry and Ron, earning Gryffindor house points and solidifying their friendship. From that moment on, Hermione becomes a part of their trio, and they bond over their shared experience of facing a mountain troll together. (Chapter 10)In Chapter Eight of Harry Potter and the Sorcerer\\'s Stone, titled \"The Potions Master,\" Harry experiences the aftermath of his newfound fame as the \"Boy Who Lived.\" Whispers and stares follow him as he navigates the complex and ever-changing Hogwarts castle. He struggles to find his way to classes among the moving staircases, trick doors, and mischievous ghosts. The caretaker, Filch, and his cat, Mrs. Norris, add to the challenges of Hogwarts with their strict enforcement of rules.\\nIn his classes, Harry learns that magic is much more than waving a wand and saying funny words. He attends Astronomy, Herbology, History of Magic, Charms, and Defense Against the Dark Arts classes. Professor McGonagall warns the students about the complexity and danger of Transfiguration, while Professor Flitwick and Professor Binns teach Charms and History of Magic, respectively. Defense Against the Dark Arts with Professor Quirrell turns out to be underwhelming, with Quirrell\\'s strange stories and odd behavior raising suspicions among the students.\\nThe most challenging class for Harry is Potions with Professor Snape. Snape shows a clear dislike for Harry and favors students like Draco Malfoy. During a disastrous Potions lesson, Neville accidentally causes chaos in the classroom, leading to Snape\\'s anger and deducting points from Gryffindor. Despite Ron\\'s warnings, Harry can\\'t help but feel Snape\\'s hatred towards him.\\nAfter the Potions lesson, Harry and Ron visit Hagrid for tea. Hagrid shares stories about his encounters with Filch and Mrs. Norris, and Harry confides in him about Snape\\'s behavior. Hagrid seems to avoid Harry\\'s questions about the Gringotts break-in that happened on Harry\\'s birthday, raising suspicions in Harry\\'s mind.\\nAs Harry and Ron leave Hagrid\\'s house, Harry ponders the mysteries surrounding the break-in and Hagrid\\'s involvement. The chapter ends with Harry realizing that his tea with Hagrid has given him more to think about than any of his classes at Hogwarts. (Chapter 8)In Chapter Fifteen, titled \"The Forbidden Forest,\" Harry, Hermione, and Neville are caught out of bed by Professor McGonagall and are given detentions and lose a total of 150 points for Gryffindor. This causes Harry to be hated by his peers and even the other houses, except for Slytherin who cheers for him. Harry feels guilty and ashamed of his actions and offers to resign from the Quidditch team. However, he, Hermione, and Neville continue to study for their exams, trying to make up for the lost points.\\nAs the exams approach, Harry overhears Quirrell being threatened by someone and sees him leave a classroom looking distressed. Harry, Ron, and Hermione discuss what to do, but Hermione suggests going to Dumbledore for help. However, Harry is hesitant as they have no proof of their suspicions.\\nLater, Harry, Hermione, and Neville are given detention in the Forbidden Forest with Hagrid. Malfoy is also there, and they split into two groups to search for a wounded unicorn. Harry\\'s group encounters a hooded figure drinking the unicorn\\'s blood, and when it approaches Harry, he experiences intense pain in his scar. Firenze, a centaur, saves Harry and explains the significance of unicorn blood and the danger of someone seeking the Sorcerer\\'s Stone for immortality.\\nAfter the ordeal, Harry, Ron, and Hermione discuss the events of the night and find Harry\\'s invisibility cloak returned with a note from an unknown sender. The chapter ends with Harry feeling a sense of foreboding about the events unfolding at Hogwarts. (Chapter 15)In Chapter Twelve of Harry Potter and the Sorcerer\\'s Stone, titled \"The Mirror of Erised,\" Christmas is approaching at Hogwarts and the school is covered in snow. The Weasley twins are punished for bewitching snowballs to follow Professor Quirrell around. Harry, Ron, and Hermione decide to stay at Hogwarts for the holidays, as Ron\\'s family is visiting Charlie in Romania and Harry doesn\\'t want to go back to the Dursleys. \\nDuring a Potions class, Draco Malfoy taunts Harry about not having a proper family, leading to a confrontation between Ron and Malfoy. Hagrid, the gamekeeper, intervenes and takes Harry, Ron, and Hermione to see the Christmas decorations in the Great Hall. \\nAs the holidays begin, Harry receives presents from Hagrid, his aunt and uncle, and Hermione. The most significant gift is an invisibility cloak that once belonged to his father. Harry discovers that the cloak allows him to become invisible. \\nOn Christmas Eve, Harry and Ron visit the Mirror of Erised, which shows the deepest desires of one\\'s heart. Harry sees his deceased parents and other family members in the mirror, while Ron sees himself as head boy and the best of his siblings. Dumbledore explains the nature of the mirror to Harry, warning him not to become obsessed with what he sees. \\nHarry continues to visit the mirror, but Dumbledore moves it to a new location and advises Harry not to seek it out again. Dumbledore reveals that when he looks in the mirror, he sees himself holding a pair of socks. Harry reflects on the experience and the importance of living in the present rather than dwelling on dreams. (Chapter 12)', 'toads went outta fashion years ago, yeh’d be laughed at — an’ I don’ like cats,\\nthey make me sneeze. I’ll get yer an owl. All the kids want owls, they’re dead\\nuseful, carry yer mail an’ everythin’.”\\n      Twenty minutes later, they left Eeylops Owl Emporium, which had been\\ndark and full of rustling and flickering, jewel-bright eyes. Harry now carried a\\nlarge cage that held a beautiful snowy owl, fast asleep with her head under her\\nwing. He couldn’t stop stammering his thanks, sounding just like Professor\\nQuirrell.\\n      “Don’ mention it,” said Hagrid gruffly. “Don’ expect you’ve had a lotta\\npresents from them Dursleys. Just Ollivanders left now — only place fer wands,\\nOllivanders, and yeh gotta have the best wand.”\\n      A magic wand…this was what Harry had been really looking forward to.\\n      The last shop was narrow and shabby. Peeling gold letters over the door\\nread Ollivanders: Makers of Fine Wands since 382 B.C. A single wand lay on a\\nfaded purple cushion in the dusty window. Students may also bring an owl OR a cat OR a toad\\n \\nPARENTS ARE REMINDED THAT FIRST YEARS ARE NOT\\nALLOWED THEIR OWN BROOMSTICKS\\n \\n“Can we buy all this in London?” Harry wondered aloud.\\n      “If yeh know where to go,” said Hagrid.\\n \\nHarry had never been to London before. Although Hagrid seemed to know\\nwhere he was going, he was obviously not used to getting there in an ordinary\\nway. He got stuck in the ticket barrier on the Underground, and complained\\nloudly that the seats were too small and the trains too slow.\\n      “I don’t know how the Muggles manage without magic,” he said as they\\nclimbed a broken-down escalator that led up to a bustling road lined with shops.\\n      Hagrid was so huge that he parted the crowd easily; all Harry had to do\\nwas keep close behind him. They passed book shops and music stores,\\nhamburger restaurants and cinemas, but nowhere that looked as if it could sell\\nyou a magic wand. This was just an ordinary street full of ordinary people. “No — Charlie — your brother, Charlie. In Romania. Studying dragons.\\nWe could send Norbert to him. Charlie can take care of him and then put him\\nback in the wild!”\\n      “Brilliant!” said Ron. “How about it, Hagrid?”\\n      And in the end, Hagrid agreed that they could send an owl to Charlie to\\nask him.\\n \\nThe following week dragged by. Wednesday night found Hermione and\\nHarry sitting alone in the common room, long after everyone else had gone to\\nbed. The clock on the wall had just chimed midnight when the portrait hole burst\\nopen. Ron appeared out of nowhere as he pulled off Harry’s invisibility cloak.\\nHe had been down at Hagrid’s hut, helping him feed Norbert, who was now\\neating dead rats by the crate.\\n      “It bit me!” he said, showing them his hand, which was wrapped in a\\nbloody handkerchief. “I’m not going to be able to hold a quill for a week. I tell\\nyou, that dragon’s the most horrible animal I’ve ever met, but the way Hagrid knocking his bacon to the floor. They had hardly fluttered out of the way when\\nanother owl dropped a letter on top of the parcel.\\n      Harry ripped open the letter first, which was lucky, because it said:\\n \\nDO NOT OPEN THE PARCEL AT THE TABLE.\\n            It contains your new Nimbus Two Thousand, but I don’t want\\neverybody knowing you’ve got a broomstick or they’ll all want one. Oliver\\nWood will meet you tonight on the Quidditch field at seven o’clock for your first\\ntraining session. a rather severe-looking woman who was wearing square glasses exactly the\\nshape of the markings the cat had had around its eyes. She, too, was wearing a\\ncloak, an emerald one. Her black hair was drawn into a tight bun. She looked\\ndistinctly ruffled.\\n      “How did you know it was me?” she asked.\\n      “My dear Professor, I’ve never seen a cat sit so stiffly.”\\n      “You’d be stiff if you’d been sitting on a brick wall all day,” said\\nProfessor McGonagall.\\n      “All day? When you could have been celebrating? I must have passed a\\ndozen feasts and parties on my way here.”\\n      Professor McGonagall sniffed angrily.\\n      “Oh yes, I’ve celebrating, all right,” she said impatiently. “You’d think\\nthey’d be a bit more careful, but no —even the Muggles have noticed\\nsomething’s going on. It was on their news.” She jerked her head back at the\\nDursleys’ dark living-room window. “I heard it. Flocks of owls…shooting\\nstars…Well, they’re not completely stupid. They were bound to notice true.”\\n      “Wish McGonagall favored us,” said Harry. Professor McGonagall was\\nhead of Gryffindor House, but it hadn’t stopped her from giving them a huge pile\\nof homework the day before.\\n      Just then, the mail arrived. Harry had gotten used to this by now, but it\\nhad given him a bit of a shock on the first morning, when about a hundred owls\\nhad suddenly streamed into the Great Hall during breakfast, circling the tables\\nuntil they saw their owners, and dropping letters and packages onto their laps.\\n      Hedwig hadn’t brought Harry anything so far. She sometimes flew in to\\nnibble his ear and have a bit of toast before going off to sleep in the owlery with\\nthe other school owls. This morning, however, she fluttered down between the\\nmarmalade and the sugar bowl and dropped a note onto Harry’s plate. Harry tore\\nit open at once. It said, in a very untidy scrawl:\\n \\nDear Harry,\\nI know you get Friday afternoons off, so would you like to come and have a\\ncup of tea with me around three? beak.\\n      Harry scrambled to his feet, so happy he felt as though a large balloon\\nwas swelling inside him. He went straight to the window and jerked it open. The\\nowl swooped in and dropped the newspaper on top of Hagrid, who didn’t wake\\nup. The owl then fluttered onto the floor and began to attack Hagrid’s coat.\\n      “Don’t do that.”\\n      Harry tried to wave the owl out of the way, but it snapped its beak\\nfiercely at him and carried on savaging the coat.\\n      “Hagrid!” said Harry loudly. “There’s an owl —”\\n      “Pay him,” Hagrid grunted into the sofa.\\n      “What?”\\n      “He wants payin’ fer deliverin’ the paper. Look in the pockets.”\\n      Hagrid’s coat seemed to be made of nothing but pockets — bunches of\\nkeys, slug pellets, balls of string, peppermint humbugs, teabags...finally, Harry\\npulled out a handful of strange-looking coins.\\n      “Give him five Knuts,” said Hagrid sleepily.\\n      “Knuts?”\\n      “The little bronze ones.” pocket inside his overcoat he pulled an owl — a real, live, rather ruffled-looking\\nowl — a long quill, and a roll of parchment. With his tongue between his teeth\\nhe scribbled a note that Harry could read upside down:\\n \\nDear Professor Dumbledore,\\nGiven Harry his letter.\\nTaking him to buy his things tomorrow.\\nWeather’s horrible. Hope you’re well.\\nHagrid\\n \\nHagrid rolled up the note, gave it to the owl, which clamped it in its beak,\\nwent to the door, and threw the owl out into the storm. Then he came back and\\nsat down as though this was as normal as talking on the telephone.\\n      Harry realized his mouth was open and closed it quickly.\\n      “Where was I?” said Hagrid, but at that moment, Uncle Vernon, still\\nashen-faced but looking very angry, moved into the firelight.\\n      “He’s not going,” he said.\\n      Hagrid grunted.\\n      “I’d like ter see a great Muggle like you stop him,” he said.\\n      “A what?” said Harry, interested.In Chapter Ten of Harry Potter and the Sorcerer\\'s Stone, titled \"Halloween,\" Harry and Ron are still at Hogwarts the day after their encounter with the three-headed dog. They are excited about the adventure and curious about the mysterious package that was moved from Gringotts to Hogwarts. The package turns out to be a Nimbus Two Thousand broomstick, a gift from Professor McGonagall for Harry. Malfoy tries to taunt Harry about the broomstick, but Professor Flitwick intervenes and congratulates Harry on his new broomstick.\\nHarry has his first Quidditch training session with Oliver Wood, the Quidditch captain. Wood explains the rules of Quidditch to Harry and shows him the different balls used in the game. Harry impresses Wood with his flying skills and catches all the practice balls thrown at him.\\nAs the weeks go by, Harry becomes more settled at Hogwarts and feels like the castle is more like home than Privet Drive. On Halloween morning, Professor Flitwick teaches the students how to make objects fly in Charms class. Harry partners with Seamus Finnigan, while Ron partners with Hermione, who is still not speaking to them. Hermione excels in the lesson, causing Ron to become even more frustrated with her.\\nDuring the Halloween feast, Professor Quirrell interrupts the festivities to announce that there is a troll in the dungeons. Percy leads the students back to their dormitories, but Harry and Ron realize that Hermione doesn\\'t know about the troll. They rush to warn her and find her in the girls\\' bathroom, cornered by the troll. Harry and Ron manage to save Hermione by distracting the troll and knocking it out.\\nProfessor McGonagall praises Harry and Ron for their bravery, and Hermione takes the blame for being in the bathroom alone. She lies to protect Harry and Ron, earning Gryffindor house points and solidifying their friendship. From that moment on, Hermione becomes a part of their trio, and they bond over their shared experience of facing a mountain troll together. (Chapter 10)In Chapter Eleven of Harry Potter and the Sorcerer\\'s Stone, the Quidditch season has begun at Hogwarts School of Witchcraft and Wizardry. Harry is playing as the Seeker for Gryffindor in his first match against Slytherin. The team is hoping for a win to move up in the house championship standings. Harry has been practicing hard, with the help of his friends Ron and Hermione, who have been supporting him and helping him with his homework.\\nAs the match approaches, Harry faces nerves and pressure, especially as his role as Seeker has been leaked to the school. Despite the distractions, Harry is determined to do his best. However, during the match, Harry\\'s broom suddenly starts behaving erratically, almost throwing him off. It becomes clear that someone is jinxing the broom, and Hermione suspects it is Professor Snape.\\nIn a tense moment, Hermione uses a spell to set Snape\\'s robes on fire, distracting him and allowing Harry to regain control of his broom. Harry manages to catch the Golden Snitch, winning the match for Gryffindor. After the match, Harry, Ron, and Hermione confront Hagrid about Snape\\'s suspicious behavior and his possible involvement in trying to steal something guarded by a three-headed dog named Fluffy.\\nHagrid is defensive and dismisses their concerns, insisting that Snape would never harm a student. He also reveals that the object Fluffy is guarding is connected to someone named Nicolas Flamel. Despite Hagrid\\'s warnings, Harry, Ron, and Hermione are determined to uncover the truth behind Snape\\'s actions and the mystery surrounding Fluffy and Nicolas Flamel. The chapter ends with the trio determined to investigate further, despite the dangers involved. (Chapter 11)In Chapter Fourteen of Harry Potter and the Sorcerer\\'s Stone, titled \"Norbert the Norwegian Ridgeback,\" the trio of Harry, Ron, and Hermione continue to keep an eye on the third-floor corridor where Fluffy, the three-headed dog, is guarding the Sorcerer\\'s Stone. Quirrell, who is trying to steal the Stone, appears to be getting weaker but has not given up yet. Meanwhile, Hermione is focused on studying for their upcoming exams, much to the annoyance of Harry and Ron.\\nHagrid, the gamekeeper, is discovered to be hiding a dragon egg in his hut, which eventually hatches into a baby dragon named Norbert. Hagrid is thrilled with his new pet, but Harry, Ron, and Hermione are concerned about the consequences of keeping an illegal dragon. They come up with a plan to send Norbert to Charlie Weasley in Romania, who works with dragons.\\nAs the trio prepares to send Norbert away, they face obstacles such as Ron getting bitten by the dragon and the risk of Malfoy discovering their plan. Despite these challenges, they successfully send Norbert off with Charlie\\'s friends and return to the castle. However, they realize they have left the invisibility cloak on top of the tower, leading to a confrontation with Filch.\\nOverall, this chapter highlights the trio\\'s efforts to protect the Sorcerer\\'s Stone and deal with the consequences of Hagrid\\'s decision to keep a dragon. It also showcases their resourcefulness and determination to solve problems, even in the face of danger. (Chapter 14)In Chapter Five of Harry Potter and the Sorcerer\\'s Stone, titled \"Diagon Alley,\" Harry wakes up to find that his encounter with Hagrid and the news of his magical abilities was not a dream. Hagrid is asleep in the hut, and an owl delivers a newspaper to Harry. Hagrid instructs Harry to pay the owl with wizard coins called Knuts. Hagrid then takes Harry to Diagon Alley, a hidden street in London where wizards and witches shop for magical supplies.\\nIn Diagon Alley, Harry and Hagrid visit various shops to purchase items for Harry\\'s first year at Hogwarts School of Witchcraft and Wizardry. They visit Gringotts, the wizarding bank run by goblins, where Harry retrieves his inheritance left by his parents. They also visit shops like Flourish and Blotts for school books, the Apothecary for potion ingredients, and Ollivanders for Harry\\'s wand.\\nAt Ollivanders, Harry tries out several wands before finding the perfect match - a wand made of holly and phoenix feather. Mr. Ollivander, the wandmaker, reveals that the phoenix feather in Harry\\'s wand comes from the same phoenix that gave a feather for Voldemort\\'s wand, the wand that gave Harry his lightning scar.\\nAfter their shopping trip, Hagrid and Harry share a meal before Harry boards the train back to the Dursleys. Hagrid gives Harry his ticket for Hogwarts and assures him that he will have a great time at the school. The chapter ends with Harry watching Hagrid disappear from view as the train pulls away.\\nOverall, Chapter Five introduces Harry to the magical world of Diagon Alley, where he acquires his school supplies and his wand, setting the stage for his journey to Hogwarts and his adventures as a wizard. The chapter also highlights Harry\\'s feelings of uncertainty and excitement as he navigates his newfound fame and abilities. (Chapter 5)In Chapter Nine of Harry Potter and the Sorcerer\\'s Stone, titled \"The Midnight Duel,\" Harry, Ron, and Hermione find themselves in a series of adventures and challenges. The chapter begins with the announcement that Gryffindor and Slytherin will be having flying lessons together, much to Harry\\'s dismay as he will have to face Draco Malfoy. During the flying lesson, Neville injures himself and Harry impresses everyone with his flying skills, catching Neville\\'s Remembrall in a daring move.\\nLater, Malfoy challenges Harry to a wizard\\'s duel at midnight in the trophy room. Harry, Ron, and Hermione sneak out to meet Malfoy, but they are almost caught by Filch. They end up in a forbidden corridor on the third floor, where they encounter a three-headed dog guarding a trapdoor. Hermione realizes that the dog is guarding something important, possibly the package from vault seven hundred and thirteen.\\nAfter narrowly escaping the dog, the trio returns to Gryffindor tower, where Hermione scolds them for their reckless behavior. Despite the danger they faced, Harry is left wondering about the mysterious package and what secrets it may hold. The chapter ends with a sense of foreboding and the promise of more adventures to come. (Chapter 9)']\n"
          ]
        }
      ],
      "source": [
        "print(retrieved_documents)"
      ]
    },
    {
      "cell_type": "code",
      "execution_count": 34,
      "metadata": {
        "colab": {
          "base_uri": "https://localhost:8080/"
        },
        "id": "a-LHwe3k-JXm",
        "outputId": "a82e5293-db47-497b-f0e3-c66370ec88d5"
      },
      "outputs": [
        {
          "data": {
            "text/plain": [
              "['Harry Potter received his first broomstick from Professor McGonagall. This is supported by the context provided from Chapter Ten of \"Harry Potter and the Sorcerer\\'s Stone,\" which states: \"Harry receives a Nimbus Two Thousand broomstick as a gift from Professor McGonagall and is thrilled.\"',\n",
              " 'The name of the three-headed dog guarding the Sorcerer\\'s Stone is Fluffy. This is supported by the context in Chapter Sixteen, where it is mentioned: \"Harry becomes suspicious and rushes to confront Hagrid. Hagrid inadvertently reveals that he told the stranger how to get past Fluffy, the three-headed dog guarding the Sorcerer\\'s Stone.\"',\n",
              " 'The Sorting Hat initially considered Slytherin for Harry. This is supported by the context in Chapter Seven, where the Sorting Hat\\'s song mentions, \"Or perhaps in Slytherin / You’ll make your real friends, / Those cunning folk use any means / To achieve their ends.\" This suggests that the Sorting Hat saw potential in Harry for Slytherin\\'s defining traits. Additionally, the context provided does not explicitly state the Sorting Hat\\'s consideration, but the mention of Slytherin in the song implies it was a possibility.',\n",
              " \"The name of Harry's owl is not provided in the context given.\"]"
            ]
          },
          "execution_count": 34,
          "metadata": {},
          "output_type": "execute_result"
        }
      ],
      "source": [
        "generated_answers"
      ]
    },
    {
      "cell_type": "code",
      "execution_count": 36,
      "metadata": {},
      "outputs": [
        {
          "name": "stderr",
          "output_type": "stream",
          "text": [
            "Evaluating:  30%|███       | 6/20 [00:09<00:24,  1.78s/it]No statements were generated from the answer.\n",
            "Evaluating: 100%|██████████| 20/20 [00:49<00:00,  2.46s/it]\n"
          ]
        },
        {
          "name": "stdout",
          "output_type": "stream",
          "text": [
            "                                            question  \\\n",
            "0        Who gave Harry Potter his first broomstick?   \n",
            "1  What is the name of the three-headed dog guard...   \n",
            "2  Which house did the Sorting Hat initially cons...   \n",
            "3                   What is the name of Harry's owl?   \n",
            "\n",
            "                                              answer  \\\n",
            "0  Harry Potter received his first broomstick fro...   \n",
            "1  The name of the three-headed dog guarding the ...   \n",
            "2  The Sorting Hat initially considered Slytherin...   \n",
            "3  The name of Harry's owl is not provided in the...   \n",
            "\n",
            "                                            contexts          ground_truth  \\\n",
            "0  [H, P,  , 1,  , -,  , H, a, r, r, y,  , P, o, ...  Professor McGonagall   \n",
            "1  [c, l, i, m, b, e, d,  , b, a, c, k,  , i, n, ...                Fluffy   \n",
            "2  [S, l, y, t, h, e, r, i, n, .,  , E, a, c, h, ...             Slytherin   \n",
            "3  [w, i, t, h, o, u, t,  , f, u, r, t, h, e, r, ...                Hedwig   \n",
            "\n",
            "   answer_correctness  faithfulness  answer_relevancy  context_recall  \\\n",
            "0            0.587909      1.000000          1.000000             1.0   \n",
            "1            0.708007      0.666667          1.000000             1.0   \n",
            "2            0.520147      1.000000          0.913087             1.0   \n",
            "3            0.206002           NaN          0.000000             1.0   \n",
            "\n",
            "   answer_similarity  \n",
            "0           0.851634  \n",
            "1           0.832035  \n",
            "2           0.880588  \n",
            "3           0.824006  \n"
          ]
        }
      ],
      "source": [
        "\n",
        "\n",
        "# Prepare data for Ragas evaluation\n",
        "data_samples = {\n",
        "    'question': questions,  # Replace with your list of questions\n",
        "    'answer': generated_answers,  # Replace with your list of generated answers\n",
        "    'contexts': retrieved_documents,  # Your retrieved_documents list\n",
        "    'ground_truth': ground_truth_answers  # Replace with your list of ground truth answers\n",
        "}\n",
        "\n",
        "# Convert contexts to list of strings (if necessary)\n",
        "data_samples['contexts'] = [list(context) for context in data_samples['contexts']]\n",
        "\n",
        "dataset = Dataset.from_dict(data_samples)\n",
        "\n",
        "# Evaluate using Ragas with the specified metrics\n",
        "metrics = [\n",
        "    answer_correctness,\n",
        "    faithfulness,\n",
        "    answer_relevancy,\n",
        "    context_recall,\n",
        "    answer_similarity\n",
        "]\n",
        "llm = ChatOpenAI(temperature=0, model_name=\"gpt-4-1106-preview\", max_tokens=4000)\n",
        "score = evaluate(dataset, metrics=metrics, llm=llm)\n",
        "\n",
        "# Print results and explanations\n",
        "results_df = score.to_pandas()\n",
        "print(results_df)\n"
      ]
    },
    {
      "cell_type": "code",
      "execution_count": 42,
      "metadata": {},
      "outputs": [],
      "source": [
        "import pandas as pd\n",
        "def analyse_metric_results(results_df):\n",
        "    for metric_name, metric_value in results_df.items():\n",
        "        print(f\"\\n**{metric_name.upper()}**\")\n",
        "\n",
        "        # Extract the numerical value from the Series object\n",
        "        if isinstance(metric_value, pd.Series):\n",
        "            metric_value = metric_value.values[0]  # Assuming the value is at index 0\n",
        "\n",
        "        if metric_name == \"faithfulness\":\n",
        "            print(\"Measures how well the generated answer is supported by the retrieved documents.\")\n",
        "            print(f\"Score: {metric_value:.4f}\")\n",
        "            # Interpretation: Higher score indicates better faithfulness.\n",
        "        elif metric_name == \"answer_relevancy\":\n",
        "            print(\"Measures how relevant the generated answer is to the question.\")\n",
        "            print(f\"Score: {metric_value:.4f}\")\n",
        "            # Interpretation: Higher score indicates better relevance.\n",
        "        elif metric_name == \"context_precision\":\n",
        "            print(\"Measures the proportion of retrieved documents that are actually relevant.\")\n",
        "            print(f\"Score: {metric_value:.4f}\")\n",
        "            # Interpretation: Higher score indicates better precision (avoiding irrelevant documents).\n",
        "        elif metric_name == \"context_relevancy\":\n",
        "            print(\"Measures how relevant the retrieved documents are to the question.\")\n",
        "            print(f\"Score: {metric_value:.4f}\")\n",
        "            # Interpretation: Higher score indicates better relevance of retrieved documents.\n",
        "        elif metric_name == \"context_recall\":\n",
        "            print(\"Measures the proportion of relevant documents that are successfully retrieved.\")\n",
        "            print(f\"Score: {metric_value:.4f}\")\n",
        "            # Interpretation: Higher score indicates better recall (finding all relevant documents).\n",
        "        elif metric_name == \"context_entity_recall\":\n",
        "            print(\"Measures the proportion of relevant entities mentioned in the question that are also found in the retrieved documents.\")\n",
        "            print(f\"Score: {metric_value:.4f}\")\n",
        "            # Interpretation: Higher score indicates better recall of relevant entities.\n",
        "        elif metric_name == \"answer_similarity\":\n",
        "            print(\"Measures the semantic similarity between the generated answer and the ground truth answer.\")\n",
        "            print(f\"Score: {metric_value:.4f}\")\n",
        "            # Interpretation: Higher score indicates closer semantic meaning between the answers.\n",
        "        elif metric_name == \"answer_correctness\":\n",
        "            print(\"Measures whether the generated answer is factually correct.\")\n",
        "            print(f\"Score: {metric_value:.4f}\")\n",
        "            # Interpretation: Higher score indicates better correctness."
      ]
    },
    {
      "cell_type": "code",
      "execution_count": 43,
      "metadata": {},
      "outputs": [
        {
          "name": "stdout",
          "output_type": "stream",
          "text": [
            "\n",
            "**QUESTION**\n",
            "\n",
            "**ANSWER**\n",
            "\n",
            "**CONTEXTS**\n",
            "\n",
            "**GROUND_TRUTH**\n",
            "\n",
            "**ANSWER_CORRECTNESS**\n",
            "Measures whether the generated answer is factually correct.\n",
            "Score: 0.5879\n",
            "\n",
            "**FAITHFULNESS**\n",
            "Measures how well the generated answer is supported by the retrieved documents.\n",
            "Score: 1.0000\n",
            "\n",
            "**ANSWER_RELEVANCY**\n",
            "Measures how relevant the generated answer is to the question.\n",
            "Score: 1.0000\n",
            "\n",
            "**CONTEXT_RECALL**\n",
            "Measures the proportion of relevant documents that are successfully retrieved.\n",
            "Score: 1.0000\n",
            "\n",
            "**ANSWER_SIMILARITY**\n",
            "Measures the semantic similarity between the generated answer and the ground truth answer.\n",
            "Score: 0.8516\n"
          ]
        }
      ],
      "source": [
        "analyse_metric_results(results_df)"
      ]
    },
    {
      "cell_type": "code",
      "execution_count": null,
      "metadata": {
        "colab": {
          "base_uri": "https://localhost:8080/"
        },
        "id": "048b2Ol7QAiF",
        "outputId": "1c891083-5c91-4425-ba23-50d1f32e0ac5"
      },
      "outputs": [
        {
          "name": "stdout",
          "output_type": "stream",
          "text": [
            "You can start chatting with me about Harry Potter. Type 'exit' to stop.\n"
          ]
        }
      ],
      "source": [
        "chat_with_data(retriever,chapter_summaries_retriever, answer_from_context_llm_chain, multi_query_retriver_llm)"
      ]
    }
  ],
  "metadata": {
    "colab": {
      "provenance": []
    },
    "kernelspec": {
      "display_name": "Python 3",
      "name": "python3"
    },
    "language_info": {
      "codemirror_mode": {
        "name": "ipython",
        "version": 3
      },
      "file_extension": ".py",
      "mimetype": "text/x-python",
      "name": "python",
      "nbconvert_exporter": "python",
      "pygments_lexer": "ipython3",
      "version": "3.12.0"
    }
  },
  "nbformat": 4,
  "nbformat_minor": 0
}
