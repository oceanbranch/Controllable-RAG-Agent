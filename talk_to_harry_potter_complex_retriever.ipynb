{
  "cells": [
    {
      "cell_type": "markdown",
      "metadata": {},
      "source": [
        "### Importing Necessary Libraries\n"
      ]
    },
    {
      "cell_type": "code",
      "execution_count": 1,
      "metadata": {
        "id": "XIL5OCqJ7bh8"
      },
      "outputs": [
        {
          "name": "stderr",
          "output_type": "stream",
          "text": [
            "c:\\Users\\N7\\PycharmProjects\\llm_tasks\\RAG-Harry-Potter\\.venv\\Lib\\site-packages\\tqdm\\auto.py:21: TqdmWarning: IProgress not found. Please update jupyter and ipywidgets. See https://ipywidgets.readthedocs.io/en/stable/user_install.html\n",
            "  from .autonotebook import tqdm as notebook_tqdm\n"
          ]
        }
      ],
      "source": [
        "# from langchain.chat_models import ChatOpenAI\n",
        "from langchain_openai import ChatOpenAI \n",
        "\n",
        "from langchain.document_loaders import  PyPDFLoader\n",
        "from langchain.vectorstores import  FAISS\n",
        "from langchain.text_splitter import  RecursiveCharacterTextSplitter\n",
        "from langchain.embeddings import OpenAIEmbeddings \n",
        "from langchain.prompts import PromptTemplate\n",
        "from langchain.chains import LLMChain\n",
        "from langchain.docstore.document import Document\n",
        "from langchain.chains.summarize import load_summarize_chain\n",
        "from time import monotonic\n",
        "from langchain_groq import ChatGroq\n",
        "from langchain_core.pydantic_v1 import BaseModel, Field\n",
        "from langchain_core.output_parsers import JsonOutputParser\n",
        "from dotenv import load_dotenv\n",
        "from langchain.agents import initialize_agent, Tool\n",
        "from langchain.chains.question_answering import load_qa_chain\n",
        "from pprint import pprint\n",
        "import textwrap\n",
        "import os\n",
        "from datasets import Dataset\n",
        "from ragas import evaluate\n",
        "from ragas.metrics import (\n",
        "    answer_correctness,\n",
        "    faithfulness,\n",
        "    answer_relevancy,\n",
        "    context_recall,\n",
        "    answer_similarity\n",
        ")\n",
        "\n",
        "from langgraph.graph import END, StateGraph\n",
        "from typing_extensions import TypedDict\n",
        "from langchain_core.runnables.graph import MermaidDrawMethod\n",
        "from IPython.display import display, Image\n",
        "from langchain.schema import AIMessage\n",
        "from langchain import hub\n",
        "from langgraph.prebuilt import create_react_agent\n",
        "from typing import List, Tuple, Annotated, TypedDict\n",
        "from langchain_core.pydantic_v1 import BaseModel, Field\n",
        "\n",
        "import operator\n",
        "import langgraph\n",
        "\n",
        "### Helper functions for the notebook\n",
        "from helper_functions import num_tokens_from_string, replace_t_with_space, replace_double_lines_with_one_line, split_into_chapters,\\\n",
        "analyse_metric_results, escape_quotes, format_state_past_steps, clean_empty_fields_dictionary, process_replanner_output\n",
        "\n",
        "load_dotenv()\n",
        "\n",
        "os.environ[\"PYDEVD_WARN_EVALUATION_TIMEOUT\"] = \"100000\""
      ]
    },
    {
      "cell_type": "markdown",
      "metadata": {},
      "source": [
        "### Setting Preferred Encoding for PyPDF on Google Colab\n"
      ]
    },
    {
      "cell_type": "code",
      "execution_count": 2,
      "metadata": {
        "id": "c6QeKRm37HwC"
      },
      "outputs": [],
      "source": [
        "import locale\n",
        "def getpreferredencoding(do_setlocale = True):\n",
        "    return \"UTF-8\"\n",
        "locale.getpreferredencoding = getpreferredencoding # For using PyPDF on google colab "
      ]
    },
    {
      "cell_type": "markdown",
      "metadata": {},
      "source": [
        "### Setting OPENAI and GROQ API keys"
      ]
    },
    {
      "cell_type": "code",
      "execution_count": 2,
      "metadata": {},
      "outputs": [],
      "source": [
        "os.environ[\"OPENAI_API_KEY\"] = os.getenv('OPENAI_API_KEY')\n",
        "groq_api_key = os.getenv('GROQ_API_KEY')"
      ]
    },
    {
      "cell_type": "markdown",
      "metadata": {},
      "source": [
        "### Defining Path to Harry Potter PDF\n"
      ]
    },
    {
      "cell_type": "code",
      "execution_count": 4,
      "metadata": {
        "id": "8mUYHG_S6y22"
      },
      "outputs": [],
      "source": [
        "hp_pdf_path =\"Harry_Potter_Book_1_The_Sorcerers_Stone.pdf\""
      ]
    },
    {
      "cell_type": "markdown",
      "metadata": {},
      "source": [
        "### Splitting the PDF into Chapters and Preprocessing\n"
      ]
    },
    {
      "cell_type": "code",
      "execution_count": 5,
      "metadata": {
        "id": "cDHfDODdTIBY"
      },
      "outputs": [
        {
          "name": "stdout",
          "output_type": "stream",
          "text": [
            "17\n"
          ]
        }
      ],
      "source": [
        "chapters = split_into_chapters(hp_pdf_path) \n",
        "chapters = replace_t_with_space(chapters)\n",
        "print(len(chapters))"
      ]
    },
    {
      "cell_type": "markdown",
      "metadata": {},
      "source": [
        "### Defining Prompt Template for Summarization\n"
      ]
    },
    {
      "cell_type": "code",
      "execution_count": 6,
      "metadata": {
        "id": "49RqsAhDxjFg"
      },
      "outputs": [],
      "source": [
        "summarization_prompt_template = \"\"\"Write an extensive summary of about of the following:\n",
        "\n",
        "{text}\n",
        "\n",
        "SUMMARY:\"\"\"\n",
        "\n",
        "summarization_prompt = PromptTemplate(template=summarization_prompt_template, input_variables=[\"text\"])"
      ]
    },
    {
      "cell_type": "markdown",
      "metadata": {},
      "source": [
        "### Defining Function to Create Chapter Summaries using LLMs\n"
      ]
    },
    {
      "cell_type": "code",
      "execution_count": 7,
      "metadata": {
        "id": "ehe6iObnx4l9"
      },
      "outputs": [],
      "source": [
        "def create_chapter_summary(chapter):\n",
        "    \"\"\"\n",
        "    Creates a summary of a chapter using a large language model (LLM).\n",
        "\n",
        "    Args:\n",
        "        chapter: A Document object representing the chapter to summarize.\n",
        "\n",
        "    Returns:\n",
        "        A Document object containing the summary of the chapter.\n",
        "    \"\"\"\n",
        "\n",
        "    chapter_txt = chapter.page_content  # Extract chapter text\n",
        "    model_name = \"gpt-3.5-turbo-0125\"  # Specify LLM model\n",
        "    llm = ChatOpenAI(temperature=0, model_name=model_name)  # Create LLM instance\n",
        "    gpt_35_turbo_max_tokens = 16000  # Maximum token limit for the LLM\n",
        "    verbose = False  # Set to True for more detailed output\n",
        "\n",
        "    # Calculate number of tokens in the chapter text\n",
        "    num_tokens = num_tokens_from_string(chapter_txt, model_name)\n",
        "\n",
        "    # Choose appropriate chain type based on token count\n",
        "    if num_tokens < gpt_35_turbo_max_tokens:\n",
        "        chain = load_summarize_chain(llm, chain_type=\"stuff\", prompt=summarization_prompt, verbose=verbose)\n",
        "    else:\n",
        "        chain = load_summarize_chain(llm, chain_type=\"map_reduce\", map_prompt=summarization_prompt, combine_prompt=summarization_prompt, verbose=verbose)\n",
        "\n",
        "    start_time = monotonic()  # Start timer\n",
        "    doc_chapter = Document(page_content=chapter_txt)  # Create Document object for chapter\n",
        "    summary = chain.invoke([doc_chapter])  # Generate summary using the chain\n",
        "    print(f\"Chain type: {chain.__class__.__name__}\")  # Print chain type\n",
        "    print(f\"Run time: {monotonic() - start_time}\")  # Print execution time\n",
        "\n",
        "    # Clean up summary text\n",
        "    summary = replace_double_lines_with_one_line(summary[\"output_text\"])\n",
        "\n",
        "    # Create Document object for summary\n",
        "    doc_summary = Document(page_content=summary, metadata=chapter.metadata)\n",
        "\n",
        "    return doc_summary"
      ]
    },
    {
      "cell_type": "markdown",
      "metadata": {},
      "source": [
        "### Generating Summaries for Each Chapter\n"
      ]
    },
    {
      "cell_type": "code",
      "execution_count": null,
      "metadata": {
        "colab": {
          "base_uri": "https://localhost:8080/"
        },
        "id": "l4UBurLsMCHj",
        "outputId": "668932cf-02d8-446d-e0ed-3f85b30d3bba"
      },
      "outputs": [],
      "source": [
        "chapter_summaries = []\n",
        "for chapter in chapters:\n",
        "    chapter_summaries.append(create_chapter_summary(chapter))"
      ]
    },
    {
      "cell_type": "markdown",
      "metadata": {},
      "source": [
        "### Function to Encode a Book into a Vector Store using OpenAI Embeddings\n"
      ]
    },
    {
      "cell_type": "code",
      "execution_count": 9,
      "metadata": {
        "id": "9t1Kq6fGS0EA"
      },
      "outputs": [],
      "source": [
        "def encode_book(path, chunk_size=1000, chunk_overlap=200):\n",
        "    \"\"\"\n",
        "    Encodes a PDF book into a vector store using OpenAI embeddings.\n",
        "\n",
        "    Args:\n",
        "        path: The path to the PDF file.\n",
        "        chunk_size: The desired size of each text chunk.\n",
        "        chunk_overlap: The amount of overlap between consecutive chunks.\n",
        "\n",
        "    Returns:\n",
        "        A FAISS vector store containing the encoded book content.\n",
        "    \"\"\"\n",
        "\n",
        "    # Load PDF documents\n",
        "    loader = PyPDFLoader(path)\n",
        "    documents = loader.load()\n",
        "\n",
        "    # Split documents into chunks\n",
        "    text_splitter = RecursiveCharacterTextSplitter(\n",
        "        chunk_size=chunk_size, chunk_overlap=chunk_overlap, length_function=len\n",
        "    )\n",
        "    texts = text_splitter.split_documents(documents)\n",
        "    cleaned_texts = replace_t_with_space(texts)\n",
        "\n",
        "    # Create embeddings and vector store\n",
        "    embeddings = OpenAIEmbeddings()\n",
        "    vectorstore = FAISS.from_documents(cleaned_texts, embeddings)\n",
        "\n",
        "    return vectorstore"
      ]
    },
    {
      "cell_type": "markdown",
      "metadata": {},
      "source": [
        "### Encoding Chapter Summaries into Vector Store\n"
      ]
    },
    {
      "cell_type": "code",
      "execution_count": 10,
      "metadata": {
        "id": "FHt9Y12gMp2z"
      },
      "outputs": [],
      "source": [
        "def encode_chapter_summaries(chapter_summaries):\n",
        "    \"\"\"\n",
        "    Encodes a list of chapter summaries into a vector store using OpenAI embeddings.\n",
        "\n",
        "    Args:\n",
        "        chapter_summaries: A list of Document objects representing the chapter summaries.\n",
        "\n",
        "    Returns:\n",
        "        A FAISS vector store containing the encoded chapter summaries.\n",
        "    \"\"\"\n",
        "\n",
        "    embeddings = OpenAIEmbeddings()  # Create OpenAI embeddings\n",
        "    chapter_summaries_vectorstore = FAISS.from_documents(chapter_summaries, embeddings)  # Create vector store\n",
        "    return chapter_summaries_vectorstore"
      ]
    },
    {
      "cell_type": "markdown",
      "metadata": {},
      "source": [
        "### Creating Vector Stores and Retrievers for Book and Chapter Summaries\n"
      ]
    },
    {
      "cell_type": "code",
      "execution_count": 3,
      "metadata": {},
      "outputs": [
        {
          "name": "stderr",
          "output_type": "stream",
          "text": [
            "c:\\Users\\N7\\PycharmProjects\\llm_tasks\\RAG-Harry-Potter\\.venv\\Lib\\site-packages\\langchain_core\\_api\\deprecation.py:119: LangChainDeprecationWarning: The class `OpenAIEmbeddings` was deprecated in LangChain 0.0.9 and will be removed in 0.3.0. An updated version of the class exists in the langchain-openai package and should be used instead. To use it run `pip install -U langchain-openai` and import as `from langchain_openai import OpenAIEmbeddings`.\n",
            "  warn_deprecated(\n"
          ]
        }
      ],
      "source": [
        "# ### IF VECTOR STORES ALREADY EXIST, LOAD THEM\n",
        "if os.path.exists(\"chunks_vector_store\") and os.path.exists(\"chapter_summaries_vector_store\"):\n",
        "    embeddings = OpenAIEmbeddings()\n",
        "    chunks_vector_store =  FAISS.load_local(\"chunks_vector_store\", embeddings, allow_dangerous_deserialization=True)\n",
        "    chapter_summaries_vector_store =  FAISS.load_local(\"chapter_summaries_vector_store\", embeddings, allow_dangerous_deserialization=True)\n",
        "\n",
        "else:\n",
        "    chunks_vector_store = encode_book(hp_pdf_path, chunk_size=1000, chunk_overlap=200)\n",
        "    chapter_summaries_vector_store = encode_chapter_summaries(chapter_summaries)\n",
        "\n",
        "    chunks_vector_store.save_local(\"chunks_vector_store\") # save the chunks_vector_store\n",
        "    chapter_summaries_vector_store.save_local(\"chapter_summaries_vector_store\") # save the chapter_summaries_vector_store\n"
      ]
    },
    {
      "cell_type": "markdown",
      "metadata": {},
      "source": [
        "### Create retrievers from the vector stores"
      ]
    },
    {
      "cell_type": "code",
      "execution_count": 4,
      "metadata": {},
      "outputs": [],
      "source": [
        "chunks_query_retriever = chunks_vector_store.as_retriever(search_kwargs={\"k\": 1})     \n",
        "chapter_summaries_query_retriever = chapter_summaries_vector_store.as_retriever(search_kwargs={\"k\": 1})"
      ]
    },
    {
      "cell_type": "markdown",
      "metadata": {},
      "source": [
        "## Create graph nodes and LLM function for the nodes"
      ]
    },
    {
      "cell_type": "markdown",
      "metadata": {},
      "source": [
        "### Agrregate retrieved content as string context"
      ]
    },
    {
      "cell_type": "code",
      "execution_count": 214,
      "metadata": {},
      "outputs": [],
      "source": [
        "def retrieve_context_per_question(state):\n",
        " \n",
        "    # Retrieve relevant documents\n",
        "    print(\"Retrieving relevant chunks...\")\n",
        "    question = state[\"question\"]\n",
        "    docs = chunks_query_retriever.get_relevant_documents(question)\n",
        "\n",
        "    # Concatenate document content\n",
        "    context = \" \".join(doc.page_content for doc in docs)\n",
        "\n",
        "\n",
        "    print(\"Retrieving relevant chapter summaries...\")\n",
        "    question = state[\"question\"]\n",
        "\n",
        "    docs_summaries = chapter_summaries_query_retriever.get_relevant_documents(state[\"question\"])\n",
        "\n",
        "\n",
        "    # Concatenate chapter summaries with citation information\n",
        "    context_summaries = \" \".join(\n",
        "        f\"{doc.page_content} (Chapter {doc.metadata['chapter']})\" for doc in docs_summaries\n",
        "    )\n",
        "\n",
        "    all_contexts = context + context_summaries\n",
        "    all_contexts = escape_quotes(all_contexts)\n",
        "\n",
        "    return {\"context\": all_contexts, \"question\": question}\n",
        "\n"
      ]
    },
    {
      "cell_type": "markdown",
      "metadata": {},
      "source": [
        "### LLM based function to distill only relevant retrieved content"
      ]
    },
    {
      "cell_type": "code",
      "execution_count": 243,
      "metadata": {},
      "outputs": [],
      "source": [
        "keep_only_relevant_content_prompt_template = \"\"\"you receive a query: {query} and retrieved docuemnts: {retrieved_documents} from a vector store.\n",
        " You need to filter the retrieved data and keep only the sentences that are relevant, but all of them.\n",
        " you should output the distilled content in a json format. \n",
        " REMEMBER: the output has to be a json containing ALL the relevant sentences, and not the answer to the query. output\n",
        "  **ONLY** the json format without any additional text {format_instructions}\"\"\"\n",
        "\n",
        "# class RelevantContent(BaseModel):\n",
        "#     \"\"\"Relevant content from the retrieved documents that is relevant to the query.\"\"\"\n",
        "#     relevant_content: List[str] = Field(description=\"The relevant content from the retrieved documents that is relevant to the query.\")\n",
        "\n",
        "\n",
        "class KeepRelevantContent(BaseModel):\n",
        "    relevant_content: str = Field(description=\"The relevant content from the retrieved documents that is relevant to the query.\")\n",
        "    explanation: str = Field(description=\"An explanation of why the content is relevant to the query\")\n",
        "\n",
        "\n",
        "keep_only_relevant_content_json_parser = JsonOutputParser(pydantic_object=KeepRelevantContent)\n",
        "\n",
        "keep_only_relevant_content_prompt = PromptTemplate(\n",
        "    template=keep_only_relevant_content_prompt_template,\n",
        "    input_variables=[\"query\", \"retrieved_documents\"],\n",
        "    partial_variables={\"format_instructions\": keep_only_relevant_content_json_parser.get_format_instructions()}, \n",
        ")\n",
        "\n",
        "\n",
        "# keep_only_relevant_content_llm = ChatGroq(temperature=0, model_name=\"llama3-70b-8192\", groq_api_key=groq_api_key, max_tokens=4000)\n",
        "keep_only_relevant_content_llm = ChatOpenAI(temperature=0, model_name=\"gpt-3.5-turbo-0125\", max_tokens=2000)\n",
        "keep_only_relevant_content_chain = keep_only_relevant_content_prompt | keep_only_relevant_content_llm | keep_only_relevant_content_json_parser\n",
        "# keep_only_relevant_content_chain = keep_only_relevant_content_prompt | keep_only_relevant_content_llm.with_structured_output(RelevantContent)\n",
        "\n",
        "\n",
        "\n",
        "def keep_only_relevant_content(state):\n",
        "    \"\"\"\n",
        "    Keeps only the relevant content from the retrieved documents that is relevant to the query.\n",
        "\n",
        "    Args:\n",
        "        question: The query question.\n",
        "        context: The retrieved documents.\n",
        "        chain: The LLMChain instance.\n",
        "\n",
        "    Returns:\n",
        "        The relevant content from the retrieved documents that is relevant to the query.\n",
        "    \"\"\"\n",
        "    question = state[\"question\"]\n",
        "    context = state[\"context\"]\n",
        "\n",
        "    input_data = {\n",
        "    \"query\": question,\n",
        "    \"retrieved_documents\": context\n",
        "}\n",
        "    print(\"keeping only the relevant content...\")\n",
        "    # Invoke the chain to keep only the relevant content\n",
        "    output = keep_only_relevant_content_chain.invoke(input_data)\n",
        "    relevant_content = output[\"relevant_content\"]\n",
        "    relevant_content = \"\".join(relevant_content)\n",
        "    relevant_content = escape_quotes(relevant_content)\n",
        "\n",
        "    return {\"context\": relevant_content, \"question\": question}\n",
        "\n"
      ]
    },
    {
      "cell_type": "markdown",
      "metadata": {},
      "source": [
        "### LLM based function to re-write a question"
      ]
    },
    {
      "cell_type": "code",
      "execution_count": 207,
      "metadata": {},
      "outputs": [],
      "source": [
        "### Question Re-writer\n",
        "\n",
        "class RewriteQuestion(BaseModel):\n",
        "    \"\"\"\n",
        "    Output schema for the rewritten question.\n",
        "    \"\"\"\n",
        "    rewritten_question: str = Field(description=\"The improved question optimized for vectorstore retrieval.\")\n",
        "    explanation: str = Field(description=\"The explanation of the rewritten question.\")\n",
        "\n",
        "rewrite_question_string_parser = JsonOutputParser(pydantic_object=RewriteQuestion)\n",
        "\n",
        "\n",
        "rewrite_llm = ChatGroq(temperature=0, model_name=\"llama3-70b-8192\", groq_api_key=groq_api_key, max_tokens=4000)\n",
        "rewrite_prompt_template = \"\"\"You are a question re-writer that converts an input question to a better version optimized for vectorstore retrieval.\n",
        " Analyze the input question {question} and try to reason about the underlying semantic intent / meaning.\n",
        " {format_instructions}\n",
        " \"\"\"\n",
        "\n",
        "rewrite_prompt = PromptTemplate(\n",
        "    template=rewrite_prompt_template,\n",
        "    input_variables=[\"question\"],\n",
        "    partial_variables={\"format_instructions\": rewrite_question_string_parser.get_format_instructions()},\n",
        ")\n",
        "\n",
        "question_rewriter = rewrite_prompt | rewrite_llm | rewrite_question_string_parser  # Combine prompt, LLM, and parser\n",
        "\n",
        "def rewrite_question(state):\n",
        "    \"\"\"Rewrites the given question using the LLM.\"\"\"\n",
        "    question = state[\"question\"]\n",
        "    print(\"Rewriting the question...\")\n",
        "    result = question_rewriter.invoke({\"question\": question})\n",
        "    new_question = result[\"rewritten_question\"]\n",
        "    return {\"question\": new_question}"
      ]
    },
    {
      "cell_type": "markdown",
      "metadata": {},
      "source": [
        "### LLM based function to answer a question given context"
      ]
    },
    {
      "cell_type": "code",
      "execution_count": 8,
      "metadata": {},
      "outputs": [],
      "source": [
        "class QuestionAnswerFromContext(BaseModel):\n",
        "    answer_based_on_content: str = Field(description=\"generates an answer to a query based on a given context.\")\n",
        "    explanation: str = Field(description=\"The explanation of the answer.\")\n",
        "\n",
        "question_answer_from_context_json_parser = JsonOutputParser(pydantic_object=QuestionAnswerFromContext)\n",
        "question_answer_from_context_llm = ChatGroq(temperature=0, model_name=\"llama3-70b-8192\", groq_api_key=groq_api_key, max_tokens=4000)\n",
        "\n",
        "question_answer_from_context_prompt_template = \"\"\"you receive a query: {query} and a context: {context}. \n",
        "You need to answer the query from the context. the output has to be a json containing the answer to the query.\n",
        " {format_instructions}\"\"\"\n",
        "\n",
        "question_answer_from_context_prompt = PromptTemplate(\n",
        "    template=question_answer_from_context_prompt_template,\n",
        "    input_variables=[\"query\", \"context\"],\n",
        "    partial_variables={\"format_instructions\": question_answer_from_context_json_parser.get_format_instructions()},\n",
        ")\n",
        "question_answer_from_context_chain = question_answer_from_context_prompt | question_answer_from_context_llm | question_answer_from_context_json_parser\n",
        "\n",
        "def answer_question_from_context(state):\n",
        "    \"\"\"\n",
        "    Answers a question from a given context.\n",
        "\n",
        "    Args:\n",
        "        question: The query question.\n",
        "        context: The context to answer the question from.\n",
        "        chain: The LLMChain instance.\n",
        "\n",
        "    Returns:\n",
        "        The answer to the question from the context.\n",
        "    \"\"\"\n",
        "    question = state[\"question\"]\n",
        "    context = state[\"context\"]\n",
        "\n",
        "    input_data = {\n",
        "    \"query\": question,\n",
        "    \"context\": context\n",
        "}\n",
        "    print(\"Answering the question from the retrieved context...\")\n",
        "\n",
        "    # Invoke the chain to answer the question from the context\n",
        "    output = question_answer_from_context_chain.invoke(input_data)\n",
        "    answer = output[\"answer_based_on_content\"]\n",
        "    return {\"answer\": answer, \"context\": context, \"question\": question}\n"
      ]
    },
    {
      "cell_type": "markdown",
      "metadata": {},
      "source": [
        "## Create graph edges"
      ]
    },
    {
      "cell_type": "markdown",
      "metadata": {},
      "source": [
        "### LLM based function to determine if retrieved content is relevant to question"
      ]
    },
    {
      "cell_type": "code",
      "execution_count": 81,
      "metadata": {},
      "outputs": [],
      "source": [
        "is_relevant_content_prompt_template = \"\"\"you receive a query: {query} and a context: {context} retrieved from a vector store. \n",
        "You need to determine if the document is relevant to the query. \n",
        "\n",
        "{format_instructions}\"\"\"\n",
        "\n",
        "class Relevance(BaseModel):\n",
        "    is_relevant: bool = Field(description=\"Whether the document is relevant to the query.\")\n",
        "    explanation: str = Field(description=\"An explanation of why the document is relevant or not.\")\n",
        "\n",
        "is_relevant_json_parser = JsonOutputParser(pydantic_object=Relevance)\n",
        "is_relevant_llm = ChatGroq(temperature=0, model_name=\"llama3-70b-8192\", groq_api_key=groq_api_key, max_tokens=4000)\n",
        "\n",
        "is_relevant_content_prompt = PromptTemplate(\n",
        "    template=is_relevant_content_prompt_template,\n",
        "    input_variables=[\"query\", \"context\"],\n",
        "    partial_variables={\"format_instructions\": is_relevant_json_parser.get_format_instructions()},\n",
        ")\n",
        "is_relevant_content_chain = is_relevant_content_prompt | is_relevant_llm | is_relevant_json_parser\n",
        "\n",
        "def is_relevant_content(state):\n",
        "    \"\"\"\n",
        "    Determines if the document is relevant to the query.\n",
        "\n",
        "    \"\"\"\n",
        "\n",
        "    question = state[\"question\"]\n",
        "    context = state[\"context\"]\n",
        "\n",
        "    input_data = {\n",
        "    \"query\": question,\n",
        "    \"context\": context\n",
        "}\n",
        "\n",
        "    # Invoke the chain to determine if the document is relevant\n",
        "    output = is_relevant_content_chain.invoke(input_data)\n",
        "    print(\"Determining if the document is relevant...\")\n",
        "    if output[\"is_relevant\"] == True:\n",
        "        print(\"The document is relevant.\")\n",
        "        return \"relevant\"\n",
        "    else:\n",
        "        print(\"The document is not relevant.\")\n",
        "        return \"not relevant\"\n",
        "    \n"
      ]
    },
    {
      "cell_type": "markdown",
      "metadata": {},
      "source": [
        "### LLM chain to check if an answer is hallucination"
      ]
    },
    {
      "cell_type": "code",
      "execution_count": 10,
      "metadata": {},
      "outputs": [],
      "source": [
        "class is_grounded_on_facts(BaseModel):\n",
        "    \"\"\"\n",
        "    Output schema for the rewritten question.\n",
        "    \"\"\"\n",
        "    grounded_on_facts: bool = Field(description=\"Answer is grounded in the facts, 'yes' or 'no'\")\n",
        "    explanation: str = Field(description=\"An explanation of why the answer is grounded in the facts or not.\")\n",
        "\n",
        "grounded_on_facts_parser = JsonOutputParser(pydantic_object=is_grounded_on_facts)\n",
        "is_grounded_on_facts_llm = ChatGroq(temperature=0, model_name=\"llama3-70b-8192\", groq_api_key=groq_api_key, max_tokens=4000)\n",
        "is_grounded_on_facts_prompt_template = \"\"\"You are a fact-checker that determines if the answer to the question is grounded in the facts.\n",
        " Analyze the input context {context} and the answer {answer} and determine if the answer is grounded in the facts.\n",
        " {format_instructions}\n",
        " \"\"\"\n",
        "is_grounded_on_facts_prompt = PromptTemplate(\n",
        "    template=is_grounded_on_facts_prompt_template,\n",
        "    input_variables=[\"context\", \"answer\"],\n",
        "    partial_variables={\"format_instructions\": grounded_on_facts_parser.get_format_instructions()},\n",
        ")\n",
        "is_grounded_on_facts_chain = is_grounded_on_facts_prompt | is_grounded_on_facts_llm | grounded_on_facts_parser\n",
        "\n",
        "\n"
      ]
    },
    {
      "cell_type": "markdown",
      "metadata": {},
      "source": [
        "### LLM chain to determine if a question can be fully answered given a context"
      ]
    },
    {
      "cell_type": "code",
      "execution_count": 11,
      "metadata": {},
      "outputs": [],
      "source": [
        "can_be_answered_prompt_template = \"\"\"You receive a query: {question} and a context: {context}. \n",
        "You need to determine if the question can be fully answered based on the context.\n",
        "{format_instructions}\n",
        "\"\"\"\n",
        "\n",
        "class QuestionAnswer(BaseModel):\n",
        "    can_be_answered: bool = Field(description=\"binary result of whether the question can be fully answered or not\")\n",
        "    explanation: str = Field(description=\"An explanation of why the question can be fully answered or not.\")\n",
        "\n",
        "can_be_answered_json_parser = JsonOutputParser(pydantic_object=QuestionAnswer)\n",
        "\n",
        "answer_question_prompt = PromptTemplate(\n",
        "    template=can_be_answered_prompt_template,\n",
        "    input_variables=[\"question\",\"context\"],\n",
        "    partial_variables={\"format_instructions\": can_be_answered_json_parser.get_format_instructions()},\n",
        ")\n",
        "\n",
        "can_be_answered_llm = ChatGroq(temperature=0, model_name=\"llama3-70b-8192\", groq_api_key=groq_api_key, max_tokens=4000)\n",
        "can_be_answered_chain = answer_question_prompt | can_be_answered_llm | can_be_answered_json_parser\n",
        "\n",
        "    "
      ]
    },
    {
      "cell_type": "markdown",
      "metadata": {},
      "source": [
        "### function to check both cases - hallucination and full answer"
      ]
    },
    {
      "cell_type": "code",
      "execution_count": 12,
      "metadata": {},
      "outputs": [],
      "source": [
        "def grade_generation_v_documents_and_question(state):\n",
        "    \"\"\"Determines if the answer to the question is grounded in the facts.\"\"\"\n",
        "    print(\"Checking if the answer is grounded in the facts...\")\n",
        "    context = state[\"context\"]\n",
        "    answer = state[\"answer\"]\n",
        "    question = state[\"question\"]\n",
        "    \n",
        "    result = is_grounded_on_facts_chain.invoke({\"context\": context, \"answer\": answer})\n",
        "    grounded_on_facts = result[\"grounded_on_facts\"]\n",
        "    if not grounded_on_facts:\n",
        "        print(\"The answer is hallucination.\")\n",
        "        return \"hallucination\"\n",
        "    else:\n",
        "        print(\"The answer is grounded in the facts.\")\n",
        "\n",
        "        input_data = {\n",
        "            \"question\": question,\n",
        "            \"context\": context\n",
        "        }\n",
        "\n",
        "        # Invoke the chain to determine if the question can be answered\n",
        "        print(\"Determining if the question is fully answered...\")\n",
        "        output = can_be_answered_chain.invoke(input_data)\n",
        "        can_be_answered = output[\"can_be_answered\"]\n",
        "        if can_be_answered == True:\n",
        "            print(\"The question can be fully answered.\")\n",
        "            return \"useful\"\n",
        "        else:\n",
        "            print(\"The question cannot be fully answered.\")\n",
        "            return \"not_useful\"\n",
        "     "
      ]
    },
    {
      "cell_type": "markdown",
      "metadata": {},
      "source": [
        "### Test a pipeline of all parts"
      ]
    },
    {
      "cell_type": "code",
      "execution_count": null,
      "metadata": {},
      "outputs": [],
      "source": [
        "init_state = {\"question\": \"who is harry?\"}\n",
        "context_state = retrieve_context_per_question(init_state)\n",
        "relevant_content_state = keep_only_relevant_content(context_state)\n",
        "is_relevant_content_state = is_relevant_content(relevant_content_state)\n",
        "answer_state = answer_question_from_context(relevant_content_state)\n",
        "final_answer = grade_generation_v_documents_and_question(answer_state)\n",
        "print(final_answer[\"answer\"])"
      ]
    },
    {
      "cell_type": "markdown",
      "metadata": {},
      "source": [
        "## Build the Graph"
      ]
    },
    {
      "cell_type": "code",
      "execution_count": null,
      "metadata": {},
      "outputs": [
        {
          "data": {
            "image/jpeg": "[encoded data removed]",
            "text/plain": [
              "<IPython.core.display.Image object>"
            ]
          },
          "metadata": {},
          "output_type": "display_data"
        }
      ],
      "source": [
        "class QualitativeRetievalAnswerGraphState(TypedDict):\n",
        "    \"\"\"\n",
        "    Represents the state of our graph.\n",
        "\n",
        "    Attributes:\n",
        "        question: question\n",
        "        context: context\n",
        "        answer: answer\n",
        "    \"\"\"\n",
        "\n",
        "    question: str\n",
        "    context: str\n",
        "    answer: str\n",
        "\n",
        "qualitative_retrieval_answer_workflow = StateGraph(QualitativeRetievalAnswerGraphState)\n",
        "\n",
        "# Define the nodes\n",
        "qualitative_retrieval_answer_workflow.add_node(\"retrieve_context_per_question\",retrieve_context_per_question)\n",
        "qualitative_retrieval_answer_workflow.add_node(\"keep_only_relevant_content\",keep_only_relevant_content)\n",
        "qualitative_retrieval_answer_workflow.add_node(\"rewrite_question\",rewrite_question)\n",
        "qualitative_retrieval_answer_workflow.add_node(\"answer_question_from_context\",answer_question_from_context)\n",
        "\n",
        "# Build the graph\n",
        "qualitative_retrieval_answer_workflow.set_entry_point(\"retrieve_context_per_question\")\n",
        "qualitative_retrieval_answer_workflow.add_edge(\"retrieve_context_per_question\", \"keep_only_relevant_content\")\n",
        "qualitative_retrieval_answer_workflow.add_conditional_edges(\n",
        "    \"keep_only_relevant_content\",\n",
        "    is_relevant_content,\n",
        "    {\"relevant\":\"answer_question_from_context\",\n",
        "      \"not relevant\":\"rewrite_question\"},\n",
        "    )\n",
        "qualitative_retrieval_answer_workflow.add_edge(\"rewrite_question\", \"retrieve_context_per_question\")\n",
        "qualitative_retrieval_answer_workflow.add_conditional_edges(\n",
        "\"answer_question_from_context\",\n",
        "grade_generation_v_documents_and_question,\n",
        "{\"hallucination\":\"answer_question_from_context\",\n",
        "\"not_useful\":\"rewrite_question\",\n",
        "\"useful\":END},\n",
        "\n",
        ")\n",
        "\n",
        "qualitative_retrieval_answer_retrival_app = qualitative_retrieval_answer_workflow.compile()\n",
        "\n",
        "display(\n",
        "    Image(\n",
        "        qualitative_retrieval_answer_retrival_app.get_graph().draw_mermaid_png(\n",
        "            draw_method=MermaidDrawMethod.API,\n",
        "        )\n",
        "    )\n",
        ")\n",
        "\n"
      ]
    },
    {
      "cell_type": "markdown",
      "metadata": {},
      "source": [
        "### This graph can solve questions that can be deduced from data that was drawn directly by retrieving information using semantic similarity. For more complex tasks, we need a more sophisticated agent. For this, we may first break down this graph into two subgraphs that will serve as tools for a more intelligent agent."
      ]
    },
    {
      "cell_type": "markdown",
      "metadata": {},
      "source": [
        "### First sub graph would be for retrieval and distillation of the relevant information"
      ]
    },
    {
      "cell_type": "code",
      "execution_count": 184,
      "metadata": {},
      "outputs": [
        {
          "data": {
            "image/jpeg": "[encoded data removed]",
            "text/plain": [
              "<IPython.core.display.Image object>"
            ]
          },
          "metadata": {},
          "output_type": "display_data"
        }
      ],
      "source": [
        "class QualitativeRetrievalGraphState(TypedDict):\n",
        "    \"\"\"\n",
        "    Represents the state of our graph.\n",
        "\n",
        "    Attributes:\n",
        "        question: question\n",
        "        context: context\n",
        "        answer: answer\n",
        "    \"\"\"\n",
        "\n",
        "    question: str\n",
        "    context: str\n",
        "\n",
        "qualitative_retrieval_workflow = StateGraph(QualitativeRetrievalGraphState)\n",
        "\n",
        "# Define the nodes\n",
        "qualitative_retrieval_workflow.add_node(\"retrieve_context_per_question\",retrieve_context_per_question)\n",
        "qualitative_retrieval_workflow.add_node(\"keep_only_relevant_content\",keep_only_relevant_content)\n",
        "qualitative_retrieval_workflow.add_node(\"rewrite_question\",rewrite_question)\n",
        "\n",
        "# Build the graph\n",
        "qualitative_retrieval_workflow.set_entry_point(\"retrieve_context_per_question\")\n",
        "qualitative_retrieval_workflow.add_edge(\"retrieve_context_per_question\", \"keep_only_relevant_content\")\n",
        "qualitative_retrieval_workflow.add_edge(\"rewrite_question\", \"retrieve_context_per_question\")\n",
        "\n",
        "qualitative_retrieval_workflow.add_conditional_edges(\n",
        "    \"keep_only_relevant_content\",\n",
        "    is_relevant_content,\n",
        "    {\"relevant\":END,\n",
        "      \"not relevant\":\"rewrite_question\"},\n",
        "    )\n",
        "\n",
        "\n",
        "qualitative_retrieval_workflow_app = qualitative_retrieval_workflow.compile()\n",
        "\n",
        "display(\n",
        "    Image(\n",
        "        qualitative_retrieval_workflow_app.get_graph().draw_mermaid_png(\n",
        "            draw_method=MermaidDrawMethod.API,\n",
        "        )\n",
        "    )\n",
        ")"
      ]
    },
    {
      "cell_type": "markdown",
      "metadata": {},
      "source": [
        "### The second sub graph will be a component that answers a question given context, without hallucinations"
      ]
    },
    {
      "cell_type": "code",
      "execution_count": 185,
      "metadata": {},
      "outputs": [
        {
          "data": {
            "image/jpeg": "[encoded data removed]",
            "text/plain": [
              "<IPython.core.display.Image object>"
            ]
          },
          "metadata": {},
          "output_type": "display_data"
        }
      ],
      "source": [
        "class QualitativeAnswerGraphState(TypedDict):\n",
        "    \"\"\"\n",
        "    Represents the state of our graph.\n",
        "\n",
        "    Attributes:\n",
        "        question: question\n",
        "        context: context\n",
        "        answer: answer\n",
        "    \"\"\"\n",
        "\n",
        "    question: str\n",
        "    context: str\n",
        "    answer: str\n",
        "\n",
        "qualitative_answer_workflow = StateGraph(QualitativeAnswerGraphState)\n",
        "\n",
        "# Define the nodes\n",
        "\n",
        "qualitative_answer_workflow.add_node(\"answer_question_from_context\",answer_question_from_context)\n",
        "\n",
        "# Build the graph\n",
        "qualitative_answer_workflow.set_entry_point(\"answer_question_from_context\")\n",
        "\n",
        "qualitative_answer_workflow.add_conditional_edges(\n",
        "\"answer_question_from_context\",\n",
        "grade_generation_v_documents_and_question,\n",
        "{\"hallucination\":\"answer_question_from_context\",\n",
        "\"not_useful\":\"answer_question_from_context\",\n",
        "\"useful\":END},\n",
        "\n",
        ")\n",
        "\n",
        "qualitative_answer_workflow_app = qualitative_answer_workflow.compile()\n",
        "\n",
        "display(\n",
        "    Image(\n",
        "        qualitative_answer_workflow_app.get_graph().draw_mermaid_png(\n",
        "            draw_method=MermaidDrawMethod.API,\n",
        "        )\n",
        "    )\n",
        ")"
      ]
    },
    {
      "cell_type": "code",
      "execution_count": 16,
      "metadata": {},
      "outputs": [],
      "source": [
        "# def run_qualitative_retrieval_answer_graph(question: str):\n",
        "#     inputs = {\"question\": question}\n",
        "#     for output in qualitative_retrieval_answer_retrival_app.stream(inputs):\n",
        "#         for key, value in output.items():\n",
        "#             pass  # Node\n",
        "#             # ... (your existing code)\n",
        "#         pprint(\"--------------------\")\n",
        "#     print(value)\n",
        "#     return AIMessage(\n",
        "#         content=value,  # The actual answer\n",
        "#     )"
      ]
    },
    {
      "cell_type": "code",
      "execution_count": 271,
      "metadata": {},
      "outputs": [],
      "source": [
        "# def run_qualitative_retrieval_workflow(question: str):\n",
        "#     print(\"Running the qualitative retrieval workflow...\")\n",
        "#     inputs = {\"question\": question}\n",
        "#     for output in qualitative_retrieval_workflow_app.stream(inputs):\n",
        "#         for key, value in output.items():\n",
        "#             pass  # Node\n",
        "#             # ... (your existing code)\n",
        "#         pprint(\"--------------------\")\n",
        "#     print(f' the question was {question} and the context is {value}')\n",
        "#     return AIMessage(\n",
        "#         content=value, # The distilled retrieved content\n",
        "#     )\n",
        "\n",
        "def run_qualitative_retrieval_workflow(state):\n",
        "    print(\"Running the qualitative retrieval workflow...\")\n",
        "    question = state[\"question\"]\n",
        "    inputs = {\"question\": question}\n",
        "    for output in qualitative_retrieval_workflow_app.stream(inputs):\n",
        "        for key, value in output.items():\n",
        "            pass  # Node\n",
        "            # ... (your existing code)\n",
        "        pprint(\"--------------------\")\n",
        "    print(f' the question was {question} and the context is {value}')\n",
        "    return AIMessage(\n",
        "        content=value, # The distilled retrieved content\n",
        "    )"
      ]
    },
    {
      "cell_type": "code",
      "execution_count": 272,
      "metadata": {},
      "outputs": [],
      "source": [
        "def run_qualtative_answer_workflow(state):\n",
        "    print(\"Running the qualitative answer workflow...\")\n",
        "    question = state[\"question\"]\n",
        "    context = state[\"context\"]\n",
        "    inputs = {\"question\": question, \"context\": context}\n",
        "    for output in qualitative_answer_workflow_app.stream(inputs):\n",
        "        for key, value in output.items():\n",
        "            pass  # Node\n",
        "            # ... (your existing code)\n",
        "        pprint(\"--------------------\")\n",
        "    print(f' the question was {question} and the context is {context} and the answer is {value}')\n",
        "    return AIMessage(\n",
        "        content=value,  # The answer to a question based on a given context\n",
        "    )\n",
        "\n",
        "# class QualitativeAnswerInput(BaseModel):\n",
        "#     question: str = Field(description=\"The question to be answered.\")\n",
        "#     context: str = Field(description=\"The context from which to answer the question.\")\n",
        "\n",
        "# def run_qualtative_answer_workflow(inputs: QualitativeAnswerInput):\n",
        "#     \"\"\"Answers a question from a given context.\"\"\"\n",
        "#     print(\"Running the qualitative answer workflow...\")\n",
        "#     question = inputs.question\n",
        "#     context = inputs.context\n",
        "#     inputs = {\"question\": question, \"context\": context}\n",
        "#     for output in qualitative_answer_workflow_app.stream(inputs):\n",
        "#         for key, value in output.items():\n",
        "#             pass  # Node\n",
        "#             # ... (your existing code)\n",
        "#         print(\"--------------------\")\n",
        "#     print(\n",
        "#         f\" the question was {question} and the context is {context} and the answer is {value}\"\n",
        "#     )\n",
        "#     return value  # Return just the answer\n",
        "\n",
        "\n"
      ]
    },
    {
      "cell_type": "code",
      "execution_count": 273,
      "metadata": {},
      "outputs": [],
      "source": [
        "from langchain.tools import StructuredTool\n",
        "\n",
        "tools = [\n",
        "    Tool(\n",
        "        name=\"run_qualitative_retrieval_graph\",\n",
        "        description=\"retrieves relevant content based on query from vector stores, and distills the relevant information.\",\n",
        "        # func= lambda question: run_qualitative_retrieval_workflow(question),\n",
        "                func= run_qualitative_retrieval_workflow,\n",
        "\n",
        "    ),\n",
        "    Tool(\n",
        "        name = \"run_qualtative_answer_workflow\",\n",
        "        description = \"answers a question from a given context. use this tool with two arguments: question and context.\",\n",
        "        # func = lambda question, context: run_qualtative_answer_workflow(question, context),\n",
        "        func = run_qualtative_answer_workflow,\n",
        "\n",
        "    # )\n",
        "\n",
        "    # StructuredTool.from_function(\n",
        "    # func=run_qualtative_answer_workflow,\n",
        "    # name=\"run_qualtative_answer_workflow\",\n",
        "    # description=\"Answers a question from a given context\",\n",
        "    # args_schema=QualitativeAnswerInput,  # Specify the input schema\n",
        ")\n",
        "]\n"
      ]
    },
    {
      "cell_type": "code",
      "execution_count": 19,
      "metadata": {},
      "outputs": [],
      "source": [
        "# tools = [\n",
        "#     Tool(\n",
        "#         name = \"retrieval_graph\",\n",
        "#         description=\"A graph that retrieves relevant information from a vector store based on a given question.\",\n",
        "#         func = lambda query: run_retrieval_graph(query),\n",
        "#     )\n",
        "# ]\n",
        "\n",
        "# ### TODO: the tools below is for debugging only, change it to the above tools\n",
        "\n",
        "# def run_retrieve_context(question: str):\n",
        "#     inputs = {\"question\": question}\n",
        "#     state = retrieve_context_per_question(inputs)\n",
        "#     return state\n",
        "# tools = [\n",
        "# Tool(\n",
        "#     name=\"run_retrieve_context\",\n",
        "#     func=lambda question: run_retrieve_context(question),\n",
        "#     description=\"Retrieves relevant documents based on a given question.\",\n",
        "# ),\n",
        "#  Tool(\n",
        "#         name = \"retrieval_graph\",\n",
        "#         description=\"A graph that retrieves relevant information from a vector store based on a given question and answers the question.\",\n",
        "#         func = lambda query: run_qualitative_retrieval_answer_graph(query),\n",
        "#     )\n",
        "# ]"
      ]
    },
    {
      "cell_type": "code",
      "execution_count": 274,
      "metadata": {},
      "outputs": [],
      "source": [
        "agent_llm_prompt = \"\"\" you are a helpful assistant. your goal is to assist the user in finding the information they need.\n",
        "some of the tools you have at your disposal are:\n",
        "tool A: a tool that retrieves relevant information based on a given question.\n",
        "Tool B: a tool that answers a question from a given context.\n",
        "Always before you decide to respond your answer to the user, construct the answer using Tool B.\n",
        "\"\"\"\n",
        "\n",
        "\n",
        "class Response(BaseModel):\n",
        "    \"\"\"Response to user.\"\"\"\n",
        "\n",
        "    response: str = Field(description=\"Response to user.\")\n",
        "\n",
        "response_parser = JsonOutputParser(pydantic_object=Response)\n",
        "\n",
        "# Choose the LLM that will drive the agent\n",
        "\n",
        "\n",
        "# model_name = \"gpt-3.5-turbo-0125\"  # Specify LLM model\n",
        "model_name = \"gpt-4o\"  # Specify LLM model\n",
        "\n",
        "agent_llm = ChatOpenAI(temperature=0, model=model_name, max_tokens=2000)  # Create LLM instance\n",
        "# agent_llm = ChatGroq(temperature=0, model_name=\"llama3-70b-8192\", groq_api_key=groq_api_key, max_tokens=2000)\n",
        "\n",
        "\n",
        "agent_executor = create_react_agent(agent_llm, tools, messages_modifier=agent_llm_prompt) \n"
      ]
    },
    {
      "cell_type": "code",
      "execution_count": 281,
      "metadata": {},
      "outputs": [],
      "source": [
        "class PlanExecute(TypedDict):\n",
        "    question: str\n",
        "    anonymized_question: str\n",
        "    plan: List[str]\n",
        "    past_steps: Annotated[List[Tuple], operator.add]\n",
        "    response: str\n",
        "    mapping: dict \n",
        "    context: str\n",
        "    aggregated_context: str\n",
        "    past_steps: List[str]\n",
        "    tool: str"
      ]
    },
    {
      "cell_type": "code",
      "execution_count": 283,
      "metadata": {},
      "outputs": [],
      "source": [
        "tasks_handler_prompt_template = \"\"\"You are a task handler that receives a task {curr_task} and have to decide with tool to use to execute the task.\n",
        "You have the following tools at your disposal:\n",
        "Tool A: a tool that retrieves relevant information from a vector store based on a given query.\n",
        "Tool B: a tool that answers a question from a given context.\n",
        "You also have aggregated context {aggregated_context} that you can use to make decisions, and use the information from that context as input to the tools.\n",
        "You also have the past steps {past_steps} that you can use to make decisions and understand the context of the task.\n",
        "You also have the initial user's question {input} that you can use to make decisions and understand the context of the task.\n",
        "if you decide to use Tool A, output the query to be used for the tool and also that the tool to be used is Tool A.\n",
        "if you decide to use Tool B, output the question to be used for the tool, the context, and also that the tool to be used is Tool B.\n",
        "\"\"\"\n",
        "\n",
        "class TaskHandlerOutput(BaseModel):\n",
        "    \"\"\"Output schema for the task handler.\"\"\"\n",
        "    query: str = Field(description=\"The query to be either retrieved from the vector store, or the question that should be answered from context.\")\n",
        "    context: str = Field(description=\"The context to be based on in order to answer the query.\")\n",
        "    tool: str = Field(description=\"The tool to be used should be either 'retrieve' or 'answer_from_context'.\")\n",
        "\n",
        "\n",
        "task_handler_prompt = PromptTemplate(\n",
        "    template=tasks_handler_prompt_template,\n",
        "    input_variables=[\"curr_task\", \"aggregated_context\", \"past_steps\", \"input\"],\n",
        ")\n",
        "\n",
        "task_handler_llm = ChatOpenAI(temperature=0, model_name=\"gpt-3.5-turbo-0125\", max_tokens=2000)\n",
        "task_handler_chain = task_handler_prompt | task_handler_llm.with_structured_output(TaskHandlerOutput)"
      ]
    },
    {
      "cell_type": "code",
      "execution_count": null,
      "metadata": {},
      "outputs": [],
      "source": [
        "### test the task handler chain\n",
        "def run_task_handler_chain(curr_task: str, aggregated_context: str, past_steps: List[str], input: str):\n",
        "    \"\"\"Runs the task handler chain.\"\"\"\n",
        "    inputs = {\"curr_task\": curr_task, \"aggregated_context\": aggregated_context}\n",
        "    output = task_handler_chain.invoke(inputs)\n",
        "    return output\n",
        "\n",
        "\n",
        "\n"
      ]
    },
    {
      "cell_type": "code",
      "execution_count": 263,
      "metadata": {},
      "outputs": [],
      "source": [
        "class Plan(BaseModel):\n",
        "    \"\"\"Plan to follow in future\"\"\"\n",
        "\n",
        "    steps: List[str] = Field(\n",
        "        description=\"different steps to follow, should be in sorted order\"\n",
        "    )\n",
        "\n",
        "planner_prompt =\"\"\" For the given query {question}, come up with a simple step by step plan of how to figure out the answer. \n",
        "\n",
        "This plan should involve individual tasks, that if executed correctly will yield the correct answer. Do not add any superfluous steps. \n",
        "The result of the final step should be the final answer. Make sure that each step has all the information needed - do not skip steps.\n",
        "\n",
        "when building the plan take in account that you have is access to TWO TOOLS:\n",
        "1) function A: that retrieves both vector stores of chunks of a book and vector stores of the same book chapter summaries for a given query and distills the relevant information.\n",
        "use this tool to retrieve the relevant documents based on every query you want.\n",
        "\n",
        "2) function B: answers a question from a given context, based on the retrieved documents, without hallucination.\n",
        "use this tool to answer the question based on the retrieved documents.\n",
        "\n",
        "\"\"\"\n",
        "\n",
        "planner_prompt = PromptTemplate(\n",
        "    template=planner_prompt,\n",
        "      input_variables=[\"question\"], \n",
        "     )\n",
        "\n",
        "planner_llm = ChatOpenAI(temperature=0, model_name=\"gpt-4o\", max_tokens=2000)\n",
        "\n",
        "planner = planner_prompt | planner_llm.with_structured_output(Plan)\n"
      ]
    },
    {
      "cell_type": "code",
      "execution_count": 56,
      "metadata": {},
      "outputs": [
        {
          "name": "stdout",
          "output_type": "stream",
          "text": [
            "steps=[\"Use function A to retrieve relevant documents and chapter summaries for the query 'how did Harry beat Quirrell?'.\", \"Use function B to answer the question 'how did Harry beat Quirrell?' based on the retrieved documents and summaries from function A.\"]\n"
          ]
        }
      ],
      "source": [
        "question = {\"question\": \"how did harry beat quirrell?\"}\n",
        "my_plan = planner.invoke(question)\n",
        "print(my_plan)"
      ]
    },
    {
      "cell_type": "code",
      "execution_count": 264,
      "metadata": {},
      "outputs": [],
      "source": [
        "class Response(BaseModel):\n",
        "    \"\"\"Response to user.\"\"\"\n",
        "\n",
        "    response: str\n",
        "\n",
        "\n",
        "class ActPossibleResults(BaseModel):\n",
        "    \"\"\"Possible results of the action.\"\"\"\n",
        "    response: Response = Field(description=\"Response to user.\")\n",
        "    plan: Plan = Field(description=\"Plan to follow in future.\")\n",
        "    explanation: str = Field(description=\"Explanation of the action.\")\n",
        "    \n",
        "\n",
        "act_possible_results_parser = JsonOutputParser(pydantic_object=ActPossibleResults)\n",
        "\n",
        "replanner_prompt_template =\"\"\" For the given objective, come up with a simple step by step plan of how to figure out the answer. \n",
        "This plan should involve individual tasks, that if executed correctly will yield the correct answer. Do not add any superfluous steps. \n",
        "The result of the final step should be the final answer. Make sure that each step has all the information needed - do not skip steps.\n",
        "\n",
        "when building the plan take in account that you have is access to TWO TOOLS:\n",
        "1) function A: that retrieves both vector stores of chunks of a book and vector stores of the same book chapter summaries for a given query and distills the relevant information.\n",
        "use this tool to retrieve the relevant documents based on every query you want.\n",
        "\n",
        "2) function B: answers a question from a given context, based on the retrieved documents, without hallucination.\n",
        "use this tool to answer the question based on the retrieved documents.\n",
        "\n",
        "\n",
        "Your objective was this:\n",
        "{question}\n",
        "\n",
        "Your original plan was this:\n",
        "{plan}\n",
        "\n",
        "You have currently done the follow steps:\n",
        "{past_steps}\n",
        "\n",
        "Update your plan accordingly. If no more steps are needed and you can return to the user,\n",
        "then respond with only the final answer. If further steps are needed, fill out the plan with only those steps.\n",
        "Do not return previously done steps as part of the plan.\n",
        "\n",
        "the format is json so escape quotes and new lines.\n",
        "\n",
        "{format_instructions}\n",
        "\n",
        "\"\"\"\n",
        "\n",
        "replanner_prompt = PromptTemplate(\n",
        "    template=replanner_prompt_template,\n",
        "    input_variables=[\"question\", \"plan\", \"past_steps\"],\n",
        "    partial_variables={\"format_instructions\": act_possible_results_parser.get_format_instructions()},\n",
        ")\n",
        "\n",
        "replanner_llm = ChatOpenAI(temperature=0, model_name=\"gpt-4o\", max_tokens=2000)\n",
        "\n",
        "\n",
        "\n",
        "replanner = replanner_prompt | replanner_llm | act_possible_results_parser\n"
      ]
    },
    {
      "cell_type": "code",
      "execution_count": 265,
      "metadata": {},
      "outputs": [],
      "source": [
        "class AnonymizeQuestion(BaseModel):\n",
        "    \"\"\"Anonymized question and mapping.\"\"\"\n",
        "    anonymize_question : str = Field(description=\"Anonymized question.\")\n",
        "    mapping: dict = Field(description=\"Mapping of original words to variables.\")\n",
        "    explanation: str = Field(description=\"Explanation of the action.\")\n",
        "\n",
        "anonymize_question_parser = JsonOutputParser(pydantic_object=AnonymizeQuestion)\n",
        "\n",
        "\n",
        "anonymize_question_prompt_template = \"\"\" You are a question anonymizer. The input You receive is a string containing several words that\n",
        " construct a question {question}. Your goal is to changes all name entities in the input strings to variables. keep those variables\n",
        "in the mapping dictionary do it here, don't write a code that does this. .just output the anonymized_question and mapping dictionary in this format: {format_instructions}\"\"\"\n",
        "\n",
        "\n",
        "anonymize_question_prompt = PromptTemplate(\n",
        "    template=anonymize_question_prompt_template,\n",
        "    input_variables=[\"question\"],\n",
        "    partial_variables={\"format_instructions\": anonymize_question_parser.get_format_instructions()},\n",
        ")\n",
        "\n",
        "anonymize_question_llm = ChatGroq(temperature=0, model_name=\"llama3-70b-8192\", groq_api_key=groq_api_key, max_tokens=2000)\n",
        "anonymize_question_chain = anonymize_question_prompt | anonymize_question_llm | anonymize_question_parser\n"
      ]
    },
    {
      "cell_type": "code",
      "execution_count": 266,
      "metadata": {},
      "outputs": [],
      "source": [
        "class DeAnonymizePlan(BaseModel):\n",
        "    \"\"\"Possible results of the action.\"\"\"\n",
        "    plan: List = Field(description=\"Plan to follow in future.\")\n",
        "    explanation: str = Field(description=\"Explanation of the action.\")\n",
        "\n",
        "deanonymize_plan_parser = JsonOutputParser(pydantic_object=DeAnonymizePlan)\n",
        "\n",
        "\n",
        "de_anonymize_plan_prompt_template = \"\"\" you receive a list of tasks: {plan}, where some of the words are replaced with mapped variables. you also receive\n",
        " the mapping for those variables to words {mapping}. you should create the new list of tasks, where all the mapped variables are now their mapped words. do it here, don't write a code that does this.\n",
        " if no variables are present, return the original list of tasks. in any case, just output the updated list of tasks in a json format as described here, without any additional text apart from the \n",
        "  json format. {format_instructions}\"\"\"\n",
        "\n",
        "\n",
        "de_anonymize_plan_prompt = PromptTemplate(\n",
        "    template=de_anonymize_plan_prompt_template,\n",
        "    input_variables=[\"plan\", \"mapping\"],\n",
        "    partial_variables={\"format_instructions\": deanonymize_plan_parser.get_format_instructions()},\n",
        ")\n",
        "\n",
        "de_anonymize_plan_llm = ChatGroq(temperature=0, model_name=\"llama3-70b-8192\", groq_api_key=groq_api_key, max_tokens=2000)\n",
        "de_anonymize_plan_chain = de_anonymize_plan_prompt | de_anonymize_plan_llm | deanonymize_plan_parser"
      ]
    },
    {
      "cell_type": "code",
      "execution_count": null,
      "metadata": {},
      "outputs": [],
      "source": [
        "state1 = {'question': \"how did harry beat quirrell?\"}\n",
        "anonymized_question_output = anonymize_question_chain.invoke(state1)\n",
        "anonymized_question = anonymized_question_output[\"anonymize_question\"]\n",
        "mapping = anonymized_question_output[\"mapping\"]\n",
        "print(f'anonimized_querry: {anonymized_question}')\n",
        "print(f'mapping: {mapping}')\n",
        "plan = planner.invoke({\"question\": anonymized_question})\n",
        "print(f'plan: {plan}')\n",
        "deanonimzed_plan = de_anonymize_plan_chain.invoke({\"plan\": plan.steps, \"mapping\": mapping})\n",
        "print(f'deanonimized_plan: {deanonimzed_plan}')"
      ]
    },
    {
      "cell_type": "code",
      "execution_count": 276,
      "metadata": {},
      "outputs": [],
      "source": [
        "from typing import Literal\n",
        "\n",
        "\n",
        "def execute_step(state: PlanExecute):\n",
        "    print(\"Executing step\")\n",
        "    plan = state[\"plan\"]\n",
        "    plan_str = \"\\n\".join(f\"{i+1}. {step}\" for i, step in enumerate(plan))\n",
        "    task = plan[0]\n",
        "    task_formatted = f\"\"\"For the following plan:\n",
        "{plan_str}\\n\\nYou are tasked with executing step {1}, {task}.\"\"\"\n",
        "    print(f'task_formatted: {task_formatted}')\n",
        "    agent_response = agent_executor.invoke(\n",
        "        {\"messages\": [(\"user\", task_formatted)]}\n",
        "    )\n",
        "    # print(f'agent_response: {agent_response}')\n",
        "    return {\n",
        "        \"past_steps\": (task, agent_response[\"messages\"][-1].content),\n",
        "    }\n",
        "\n",
        "def anonymize_queries(state: PlanExecute):\n",
        "    print(\"Anonymizing question\")\n",
        "    anonymized_question_output = anonymize_question_chain.invoke(state['input'])\n",
        "    anonymized_question = anonymized_question_output[\"anonymize_question\"]\n",
        "    mapping = anonymized_question_output[\"mapping\"]\n",
        "    return {\"anonymized_input\": anonymized_question, \"mapping\": mapping}\n",
        "\n",
        "def deanonymize_queries(state: PlanExecute):\n",
        "    print(\"De-anonymizing plan\")\n",
        "    deanonimzed_plan = de_anonymize_plan_chain.invoke({\"plan\": state[\"plan\"], \"mapping\": state[\"mapping\"]})\n",
        "    return {\"plan\": deanonimzed_plan[\"plan\"]}\n",
        "\n",
        "\n",
        "def plan_step(state: PlanExecute):\n",
        "    print(\"Planning step\")\n",
        "    plan = planner.invoke({\"input\": state['anonymized_input']})\n",
        "\n",
        "    return {\"plan\": plan.steps}\n",
        "\n",
        "\n",
        "def replan_step(state: PlanExecute):\n",
        "    print(\"Replanning step\")\n",
        "    state = format_state_past_steps(state)\n",
        "    state = clean_empty_fields_dictionary(state)\n",
        "    print(\"state:\")\n",
        "    print(state)\n",
        "    output =  replanner.invoke(state)\n",
        "    return process_replanner_output(output)\n",
        "  \n",
        "\n",
        "def should_end(state: PlanExecute) -> Literal[\"agent\", \"__end__\"]:\n",
        "    print(\"Checking if should end\")\n",
        "    if \"response\" in state and state[\"response\"]:\n",
        "        return \"__end__\"\n",
        "    else:\n",
        "        return \"agent\""
      ]
    },
    {
      "cell_type": "code",
      "execution_count": 277,
      "metadata": {},
      "outputs": [
        {
          "data": {
            "image/jpeg": "[encoded data removed]",
            "text/plain": [
              "<IPython.core.display.Image object>"
            ]
          },
          "metadata": {},
          "output_type": "display_data"
        }
      ],
      "source": [
        "from langgraph.graph import StateGraph\n",
        "\n",
        "agent_workflow = StateGraph(PlanExecute)\n",
        "\n",
        "# Add the anonymize node\n",
        "agent_workflow.add_node(\"anonymize\", anonymize_queries)\n",
        "# Add the plan node\n",
        "agent_workflow.add_node(\"planner\", plan_step)\n",
        "# Add the deanonymize node\n",
        "agent_workflow.add_node(\"de-anonymize\", deanonymize_queries)\n",
        "\n",
        "\n",
        "# Add the execution step\n",
        "agent_workflow.add_node(\"agent\", execute_step)\n",
        "\n",
        "# Add a replan node\n",
        "agent_workflow.add_node(\"replan\", replan_step)\n",
        "\n",
        "\n",
        "agent_workflow.set_entry_point(\"anonymize\")\n",
        "\n",
        "# From anonymize we go to plan\n",
        "agent_workflow.add_edge(\"anonymize\", \"planner\")\n",
        "\n",
        "# From plan we go to deanonymize\n",
        "agent_workflow.add_edge(\"planner\", \"de-anonymize\")\n",
        "\n",
        "# From deanonymize we go to agent\n",
        "agent_workflow.add_edge(\"de-anonymize\", \"agent\")\n",
        "\n",
        "# From agent, we replan\n",
        "agent_workflow.add_edge(\"agent\", \"replan\")\n",
        "\n",
        "agent_workflow.add_conditional_edges(\n",
        "    \"replan\",\n",
        "    # Next, we pass in the function that will determine which node is called next.\n",
        "    should_end,\n",
        ")\n",
        "\n",
        "# Finally, we compile it!\n",
        "# This compiles it into a LangChain Runnable,\n",
        "# meaning you can use it as you would any other runnable\n",
        "plan_and_execute_app = agent_workflow.compile()\n",
        "\n",
        "display(Image(plan_and_execute_app.get_graph(xray=True).draw_mermaid_png()))"
      ]
    },
    {
      "cell_type": "code",
      "execution_count": 278,
      "metadata": {},
      "outputs": [],
      "source": [
        "def execute_plan_and_print_steps(inputs, recursion_limit=8):\n",
        "    config = {\"recursion_limit\": recursion_limit}\n",
        "    try:    \n",
        "        for plan_output in plan_and_execute_app.stream(inputs, config=config):\n",
        "            for agent_state_key, agent_state_value in plan_output.items():\n",
        "                print(f' curr step: {agent_state_value}')\n",
        "        return plan_output  # Return the final output if found\n",
        "    except langgraph.pregel.GraphRecursionError:\n",
        "        plan_output = \"The answer wasn't found in the data.\"\n",
        "        return plan_output"
      ]
    },
    {
      "cell_type": "code",
      "execution_count": 280,
      "metadata": {},
      "outputs": [
        {
          "name": "stdout",
          "output_type": "stream",
          "text": [
            "Anonymizing question\n",
            " curr step: {'anonymized_input': 'how did X beat Y?', 'mapping': {'X': 'Harry', 'Y': 'Quirrell'}}\n",
            "Planning step\n",
            " curr step: {'plan': [\"Formulate the query 'How did X beat Y?' clearly.\", 'Use function A to retrieve relevant documents and chapter summaries based on the query.', 'Review the retrieved documents and chapter summaries to ensure they are relevant to the query.', \"Use function B to answer the question 'How did X beat Y?' based on the context provided by the retrieved documents.\", 'Review the answer provided by function B to ensure it directly addresses the query.']}\n",
            "De-anonymizing plan\n",
            " curr step: {'plan': [\"Formulate the query 'How did Harry beat Quirrell?' clearly.\", 'Use function A to retrieve relevant documents and chapter summaries based on the query.', 'Review the retrieved documents and chapter summaries to ensure they are relevant to the query.', \"Use function B to answer the question 'How did Harry beat Quirrell?' based on the context provided by the retrieved documents.\", 'Review the answer provided by function B to ensure it directly addresses the query.']}\n",
            "Executing step\n",
            "task_formatted: For the following plan:\n",
            "1. Formulate the query 'How did Harry beat Quirrell?' clearly.\n",
            "2. Use function A to retrieve relevant documents and chapter summaries based on the query.\n",
            "3. Review the retrieved documents and chapter summaries to ensure they are relevant to the query.\n",
            "4. Use function B to answer the question 'How did Harry beat Quirrell?' based on the context provided by the retrieved documents.\n",
            "5. Review the answer provided by function B to ensure it directly addresses the query.\n",
            "\n",
            "You are tasked with executing step 1, Formulate the query 'How did Harry beat Quirrell?' clearly..\n",
            " curr step: {'past_steps': (\"Formulate the query 'How did Harry beat Quirrell?' clearly.\", 'The query \"How did Harry beat Quirrell?\" can be formulated clearly as follows:\\n\\n\"Describe the events and actions that led to Harry Potter defeating Professor Quirrell in \\'Harry Potter and the Philosopher\\'s Stone\\'.\"\\n\\nThis formulation ensures that the query is specific and seeks a detailed description of the events and actions involved in Harry\\'s victory over Quirrell.')}\n",
            "Replanning step\n",
            "state:\n",
            "{'input': 'how did harry beat quirrell?', 'anonymized_input': 'how did X beat Y?', 'plan': [\"Formulate the query 'How did Harry beat Quirrell?' clearly.\", 'Use function A to retrieve relevant documents and chapter summaries based on the query.', 'Review the retrieved documents and chapter summaries to ensure they are relevant to the query.', \"Use function B to answer the question 'How did Harry beat Quirrell?' based on the context provided by the retrieved documents.\", 'Review the answer provided by function B to ensure it directly addresses the query.'], 'past_steps': 'Formulate the query \\'How did Harry beat Quirrell?\\' clearly.\\nThe query \"How did Harry beat Quirrell?\" can be formulated clearly as follows:\\n\\n\"Describe the events and actions that led to Harry Potter defeating Professor Quirrell in \\'Harry Potter and the Philosopher\\'s Stone\\'.\"\\n\\nThis formulation ensures that the query is specific and seeks a detailed description of the events and actions involved in Harry\\'s victory over Quirrell.', 'mapping': {'X': 'Harry', 'Y': 'Quirrell'}}\n",
            "Checking if should end\n",
            " curr step: {'plan': [\"Use function A to retrieve relevant documents and chapter summaries based on the query 'Describe the events and actions that led to Harry Potter defeating Professor Quirrell in Harry Potter and the Philosopher's Stone'.\", \"Use function B to answer the question 'How did Harry beat Quirrell?' based on the context provided by the retrieved documents.\"]}\n",
            "Executing step\n",
            "task_formatted: For the following plan:\n",
            "1. Use function A to retrieve relevant documents and chapter summaries based on the query 'Describe the events and actions that led to Harry Potter defeating Professor Quirrell in Harry Potter and the Philosopher's Stone'.\n",
            "2. Use function B to answer the question 'How did Harry beat Quirrell?' based on the context provided by the retrieved documents.\n",
            "\n",
            "You are tasked with executing step 1, Use function A to retrieve relevant documents and chapter summaries based on the query 'Describe the events and actions that led to Harry Potter defeating Professor Quirrell in Harry Potter and the Philosopher's Stone'..\n",
            "Running the qualitative retrieval workflow...\n"
          ]
        },
        {
          "ename": "KeyboardInterrupt",
          "evalue": "",
          "output_type": "error",
          "traceback": [
            "\u001b[1;31m---------------------------------------------------------------------------\u001b[0m",
            "\u001b[1;31mKeyboardInterrupt\u001b[0m                         Traceback (most recent call last)",
            "Cell \u001b[1;32mIn[280], line 2\u001b[0m\n\u001b[0;32m      1\u001b[0m inputs \u001b[38;5;241m=\u001b[39m {\u001b[38;5;124m\"\u001b[39m\u001b[38;5;124minput\u001b[39m\u001b[38;5;124m\"\u001b[39m: \u001b[38;5;124m\"\u001b[39m\u001b[38;5;124mhow did harry beat quirrell?\u001b[39m\u001b[38;5;124m\"\u001b[39m}\n\u001b[1;32m----> 2\u001b[0m final_answer \u001b[38;5;241m=\u001b[39m \u001b[43mexecute_plan_and_print_steps\u001b[49m\u001b[43m(\u001b[49m\u001b[43minputs\u001b[49m\u001b[43m)\u001b[49m\n\u001b[0;32m      3\u001b[0m \u001b[38;5;28mprint\u001b[39m(\u001b[38;5;124mf\u001b[39m\u001b[38;5;124m'\u001b[39m\u001b[38;5;124mThe final answer is: \u001b[39m\u001b[38;5;132;01m{\u001b[39;00mfinal_answer\u001b[38;5;132;01m}\u001b[39;00m\u001b[38;5;124m'\u001b[39m)\n",
            "Cell \u001b[1;32mIn[278], line 4\u001b[0m, in \u001b[0;36mexecute_plan_and_print_steps\u001b[1;34m(inputs, recursion_limit)\u001b[0m\n\u001b[0;32m      2\u001b[0m config \u001b[38;5;241m=\u001b[39m {\u001b[38;5;124m\"\u001b[39m\u001b[38;5;124mrecursion_limit\u001b[39m\u001b[38;5;124m\"\u001b[39m: recursion_limit}\n\u001b[0;32m      3\u001b[0m \u001b[38;5;28;01mtry\u001b[39;00m:    \n\u001b[1;32m----> 4\u001b[0m \u001b[43m    \u001b[49m\u001b[38;5;28;43;01mfor\u001b[39;49;00m\u001b[43m \u001b[49m\u001b[43mplan_output\u001b[49m\u001b[43m \u001b[49m\u001b[38;5;129;43;01min\u001b[39;49;00m\u001b[43m \u001b[49m\u001b[43mplan_and_execute_app\u001b[49m\u001b[38;5;241;43m.\u001b[39;49m\u001b[43mstream\u001b[49m\u001b[43m(\u001b[49m\u001b[43minputs\u001b[49m\u001b[43m,\u001b[49m\u001b[43m \u001b[49m\u001b[43mconfig\u001b[49m\u001b[38;5;241;43m=\u001b[39;49m\u001b[43mconfig\u001b[49m\u001b[43m)\u001b[49m\u001b[43m:\u001b[49m\n\u001b[0;32m      5\u001b[0m \u001b[43m        \u001b[49m\u001b[38;5;28;43;01mfor\u001b[39;49;00m\u001b[43m \u001b[49m\u001b[43magent_state_key\u001b[49m\u001b[43m,\u001b[49m\u001b[43m \u001b[49m\u001b[43magent_state_value\u001b[49m\u001b[43m \u001b[49m\u001b[38;5;129;43;01min\u001b[39;49;00m\u001b[43m \u001b[49m\u001b[43mplan_output\u001b[49m\u001b[38;5;241;43m.\u001b[39;49m\u001b[43mitems\u001b[49m\u001b[43m(\u001b[49m\u001b[43m)\u001b[49m\u001b[43m:\u001b[49m\n\u001b[0;32m      6\u001b[0m \u001b[43m            \u001b[49m\u001b[38;5;28;43mprint\u001b[39;49m\u001b[43m(\u001b[49m\u001b[38;5;124;43mf\u001b[39;49m\u001b[38;5;124;43m'\u001b[39;49m\u001b[38;5;124;43m curr step: \u001b[39;49m\u001b[38;5;132;43;01m{\u001b[39;49;00m\u001b[43magent_state_value\u001b[49m\u001b[38;5;132;43;01m}\u001b[39;49;00m\u001b[38;5;124;43m'\u001b[39;49m\u001b[43m)\u001b[49m\n",
            "File \u001b[1;32mc:\\Users\\N7\\PycharmProjects\\llm_tasks\\RAG-Harry-Potter\\.venv\\Lib\\site-packages\\langgraph\\pregel\\__init__.py:838\u001b[0m, in \u001b[0;36mPregel.stream\u001b[1;34m(self, input, config, stream_mode, output_keys, input_keys, interrupt_before, interrupt_after, debug)\u001b[0m\n\u001b[0;32m    831\u001b[0m futures \u001b[38;5;241m=\u001b[39m [\n\u001b[0;32m    832\u001b[0m     executor\u001b[38;5;241m.\u001b[39msubmit(proc\u001b[38;5;241m.\u001b[39minvoke, \u001b[38;5;28minput\u001b[39m, config)\n\u001b[0;32m    833\u001b[0m     \u001b[38;5;28;01mfor\u001b[39;00m proc, \u001b[38;5;28minput\u001b[39m, config \u001b[38;5;129;01min\u001b[39;00m tasks_w_config\n\u001b[0;32m    834\u001b[0m ]\n\u001b[0;32m    836\u001b[0m \u001b[38;5;66;03m# execute tasks, and wait for one to fail or all to finish.\u001b[39;00m\n\u001b[0;32m    837\u001b[0m \u001b[38;5;66;03m# each task is independent from all other concurrent tasks\u001b[39;00m\n\u001b[1;32m--> 838\u001b[0m done, inflight \u001b[38;5;241m=\u001b[39m \u001b[43mconcurrent\u001b[49m\u001b[38;5;241;43m.\u001b[39;49m\u001b[43mfutures\u001b[49m\u001b[38;5;241;43m.\u001b[39;49m\u001b[43mwait\u001b[49m\u001b[43m(\u001b[49m\n\u001b[0;32m    839\u001b[0m \u001b[43m    \u001b[49m\u001b[43mfutures\u001b[49m\u001b[43m,\u001b[49m\n\u001b[0;32m    840\u001b[0m \u001b[43m    \u001b[49m\u001b[43mreturn_when\u001b[49m\u001b[38;5;241;43m=\u001b[39;49m\u001b[43mconcurrent\u001b[49m\u001b[38;5;241;43m.\u001b[39;49m\u001b[43mfutures\u001b[49m\u001b[38;5;241;43m.\u001b[39;49m\u001b[43mFIRST_EXCEPTION\u001b[49m\u001b[43m,\u001b[49m\n\u001b[0;32m    841\u001b[0m \u001b[43m    \u001b[49m\u001b[43mtimeout\u001b[49m\u001b[38;5;241;43m=\u001b[39;49m\u001b[38;5;28;43mself\u001b[39;49m\u001b[38;5;241;43m.\u001b[39;49m\u001b[43mstep_timeout\u001b[49m\u001b[43m,\u001b[49m\n\u001b[0;32m    842\u001b[0m \u001b[43m\u001b[49m\u001b[43m)\u001b[49m\n\u001b[0;32m    844\u001b[0m \u001b[38;5;66;03m# panic on failure or timeout\u001b[39;00m\n\u001b[0;32m    845\u001b[0m _panic_or_proceed(done, inflight, step)\n",
            "File \u001b[1;32m~\\AppData\\Local\\Programs\\Python\\Python312\\Lib\\concurrent\\futures\\_base.py:305\u001b[0m, in \u001b[0;36mwait\u001b[1;34m(fs, timeout, return_when)\u001b[0m\n\u001b[0;32m    301\u001b[0m         \u001b[38;5;28;01mreturn\u001b[39;00m DoneAndNotDoneFutures(done, not_done)\n\u001b[0;32m    303\u001b[0m     waiter \u001b[38;5;241m=\u001b[39m _create_and_install_waiters(fs, return_when)\n\u001b[1;32m--> 305\u001b[0m \u001b[43mwaiter\u001b[49m\u001b[38;5;241;43m.\u001b[39;49m\u001b[43mevent\u001b[49m\u001b[38;5;241;43m.\u001b[39;49m\u001b[43mwait\u001b[49m\u001b[43m(\u001b[49m\u001b[43mtimeout\u001b[49m\u001b[43m)\u001b[49m\n\u001b[0;32m    306\u001b[0m \u001b[38;5;28;01mfor\u001b[39;00m f \u001b[38;5;129;01min\u001b[39;00m fs:\n\u001b[0;32m    307\u001b[0m     \u001b[38;5;28;01mwith\u001b[39;00m f\u001b[38;5;241m.\u001b[39m_condition:\n",
            "File \u001b[1;32m~\\AppData\\Local\\Programs\\Python\\Python312\\Lib\\threading.py:634\u001b[0m, in \u001b[0;36mEvent.wait\u001b[1;34m(self, timeout)\u001b[0m\n\u001b[0;32m    632\u001b[0m signaled \u001b[38;5;241m=\u001b[39m \u001b[38;5;28mself\u001b[39m\u001b[38;5;241m.\u001b[39m_flag\n\u001b[0;32m    633\u001b[0m \u001b[38;5;28;01mif\u001b[39;00m \u001b[38;5;129;01mnot\u001b[39;00m signaled:\n\u001b[1;32m--> 634\u001b[0m     signaled \u001b[38;5;241m=\u001b[39m \u001b[38;5;28;43mself\u001b[39;49m\u001b[38;5;241;43m.\u001b[39;49m\u001b[43m_cond\u001b[49m\u001b[38;5;241;43m.\u001b[39;49m\u001b[43mwait\u001b[49m\u001b[43m(\u001b[49m\u001b[43mtimeout\u001b[49m\u001b[43m)\u001b[49m\n\u001b[0;32m    635\u001b[0m \u001b[38;5;28;01mreturn\u001b[39;00m signaled\n",
            "File \u001b[1;32m~\\AppData\\Local\\Programs\\Python\\Python312\\Lib\\threading.py:334\u001b[0m, in \u001b[0;36mCondition.wait\u001b[1;34m(self, timeout)\u001b[0m\n\u001b[0;32m    332\u001b[0m \u001b[38;5;28;01mtry\u001b[39;00m:    \u001b[38;5;66;03m# restore state no matter what (e.g., KeyboardInterrupt)\u001b[39;00m\n\u001b[0;32m    333\u001b[0m     \u001b[38;5;28;01mif\u001b[39;00m timeout \u001b[38;5;129;01mis\u001b[39;00m \u001b[38;5;28;01mNone\u001b[39;00m:\n\u001b[1;32m--> 334\u001b[0m         \u001b[43mwaiter\u001b[49m\u001b[38;5;241;43m.\u001b[39;49m\u001b[43macquire\u001b[49m\u001b[43m(\u001b[49m\u001b[43m)\u001b[49m\n\u001b[0;32m    335\u001b[0m         gotit \u001b[38;5;241m=\u001b[39m \u001b[38;5;28;01mTrue\u001b[39;00m\n\u001b[0;32m    336\u001b[0m     \u001b[38;5;28;01melse\u001b[39;00m:\n",
            "\u001b[1;31mKeyboardInterrupt\u001b[0m: "
          ]
        }
      ],
      "source": [
        "inputs = {\"input\": \"how did harry beat quirrell?\"}\n",
        "final_answer = execute_plan_and_print_steps(inputs)\n",
        "print(f'The final answer is: {final_answer}')"
      ]
    },
    {
      "cell_type": "code",
      "execution_count": null,
      "metadata": {},
      "outputs": [],
      "source": [
        "inputs = {\"input\": \"who is charles darwin?\"}\n",
        "final_answer = execute_plan_and_print_steps(inputs)\n",
        "print(f'The final answer is: {final_answer}')\n"
      ]
    },
    {
      "cell_type": "code",
      "execution_count": 78,
      "metadata": {},
      "outputs": [
        {
          "name": "stdout",
          "output_type": "stream",
          "text": [
            "Anonymizing question\n",
            " curr step: {'anonymized_input': 'what did professor VAR1 teach?', 'mapping': {'VAR1': 'Lupin'}}\n",
            "Planning step\n",
            " curr step: {'plan': [\"Formulate the query to retrieve relevant documents about professor VAR1's teachings.\", 'Use function A to retrieve both vector stores of chunks of a book and vector stores of the same book chapter summaries based on the query.', \"Review the retrieved documents to ensure they contain relevant information about professor VAR1's teachings.\", \"Use function B to answer the question 'What did professor VAR1 teach?' based on the retrieved documents.\"]}\n",
            "De-anonymizing plan\n",
            " curr step: {'plan': [\"Formulate the query to retrieve relevant documents about professor Lupin's teachings.\", 'Use function A to retrieve both vector stores of chunks of a book and vector stores of the same book chapter summaries based on the query.', \"Review the retrieved documents to ensure they contain relevant information about professor Lupin's teachings.\", \"Use function B to answer the question 'What did professor Lupin teach?' based on the retrieved documents.\"]}\n",
            "Executing step\n",
            "task_formatted: For the following plan:\n",
            "1. Formulate the query to retrieve relevant documents about professor Lupin's teachings.\n",
            "2. Use function A to retrieve both vector stores of chunks of a book and vector stores of the same book chapter summaries based on the query.\n",
            "3. Review the retrieved documents to ensure they contain relevant information about professor Lupin's teachings.\n",
            "4. Use function B to answer the question 'What did professor Lupin teach?' based on the retrieved documents.\n",
            "\n",
            "You are tasked with executing step 1, Formulate the query to retrieve relevant documents about professor Lupin's teachings..\n",
            "agent_response: {'messages': [HumanMessage(content=\"For the following plan:\\n1. Formulate the query to retrieve relevant documents about professor Lupin's teachings.\\n2. Use function A to retrieve both vector stores of chunks of a book and vector stores of the same book chapter summaries based on the query.\\n3. Review the retrieved documents to ensure they contain relevant information about professor Lupin's teachings.\\n4. Use function B to answer the question 'What did professor Lupin teach?' based on the retrieved documents.\\n\\nYou are tasked with executing step 1, Formulate the query to retrieve relevant documents about professor Lupin's teachings..\", id='76619b59-036f-4a2c-a1dd-a99162c92bba'), AIMessage(content='To formulate the query to retrieve relevant documents about Professor Lupin\\'s teachings, we need to focus on key aspects such as the subject he taught, any specific lessons or topics he covered, and any notable events or methods related to his teaching. Here is a formulated query:\\n\\n\"Retrieve documents about Professor Lupin\\'s teachings, including the subject he taught, specific lessons or topics covered, notable events, and teaching methods.\"\\n\\nThis query should help in retrieving comprehensive information about Professor Lupin\\'s role as a teacher.', response_metadata={'token_usage': {'completion_tokens': 102, 'prompt_tokens': 224, 'total_tokens': 326}, 'model_name': 'gpt-4o', 'system_fingerprint': 'fp_729ea513f7', 'finish_reason': 'stop', 'logprobs': None}, id='run-89e12b17-8ea8-4181-ad18-653d3fe75017-0')]}\n",
            " curr step: {'past_steps': (\"Formulate the query to retrieve relevant documents about professor Lupin's teachings.\", 'To formulate the query to retrieve relevant documents about Professor Lupin\\'s teachings, we need to focus on key aspects such as the subject he taught, any specific lessons or topics he covered, and any notable events or methods related to his teaching. Here is a formulated query:\\n\\n\"Retrieve documents about Professor Lupin\\'s teachings, including the subject he taught, specific lessons or topics covered, notable events, and teaching methods.\"\\n\\nThis query should help in retrieving comprehensive information about Professor Lupin\\'s role as a teacher.')}\n",
            "Replanning step\n",
            "state:\n",
            "{'input': 'what did professor lupin teach?', 'anonymized_input': 'what did professor VAR1 teach?', 'plan': [\"Formulate the query to retrieve relevant documents about professor Lupin's teachings.\", 'Use function A to retrieve both vector stores of chunks of a book and vector stores of the same book chapter summaries based on the query.', \"Review the retrieved documents to ensure they contain relevant information about professor Lupin's teachings.\", \"Use function B to answer the question 'What did professor Lupin teach?' based on the retrieved documents.\"], 'past_steps': 'Formulate the query to retrieve relevant documents about professor Lupin\\'s teachings.\\nTo formulate the query to retrieve relevant documents about Professor Lupin\\'s teachings, we need to focus on key aspects such as the subject he taught, any specific lessons or topics he covered, and any notable events or methods related to his teaching. Here is a formulated query:\\n\\n\"Retrieve documents about Professor Lupin\\'s teachings, including the subject he taught, specific lessons or topics covered, notable events, and teaching methods.\"\\n\\nThis query should help in retrieving comprehensive information about Professor Lupin\\'s role as a teacher.', 'mapping': {'VAR1': 'Lupin'}}\n",
            "Checking if should end\n",
            " curr step: {'plan': [\"Use function A to retrieve both vector stores of chunks of a book and vector stores of the same book chapter summaries based on the query: 'Retrieve documents about Professor Lupin's teachings, including the subject he taught, specific lessons or topics covered, notable events, and teaching methods.'\", \"Use function B to answer the question 'What did Professor Lupin teach?' based on the retrieved documents.\"]}\n",
            "Executing step\n",
            "task_formatted: For the following plan:\n",
            "1. Use function A to retrieve both vector stores of chunks of a book and vector stores of the same book chapter summaries based on the query: 'Retrieve documents about Professor Lupin's teachings, including the subject he taught, specific lessons or topics covered, notable events, and teaching methods.'\n",
            "2. Use function B to answer the question 'What did Professor Lupin teach?' based on the retrieved documents.\n",
            "\n",
            "You are tasked with executing step 1, Use function A to retrieve both vector stores of chunks of a book and vector stores of the same book chapter summaries based on the query: 'Retrieve documents about Professor Lupin's teachings, including the subject he taught, specific lessons or topics covered, notable events, and teaching methods.'.\n",
            "Running the qualitative retrieval workflow...\n",
            "Running the qualitative retrieval workflow...\n",
            "'--------------------'\n",
            "'--------------------'\n",
            "Retrieving relevant chunks...\n",
            "Retrieving relevant chunks...\n",
            "Retrieving relevant chapter summaries...\n",
            "Retrieving relevant chapter summaries...\n",
            "'--------------------'\n",
            "keeping only the relevant content...\n",
            "'--------------------'\n",
            "keeping only the relevant content...\n",
            "Determining if the document is relevant...\n",
            "The document is relevant.\n",
            "'--------------------'\n",
            " the question was Retrieve chapter summaries about Professor Lupin's teachings, including the subject he taught, specific lessons or topics covered, notable events, and teaching methods. and the context is Professor McGonagall watched them turn a mouse into a snuffbox — points were given for how pretty the snuffbox was, but taken away if it had whiskers.. Harry also learns that magic is much more than just waving a wand and saying words.. He studies astronomy, herbology, history of magic, charms, and defense against the dark arts.. Professor Snape, the potions master, particularly dislikes Harry and singles him out in class.\n",
            "Determining if the document is relevant...\n",
            "The document is not relevant.\n",
            "'--------------------'\n",
            "Rewriting the question...\n",
            "'--------------------'\n",
            "Retrieving relevant chunks...\n",
            "Retrieving relevant chapter summaries...\n",
            "'--------------------'\n",
            "keeping only the relevant content...\n",
            "Determining if the document is relevant...\n",
            "The document is not relevant.\n",
            "'--------------------'\n",
            "Rewriting the question...\n",
            "'--------------------'\n",
            "Retrieving relevant chunks...\n",
            "Retrieving relevant chapter summaries...\n",
            "'--------------------'\n",
            "keeping only the relevant content...\n",
            "Determining if the document is relevant...\n",
            "The document is not relevant.\n",
            "'--------------------'\n",
            "The final answer is: The answer wasn't found in the data.\n"
          ]
        }
      ],
      "source": [
        "input = {\"input\": \"what did professor lupin teach?\"}\n",
        "final_answer = execute_plan_and_print_steps(input)\n",
        "print(f'The final answer is: {final_answer}')"
      ]
    },
    {
      "cell_type": "markdown",
      "metadata": {},
      "source": [
        "### Template for Answering Questions Using Context-Specific Information\n"
      ]
    },
    {
      "cell_type": "markdown",
      "metadata": {
        "id": "JBKQkR-W4ZyV"
      },
      "source": [
        "### Model Evaluation\n"
      ]
    },
    {
      "cell_type": "code",
      "execution_count": null,
      "metadata": {
        "id": "ME52zvjPNv47"
      },
      "outputs": [],
      "source": [
        "questions = [\n",
        "    \"Who gave Harry Potter his first broomstick?\",\n",
        "    \"What is the name of the three-headed dog guarding the Sorcerer's Stone?\",\n",
        "    \"Which house did the Sorting Hat initially consider for Harry?\",\n",
        "    \"What is the name of Harry's owl?\"\n",
        "]\n",
        "#     \"How did Harry and his friends get past Fluffy?\",\n",
        "#     \"What is the Mirror of Erised?\",\n",
        "#     \"Who tried to steal the Sorcerer's Stone?\",\n",
        "#     \"How did Harry defeat Quirrell/Voldemort?\",\n",
        "#     \"What is Harry's parent's secret weapon against Voldemort?\",\n",
        "# ]\n",
        "\n",
        "ground_truth_answers = [\n",
        "    \"Professor McGonagall\",\n",
        "    \"Fluffy\",\n",
        "    \"Slytherin\",\n",
        "    \"Hedwig\",\n",
        "    # \"They played music to put Fluffy to sleep.\",\n",
        "    # \"A magical mirror that shows the 'deepest, most desperate desire of our hearts.'\",\n",
        "    # \"Professor Quirrell, possessed by Voldemort\",\n",
        "    # \"Harry's mother's love protected him, causing Quirrell/Voldemort pain when they touched him.\",\n",
        "    # \"Love\",\n",
        "]"
      ]
    },
    {
      "cell_type": "markdown",
      "metadata": {},
      "source": [
        "### Generating Answers and Retrieving Documents for Predefined Questions\n"
      ]
    },
    {
      "cell_type": "code",
      "execution_count": null,
      "metadata": {
        "colab": {
          "base_uri": "https://localhost:8080/",
          "height": 460
        },
        "id": "Wo9EEV0j4mJA",
        "outputId": "14c46214-8fb8-41aa-9845-73367d9a738f"
      },
      "outputs": [],
      "source": [
        "generated_answers = []\n",
        "retrieved_documents = []\n",
        "for question in questions:\n",
        "    result, all_context_book, all_context_summaries = answer_question_pipeline(question, chunks_retriever, chapter_summaries_retriever, answer_from_context_llm_chain, multi_query_retriver_llm)\n",
        "    generated_answers.append(result['text'])\n",
        "    retrieved_documents.append(all_context_book + all_context_summaries)\n"
      ]
    },
    {
      "cell_type": "markdown",
      "metadata": {},
      "source": [
        "### Displaying Retrieved Documents and Generated Answers\n"
      ]
    },
    {
      "cell_type": "code",
      "execution_count": null,
      "metadata": {},
      "outputs": [],
      "source": [
        "print(f'retrieved_documents: {retrieved_documents}\\n')\n",
        "print(f'generated_answers: {generated_answers}')"
      ]
    },
    {
      "cell_type": "markdown",
      "metadata": {},
      "source": [
        "### Preparing Data and Conducting Ragas Evaluation\n"
      ]
    },
    {
      "cell_type": "code",
      "execution_count": null,
      "metadata": {},
      "outputs": [],
      "source": [
        "# Prepare data for Ragas evaluation\n",
        "data_samples = {\n",
        "    'question': questions,  # Replace with your list of questions\n",
        "    'answer': generated_answers,  # Replace with your list of generated answers\n",
        "    'contexts': retrieved_documents,  # Your retrieved_documents list\n",
        "    'ground_truth': ground_truth_answers  # Replace with your list of ground truth answers\n",
        "}\n",
        "\n",
        "# Convert contexts to list of strings (if necessary)\n",
        "data_samples['contexts'] = [list(context) for context in data_samples['contexts']]\n",
        "\n",
        "dataset = Dataset.from_dict(data_samples)\n",
        "\n",
        "# Evaluate using Ragas with the specified metrics\n",
        "metrics = [\n",
        "    answer_correctness,\n",
        "    faithfulness,\n",
        "    answer_relevancy,\n",
        "    context_recall,\n",
        "    answer_similarity\n",
        "]\n",
        "llm = ChatOpenAI(temperature=0, model_name=\"gpt-4-1106-preview\", max_tokens=4000)\n",
        "score = evaluate(dataset, metrics=metrics, llm=llm)\n",
        "\n",
        "# Print results and explanations\n",
        "results_df = score.to_pandas()\n",
        "print(results_df)"
      ]
    },
    {
      "cell_type": "markdown",
      "metadata": {},
      "source": [
        "### Analyzing Metric Results from Ragas Evaluation\n"
      ]
    },
    {
      "cell_type": "code",
      "execution_count": null,
      "metadata": {},
      "outputs": [],
      "source": [
        "analyse_metric_results(results_df)"
      ]
    },
    {
      "cell_type": "markdown",
      "metadata": {},
      "source": [
        "### Interactive Chat Interface for Harry Potter Inquiries\n"
      ]
    },
    {
      "cell_type": "code",
      "execution_count": null,
      "metadata": {
        "id": "lV7UvEofS1nv"
      },
      "outputs": [],
      "source": [
        "def chat_with_data(chunks_retriever, chapter_summaries_retriever, answer_from_context_llm_chain, multi_query_retriver_llm):\n",
        "    \"\"\"\n",
        "    Provides an interactive chat interface for answering questions about Harry Potter.\n",
        "\n",
        "    Args:\n",
        "        retriever: A retriever for retrieving relevant documents.\n",
        "        chapter_summaries_retriever: A retriever for retrieving relevant chapter summaries.\n",
        "        answer_from_context_llm_chain: An LLM chain for answering questions based on context.\n",
        "        multi_query_retriver_llm: An LLM for use in the MultiQueryRetriever.\n",
        "    \"\"\"\n",
        "\n",
        "    print(\"You can start chatting with me about Harry Potter. Type 'exit' to stop.\")\n",
        "\n",
        "    while True:\n",
        "        # Prompt the user for a question\n",
        "        question = input(\"What's your question? \\n\")\n",
        "\n",
        "        # Check if the user wants to exit\n",
        "        if question.lower() == 'exit':\n",
        "            print(\"Exiting chat. Goodbye!\")\n",
        "            break\n",
        "\n",
        "        # Answer the question using the pipeline\n",
        "        result, _, _ = answer_question_pipeline(\n",
        "            question, chunks_retriever, chapter_summaries_retriever, answer_from_context_llm_chain, multi_query_retriver_llm\n",
        "        )\n",
        "\n",
        "        # Print the answer\n",
        "        print(\"Answer:\")\n",
        "        wrapped_result = textwrap.fill(result['text'], width=120)  # Wrap text for readability\n",
        "        print(wrapped_result)\n",
        "        print(\"-\" * 80)  # Print a separator line for readability"
      ]
    },
    {
      "cell_type": "markdown",
      "metadata": {},
      "source": [
        "### Calling the chat_with_data function"
      ]
    },
    {
      "cell_type": "code",
      "execution_count": null,
      "metadata": {
        "colab": {
          "base_uri": "https://localhost:8080/"
        },
        "id": "048b2Ol7QAiF",
        "outputId": "1c891083-5c91-4425-ba23-50d1f32e0ac5"
      },
      "outputs": [],
      "source": [
        "chat_with_data(chunks_retriever,chapter_summaries_retriever, answer_from_context_llm_chain, multi_query_retriver_llm)"
      ]
    }
  ],
  "metadata": {
    "colab": {
      "provenance": []
    },
    "kernelspec": {
      "display_name": "Python 3",
      "name": "python3"
    },
    "language_info": {
      "codemirror_mode": {
        "name": "ipython",
        "version": 3
      },
      "file_extension": ".py",
      "mimetype": "text/x-python",
      "name": "python",
      "nbconvert_exporter": "python",
      "pygments_lexer": "ipython3",
      "version": "3.12.0"
    }
  },
  "nbformat": 4,
  "nbformat_minor": 0
}
