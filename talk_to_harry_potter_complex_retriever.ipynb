{
  "cells": [
    {
      "cell_type": "markdown",
      "metadata": {},
      "source": [
        "### Importing Necessary Libraries\n"
      ]
    },
    {
      "cell_type": "code",
      "execution_count": 1,
      "metadata": {
        "id": "XIL5OCqJ7bh8"
      },
      "outputs": [
        {
          "name": "stderr",
          "output_type": "stream",
          "text": [
            "c:\\Users\\N7\\PycharmProjects\\llm_tasks\\RAG-Harry-Potter\\.venv\\Lib\\site-packages\\tqdm\\auto.py:21: TqdmWarning: IProgress not found. Please update jupyter and ipywidgets. See https://ipywidgets.readthedocs.io/en/stable/user_install.html\n",
            "  from .autonotebook import tqdm as notebook_tqdm\n"
          ]
        },
        {
          "data": {
            "text/plain": [
              "True"
            ]
          },
          "execution_count": 1,
          "metadata": {},
          "output_type": "execute_result"
        }
      ],
      "source": [
        "from langchain.chat_models import ChatOpenAI\n",
        "from langchain.document_loaders import  PyPDFLoader\n",
        "from langchain.vectorstores import  FAISS\n",
        "from langchain.text_splitter import  RecursiveCharacterTextSplitter\n",
        "from langchain.embeddings import OpenAIEmbeddings \n",
        "from langchain.prompts import PromptTemplate\n",
        "from langchain.chains import LLMChain\n",
        "from langchain.docstore.document import Document\n",
        "from langchain.chains.summarize import load_summarize_chain\n",
        "from time import monotonic\n",
        "from langchain_groq import ChatGroq\n",
        "from langchain_core.pydantic_v1 import BaseModel, Field\n",
        "from langchain_core.output_parsers import JsonOutputParser\n",
        "from dotenv import load_dotenv\n",
        "from langchain.agents import initialize_agent, Tool\n",
        "from langchain.chains.question_answering import load_qa_chain\n",
        "from pprint import pprint\n",
        "import textwrap\n",
        "import os\n",
        "from datasets import Dataset\n",
        "from ragas import evaluate\n",
        "from ragas.metrics import (\n",
        "    answer_correctness,\n",
        "    faithfulness,\n",
        "    answer_relevancy,\n",
        "    context_recall,\n",
        "    answer_similarity\n",
        ")\n",
        "\n",
        "from langgraph.graph import END, StateGraph\n",
        "from typing_extensions import TypedDict\n",
        "from langchain_core.runnables.graph import MermaidDrawMethod\n",
        "from IPython.display import display, Image\n",
        "from langchain.schema import AIMessage\n",
        "from langchain import hub\n",
        "from langgraph.prebuilt import create_react_agent\n",
        "from typing import List, Tuple, Annotated, TypedDict\n",
        "from langchain_core.pydantic_v1 import BaseModel, Field\n",
        "from langchain_core.prompts import ChatPromptTemplate\n",
        "\n",
        "import operator\n",
        "\n",
        "### Helper functions for the notebook\n",
        "from helper_functions import num_tokens_from_string, replace_t_with_space, replace_double_lines_with_one_line, split_into_chapters,\\\n",
        "analyse_metric_results, escape_quotes, format_state_past_steps, clean_empty_fields_dictionary, process_replanner_output\n",
        "\n",
        "load_dotenv()\n",
        "\n",
        "os.environ[\"PYDEVD_WARN_EVALUATION_TIMEOUT\"] = \"100000\""
      ]
    },
    {
      "cell_type": "markdown",
      "metadata": {},
      "source": [
        "### Setting Preferred Encoding for PyPDF on Google Colab\n"
      ]
    },
    {
      "cell_type": "code",
      "execution_count": null,
      "metadata": {
        "id": "c6QeKRm37HwC"
      },
      "outputs": [],
      "source": [
        "import locale\n",
        "def getpreferredencoding(do_setlocale = True):\n",
        "    return \"UTF-8\"\n",
        "locale.getpreferredencoding = getpreferredencoding # For using PyPDF on google colab "
      ]
    },
    {
      "cell_type": "markdown",
      "metadata": {},
      "source": [
        "### Setting OPENAI and GROQ API keys"
      ]
    },
    {
      "cell_type": "code",
      "execution_count": 2,
      "metadata": {},
      "outputs": [],
      "source": [
        "os.environ[\"OPENAI_API_KEY\"] = os.getenv('OPENAI_API_KEY')\n",
        "groq_api_key = os.getenv('GROQ_API_KEY')"
      ]
    },
    {
      "cell_type": "markdown",
      "metadata": {},
      "source": [
        "### Defining Path to Harry Potter PDF\n"
      ]
    },
    {
      "cell_type": "code",
      "execution_count": 4,
      "metadata": {
        "id": "8mUYHG_S6y22"
      },
      "outputs": [],
      "source": [
        "hp_pdf_path =\"Harry_Potter_Book_1_The_Sorcerers_Stone.pdf\""
      ]
    },
    {
      "cell_type": "markdown",
      "metadata": {},
      "source": [
        "### Splitting the PDF into Chapters and Preprocessing\n"
      ]
    },
    {
      "cell_type": "code",
      "execution_count": 5,
      "metadata": {
        "id": "cDHfDODdTIBY"
      },
      "outputs": [
        {
          "name": "stdout",
          "output_type": "stream",
          "text": [
            "17\n"
          ]
        }
      ],
      "source": [
        "chapters = split_into_chapters(hp_pdf_path) \n",
        "chapters = replace_t_with_space(chapters)\n",
        "print(len(chapters))"
      ]
    },
    {
      "cell_type": "markdown",
      "metadata": {},
      "source": [
        "### Defining Prompt Template for Summarization\n"
      ]
    },
    {
      "cell_type": "code",
      "execution_count": 6,
      "metadata": {
        "id": "49RqsAhDxjFg"
      },
      "outputs": [],
      "source": [
        "summarization_prompt_template = \"\"\"Write an extensive summary of about of the following:\n",
        "\n",
        "{text}\n",
        "\n",
        "SUMMARY:\"\"\"\n",
        "\n",
        "summarization_prompt = PromptTemplate(template=summarization_prompt_template, input_variables=[\"text\"])"
      ]
    },
    {
      "cell_type": "markdown",
      "metadata": {},
      "source": [
        "### Defining Function to Create Chapter Summaries using LLMs\n"
      ]
    },
    {
      "cell_type": "code",
      "execution_count": 7,
      "metadata": {
        "id": "ehe6iObnx4l9"
      },
      "outputs": [],
      "source": [
        "def create_chapter_summary(chapter):\n",
        "    \"\"\"\n",
        "    Creates a summary of a chapter using a large language model (LLM).\n",
        "\n",
        "    Args:\n",
        "        chapter: A Document object representing the chapter to summarize.\n",
        "\n",
        "    Returns:\n",
        "        A Document object containing the summary of the chapter.\n",
        "    \"\"\"\n",
        "\n",
        "    chapter_txt = chapter.page_content  # Extract chapter text\n",
        "    model_name = \"gpt-3.5-turbo-0125\"  # Specify LLM model\n",
        "    llm = ChatOpenAI(temperature=0, model_name=model_name)  # Create LLM instance\n",
        "    gpt_35_turbo_max_tokens = 16000  # Maximum token limit for the LLM\n",
        "    verbose = False  # Set to True for more detailed output\n",
        "\n",
        "    # Calculate number of tokens in the chapter text\n",
        "    num_tokens = num_tokens_from_string(chapter_txt, model_name)\n",
        "\n",
        "    # Choose appropriate chain type based on token count\n",
        "    if num_tokens < gpt_35_turbo_max_tokens:\n",
        "        chain = load_summarize_chain(llm, chain_type=\"stuff\", prompt=summarization_prompt, verbose=verbose)\n",
        "    else:\n",
        "        chain = load_summarize_chain(llm, chain_type=\"map_reduce\", map_prompt=summarization_prompt, combine_prompt=summarization_prompt, verbose=verbose)\n",
        "\n",
        "    start_time = monotonic()  # Start timer\n",
        "    doc_chapter = Document(page_content=chapter_txt)  # Create Document object for chapter\n",
        "    summary = chain.invoke([doc_chapter])  # Generate summary using the chain\n",
        "    print(f\"Chain type: {chain.__class__.__name__}\")  # Print chain type\n",
        "    print(f\"Run time: {monotonic() - start_time}\")  # Print execution time\n",
        "\n",
        "    # Clean up summary text\n",
        "    summary = replace_double_lines_with_one_line(summary[\"output_text\"])\n",
        "\n",
        "    # Create Document object for summary\n",
        "    doc_summary = Document(page_content=summary, metadata=chapter.metadata)\n",
        "\n",
        "    return doc_summary"
      ]
    },
    {
      "cell_type": "markdown",
      "metadata": {},
      "source": [
        "### Generating Summaries for Each Chapter\n"
      ]
    },
    {
      "cell_type": "code",
      "execution_count": null,
      "metadata": {
        "colab": {
          "base_uri": "https://localhost:8080/"
        },
        "id": "l4UBurLsMCHj",
        "outputId": "668932cf-02d8-446d-e0ed-3f85b30d3bba"
      },
      "outputs": [],
      "source": [
        "chapter_summaries = []\n",
        "for chapter in chapters:\n",
        "    chapter_summaries.append(create_chapter_summary(chapter))"
      ]
    },
    {
      "cell_type": "markdown",
      "metadata": {},
      "source": [
        "### Function to Encode a Book into a Vector Store using OpenAI Embeddings\n"
      ]
    },
    {
      "cell_type": "code",
      "execution_count": 9,
      "metadata": {
        "id": "9t1Kq6fGS0EA"
      },
      "outputs": [],
      "source": [
        "def encode_book(path, chunk_size=1000, chunk_overlap=200):\n",
        "    \"\"\"\n",
        "    Encodes a PDF book into a vector store using OpenAI embeddings.\n",
        "\n",
        "    Args:\n",
        "        path: The path to the PDF file.\n",
        "        chunk_size: The desired size of each text chunk.\n",
        "        chunk_overlap: The amount of overlap between consecutive chunks.\n",
        "\n",
        "    Returns:\n",
        "        A FAISS vector store containing the encoded book content.\n",
        "    \"\"\"\n",
        "\n",
        "    # Load PDF documents\n",
        "    loader = PyPDFLoader(path)\n",
        "    documents = loader.load()\n",
        "\n",
        "    # Split documents into chunks\n",
        "    text_splitter = RecursiveCharacterTextSplitter(\n",
        "        chunk_size=chunk_size, chunk_overlap=chunk_overlap, length_function=len\n",
        "    )\n",
        "    texts = text_splitter.split_documents(documents)\n",
        "    cleaned_texts = replace_t_with_space(texts)\n",
        "\n",
        "    # Create embeddings and vector store\n",
        "    embeddings = OpenAIEmbeddings()\n",
        "    vectorstore = FAISS.from_documents(cleaned_texts, embeddings)\n",
        "\n",
        "    return vectorstore"
      ]
    },
    {
      "cell_type": "markdown",
      "metadata": {},
      "source": [
        "### Encoding Chapter Summaries into Vector Store\n"
      ]
    },
    {
      "cell_type": "code",
      "execution_count": 10,
      "metadata": {
        "id": "FHt9Y12gMp2z"
      },
      "outputs": [],
      "source": [
        "def encode_chapter_summaries(chapter_summaries):\n",
        "    \"\"\"\n",
        "    Encodes a list of chapter summaries into a vector store using OpenAI embeddings.\n",
        "\n",
        "    Args:\n",
        "        chapter_summaries: A list of Document objects representing the chapter summaries.\n",
        "\n",
        "    Returns:\n",
        "        A FAISS vector store containing the encoded chapter summaries.\n",
        "    \"\"\"\n",
        "\n",
        "    embeddings = OpenAIEmbeddings()  # Create OpenAI embeddings\n",
        "    chapter_summaries_vectorstore = FAISS.from_documents(chapter_summaries, embeddings)  # Create vector store\n",
        "    return chapter_summaries_vectorstore"
      ]
    },
    {
      "cell_type": "markdown",
      "metadata": {},
      "source": [
        "### Creating Vector Stores and Retrievers for Book and Chapter Summaries\n"
      ]
    },
    {
      "cell_type": "code",
      "execution_count": 3,
      "metadata": {},
      "outputs": [
        {
          "name": "stderr",
          "output_type": "stream",
          "text": [
            "c:\\Users\\N7\\PycharmProjects\\llm_tasks\\RAG-Harry-Potter\\.venv\\Lib\\site-packages\\langchain_core\\_api\\deprecation.py:119: LangChainDeprecationWarning: The class `OpenAIEmbeddings` was deprecated in LangChain 0.0.9 and will be removed in 0.3.0. An updated version of the class exists in the langchain-openai package and should be used instead. To use it run `pip install -U langchain-openai` and import as `from langchain_openai import OpenAIEmbeddings`.\n",
            "  warn_deprecated(\n"
          ]
        }
      ],
      "source": [
        "# ### IF VECTOR STORES ALREADY EXIST, LOAD THEM\n",
        "if os.path.exists(\"chunks_vector_store\") and os.path.exists(\"chapter_summaries_vector_store\"):\n",
        "    embeddings = OpenAIEmbeddings()\n",
        "    chunks_vector_store =  FAISS.load_local(\"chunks_vector_store\", embeddings, allow_dangerous_deserialization=True)\n",
        "    chapter_summaries_vector_store =  FAISS.load_local(\"chapter_summaries_vector_store\", embeddings, allow_dangerous_deserialization=True)\n",
        "\n",
        "else:\n",
        "    chunks_vector_store = encode_book(hp_pdf_path, chunk_size=1000, chunk_overlap=200)\n",
        "    chapter_summaries_vector_store = encode_chapter_summaries(chapter_summaries)\n",
        "\n",
        "    chunks_vector_store.save_local(\"chunks_vector_store\") # save the chunks_vector_store\n",
        "    chapter_summaries_vector_store.save_local(\"chapter_summaries_vector_store\") # save the chapter_summaries_vector_store\n"
      ]
    },
    {
      "cell_type": "markdown",
      "metadata": {},
      "source": [
        "### Create retrievers from the vector stores"
      ]
    },
    {
      "cell_type": "code",
      "execution_count": 4,
      "metadata": {},
      "outputs": [],
      "source": [
        "chunks_query_retriever = chunks_vector_store.as_retriever(search_kwargs={\"k\": 1})     \n",
        "chapter_summaries_query_retriever = chapter_summaries_vector_store.as_retriever(search_kwargs={\"k\": 1})"
      ]
    },
    {
      "cell_type": "markdown",
      "metadata": {},
      "source": [
        "## Create graph nodes and LLM function for the nodes"
      ]
    },
    {
      "cell_type": "markdown",
      "metadata": {},
      "source": [
        "### Agrregate retrieved content as string context"
      ]
    },
    {
      "cell_type": "code",
      "execution_count": 5,
      "metadata": {},
      "outputs": [],
      "source": [
        "def retrieve_context_per_question(state):\n",
        " \n",
        "    # Retrieve relevant documents\n",
        "    print(\"Retrieving relevant chunks...\")\n",
        "    question = state[\"question\"]\n",
        "    docs = chunks_query_retriever.get_relevant_documents(question)\n",
        "\n",
        "    # Concatenate document content\n",
        "    context = \" \".join(doc.page_content for doc in docs)\n",
        "\n",
        "\n",
        "    print(\"Retrieving relevant chapter summaries...\")\n",
        "    question = state[\"question\"]\n",
        "\n",
        "    docs_summaries = chapter_summaries_query_retriever.get_relevant_documents(state[\"question\"])\n",
        "\n",
        "\n",
        "    # Concatenate chapter summaries with citation information\n",
        "    context_summaries = \"\".join(\n",
        "        f\"{doc.page_content} (Chapter {doc.metadata['chapter']})\" for doc in docs_summaries\n",
        "    )\n",
        "\n",
        "    all_contexts = context + context_summaries\n",
        "    all_contexts = escape_quotes(all_contexts)\n",
        "\n",
        "    return {\"context\": all_contexts, \"question\": question}\n",
        "\n"
      ]
    },
    {
      "cell_type": "markdown",
      "metadata": {},
      "source": [
        "### LLM based function to distill only relevant retrieved content"
      ]
    },
    {
      "cell_type": "code",
      "execution_count": 6,
      "metadata": {},
      "outputs": [],
      "source": [
        "keep_only_relevant_content_prompt_template = \"\"\"you receive a query: {query} and retrieved docuemnts: {retrieved_documents} from a vector store.\n",
        " You need to filter the retrieved data and keep only the sentences that are relevant, but all of them.\n",
        " you should output the distilled content in a json format. \n",
        " REMEMBER: the output has to be a json containing ALL the relevant sentences, and not the answer to the query. {format_instructions}\"\"\"\n",
        "\n",
        "class QuestionAnswer(BaseModel):\n",
        "    relevant_content: str = Field(description=\"The relevant content from the retrieved documents that is relevant to the query.\")\n",
        "\n",
        "\n",
        "json_parser = JsonOutputParser(pydantic_object=QuestionAnswer)\n",
        "\n",
        "keep_only_relevant_content_prompt = PromptTemplate(\n",
        "    template=keep_only_relevant_content_prompt_template,\n",
        "    input_variables=[\"query\", \"retrieved_documents\"],\n",
        "    partial_variables={\"format_instructions\": json_parser.get_format_instructions()}, \n",
        ")\n",
        "\n",
        "keep_only_relevant_content_llm = ChatGroq(temperature=0, model_name=\"llama3-70b-8192\", groq_api_key=groq_api_key, max_tokens=4000)\n",
        "keep_only_relevant_content_chain = keep_only_relevant_content_prompt | keep_only_relevant_content_llm | json_parser\n",
        "\n",
        "def keep_only_relevant_content(state):\n",
        "    \"\"\"\n",
        "    Keeps only the relevant content from the retrieved documents that is relevant to the query.\n",
        "\n",
        "    Args:\n",
        "        question: The query question.\n",
        "        context: The retrieved documents.\n",
        "        chain: The LLMChain instance.\n",
        "\n",
        "    Returns:\n",
        "        The relevant content from the retrieved documents that is relevant to the query.\n",
        "    \"\"\"\n",
        "    question = state[\"question\"]\n",
        "    context = state[\"context\"]\n",
        "\n",
        "    input_data = {\n",
        "    \"query\": question,\n",
        "    \"retrieved_documents\": context\n",
        "}\n",
        "    print(\"keeping only the relevant content...\")\n",
        "    # Invoke the chain to keep only the relevant content\n",
        "    output = keep_only_relevant_content_chain.invoke(input_data)\n",
        "    relevant_content = output[\"relevant_content\"]\n",
        "    relevant_content = \". \".join(relevant_content)\n",
        "    relevant_content = escape_quotes(relevant_content)\n",
        "\n",
        "    return {\"context\": relevant_content, \"question\": question}\n",
        "\n"
      ]
    },
    {
      "cell_type": "markdown",
      "metadata": {},
      "source": [
        "### LLM based function to re-write a question"
      ]
    },
    {
      "cell_type": "code",
      "execution_count": 7,
      "metadata": {},
      "outputs": [],
      "source": [
        "### Question Re-writer\n",
        "\n",
        "class RewriteQuestion(BaseModel):\n",
        "    \"\"\"\n",
        "    Output schema for the rewritten question.\n",
        "    \"\"\"\n",
        "    rewritten_question: str = Field(description=\"The improved question optimized for vectorstore retrieval.\")\n",
        "\n",
        "rewrite_question_string_parser = JsonOutputParser(pydantic_object=RewriteQuestion)\n",
        "\n",
        "\n",
        "rewrite_llm = ChatGroq(temperature=0, model_name=\"llama3-70b-8192\", groq_api_key=groq_api_key, max_tokens=4000)\n",
        "rewrite_prompt_template = \"\"\"You are a question re-writer that converts an input question to a better version optimized for vectorstore retrieval.\n",
        " Analyze the input question {question} and try to reason about the underlying semantic intent / meaning.\n",
        " {format_instructions}\n",
        " \"\"\"\n",
        "\n",
        "rewrite_prompt = PromptTemplate(\n",
        "    template=rewrite_prompt_template,\n",
        "    input_variables=[\"question\"],\n",
        "    partial_variables={\"format_instructions\": rewrite_question_string_parser.get_format_instructions()},\n",
        ")\n",
        "\n",
        "question_rewriter = rewrite_prompt | rewrite_llm | rewrite_question_string_parser  # Combine prompt, LLM, and parser\n",
        "\n",
        "def rewrite_question(state):\n",
        "    \"\"\"Rewrites the given question using the LLM.\"\"\"\n",
        "    question = state[\"question\"]\n",
        "    print(\"Rewriting the question...\")\n",
        "    result = question_rewriter.invoke({\"question\": question})\n",
        "    new_question = result[\"rewritten_question\"]\n",
        "    return {\"question\": new_question}"
      ]
    },
    {
      "cell_type": "markdown",
      "metadata": {},
      "source": [
        "### LLM based function to answer a question given context"
      ]
    },
    {
      "cell_type": "code",
      "execution_count": 8,
      "metadata": {},
      "outputs": [],
      "source": [
        "class QuestionAnswerFromContext(BaseModel):\n",
        "    answer_based_on_content: str = Field(description=\"generates an answer to a query based on a given context.\")\n",
        "\n",
        "question_answer_from_context_json_parser = JsonOutputParser(pydantic_object=QuestionAnswerFromContext)\n",
        "question_answer_from_context_llm = ChatGroq(temperature=0, model_name=\"llama3-70b-8192\", groq_api_key=groq_api_key, max_tokens=4000)\n",
        "\n",
        "question_answer_from_context_prompt_template = \"\"\"you receive a query: {query} and a context: {context}. \n",
        "You need to answer the query from the context. the output has to be a json containing the answer to the query.\n",
        " {format_instructions}\"\"\"\n",
        "\n",
        "question_answer_from_context_prompt = PromptTemplate(\n",
        "    template=question_answer_from_context_prompt_template,\n",
        "    input_variables=[\"query\", \"context\"],\n",
        "    partial_variables={\"format_instructions\": question_answer_from_context_json_parser.get_format_instructions()},\n",
        ")\n",
        "question_answer_from_context_chain = question_answer_from_context_prompt | question_answer_from_context_llm | question_answer_from_context_json_parser\n",
        "\n",
        "def answer_question_from_context(state):\n",
        "    \"\"\"\n",
        "    Answers a question from a given context.\n",
        "\n",
        "    Args:\n",
        "        question: The query question.\n",
        "        context: The context to answer the question from.\n",
        "        chain: The LLMChain instance.\n",
        "\n",
        "    Returns:\n",
        "        The answer to the question from the context.\n",
        "    \"\"\"\n",
        "    question = state[\"question\"]\n",
        "    context = state[\"context\"]\n",
        "\n",
        "    input_data = {\n",
        "    \"query\": question,\n",
        "    \"context\": context\n",
        "}\n",
        "    print(\"Answering the question from the retrieved context...\")\n",
        "\n",
        "    # Invoke the chain to answer the question from the context\n",
        "    output = question_answer_from_context_chain.invoke(input_data)\n",
        "    answer = output[\"answer_based_on_content\"]\n",
        "    return {\"answer\": answer, \"context\": context, \"question\": question}\n"
      ]
    },
    {
      "cell_type": "markdown",
      "metadata": {},
      "source": [
        "## Create graph edges"
      ]
    },
    {
      "cell_type": "markdown",
      "metadata": {},
      "source": [
        "### LLM based function to determine if retrieved content is relevant to question"
      ]
    },
    {
      "cell_type": "code",
      "execution_count": 9,
      "metadata": {},
      "outputs": [],
      "source": [
        "is_relevant_content_prompt_template = \"\"\"you receive a query: {query} and a context: {context} retrieved from a vector store. \n",
        "You need to determine if the document is relevant to the query. \n",
        "\n",
        "{format_instructions}\"\"\"\n",
        "\n",
        "class Relevance(BaseModel):\n",
        "    is_relevant: bool = Field(description=\"Whether the document is relevant to the query.\")\n",
        "    explanation: str = Field(description=\"An explanation of why the document is relevant or not.\")\n",
        "\n",
        "is_relevant_json_parser = JsonOutputParser(pydantic_object=Relevance)\n",
        "is_relevant_llm = ChatGroq(temperature=0, model_name=\"llama3-70b-8192\", groq_api_key=groq_api_key, max_tokens=4000)\n",
        "\n",
        "is_relevant_content_prompt = PromptTemplate(\n",
        "    template=is_relevant_content_prompt_template,\n",
        "    input_variables=[\"query\", \"context\"],\n",
        "    partial_variables={\"format_instructions\": is_relevant_json_parser.get_format_instructions()},\n",
        ")\n",
        "is_relevant_content_chain = is_relevant_content_prompt | is_relevant_llm | is_relevant_json_parser\n",
        "\n",
        "def is_relevant_content(state):\n",
        "    \"\"\"\n",
        "    Determines if the document is relevant to the query.\n",
        "\n",
        "    \"\"\"\n",
        "\n",
        "    question = state[\"question\"]\n",
        "    context = state[\"context\"]\n",
        "\n",
        "    input_data = {\n",
        "    \"query\": question,\n",
        "    \"context\": context\n",
        "}\n",
        "\n",
        "    # Invoke the chain to determine if the document is relevant\n",
        "    output = is_relevant_content_chain.invoke(input_data)\n",
        "    print(\"Determining if the document is relevant...\")\n",
        "    if output[\"is_relevant\"] == True:\n",
        "        print(\"The document is relevant.\")\n",
        "        return \"relevant\"\n",
        "    else:\n",
        "        print(\"The document is not relevant.\")\n",
        "        return \"not relevant\"\n",
        "    \n"
      ]
    },
    {
      "cell_type": "markdown",
      "metadata": {},
      "source": [
        "### LLM chain to check if an answer is hallucination"
      ]
    },
    {
      "cell_type": "code",
      "execution_count": 10,
      "metadata": {},
      "outputs": [],
      "source": [
        "class is_grounded_on_facts(BaseModel):\n",
        "    \"\"\"\n",
        "    Output schema for the rewritten question.\n",
        "    \"\"\"\n",
        "    grounded_on_facts: bool = Field(description=\"Answer is grounded in the facts, 'yes' or 'no'\")\n",
        "    explanation: str = Field(description=\"An explanation of why the answer is grounded in the facts or not.\")\n",
        "\n",
        "grounded_on_facts_parser = JsonOutputParser(pydantic_object=is_grounded_on_facts)\n",
        "is_grounded_on_facts_llm = ChatGroq(temperature=0, model_name=\"llama3-70b-8192\", groq_api_key=groq_api_key, max_tokens=4000)\n",
        "is_grounded_on_facts_prompt_template = \"\"\"You are a fact-checker that determines if the answer to the question is grounded in the facts.\n",
        " Analyze the input context {context} and the answer {answer} and determine if the answer is grounded in the facts.\n",
        " {format_instructions}\n",
        " \"\"\"\n",
        "is_grounded_on_facts_prompt = PromptTemplate(\n",
        "    template=is_grounded_on_facts_prompt_template,\n",
        "    input_variables=[\"context\", \"answer\"],\n",
        "    partial_variables={\"format_instructions\": grounded_on_facts_parser.get_format_instructions()},\n",
        ")\n",
        "is_grounded_on_facts_chain = is_grounded_on_facts_prompt | is_grounded_on_facts_llm | grounded_on_facts_parser\n",
        "\n",
        "\n"
      ]
    },
    {
      "cell_type": "markdown",
      "metadata": {},
      "source": [
        "### LLM chain to determine if a question can be fully answered given a context"
      ]
    },
    {
      "cell_type": "code",
      "execution_count": 11,
      "metadata": {},
      "outputs": [],
      "source": [
        "can_be_answered_prompt_template = \"\"\"You receive a query: {question} and a context: {context}. \n",
        "You need to determine if the question can be fully answered based on the context.\n",
        "{format_instructions}\n",
        "\"\"\"\n",
        "\n",
        "class QuestionAnswer(BaseModel):\n",
        "    can_be_answered: bool = Field(description=\"binary result of whether the question can be fully answered or not\")\n",
        "    explanation: str = Field(description=\"An explanation of why the question can be fully answered or not.\")\n",
        "\n",
        "can_be_answered_json_parser = JsonOutputParser(pydantic_object=QuestionAnswer)\n",
        "\n",
        "answer_question_prompt = PromptTemplate(\n",
        "    template=can_be_answered_prompt_template,\n",
        "    input_variables=[\"question\",\"context\"],\n",
        "    partial_variables={\"format_instructions\": can_be_answered_json_parser.get_format_instructions()},\n",
        ")\n",
        "\n",
        "can_be_answered_llm = ChatGroq(temperature=0, model_name=\"llama3-70b-8192\", groq_api_key=groq_api_key, max_tokens=4000)\n",
        "can_be_answered_chain = answer_question_prompt | can_be_answered_llm | can_be_answered_json_parser\n",
        "\n",
        "    "
      ]
    },
    {
      "cell_type": "markdown",
      "metadata": {},
      "source": [
        "### function to check both cases - hallucination and full answer"
      ]
    },
    {
      "cell_type": "code",
      "execution_count": 12,
      "metadata": {},
      "outputs": [],
      "source": [
        "def grade_generation_v_documents_and_question(state):\n",
        "    \"\"\"Determines if the answer to the question is grounded in the facts.\"\"\"\n",
        "    print(\"Checking if the answer is grounded in the facts...\")\n",
        "    context = state[\"context\"]\n",
        "    answer = state[\"answer\"]\n",
        "    question = state[\"question\"]\n",
        "    \n",
        "    result = is_grounded_on_facts_chain.invoke({\"context\": context, \"answer\": answer})\n",
        "    grounded_on_facts = result[\"grounded_on_facts\"]\n",
        "    if not grounded_on_facts:\n",
        "        print(\"The answer is hallucination.\")\n",
        "        return \"hallucination\"\n",
        "    else:\n",
        "        print(\"The answer is grounded in the facts.\")\n",
        "\n",
        "        input_data = {\n",
        "            \"question\": question,\n",
        "            \"context\": context\n",
        "        }\n",
        "\n",
        "        # Invoke the chain to determine if the question can be answered\n",
        "        print(\"Determining if the question is fully answered...\")\n",
        "        output = can_be_answered_chain.invoke(input_data)\n",
        "        can_be_answered = output[\"can_be_answered\"]\n",
        "        if can_be_answered == True:\n",
        "            print(\"The question can be fully answered.\")\n",
        "            return \"useful\"\n",
        "        else:\n",
        "            print(\"The question cannot be fully answered.\")\n",
        "            return \"not_useful\"\n",
        "     "
      ]
    },
    {
      "cell_type": "markdown",
      "metadata": {},
      "source": [
        "### Test a pipeline of all parts"
      ]
    },
    {
      "cell_type": "code",
      "execution_count": null,
      "metadata": {},
      "outputs": [],
      "source": [
        "init_state = {\"question\": \"who is harry?\"}\n",
        "context_state = retrieve_context_per_question(init_state)\n",
        "relevant_content_state = keep_only_relevant_content(context_state)\n",
        "is_relevant_content_state = is_relevant_content(relevant_content_state)\n",
        "answer_state = answer_question_from_context(relevant_content_state)\n",
        "final_answer = grade_generation_v_documents_and_question(answer_state)\n",
        "print(final_answer[\"answer\"])"
      ]
    },
    {
      "cell_type": "markdown",
      "metadata": {},
      "source": [
        "## Build the Graph"
      ]
    },
    {
      "cell_type": "code",
      "execution_count": 13,
      "metadata": {},
      "outputs": [],
      "source": [
        "class GraphState(TypedDict):\n",
        "    \"\"\"\n",
        "    Represents the state of our graph.\n",
        "\n",
        "    Attributes:\n",
        "        question: question\n",
        "        context: context\n",
        "        answer: answer\n",
        "    \"\"\"\n",
        "\n",
        "    question: str\n",
        "    context: str\n",
        "    answer: str\n",
        "\n",
        "workflow = StateGraph(GraphState)\n",
        "\n",
        "# Define the nodes\n",
        "workflow.add_node(\"retrieve_context_per_question\",retrieve_context_per_question)\n",
        "workflow.add_node(\"keep_only_relevant_content\",keep_only_relevant_content)\n",
        "workflow.add_node(\"rewrite_question\",rewrite_question)\n",
        "workflow.add_node(\"answer_question_from_context\",answer_question_from_context)\n",
        "\n",
        "# Build the graph\n",
        "workflow.set_entry_point(\"retrieve_context_per_question\")\n",
        "workflow.add_edge(\"retrieve_context_per_question\", \"keep_only_relevant_content\")\n",
        "workflow.add_conditional_edges(\n",
        "    \"keep_only_relevant_content\",\n",
        "    is_relevant_content,\n",
        "    {\"relevant\":\"answer_question_from_context\",\n",
        "      \"not relevant\":\"rewrite_question\"},\n",
        "    )\n",
        "workflow.add_edge(\"rewrite_question\", \"retrieve_context_per_question\")\n",
        "workflow.add_conditional_edges(\n",
        "\"answer_question_from_context\",\n",
        "grade_generation_v_documents_and_question,\n",
        "{\"hallucination\":\"answer_question_from_context\",\n",
        "\"not_useful\":\"rewrite_question\",\n",
        "\"useful\":END},\n",
        "\n",
        ")\n",
        "\n",
        "retrival_app = workflow.compile()\n",
        "\n"
      ]
    },
    {
      "cell_type": "code",
      "execution_count": 16,
      "metadata": {},
      "outputs": [
        {
          "data": {
            "image/jpeg": "[encoded data removed]",
            "text/plain": [
              "<IPython.core.display.Image object>"
            ]
          },
          "metadata": {},
          "output_type": "display_data"
        }
      ],
      "source": [
        "display(\n",
        "    Image(\n",
        "        retrival_app.get_graph().draw_mermaid_png(\n",
        "            draw_method=MermaidDrawMethod.API,\n",
        "        )\n",
        "    )\n",
        ")"
      ]
    },
    {
      "cell_type": "code",
      "execution_count": 14,
      "metadata": {},
      "outputs": [],
      "source": [
        "def run_retrieval_graph(question: str):\n",
        "    inputs = {\"question\": question}\n",
        "    for output in retrival_app.stream(inputs):\n",
        "        for key, value in output.items():\n",
        "            pass  # Node\n",
        "            # ... (your existing code)\n",
        "        pprint(\"--------------------\")\n",
        "    print(value)\n",
        "    return AIMessage(\n",
        "        content=value,  # The actual answer\n",
        "    )"
      ]
    },
    {
      "cell_type": "code",
      "execution_count": 15,
      "metadata": {},
      "outputs": [],
      "source": [
        "# tools = [\n",
        "#     Tool(\n",
        "#         name = \"retrieval_graph\",\n",
        "#         description=\"A graph that retrieves relevant information from a vector store based on a given question.\",\n",
        "#         func = lambda query: run_retrieval_graph(query),\n",
        "#     )\n",
        "# ]\n",
        "\n",
        "### TODO: the tools below is for debugging only, change it to the above tools\n",
        "\n",
        "def run_retrieve_context(question: str):\n",
        "    inputs = {\"question\": question}\n",
        "    state = retrieve_context_per_question(inputs)\n",
        "    return state\n",
        "tools = [\n",
        "Tool(\n",
        "    name=\"RetrieveChapterSummary\",\n",
        "    func=lambda question: run_retrieve_context(question),\n",
        "    description=\"Retrieves relevant chapter summaries based on a question.\",\n",
        "),\n",
        "]"
      ]
    },
    {
      "cell_type": "code",
      "execution_count": 16,
      "metadata": {},
      "outputs": [
        {
          "name": "stdout",
          "output_type": "stream",
          "text": [
            "================================\u001b[1m System Message \u001b[0m================================\n",
            "\n",
            "You are a helpful assistant.\n",
            "\n",
            "=============================\u001b[1m Messages Placeholder \u001b[0m=============================\n",
            "\n",
            "\u001b[33;1m\u001b[1;3m{{messages}}\u001b[0m\n"
          ]
        }
      ],
      "source": [
        "prompt = hub.pull(\"wfh/react-agent-executor\")\n",
        "prompt.pretty_print()\n",
        "\n",
        "class Response(BaseModel):\n",
        "    \"\"\"Response to user.\"\"\"\n",
        "\n",
        "    response: str = Field(description=\"Response to user.\")\n",
        "\n",
        "response_parser = JsonOutputParser(pydantic_object=Response)\n",
        "\n",
        "# Choose the LLM that will drive the agent\n",
        "agent_llm = ChatGroq(temperature=0, model_name=\"llama3-70b-8192\", groq_api_key=groq_api_key, max_tokens=2000)\n",
        "agent_executor = create_react_agent(agent_llm, tools, messages_modifier=prompt) \n"
      ]
    },
    {
      "cell_type": "code",
      "execution_count": 17,
      "metadata": {},
      "outputs": [],
      "source": [
        "class PlanExecute(TypedDict):\n",
        "    input: str\n",
        "    plan: List[str]\n",
        "    past_steps: Annotated[List[Tuple], operator.add]\n",
        "    response: str"
      ]
    },
    {
      "cell_type": "code",
      "execution_count": 18,
      "metadata": {},
      "outputs": [],
      "source": [
        "class Plan(BaseModel):\n",
        "    \"\"\"Plan to follow in future\"\"\"\n",
        "\n",
        "    steps: List[str] = Field(\n",
        "        description=\"different steps to follow, should be in sorted order\"\n",
        "    )"
      ]
    },
    {
      "cell_type": "code",
      "execution_count": 19,
      "metadata": {},
      "outputs": [
        {
          "name": "stderr",
          "output_type": "stream",
          "text": [
            "c:\\Users\\N7\\PycharmProjects\\llm_tasks\\RAG-Harry-Potter\\.venv\\Lib\\site-packages\\langchain_core\\_api\\beta_decorator.py:87: LangChainBetaWarning: The method `ChatGroq.with_structured_output` is in beta. It is actively being worked on, so the API may change.\n",
            "  warn_beta(\n"
          ]
        }
      ],
      "source": [
        "\n",
        "planner_prompt = ChatPromptTemplate.from_messages(\n",
        "    [\n",
        "        (\n",
        "            \"system\",\n",
        "            \"\"\"For the given objective, come up with a simple step by step plan. \\\n",
        "This plan should involve individual tasks, that if executed correctly will yield the correct answer. Do not add any superfluous steps. \\\n",
        "The result of the final step should be the final answer. Make sure that each step has all the information needed - do not skip steps.\n",
        "you have no prior information about the question. all you have is access to a vector store of chunks from some book and a vector store of the same book chapter summaries.\n",
        "you don't know what book it is and cannot rely on any prior knowledge of that book even if you realize what book it is.\"\"\"\n",
        "        ),\n",
        "        (\"placeholder\", \"{messages}\"),\n",
        "    ]\n",
        ")\n",
        "planner = planner_prompt | ChatGroq(temperature=0, model_name=\"llama3-70b-8192\", groq_api_key=groq_api_key, max_tokens=2000).with_structured_output(Plan)"
      ]
    },
    {
      "cell_type": "code",
      "execution_count": 20,
      "metadata": {},
      "outputs": [],
      "source": [
        "class Response(BaseModel):\n",
        "    \"\"\"Response to user.\"\"\"\n",
        "\n",
        "    response: str\n",
        "\n",
        "\n",
        "class ActPossibleResults(BaseModel):\n",
        "    \"\"\"Possible results of the action.\"\"\"\n",
        "    response: Response = Field(description=\"Response to user.\")\n",
        "    plan: Plan = Field(description=\"Plan to follow in future.\")\n",
        "    explanation: str = Field(description=\"Explanation of the action.\")\n",
        "\n",
        "act_possible_results_parser = JsonOutputParser(pydantic_object=ActPossibleResults)\n",
        "\n",
        "\n",
        "replanner_prompt_teomplate = \"\"\"you have no prior information about the question. all you have is access to a vector store of chunks from some book and a vector store of the same book chapter summaries.\n",
        "you don't know what book it is and cannot rely on any prior knowledge of that book even if you realize what book it is.\n",
        "    For the given objective, come up with a simple step by step plan. \\\n",
        "This plan should involve individual tasks, that if executed correctly will yield the correct answer. Do not add any superfluous steps. \\\n",
        "The result of the final step should be the final answer. Make sure that each step has all the information needed - do not skip steps.\n",
        "\n",
        "\n",
        "Your objective was this:\n",
        "{input}\n",
        "\n",
        "Your original plan was this:\n",
        "{plan}\n",
        "\n",
        "You have currently done the follow steps:\n",
        "{past_steps}\n",
        "\n",
        "Update your plan accordingly. If no more steps are needed and you can return to the user,\n",
        "then respond with only the final answer. If further steps are needed, fill out the plan with only those steps.\n",
        "Do not return previously done steps as part of the plan.\n",
        "\n",
        "the format is json so escape quotes and new lines.\n",
        "\n",
        "{format_instructions}\n",
        "\n",
        "\"\"\"\n",
        "\n",
        "replanner_prompt = PromptTemplate(\n",
        "    template=replanner_prompt_teomplate,\n",
        "    input_variables=[\"input\", \"plan\", \"past_steps\"],\n",
        "    partial_variables={\"format_instructions\": act_possible_results_parser.get_format_instructions()},\n",
        ")\n",
        "\n",
        "\n",
        "answer_question_prompt = PromptTemplate(\n",
        "    template=can_be_answered_prompt_template,\n",
        "    input_variables=[\"question\",\"context\"],\n",
        "    partial_variables={\"format_instructions\": can_be_answered_json_parser.get_format_instructions()},\n",
        ")\n",
        "\n",
        "\n",
        "replanner = replanner_prompt | ChatGroq(temperature=0, model_name=\"llama3-70b-8192\", groq_api_key=groq_api_key, max_tokens=2000) | act_possible_results_parser\n"
      ]
    },
    {
      "cell_type": "code",
      "execution_count": 30,
      "metadata": {},
      "outputs": [],
      "source": [
        "from typing import Literal\n",
        "\n",
        "\n",
        "def execute_step(state: PlanExecute):\n",
        "    print(\"Executing step\")\n",
        "    plan = state[\"plan\"]\n",
        "    plan_str = \"\\n\".join(f\"{i+1}. {step}\" for i, step in enumerate(plan))\n",
        "    task = plan[0]\n",
        "    task_formatted = f\"\"\"For the following plan:\n",
        "{plan_str}\\n\\nYou are tasked with executing step {1}, {task}.\"\"\"\n",
        "    print(f'task_formatted: {task_formatted}')\n",
        "    agent_response = agent_executor.invoke(\n",
        "        {\"messages\": [(\"user\", task_formatted)]}\n",
        "    )\n",
        "    print(f'agent_response: {agent_response}')\n",
        "    return {\n",
        "        \"past_steps\": (task, agent_response[\"messages\"][-1].content),\n",
        "    }\n",
        "\n",
        "\n",
        "def plan_step(state: PlanExecute):\n",
        "    print(\"Planning step\")\n",
        "    plan = planner.invoke({\"messages\": [(\"user\", state[\"input\"])]})\n",
        "    return {\"plan\": plan.steps}\n",
        "\n",
        "\n",
        "def replan_step(state: PlanExecute):\n",
        "    print(\"Replanning step\")\n",
        "    state = format_state_past_steps(state)\n",
        "    state = clean_empty_fields_dictionary(state)\n",
        "    print(\"state:\")\n",
        "    print(state)\n",
        "    output =  replanner.invoke(state)\n",
        "    return process_replanner_output(output)\n",
        "  \n",
        "\n",
        "def should_end(state: PlanExecute) -> Literal[\"agent\", \"__end__\"]:\n",
        "    print(\"Checking if should end\")\n",
        "    if \"response\" in state and state[\"response\"]:\n",
        "        return \"__end__\"\n",
        "    else:\n",
        "        return \"agent\""
      ]
    },
    {
      "cell_type": "code",
      "execution_count": 31,
      "metadata": {},
      "outputs": [],
      "source": [
        "from langgraph.graph import StateGraph\n",
        "\n",
        "agent_workflow = StateGraph(PlanExecute)\n",
        "\n",
        "# Add the plan node\n",
        "agent_workflow.add_node(\"planner\", plan_step)\n",
        "\n",
        "# Add the execution step\n",
        "agent_workflow.add_node(\"agent\", execute_step)\n",
        "\n",
        "# Add a replan node\n",
        "agent_workflow.add_node(\"replan\", replan_step)\n",
        "\n",
        "agent_workflow.set_entry_point(\"planner\")\n",
        "\n",
        "# From plan we go to agent\n",
        "agent_workflow.add_edge(\"planner\", \"agent\")\n",
        "\n",
        "# From agent, we replan\n",
        "agent_workflow.add_edge(\"agent\", \"replan\")\n",
        "\n",
        "agent_workflow.add_conditional_edges(\n",
        "    \"replan\",\n",
        "    # Next, we pass in the function that will determine which node is called next.\n",
        "    should_end,\n",
        ")\n",
        "\n",
        "# Finally, we compile it!\n",
        "# This compiles it into a LangChain Runnable,\n",
        "# meaning you can use it as you would any other runnable\n",
        "plan_and_execute_app = agent_workflow.compile()"
      ]
    },
    {
      "cell_type": "code",
      "execution_count": 114,
      "metadata": {},
      "outputs": [
        {
          "data": {
            "image/jpeg": "[encoded data removed]",
            "text/plain": [
              "<IPython.core.display.Image object>"
            ]
          },
          "metadata": {},
          "output_type": "display_data"
        }
      ],
      "source": [
        "\n",
        "display(Image(plan_and_execute_app.get_graph(xray=True).draw_mermaid_png()))"
      ]
    },
    {
      "cell_type": "code",
      "execution_count": 32,
      "metadata": {},
      "outputs": [],
      "source": [
        "def execute_plan_and_print_steps(inputs):\n",
        "    for plan_output in plan_and_execute_app.stream(inputs):\n",
        "        for agent_state_key, agent_state_value in plan_output.items():\n",
        "            print(f' curr step: {agent_state_value}')\n",
        "            pass  # Node\n",
        "            # ... (your existing code)\n",
        "        pprint(\"--------------------\")\n",
        "    return agent_state_value['response']['response']"
      ]
    },
    {
      "cell_type": "code",
      "execution_count": 33,
      "metadata": {},
      "outputs": [
        {
          "name": "stdout",
          "output_type": "stream",
          "text": [
            "Planning step\n",
            " curr step: {'plan': ['Determine who Harry is', 'Search the vector store of chunks from the book for mentions of Harry', 'Search the vector store of chapter summaries for mentions of Harry', 'Combine the results to determine who Harry is']}\n",
            "'--------------------'\n",
            "Executing step\n",
            "task_formatted: For the following plan:\n",
            "1. Determine who Harry is\n",
            "2. Search the vector store of chunks from the book for mentions of Harry\n",
            "3. Search the vector store of chapter summaries for mentions of Harry\n",
            "4. Combine the results to determine who Harry is\n",
            "\n",
            "You are tasked with executing step 1, Determine who Harry is.\n",
            "Retrieving relevant chunks...\n"
          ]
        },
        {
          "name": "stderr",
          "output_type": "stream",
          "text": [
            "c:\\Users\\N7\\PycharmProjects\\llm_tasks\\RAG-Harry-Potter\\.venv\\Lib\\site-packages\\langchain_core\\_api\\deprecation.py:119: LangChainDeprecationWarning: The method `BaseRetriever.get_relevant_documents` was deprecated in langchain-core 0.1.46 and will be removed in 0.3.0. Use invoke instead.\n",
            "  warn_deprecated(\n"
          ]
        },
        {
          "name": "stdout",
          "output_type": "stream",
          "text": [
            "Retrieving relevant chapter summaries...\n",
            "Retrieving relevant chunks...\n",
            "Retrieving relevant chapter summaries...\n",
            "Retrieving relevant chunks...\n",
            "Retrieving relevant chapter summaries...\n",
            "Retrieving relevant chunks...\n",
            "Retrieving relevant chapter summaries...\n",
            "agent_response: {'messages': [HumanMessage(content='For the following plan:\\n1. Determine who Harry is\\n2. Search the vector store of chunks from the book for mentions of Harry\\n3. Search the vector store of chapter summaries for mentions of Harry\\n4. Combine the results to determine who Harry is\\n\\nYou are tasked with executing step 1, Determine who Harry is.', id='989c59f6-a538-41d9-8b75-339ff123cd80'), AIMessage(content='', additional_kwargs={'tool_calls': [{'id': 'call_vm9m', 'function': {'arguments': '{\"__arg1\":\"Harry\"}', 'name': 'RetrieveChapterSummary'}, 'type': 'function'}]}, response_metadata={'token_usage': {'completion_time': 0.262277874, 'completion_tokens': 75, 'prompt_time': 0.627275834, 'prompt_tokens': 992, 'queue_time': None, 'total_time': 0.889553708, 'total_tokens': 1067}, 'model_name': 'llama3-70b-8192', 'system_fingerprint': 'fp_c1a4bcec29', 'finish_reason': 'tool_calls', 'logprobs': None}, id='run-22dcaf62-d654-402e-916c-c1b69bf2d355-0', tool_calls=[{'name': 'RetrieveChapterSummary', 'args': {'__arg1': 'Harry'}, 'id': 'call_vm9m'}]), ToolMessage(content='{\"context\": \"HP 1 - Harry Potter and the\\\\nSorcerer\\\\\\\\\\'s StoneIn Chapter Ten of Harry Potter and the Sorcerer\\\\\\\\\\'s Stone, titled \\\\\\\\\\\\\"Halloween,\\\\\\\\\\\\\" Harry and Ron are still at Hogwarts the day after encountering the three-headed dog. They are excited about the adventure and curious about the mysterious package that was moved from Gringotts to Hogwarts. The package turns out to be a Nimbus Two Thousand broomstick, a gift from Professor McGonagall for Harry. Malfoy tries to taunt Harry about the broomstick, but Professor Flitwick intervenes and congratulates Harry on his new broomstick.\\\\nHarry has his first Quidditch training session with Oliver Wood, the Quidditch captain. Wood explains the rules of Quidditch to Harry and shows him the different balls used in the game. Harry practices catching golf balls thrown by Wood and shows great skill on the broomstick.\\\\nAs the weeks pass, Harry becomes more settled at Hogwarts and feels like it is his home. On Halloween morning, Professor Flitwick introduces the students to levitation charms in Charms class. Harry partners with Seamus Finnigan, while Ron partners with Hermione, who is still upset with them. Hermione excels at the charm, impressing Professor Flitwick.\\\\nDuring the Halloween feast, Professor Quirrell interrupts to announce that there is a troll in the dungeons. Percy leads the students back to their dormitories, but Harry and Ron realize that Hermione doesn\\\\\\\\\\'t know about the troll. They rush to warn her and find her in the girls\\\\\\\\\\' bathroom, cornered by the troll. Harry and Ron distract the troll and save Hermione, with Ron accidentally knocking out the troll with its own club.\\\\nProfessor McGonagall praises Harry and Ron for their bravery, and Hermione takes the blame for being in the bathroom alone. She earns Gryffindor five points, and Harry and Ron each earn five points for their bravery. Hermione becomes friends with Harry and Ron after the incident, as they bond over their shared experience of facing the troll. (Chapter 10)\", \"question\": \"Harry\"}', name='RetrieveChapterSummary', id='4ea1f02c-d747-4fd2-92d5-8f5c069e1d50', tool_call_id='call_vm9m'), AIMessage(content='', additional_kwargs={'tool_calls': [{'id': 'call_bk8w', 'function': {'arguments': '{\"__arg1\":\"Harry\"}', 'name': 'RetrieveChapterSummary'}, 'type': 'function'}]}, response_metadata={'token_usage': {'completion_time': 0.119284219, 'completion_tokens': 35, 'prompt_time': 0.431549587, 'prompt_tokens': 1500, 'queue_time': None, 'total_time': 0.550833806, 'total_tokens': 1535}, 'model_name': 'llama3-70b-8192', 'system_fingerprint': 'fp_9625f32860', 'finish_reason': 'tool_calls', 'logprobs': None}, id='run-8e2b1f85-2af4-4265-bb64-cffa040fbef8-0', tool_calls=[{'name': 'RetrieveChapterSummary', 'args': {'__arg1': 'Harry'}, 'id': 'call_bk8w'}]), ToolMessage(content='{\"context\": \"HP 1 - Harry Potter and the\\\\nSorcerer\\\\\\\\\\'s StoneIn Chapter Ten of Harry Potter and the Sorcerer\\\\\\\\\\'s Stone, titled \\\\\\\\\\\\\"Halloween,\\\\\\\\\\\\\" Harry and Ron are still at Hogwarts the day after encountering the three-headed dog. They are excited about the adventure and curious about the mysterious package that was moved from Gringotts to Hogwarts. The package turns out to be a Nimbus Two Thousand broomstick, a gift from Professor McGonagall for Harry. Malfoy tries to taunt Harry about the broomstick, but Professor Flitwick intervenes and congratulates Harry on his new broomstick.\\\\nHarry has his first Quidditch training session with Oliver Wood, the Quidditch captain. Wood explains the rules of Quidditch to Harry and shows him the different balls used in the game. Harry practices catching golf balls thrown by Wood and shows great skill on the broomstick.\\\\nAs the weeks pass, Harry becomes more settled at Hogwarts and feels like it is his home. On Halloween morning, Professor Flitwick introduces the students to levitation charms in Charms class. Harry partners with Seamus Finnigan, while Ron partners with Hermione, who is still upset with them. Hermione excels at the charm, impressing Professor Flitwick.\\\\nDuring the Halloween feast, Professor Quirrell interrupts to announce that there is a troll in the dungeons. Percy leads the students back to their dormitories, but Harry and Ron realize that Hermione doesn\\\\\\\\\\'t know about the troll. They rush to warn her and find her in the girls\\\\\\\\\\' bathroom, cornered by the troll. Harry and Ron distract the troll and save Hermione, with Ron accidentally knocking out the troll with its own club.\\\\nProfessor McGonagall praises Harry and Ron for their bravery, and Hermione takes the blame for being in the bathroom alone. She earns Gryffindor five points, and Harry and Ron each earn five points for their bravery. Hermione becomes friends with Harry and Ron after the incident, as they bond over their shared experience of facing the troll. (Chapter 10)\", \"question\": \"Harry\"}', name='RetrieveChapterSummary', id='4ab7c05c-20ca-44b5-ab30-19c140f96c1b', tool_call_id='call_bk8w'), AIMessage(content='', additional_kwargs={'tool_calls': [{'id': 'call_6p3d', 'function': {'arguments': '{\"__arg1\":\"Harry Potter\"}', 'name': 'RetrieveChapterSummary'}, 'type': 'function'}]}, response_metadata={'token_usage': {'completion_time': 0.13811716, 'completion_tokens': 41, 'prompt_time': 1.410107734, 'prompt_tokens': 2010, 'queue_time': None, 'total_time': 1.5482248939999999, 'total_tokens': 2051}, 'model_name': 'llama3-70b-8192', 'system_fingerprint': 'fp_9625f32860', 'finish_reason': 'tool_calls', 'logprobs': None}, id='run-e6b76d9d-c9cc-42a1-b83f-5ad23780fe9b-0', tool_calls=[{'name': 'RetrieveChapterSummary', 'args': {'__arg1': 'Harry Potter'}, 'id': 'call_6p3d'}]), ToolMessage(content='{\"context\": \"HP 1 - Harry Potter and the\\\\nSorcerer\\\\\\\\\\'s StoneIn Chapter Eight of Harry Potter and the Sorcerer\\\\\\\\\\'s Stone, titled \\\\\\\\\\\\\"The Potions Master,\\\\\\\\\\\\\" Harry experiences the aftermath of his newfound fame as the \\\\\\\\\\\\\"Boy Who Lived.\\\\\\\\\\\\\" Whispers and stares follow him as he navigates the complex and ever-changing Hogwarts castle. He struggles to find his way to classes among the moving staircases, trick doors, and mischievous ghosts. Harry also encounters the strict caretaker, Argus Filch, and his cat Mrs. Norris, who patrol the corridors and enforce the rules.\\\\nAs Harry attends his various classes, he learns that magic is much more than just waving a wand and saying words. He studies astronomy, herbology, history of magic, charms, and defense against the dark arts. Professor Snape, the potions master, particularly dislikes Harry and singles him out in class. Snape challenges Harry with difficult questions and deducts points from Gryffindor house when Harry struggles to answer.\\\\nDuring a disastrous potions lesson, Neville accidentally causes a cauldron to explode, resulting in burns and boils for him. Snape blames Harry and Ron for not preventing the accident, further adding to Harry\\\\\\\\\\'s frustration. Despite the challenges in class, Harry looks forward to tea with Hagrid, who lives on the edge of the forbidden forest. During their visit, Harry discovers a newspaper clipping about a break-in at Gringotts on his birthday, raising questions about a package Hagrid had retrieved from the vault.\\\\nAs Harry reflects on the events of the day, he realizes that there is much more to his time at Hogwarts than just attending classes. The mysteries surrounding Snape, Hagrid, and the break-in at Gringotts leave Harry with a lot to ponder as he continues his journey at the magical school. (Chapter 8)\", \"question\": \"Harry Potter\"}', name='RetrieveChapterSummary', id='f52936ab-6d78-4cb9-b721-dcdc7edcec35', tool_call_id='call_6p3d'), AIMessage(content='', additional_kwargs={'tool_calls': [{'id': 'call_3703', 'function': {'arguments': '{\"__arg1\":\"Harry Potter and the Sorcerer\\'s Stone\"}', 'name': 'RetrieveChapterSummary'}, 'type': 'function'}]}, response_metadata={'token_usage': {'completion_time': 0.161081156, 'completion_tokens': 47, 'prompt_time': 1.206789291, 'prompt_tokens': 2474, 'queue_time': None, 'total_time': 1.367870447, 'total_tokens': 2521}, 'model_name': 'llama3-70b-8192', 'system_fingerprint': 'fp_9625f32860', 'finish_reason': 'tool_calls', 'logprobs': None}, id='run-01571dfe-9ac1-41c0-b219-25d0ef3f8ebe-0', tool_calls=[{'name': 'RetrieveChapterSummary', 'args': {'__arg1': \"Harry Potter and the Sorcerer's Stone\"}, 'id': 'call_3703'}]), ToolMessage(content='{\"context\": \"HP 1 - Harry Potter and the\\\\nSorcerer\\\\\\\\\\'s StoneIn Chapter Thirteen of Harry Potter and the Sorcerer\\\\\\\\\\'s Stone, Harry is haunted by nightmares of his parents\\\\\\\\\\' death and the mysterious figure he saw in the Mirror of Erised. He, Ron, and Hermione continue their search for Nicolas Flamel, the maker of the Sorcerer\\\\\\\\\\'s Stone, and finally discover that Flamel is the only one who possesses the stone, which has the power to turn metal into gold and grant immortality.\\\\nMeanwhile, Quidditch practice intensifies as Gryffindor prepares for a crucial match against Hufflepuff. However, tensions rise as Snape is appointed as the referee, leading to concerns about biased officiating. Harry is determined to play in the match despite his fears of Snape\\\\\\\\\\'s intentions.\\\\nDuring the match, Harry catches the Golden Snitch in record time, securing Gryffindor\\\\\\\\\\'s victory and putting them in the lead for the house championship. Dumbledore congratulates Harry, and Snape appears visibly angry. Later, Harry witnesses Snape meeting with Quirrell in the Forbidden Forest, discussing the Sorcerer\\\\\\\\\\'s Stone and the obstacles guarding it.\\\\nHarry shares this information with Ron and Hermione, realizing that Snape is trying to force Quirrell to help him obtain the Stone. They fear that the Stone is only safe as long as Quirrell resists Snape\\\\\\\\\\'s influence. The chapter ends with the ominous realization that the Stone may not be safe for long. (Chapter 13)\", \"question\": \"Harry Potter and the Sorcerer\\'s Stone\"}', name='RetrieveChapterSummary', id='2bb44f4b-8c8a-49ae-afe4-cb3ca10d6df8', tool_call_id='call_3703'), AIMessage(content='Based on the results, it seems that Harry is the main character in the book \"Harry Potter and the Sorcerer\\'s Stone\". He is a student at Hogwarts School of Witchcraft and Wizardry, and the story revolves around his adventures and struggles as he navigates the magical world.', response_metadata={'token_usage': {'completion_time': 0.197506419, 'completion_tokens': 57, 'prompt_time': 1.393810917, 'prompt_tokens': 2882, 'queue_time': None, 'total_time': 1.591317336, 'total_tokens': 2939}, 'model_name': 'llama3-70b-8192', 'system_fingerprint': 'fp_f128cfcd6c', 'finish_reason': 'stop', 'logprobs': None}, id='run-576015a4-0678-48f8-aaf4-450167ea031c-0')]}\n",
            " curr step: {'past_steps': ('Determine who Harry is', 'Based on the results, it seems that Harry is the main character in the book \"Harry Potter and the Sorcerer\\'s Stone\". He is a student at Hogwarts School of Witchcraft and Wizardry, and the story revolves around his adventures and struggles as he navigates the magical world.')}\n",
            "'--------------------'\n",
            "Replanning step\n",
            "state:\n",
            "{'input': 'who is harry?', 'plan': ['Determine who Harry is', 'Search the vector store of chunks from the book for mentions of Harry', 'Search the vector store of chapter summaries for mentions of Harry', 'Combine the results to determine who Harry is'], 'past_steps': 'Determine who Harry is\\nBased on the results, it seems that Harry is the main character in the book \"Harry Potter and the Sorcerer\\'s Stone\". He is a student at Hogwarts School of Witchcraft and Wizardry, and the story revolves around his adventures and struggles as he navigates the magical world.'}\n",
            "Checking if should end\n",
            " curr step: {'response': {'response': 'Harry is the main character in the book \"Harry Potter and the Sorcerer\\'s Stone\". He is a student at Hogwarts School of Witchcraft and Wizardry, and the story revolves around his adventures and struggles as he navigates the magical world.'}}\n",
            "'--------------------'\n",
            "The final answer is: Harry is the main character in the book \"Harry Potter and the Sorcerer's Stone\". He is a student at Hogwarts School of Witchcraft and Wizardry, and the story revolves around his adventures and struggles as he navigates the magical world.\n"
          ]
        }
      ],
      "source": [
        "inputs = {\"input\": \"who is harry?\"}\n",
        "final_answer = execute_plan_and_print_steps(inputs)\n",
        "print(f'The final answer is: {final_answer}')\n"
      ]
    },
    {
      "cell_type": "code",
      "execution_count": 31,
      "metadata": {},
      "outputs": [
        {
          "name": "stdout",
          "output_type": "stream",
          "text": [
            "Planning step\n",
            " curr step: {'plan': [\"Determine the circumstances of Quirrell's possession\", \"Understand the nature of Voldemort's influence\", \"Discover the role of the Philosopher's Stone\", \"Recognize Harry's courage and loyalty\", \"Conclude how Harry's actions led to Quirrell's defeat\"]}\n",
            "'--------------------'\n",
            "Executing step\n",
            "task_formatted: For the following plan:\n",
            "1. Determine the circumstances of Quirrell's possession\n",
            "2. Understand the nature of Voldemort's influence\n",
            "3. Discover the role of the Philosopher's Stone\n",
            "4. Recognize Harry's courage and loyalty\n",
            "5. Conclude how Harry's actions led to Quirrell's defeat\n",
            "\n",
            "You are tasked with executing step 1, Determine the circumstances of Quirrell's possession.\n",
            "Retrieving relevant chunks...\n",
            "Retrieving relevant chapter summaries...\n",
            "Retrieving relevant chunks...\n",
            "Retrieving relevant chapter summaries...\n",
            "agent_response: {'messages': [HumanMessage(content=\"For the following plan:\\n1. Determine the circumstances of Quirrell's possession\\n2. Understand the nature of Voldemort's influence\\n3. Discover the role of the Philosopher's Stone\\n4. Recognize Harry's courage and loyalty\\n5. Conclude how Harry's actions led to Quirrell's defeat\\n\\nYou are tasked with executing step 1, Determine the circumstances of Quirrell's possession.\", id='7b3f15ae-d701-4177-abaa-bd3996b51388'), AIMessage(content='', additional_kwargs={'tool_calls': [{'id': 'call_q41z', 'function': {'arguments': '{\"__arg1\":\"Quirrell\\'s possession\"}', 'name': 'RetrieveChapterSummary'}, 'type': 'function'}]}, response_metadata={'token_usage': {'completion_time': 0.130349953, 'completion_tokens': 39, 'prompt_time': 2.942059881, 'prompt_tokens': 1009, 'queue_time': None, 'total_time': 3.072409834, 'total_tokens': 1048}, 'model_name': 'llama3-70b-8192', 'system_fingerprint': 'fp_abd29e8833', 'finish_reason': 'tool_calls', 'logprobs': None}, id='run-11e29ad3-e7ae-47b8-a30f-31a6f28f8cfe-0', tool_calls=[{'name': 'RetrieveChapterSummary', 'args': {'__arg1': \"Quirrell's possession\"}, 'id': 'call_q41z'}]), ToolMessage(content='{\"context\": \"rescued by Professor Quirrell, who was passing.\\\\n      Filch owned a cat called Mrs. Norris, a scrawny, dust-colored creature\\\\nwith bulging, lamp like eyes just like Filch\\\\u2019s. She patrolled the corridors alone.\\\\nBreak a rule in front of her, put just one toe out of line, and she\\\\u2019d whisk off for\\\\nFilch, who\\\\u2019d appear, wheezing, two seconds later. Filch knew the secret\\\\npassageways of the school better than anyone (except perhaps the Weasley\\\\ntwins) and could pop up as suddenly as any of the ghosts. The students all hated\\\\nhim, and it was the dearest ambition of many to give Mrs. Norris a good kick.\\\\n      And then, once you had managed to find them, there were the classes\\\\nthemselves. There was a lot more to magic, as Harry quickly found out, than\\\\nwaving your wand and saying a few funny words.\\\\n      They had to study the night skies through their telescopes every\\\\nWednesday at midnight and learn the names of different stars and the movementsIn Chapter Seventeen, titled \\\\\\\\\\\\\"The Man with Two Faces,\\\\\\\\\\\\\" Harry comes face to face with Professor Quirrell, who reveals himself to be the one trying to steal the Sorcerer\\\\\\\\\\'s Stone. Quirrell explains how he tried to kill Harry during the Quidditch match and how Snape was actually trying to save him. Quirrell also reveals that he is serving Lord Voldemort and that Voldemort is sharing his body. Harry manages to get the Stone from the Mirror of Erised by lying to Quirrell and keeping him distracted. Quirrell\\\\\\\\\\'s true form is revealed to be Voldemort\\\\\\\\\\'s face on the back of his head, and he tries to kill Harry but is unable to touch him due to the protection of his mother\\\\\\\\\\'s love. Dumbledore arrives in time to save Harry and stop Quirrell. The Stone is destroyed, and Dumbledore explains that Nicolas Flamel and his wife will die as a result. Harry receives points for his bravery and courage, tying Gryffindor with Slytherin for the house cup. The students leave Hogwarts for the summer, and Harry looks forward to having fun with Dudley without using magic. The chapter ends with Harry\\\\\\\\\\'s family, the Dursleys, picking him up from the train station. (Chapter 17)\", \"question\": \"Quirrell\\'s possession\"}', name='RetrieveChapterSummary', id='cda622b6-ba7d-4deb-912e-93e5f4cfb5fc', tool_call_id='call_q41z'), AIMessage(content='', additional_kwargs={'tool_calls': [{'id': 'call_rzxn', 'function': {'arguments': '{\"__arg1\":\"Quirrell\\'s possession by Voldemort\"}', 'name': 'RetrieveChapterSummary'}, 'type': 'function'}]}, response_metadata={'token_usage': {'completion_time': 0.138376569, 'completion_tokens': 41, 'prompt_time': 0.441801865, 'prompt_tokens': 1600, 'queue_time': None, 'total_time': 0.580178434, 'total_tokens': 1641}, 'model_name': 'llama3-70b-8192', 'system_fingerprint': 'fp_9625f32860', 'finish_reason': 'tool_calls', 'logprobs': None}, id='run-240da746-ca92-4e42-b322-0c0acb77399a-0', tool_calls=[{'name': 'RetrieveChapterSummary', 'args': {'__arg1': \"Quirrell's possession by Voldemort\"}, 'id': 'call_rzxn'}]), ToolMessage(content='{\"context\": \"\\\\u201cBut why couldn\\\\u2019t Quirrell touch me?\\\\u201d\\\\n      \\\\u201cYour mother died to save you. If there is one thing Voldemort cannot\\\\nunderstand, it is love. He didn\\\\u2019t realize that love as powerful as your mother\\\\u2019s\\\\nfor you leaves its own mark. Not a scar, no visible sign\\\\u2026to have been loved so\\\\ndeeply, even though the person who loved us is gone, will give us some\\\\nprotection forever. It is in your very skin. Quirrell, full of hatred, greed, and\\\\nambition, sharing his soul with Voldemort, could not touch you for this reason. It\\\\nwas agony to touch a person marked by something so good.\\\\u201d\\\\n      Dumbledore now became very interested in a bird out on the windowsill,\\\\nwhich gave Harry time to dry his eyes on the sheet. When he had found his voice\\\\nagain, Harry said, \\\\u201cAnd the invisibility cloak \\\\u2014 do you know who sent it to\\\\nme?\\\\u201d\\\\n      \\\\u201cAh \\\\u2014 your father happened to leave it in my possession, and I thought\\\\nyou might like it.\\\\u201d Dumbledore\\\\u2019s eyes twinkled. \\\\u201cUseful things\\\\u2026your fatherIn Chapter Seventeen, titled \\\\\\\\\\\\\"The Man with Two Faces,\\\\\\\\\\\\\" Harry comes face to face with Professor Quirrell, who reveals himself to be the one trying to steal the Sorcerer\\\\\\\\\\'s Stone. Quirrell explains how he tried to kill Harry during the Quidditch match and how Snape was actually trying to save him. Quirrell also reveals that he is serving Lord Voldemort and that Voldemort is sharing his body. Harry manages to get the Stone from the Mirror of Erised by lying to Quirrell and keeping him distracted. Quirrell\\\\\\\\\\'s true form is revealed to be Voldemort\\\\\\\\\\'s face on the back of his head, and he tries to kill Harry but is unable to touch him due to the protection of his mother\\\\\\\\\\'s love. Dumbledore arrives in time to save Harry and stop Quirrell. The Stone is destroyed, and Dumbledore explains that Nicolas Flamel and his wife will die as a result. Harry receives points for his bravery and courage, tying Gryffindor with Slytherin for the house cup. The students leave Hogwarts for the summer, and Harry looks forward to having fun with Dudley without using magic. The chapter ends with Harry\\\\\\\\\\'s family, the Dursleys, picking him up from the train station. (Chapter 17)\", \"question\": \"Quirrell\\'s possession by Voldemort\"}', name='RetrieveChapterSummary', id='e2f41b40-2a69-4792-9d36-dd90e5890064', tool_call_id='call_rzxn'), AIMessage(content=\"I'll proceed to the next step.\", response_metadata={'token_usage': {'completion_time': 0.027669025, 'completion_tokens': 8, 'prompt_time': 0.656794664, 'prompt_tokens': 2240, 'queue_time': None, 'total_time': 0.684463689, 'total_tokens': 2248}, 'model_name': 'llama3-70b-8192', 'system_fingerprint': 'fp_87cbfbbc4d', 'finish_reason': 'stop', 'logprobs': None}, id='run-781c4590-c65e-4b97-add3-40697e72f31a-0')]}\n",
            " curr step: {'past_steps': (\"Determine the circumstances of Quirrell's possession\", \"I'll proceed to the next step.\")}\n",
            "'--------------------'\n",
            "Replanning step\n",
            "state:\n",
            "{'input': 'how did harry beat quirrell?', 'plan': [\"Determine the circumstances of Quirrell's possession\", \"Understand the nature of Voldemort's influence\", \"Discover the role of the Philosopher's Stone\", \"Recognize Harry's courage and loyalty\", \"Conclude how Harry's actions led to Quirrell's defeat\"], 'past_steps': \"Determine the circumstances of Quirrell's possession\\nI'll proceed to the next step.\"}\n",
            "Checking if should end\n",
            " curr step: {'plan': [\"Understand the nature of Voldemort's influence\", \"Discover the role of the Philosopher's Stone\", \"Recognize Harry's courage and loyalty\", \"Conclude how Harry's actions led to Quirrell's defeat\"]}\n",
            "'--------------------'\n",
            "Executing step\n",
            "task_formatted: For the following plan:\n",
            "1. Understand the nature of Voldemort's influence\n",
            "2. Discover the role of the Philosopher's Stone\n",
            "3. Recognize Harry's courage and loyalty\n",
            "4. Conclude how Harry's actions led to Quirrell's defeat\n",
            "\n",
            "You are tasked with executing step 1, Understand the nature of Voldemort's influence.\n",
            "Retrieving relevant chunks...\n",
            "Retrieving relevant chapter summaries...\n",
            "Retrieving relevant chunks...\n",
            "Retrieving relevant chapter summaries...\n",
            "Retrieving relevant chunks...\n",
            "Retrieving relevant chapter summaries...\n",
            "Retrieving relevant chunks...\n",
            "Retrieving relevant chapter summaries...\n",
            "agent_response: {'messages': [HumanMessage(content=\"For the following plan:\\n1. Understand the nature of Voldemort's influence\\n2. Discover the role of the Philosopher's Stone\\n3. Recognize Harry's courage and loyalty\\n4. Conclude how Harry's actions led to Quirrell's defeat\\n\\nYou are tasked with executing step 1, Understand the nature of Voldemort's influence.\", id='4c1fe5ef-0c52-4f4c-8004-9ea8dbf27fde'), AIMessage(content='', additional_kwargs={'tool_calls': [{'id': 'call_hzbj', 'function': {'arguments': '{\"__arg1\":\"Voldemort\\'s influence\"}', 'name': 'RetrieveChapterSummary'}, 'type': 'function'}]}, response_metadata={'token_usage': {'completion_time': 0.127603571, 'completion_tokens': 38, 'prompt_time': 2.09329289, 'prompt_tokens': 995, 'queue_time': None, 'total_time': 2.2208964609999997, 'total_tokens': 1033}, 'model_name': 'llama3-70b-8192', 'system_fingerprint': 'fp_9625f32860', 'finish_reason': 'tool_calls', 'logprobs': None}, id='run-5d47699f-de08-4da8-9ee6-7ecc60242f7a-0', tool_calls=[{'name': 'RetrieveChapterSummary', 'args': {'__arg1': \"Voldemort's influence\"}, 'id': 'call_hzbj'}]), ToolMessage(content='{\"context\": \"\\\\u201cNah \\\\u2014 can\\\\u2019t spell it. All right \\\\u2014 Voldemort. \\\\u201d Hagrid shuddered. \\\\u201cDon\\\\u2019\\\\nmake me say it again. Anyway, this \\\\n\\\\u2014 this wizard, about twenty years ago now,\\\\nstarted lookin\\\\u2019 fer followers. Got \\\\u2018em, too \\\\u2014 some were afraid, some just\\\\nwanted a bit o\\\\u2019 his power, \\\\u2018cause he was gettin\\\\u2019 himself power, all right. Dark\\\\ndays, Harry. Didn\\\\u2019t know who ter trust, didn\\\\u2019t dare get friendly with strange\\\\nwizards or witches\\\\u2026terrible things happened. He was takin\\\\u2019 over. \\\\u2018Course, some\\\\nstood up to him \\\\u2014 an\\\\u2019 he killed \\\\u2018em. Horribly. One o\\\\u2019 the only safe places left\\\\nwas Hogwarts. Reckon Dumbledore\\\\u2019s the only one You-Know-Who was afraid\\\\nof. Didn\\\\u2019t dare try takin\\\\u2019 the school, not jus\\\\u2019 then, anyway.\\\\n      \\\\u201cNow, yer mum an\\\\u2019 dad were as good a witch an\\\\u2019 wizard as I ever knew.\\\\nHead boy an\\\\u2019 girl at Hogwarts in their day! Suppose the myst\\\\u2019ry is why You-\\\\nKnow-Who never tried to get \\\\u2018em on his side before\\\\u2026probably knew they were\\\\ntoo close ter Dumbledore ter want anythin\\\\u2019 ter do with the Dark Side.In Chapter Fifteen of Harry Potter and the Sorcerer\\\\\\\\\\'s Stone, titled \\\\\\\\\\\\\"The Forbidden Forest,\\\\\\\\\\\\\" Harry, Hermione, and Neville are caught out of bed by Professor McGonagall and receive detentions and lose a total of 150 points from Gryffindor. This causes Harry to be hated by his peers and even the other houses, except for Slytherin who cheers for him. Harry, feeling ashamed and guilty, decides to resign from the Quidditch team and focuses on studying for exams.\\\\nHowever, Harry\\\\\\\\\\'s resolve to stay out of trouble is tested when he overhears Quirrell being threatened and sees Snape leaving a classroom. He shares this information with Hermione and Ron, but they decide not to take matters into their own hands and instead consider going to Dumbledore for help.\\\\nAs they serve their detentions in the Forbidden Forest with Hagrid, they encounter a wounded unicorn and a hooded figure drinking its blood. Malfoy panics and runs away, but Harry is saved by a centaur named Firenze. Firenze reveals that someone is after the Sorcerer\\\\\\\\\\'s Stone, which can grant immortality, and Harry realizes that Voldemort is behind it.\\\\nAfter a tense discussion with his friends, they go to bed exhausted, only to find Harry\\\\\\\\\\'s invisibility cloak returned to him with a note signed by an unknown \\\\\\\\\\\\\"HP.\\\\\\\\\\\\\" The chapter ends with a sense of foreboding as Harry realizes the danger he is in and the challenges that lie ahead. (Chapter 15)\", \"question\": \"Voldemort\\'s influence\"}', name='RetrieveChapterSummary', id='b86ceb91-e32c-4484-a1de-c8182fed9b5f', tool_call_id='call_hzbj'), AIMessage(content='', additional_kwargs={'tool_calls': [{'id': 'call_8tns', 'function': {'arguments': '{\"__arg1\":\"Voldemort\\'s followers\"}', 'name': 'RetrieveChapterSummary'}, 'type': 'function'}]}, response_metadata={'token_usage': {'completion_time': 0.133775353, 'completion_tokens': 38, 'prompt_time': 0.631577952, 'prompt_tokens': 1755, 'queue_time': None, 'total_time': 0.765353305, 'total_tokens': 1793}, 'model_name': 'llama3-70b-8192', 'system_fingerprint': 'fp_c1a4bcec29', 'finish_reason': 'tool_calls', 'logprobs': None}, id='run-7ae1c9f7-55a3-47f7-bffa-d44e24445bad-0', tool_calls=[{'name': 'RetrieveChapterSummary', 'args': {'__arg1': \"Voldemort's followers\"}, 'id': 'call_8tns'}]), ToolMessage(content='{\"context\": \"\\\\u201cNah \\\\u2014 can\\\\u2019t spell it. All right \\\\u2014 Voldemort. \\\\u201d Hagrid shuddered. \\\\u201cDon\\\\u2019\\\\nmake me say it again. Anyway, this \\\\n\\\\u2014 this wizard, about twenty years ago now,\\\\nstarted lookin\\\\u2019 fer followers. Got \\\\u2018em, too \\\\u2014 some were afraid, some just\\\\nwanted a bit o\\\\u2019 his power, \\\\u2018cause he was gettin\\\\u2019 himself power, all right. Dark\\\\ndays, Harry. Didn\\\\u2019t know who ter trust, didn\\\\u2019t dare get friendly with strange\\\\nwizards or witches\\\\u2026terrible things happened. He was takin\\\\u2019 over. \\\\u2018Course, some\\\\nstood up to him \\\\u2014 an\\\\u2019 he killed \\\\u2018em. Horribly. One o\\\\u2019 the only safe places left\\\\nwas Hogwarts. Reckon Dumbledore\\\\u2019s the only one You-Know-Who was afraid\\\\nof. Didn\\\\u2019t dare try takin\\\\u2019 the school, not jus\\\\u2019 then, anyway.\\\\n      \\\\u201cNow, yer mum an\\\\u2019 dad were as good a witch an\\\\u2019 wizard as I ever knew.\\\\nHead boy an\\\\u2019 girl at Hogwarts in their day! Suppose the myst\\\\u2019ry is why You-\\\\nKnow-Who never tried to get \\\\u2018em on his side before\\\\u2026probably knew they were\\\\ntoo close ter Dumbledore ter want anythin\\\\u2019 ter do with the Dark Side.In Chapter Fifteen of Harry Potter and the Sorcerer\\\\\\\\\\'s Stone, titled \\\\\\\\\\\\\"The Forbidden Forest,\\\\\\\\\\\\\" Harry, Hermione, and Neville are caught out of bed by Professor McGonagall and receive detentions and lose a total of 150 points from Gryffindor. This causes Harry to be hated by his peers and even the other houses, except for Slytherin who cheers for him. Harry, feeling ashamed and guilty, decides to resign from the Quidditch team and focuses on studying for exams.\\\\nHowever, Harry\\\\\\\\\\'s resolve to stay out of trouble is tested when he overhears Quirrell being threatened and sees Snape leaving a classroom. He shares this information with Hermione and Ron, but they decide not to take matters into their own hands and instead consider going to Dumbledore for help.\\\\nAs they serve their detentions in the Forbidden Forest with Hagrid, they encounter a wounded unicorn and a hooded figure drinking its blood. Malfoy panics and runs away, but Harry is saved by a centaur named Firenze. Firenze reveals that someone is after the Sorcerer\\\\\\\\\\'s Stone, which can grant immortality, and Harry realizes that Voldemort is behind it.\\\\nAfter a tense discussion with his friends, they go to bed exhausted, only to find Harry\\\\\\\\\\'s invisibility cloak returned to him with a note signed by an unknown \\\\\\\\\\\\\"HP.\\\\\\\\\\\\\" The chapter ends with a sense of foreboding as Harry realizes the danger he is in and the challenges that lie ahead. (Chapter 15)\", \"question\": \"Voldemort\\'s followers\"}', name='RetrieveChapterSummary', id='b271aef7-74ae-47fe-943d-714ebd483279', tool_call_id='call_8tns'), AIMessage(content='', additional_kwargs={'tool_calls': [{'id': 'call_pg26', 'function': {'arguments': '{\"__arg1\":\"Philosopher\\'s Stone\"}', 'name': 'RetrieveChapterSummary'}, 'type': 'function'}]}, response_metadata={'token_usage': {'completion_time': 0.148652612, 'completion_tokens': 43, 'prompt_time': 2.338106078, 'prompt_tokens': 2517, 'queue_time': None, 'total_time': 2.48675869, 'total_tokens': 2560}, 'model_name': 'llama3-70b-8192', 'system_fingerprint': 'fp_c1a4bcec29', 'finish_reason': 'tool_calls', 'logprobs': None}, id='run-0a485e81-214c-4815-98db-122d5ae8c9db-0', tool_calls=[{'name': 'RetrieveChapterSummary', 'args': {'__arg1': \"Philosopher's Stone\"}, 'id': 'call_pg26'}]), ToolMessage(content='{\"context\": \"HP 1 - Harry Potter and the\\\\nSorcerer\\\\\\\\\\'s StoneIn Chapter Thirteen of Harry Potter and the Sorcerer\\\\\\\\\\'s Stone, Harry is haunted by nightmares of his parents\\\\\\\\\\' death and the mysterious figure he saw in the Mirror of Erised. He, Ron, and Hermione continue their search for Nicolas Flamel, the maker of the Sorcerer\\\\\\\\\\'s Stone, and finally discover that Flamel is the only one who possesses the stone, which has the power to turn metal into gold and grant immortality.\\\\nMeanwhile, Quidditch practice intensifies as Gryffindor prepares for a crucial match against Hufflepuff. However, tensions rise as Snape is appointed as the referee, leading to concerns about biased officiating. Harry is determined to play in the match despite his fears of Snape\\\\\\\\\\'s intentions.\\\\nDuring the match, Harry catches the Golden Snitch in record time, securing Gryffindor\\\\\\\\\\'s victory and putting them in the lead for the house championship. Dumbledore congratulates Harry, and Snape appears visibly angry. Later, Harry witnesses Snape meeting with Quirrell in the Forbidden Forest, discussing the Sorcerer\\\\\\\\\\'s Stone and the obstacles guarding it.\\\\nHarry shares this information with Ron and Hermione, realizing that Snape is trying to force Quirrell to help him obtain the Stone. They fear that the Stone is only safe as long as Quirrell resists Snape\\\\\\\\\\'s influence. The chapter ends with the ominous realization that the Stone may not be safe for long. (Chapter 13)\", \"question\": \"Philosopher\\'s Stone\"}', name='RetrieveChapterSummary', id='9a2316e0-75f0-45b9-96a5-663688a2f92e', tool_call_id='call_pg26'), AIMessage(content='', additional_kwargs={'tool_calls': [{'id': 'call_q8ye', 'function': {'arguments': '{\"__arg1\":\"Harry\\'s courage\"}', 'name': 'RetrieveChapterSummary'}, 'type': 'function'}]}, response_metadata={'token_usage': {'completion_time': 0.144210157, 'completion_tokens': 42, 'prompt_time': 0.883377619, 'prompt_tokens': 2915, 'queue_time': None, 'total_time': 1.027587776, 'total_tokens': 2957}, 'model_name': 'llama3-70b-8192', 'system_fingerprint': 'fp_87cbfbbc4d', 'finish_reason': 'tool_calls', 'logprobs': None}, id='run-68873ad7-f616-4d62-8456-148904b426df-0', tool_calls=[{'name': 'RetrieveChapterSummary', 'args': {'__arg1': \"Harry's courage\"}, 'id': 'call_q8ye'}]), ToolMessage(content='{\"context\": \"So he knew. The feeling suddenly surged back into Harry\\\\u2019s legs. He\\\\nstumbled backward.\\\\n      \\\\u201cDon\\\\u2019t be a fool,\\\\u201d snarled the face. \\\\u201cBetter save your own life and join\\\\nme\\\\u2026or you\\\\u2019ll meet the same end as your parents\\\\u2026They died begging me for\\\\nmercy\\\\u2026\\\\u201d\\\\n      \\\\u201cLIAR!\\\\u201d Harry shouted suddenly.\\\\n      Quirrell was walking backward at him, so that Voldemort could still see\\\\nhim. The evil face was now smiling.\\\\n      \\\\u201cHow touching\\\\u2026\\\\u201d it hissed. \\\\u201cI always value bravery\\\\u2026.Yes, boy, your\\\\nparents were brave\\\\u2026I killed your father first; and he put up a courageous\\\\nfight\\\\u2026but your mother needn\\\\u2019t have died\\\\u2026she was trying to protect you\\\\u2026NowIn Chapter Seventeen, titled \\\\\\\\\\\\\"The Man with Two Faces,\\\\\\\\\\\\\" Harry comes face to face with Professor Quirrell, who reveals himself to be the one trying to steal the Sorcerer\\\\\\\\\\'s Stone. Quirrell explains how he tried to kill Harry during the Quidditch match and how Snape was actually trying to save him. Quirrell also reveals that he is serving Lord Voldemort and that Voldemort is sharing his body. Harry manages to get the Stone from the Mirror of Erised by lying to Quirrell and keeping him distracted. Quirrell\\\\\\\\\\'s true form is revealed to be Voldemort\\\\\\\\\\'s face on the back of his head, and he tries to kill Harry but is unable to touch him due to the protection of his mother\\\\\\\\\\'s love. Dumbledore arrives in time to save Harry and stop Quirrell. The Stone is destroyed, and Dumbledore explains that Nicolas Flamel and his wife will die as a result. Harry receives points for his bravery and courage, tying Gryffindor with Slytherin for the house cup. The students leave Hogwarts for the summer, and Harry looks forward to having fun with Dudley without using magic. The chapter ends with Harry\\\\\\\\\\'s family, the Dursleys, picking him up from the train station. (Chapter 17)\", \"question\": \"Harry\\'s courage\"}', name='RetrieveChapterSummary', id='9626574d-c19a-4529-a814-c290c9a7a8b2', tool_call_id='call_q8ye'), AIMessage(content=\"I'll respond directly without using a tool. \\n\\nHarry's courage is demonstrated throughout the story, particularly in his final confrontation with Quirrell and Voldemort. Despite being frightened, Harry stands up to Quirrell and refuses to back down, even when faced with the evil wizard's threats. His bravery is rewarded when he is able to outsmart Quirrell and retrieve the Sorcerer's Stone from the Mirror of Erised.\", response_metadata={'token_usage': {'completion_time': 0.294358947, 'completion_tokens': 86, 'prompt_time': 1.538851512, 'prompt_tokens': 3478, 'queue_time': None, 'total_time': 1.833210459, 'total_tokens': 3564}, 'model_name': 'llama3-70b-8192', 'system_fingerprint': 'fp_9625f32860', 'finish_reason': 'stop', 'logprobs': None}, id='run-992958bb-7041-4b38-8917-e170ddcdea3d-0')]}\n",
            " curr step: {'past_steps': (\"Understand the nature of Voldemort's influence\", \"I'll respond directly without using a tool. \\n\\nHarry's courage is demonstrated throughout the story, particularly in his final confrontation with Quirrell and Voldemort. Despite being frightened, Harry stands up to Quirrell and refuses to back down, even when faced with the evil wizard's threats. His bravery is rewarded when he is able to outsmart Quirrell and retrieve the Sorcerer's Stone from the Mirror of Erised.\")}\n",
            "'--------------------'\n",
            "Replanning step\n",
            "state:\n",
            "{'input': 'how did harry beat quirrell?', 'plan': [\"Understand the nature of Voldemort's influence\", \"Discover the role of the Philosopher's Stone\", \"Recognize Harry's courage and loyalty\", \"Conclude how Harry's actions led to Quirrell's defeat\"], 'past_steps': \"Determine the circumstances of Quirrell's possession\\nI'll proceed to the next step.\\nUnderstand the nature of Voldemort's influence\\nI'll respond directly without using a tool. \\n\\nHarry's courage is demonstrated throughout the story, particularly in his final confrontation with Quirrell and Voldemort. Despite being frightened, Harry stands up to Quirrell and refuses to back down, even when faced with the evil wizard's threats. His bravery is rewarded when he is able to outsmart Quirrell and retrieve the Sorcerer's Stone from the Mirror of Erised.\"}\n",
            "Checking if should end\n",
            " curr step: {'plan': [\"Discover the role of the Philosopher's Stone\", \"Recognize Harry's courage and loyalty\", \"Conclude how Harry's actions led to Quirrell's defeat\"]}\n",
            "'--------------------'\n",
            "Executing step\n",
            "task_formatted: For the following plan:\n",
            "1. Discover the role of the Philosopher's Stone\n",
            "2. Recognize Harry's courage and loyalty\n",
            "3. Conclude how Harry's actions led to Quirrell's defeat\n",
            "\n",
            "You are tasked with executing step 1, Discover the role of the Philosopher's Stone.\n",
            "Retrieving relevant chunks...\n",
            "Retrieving relevant chapter summaries...\n",
            "Retrieving relevant chunks...\n",
            "Retrieving relevant chapter summaries...\n",
            "agent_response: {'messages': [HumanMessage(content=\"For the following plan:\\n1. Discover the role of the Philosopher's Stone\\n2. Recognize Harry's courage and loyalty\\n3. Conclude how Harry's actions led to Quirrell's defeat\\n\\nYou are tasked with executing step 1, Discover the role of the Philosopher's Stone.\", id='e9e1bd52-7f32-4d8c-8164-8b16c7f90473'), AIMessage(content='', additional_kwargs={'tool_calls': [{'id': 'call_r37k', 'function': {'arguments': '{\"__arg1\":\"Philosopher\\'s Stone\"}', 'name': 'RetrieveChapterSummary'}, 'type': 'function'}]}, response_metadata={'token_usage': {'completion_time': 0.129761901, 'completion_tokens': 38, 'prompt_time': 0.288968847, 'prompt_tokens': 987, 'queue_time': None, 'total_time': 0.418730748, 'total_tokens': 1025}, 'model_name': 'llama3-70b-8192', 'system_fingerprint': 'fp_87cbfbbc4d', 'finish_reason': 'tool_calls', 'logprobs': None}, id='run-2e5dec75-b0d2-45a9-ab52-4d9feafdeb4e-0', tool_calls=[{'name': 'RetrieveChapterSummary', 'args': {'__arg1': \"Philosopher's Stone\"}, 'id': 'call_r37k'}]), ToolMessage(content='{\"context\": \"HP 1 - Harry Potter and the\\\\nSorcerer\\\\\\\\\\'s StoneIn Chapter Thirteen of Harry Potter and the Sorcerer\\\\\\\\\\'s Stone, Harry is haunted by nightmares of his parents\\\\\\\\\\' death and the mysterious figure he saw in the Mirror of Erised. He, Ron, and Hermione continue their search for Nicolas Flamel, the maker of the Sorcerer\\\\\\\\\\'s Stone, and finally discover that Flamel is the only one who possesses the stone, which has the power to turn metal into gold and grant immortality.\\\\nMeanwhile, Quidditch practice intensifies as Gryffindor prepares for a crucial match against Hufflepuff. However, tensions rise as Snape is appointed as the referee, leading to concerns about biased officiating. Harry is determined to play in the match despite his fears of Snape\\\\\\\\\\'s intentions.\\\\nDuring the match, Harry catches the Golden Snitch in record time, securing Gryffindor\\\\\\\\\\'s victory and putting them in the lead for the house championship. Dumbledore congratulates Harry, and Snape appears visibly angry. Later, Harry witnesses Snape meeting with Quirrell in the Forbidden Forest, discussing the Sorcerer\\\\\\\\\\'s Stone and the obstacles guarding it.\\\\nHarry shares this information with Ron and Hermione, realizing that Snape is trying to force Quirrell to help him obtain the Stone. They fear that the Stone is only safe as long as Quirrell resists Snape\\\\\\\\\\'s influence. The chapter ends with the ominous realization that the Stone may not be safe for long. (Chapter 13)\", \"question\": \"Philosopher\\'s Stone\"}', name='RetrieveChapterSummary', id='14a38e91-eea6-495b-9528-115b3d380f9c', tool_call_id='call_r37k'), AIMessage(content='', additional_kwargs={'tool_calls': [{'id': 'call_d970', 'function': {'arguments': '{\"__arg1\":\"Nicolas Flamel\"}', 'name': 'RetrieveChapterSummary'}, 'type': 'function'}]}, response_metadata={'token_usage': {'completion_time': 0.129041598, 'completion_tokens': 38, 'prompt_time': 0.345499922, 'prompt_tokens': 1387, 'queue_time': None, 'total_time': 0.47454152000000005, 'total_tokens': 1425}, 'model_name': 'llama3-70b-8192', 'system_fingerprint': 'fp_f128cfcd6c', 'finish_reason': 'tool_calls', 'logprobs': None}, id='run-40f20ad0-3a93-47fb-80d0-0e1ad77bf0b0-0', tool_calls=[{'name': 'RetrieveChapterSummary', 'args': {'__arg1': 'Nicolas Flamel'}, 'id': 'call_d970'}]), ToolMessage(content='{\"context\": \"a legendary substance with astonishing powers. The stone will transform any\\\\nmetal into pure gold. It also produces the Elixir of Life, which will make the\\\\ndrinker immortal.\\\\nThere have been many reports of the Sorcerer\\\\u2019s Stone over the centuries, but\\\\nthe only Stone currently in existence belongs to Mr. Nicolas Flamel, the noted\\\\nalchemist and opera lover. Mr. Flamel, who celebrated his six hundred and sixty-\\\\nfifth birthday last year, enjoys a quiet life in Devon with his wife, Perenelle (six\\\\nhundred and fifty-eight).\\\\n \\\\n\\\\u201cSee?\\\\u201d said Hermione, when Harry and Ron had finished. \\\\u201cThe dog must be\\\\nguarding Flamel\\\\u2019s Sorcerer\\\\u2019s Stone! I bet he asked Dumbledore to keep it safe\\\\nfor him, because they\\\\u2019re friends and he knew someone was after it, that\\\\u2019s why he\\\\nwanted the Stone moved out of Gringotts!\\\\u201d\\\\n      \\\\u201cA stone that makes gold and stops you from ever dying!\\\\u201d said Harry.\\\\n\\\\u201cNo wonder Snape\\\\u2019s after it! Anyone would want it.\\\\u201d\\\\n      \\\\u201cAnd no wonder we couldn\\\\u2019t find Flamel in that Study of RecentIn Chapter Thirteen of Harry Potter and the Sorcerer\\\\\\\\\\'s Stone, Harry is haunted by nightmares of his parents\\\\\\\\\\' death and the mysterious figure he saw in the Mirror of Erised. He, Ron, and Hermione continue their search for Nicolas Flamel, the maker of the Sorcerer\\\\\\\\\\'s Stone, and finally discover that Flamel is the only one who possesses the stone, which has the power to turn metal into gold and grant immortality.\\\\nMeanwhile, Quidditch practice intensifies as Gryffindor prepares for a crucial match against Hufflepuff. However, tensions rise as Snape is appointed as the referee, leading to concerns about biased officiating. Harry is determined to play in the match despite his fears of Snape\\\\\\\\\\'s intentions.\\\\nDuring the match, Harry catches the Golden Snitch in record time, securing Gryffindor\\\\\\\\\\'s victory and putting them in the lead for the house championship. Dumbledore congratulates Harry, and Snape appears visibly angry. Later, Harry witnesses Snape meeting with Quirrell in the Forbidden Forest, discussing the Sorcerer\\\\\\\\\\'s Stone and the obstacles guarding it.\\\\nHarry shares this information with Ron and Hermione, realizing that Snape is trying to force Quirrell to help him obtain the Stone. They fear that the Stone is only safe as long as Quirrell resists Snape\\\\\\\\\\'s influence. The chapter ends with the ominous realization that the Stone may not be safe for long. (Chapter 13)\", \"question\": \"Nicolas Flamel\"}', name='RetrieveChapterSummary', id='b76ac248-78fb-437c-a9e1-67176637972d', tool_call_id='call_d970'), AIMessage(content=\"I'll respond directly without using a tool. The Philosopher's Stone, also known as the Sorcerer's Stone, is a legendary substance with astonishing powers. It can transform any metal into pure gold and produce the Elixir of Life, which grants immortality. The only Stone currently in existence belongs to Nicolas Flamel, a noted alchemist.\", response_metadata={'token_usage': {'completion_time': 0.234242657, 'completion_tokens': 70, 'prompt_time': 1.3924615980000001, 'prompt_tokens': 2056, 'queue_time': None, 'total_time': 1.6267042550000002, 'total_tokens': 2126}, 'model_name': 'llama3-70b-8192', 'system_fingerprint': 'fp_abd29e8833', 'finish_reason': 'stop', 'logprobs': None}, id='run-2dd27736-0943-4bda-be05-b0ffb144a1bc-0')]}\n",
            " curr step: {'past_steps': (\"Discover the role of the Philosopher's Stone\", \"I'll respond directly without using a tool. The Philosopher's Stone, also known as the Sorcerer's Stone, is a legendary substance with astonishing powers. It can transform any metal into pure gold and produce the Elixir of Life, which grants immortality. The only Stone currently in existence belongs to Nicolas Flamel, a noted alchemist.\")}\n",
            "'--------------------'\n",
            "Replanning step\n",
            "state:\n",
            "{'input': 'how did harry beat quirrell?', 'plan': [\"Discover the role of the Philosopher's Stone\", \"Recognize Harry's courage and loyalty\", \"Conclude how Harry's actions led to Quirrell's defeat\"], 'past_steps': \"Determine the circumstances of Quirrell's possession\\nI'll proceed to the next step.\\nUnderstand the nature of Voldemort's influence\\nI'll respond directly without using a tool. \\n\\nHarry's courage is demonstrated throughout the story, particularly in his final confrontation with Quirrell and Voldemort. Despite being frightened, Harry stands up to Quirrell and refuses to back down, even when faced with the evil wizard's threats. His bravery is rewarded when he is able to outsmart Quirrell and retrieve the Sorcerer's Stone from the Mirror of Erised.\\nDiscover the role of the Philosopher's Stone\\nI'll respond directly without using a tool. The Philosopher's Stone, also known as the Sorcerer's Stone, is a legendary substance with astonishing powers. It can transform any metal into pure gold and produce the Elixir of Life, which grants immortality. The only Stone currently in existence belongs to Nicolas Flamel, a noted alchemist.\"}\n",
            "Checking if should end\n",
            " curr step: {'plan': ['Analyze the final confrontation between Harry and Quirrell', \"Determine how Harry's actions led to Quirrell's defeat\"]}\n",
            "'--------------------'\n",
            "Executing step\n",
            "task_formatted: For the following plan:\n",
            "1. Analyze the final confrontation between Harry and Quirrell\n",
            "2. Determine how Harry's actions led to Quirrell's defeat\n",
            "\n",
            "You are tasked with executing step 1, Analyze the final confrontation between Harry and Quirrell.\n",
            "Retrieving relevant chunks...\n",
            "Retrieving relevant chapter summaries...\n",
            "Retrieving relevant chunks...\n",
            "Retrieving relevant chapter summaries...\n",
            "agent_response: {'messages': [HumanMessage(content=\"For the following plan:\\n1. Analyze the final confrontation between Harry and Quirrell\\n2. Determine how Harry's actions led to Quirrell's defeat\\n\\nYou are tasked with executing step 1, Analyze the final confrontation between Harry and Quirrell.\", id='66681462-778d-4e39-9038-d0cc89a02a23'), AIMessage(content='', additional_kwargs={'tool_calls': [{'id': 'call_5x21', 'function': {'arguments': '{\"__arg1\":\"Harry Potter and the Philosopher\\'s Stone, Chapter 17\"}', 'name': 'RetrieveChapterSummary'}, 'type': 'function'}]}, response_metadata={'token_usage': {'completion_time': 0.190560162, 'completion_tokens': 56, 'prompt_time': 0.255644329, 'prompt_tokens': 980, 'queue_time': None, 'total_time': 0.44620449100000004, 'total_tokens': 1036}, 'model_name': 'llama3-70b-8192', 'system_fingerprint': 'fp_9625f32860', 'finish_reason': 'tool_calls', 'logprobs': None}, id='run-a7bdce43-2ae4-464b-8b95-2b0a4d7d1009-0', tool_calls=[{'name': 'RetrieveChapterSummary', 'args': {'__arg1': \"Harry Potter and the Philosopher's Stone, Chapter 17\"}, 'id': 'call_5x21'}]), ToolMessage(content='{\"context\": \"HP 1 - Harry Potter and the\\\\nSorcerer\\\\\\\\\\'s StoneIn Chapter Sixteen of Harry Potter and the Sorcerer\\\\\\\\\\'s Stone, Harry, Ron, and Hermione are in the midst of their final exams at Hogwarts. Despite the looming threat of Voldemort, they manage to focus on their exams and complete them successfully. However, Harry is plagued by a recurring nightmare and a persistent pain in his scar.\\\\nAs they finish their exams, the trio relaxes by the lake, but Harry\\\\\\\\\\'s scar continues to bother him, signaling danger. Harry becomes increasingly convinced that Snape is planning to steal the Sorcerer\\\\\\\\\\'s Stone, and he rushes to Hagrid to confirm his suspicions. Hagrid inadvertently reveals that he unknowingly gave information about Fluffy, the three-headed dog guarding the Stone, to a stranger in a pub.\\\\nRealizing that Snape may be making a move that night, Harry, Ron, and Hermione set out to stop him. They navigate through various obstacles, including a giant squid, Peeves the poltergeist, and a series of enchantments guarding the Stone. They eventually find themselves in a chamber with a giant chessboard, where they must play a life-sized game of wizard\\\\\\\\\\'s chess to proceed.\\\\nAfter successfully navigating the chessboard, they encounter a troll and a series of potions that will help them pass through the final obstacles. Hermione figures out the logic puzzle presented by the potions, and Harry and Hermione each drink the correct potion to pass through the final challenges.\\\\nHermione successfully passes through the final obstacle and heads back to get help from Dumbledore, while Harry faces the final challenge alone. He confronts Snape, who is not alone but is accompanied by Quirrell, who is revealed to be working for Voldemort. Harry manages to thwart their plans and prevent them from obtaining the Sorcerer\\\\\\\\\\'s Stone.\\\\nIn the end, Harry emerges victorious, having faced his fears and overcome the challenges with the help of his friends. The chapter ends with Harry reflecting on the importance of friendship, bravery, and loyalty in the face of danger. (Chapter 16)\", \"question\": \"Harry Potter and the Philosopher\\'s Stone, Chapter 17\"}', name='RetrieveChapterSummary', id='f7b184c9-89a7-4ad0-9f66-73c33bea30c6', tool_call_id='call_5x21'), AIMessage(content='', additional_kwargs={'tool_calls': [{'id': 'call_dw4c', 'function': {'arguments': '{\"__arg1\":\"Harry Potter and the Philosopher\\'s Stone, Chapter 17, final confrontation between Harry and Quirrell\"}', 'name': 'RetrieveChapterSummary'}, 'type': 'function'}]}, response_metadata={'token_usage': {'completion_time': 0.186646586, 'completion_tokens': 55, 'prompt_time': 1.249979871, 'prompt_tokens': 1511, 'queue_time': None, 'total_time': 1.436626457, 'total_tokens': 1566}, 'model_name': 'llama3-70b-8192', 'system_fingerprint': 'fp_c1a4bcec29', 'finish_reason': 'tool_calls', 'logprobs': None}, id='run-ee3fdd50-e06c-40fd-9669-ddf0ca025c89-0', tool_calls=[{'name': 'RetrieveChapterSummary', 'args': {'__arg1': \"Harry Potter and the Philosopher's Stone, Chapter 17, final confrontation between Harry and Quirrell\"}, 'id': 'call_dw4c'}]), ToolMessage(content='{\"context\": \"\\\\u201cSo all I\\\\u2019ve got to wait for now is Snape to steal the Stone,\\\\u201d Harry went\\\\non feverishly, \\\\u201cthen Voldemort will be able to come and finish me off ... Well, I\\\\nsuppose Bane\\\\u2019ll be happy.\\\\u201d\\\\n      Hermione looked very frightened, but she had a word of comfort.\\\\n      \\\\u201cHarry, everyone says Dumbledore\\\\u2019s the only one You-Know-Who was\\\\never afraid of with Dumbledore around, You-Know-Who won\\\\u2019t touch you.\\\\nAnyway, who says the centaurs are right? It sounds like fortune-telling to me,\\\\nand Professor McGonagall says that\\\\u2019s a very imprecise branch of magic.\\\\u201d\\\\n      The sky had turned light before they stopped talking. They went to bed\\\\nexhausted, their throats sore. But the night\\\\u2019s surprises weren\\\\u2019t over.\\\\n      When Harry pulled back his sheets, he found his invisibility cloak folded\\\\nneatly underneath them. There was a note pinned to it:\\\\nJust in case.In Chapter Seventeen, titled \\\\\\\\\\\\\"The Man with Two Faces,\\\\\\\\\\\\\" Harry comes face to face with Professor Quirrell, who reveals himself to be the one trying to steal the Sorcerer\\\\\\\\\\'s Stone. Quirrell explains how he tried to kill Harry during the Quidditch match and how Snape was actually trying to save him. Quirrell also reveals that he is serving Lord Voldemort and that Voldemort is sharing his body. Harry manages to get the Stone from the Mirror of Erised by lying to Quirrell and keeping him distracted. Quirrell\\\\\\\\\\'s true form is revealed to be Voldemort\\\\\\\\\\'s face on the back of his head, and he tries to kill Harry but is unable to touch him due to the protection of his mother\\\\\\\\\\'s love. Dumbledore arrives in time to save Harry and stop Quirrell. The Stone is destroyed, and Dumbledore explains that Nicolas Flamel and his wife will die as a result. Harry receives points for his bravery and courage, tying Gryffindor with Slytherin for the house cup. The students leave Hogwarts for the summer, and Harry looks forward to having fun with Dudley without using magic. The chapter ends with Harry\\\\\\\\\\'s family, the Dursleys, picking him up from the train station. (Chapter 17)\", \"question\": \"Harry Potter and the Philosopher\\'s Stone, Chapter 17, final confrontation between Harry and Quirrell\"}', name='RetrieveChapterSummary', id='5026bcff-5d89-4901-9c9c-780aa3043847', tool_call_id='call_dw4c'), AIMessage(content='I will analyze the final confrontation between Harry and Quirrell based on the provided context.', response_metadata={'token_usage': {'completion_time': 0.060812579, 'completion_tokens': 18, 'prompt_time': 0.597101215, 'prompt_tokens': 2141, 'queue_time': None, 'total_time': 0.657913794, 'total_tokens': 2159}, 'model_name': 'llama3-70b-8192', 'system_fingerprint': 'fp_87cbfbbc4d', 'finish_reason': 'stop', 'logprobs': None}, id='run-44b71405-d135-408c-ae33-89b4228d824b-0')]}\n",
            " curr step: {'past_steps': ('Analyze the final confrontation between Harry and Quirrell', 'I will analyze the final confrontation between Harry and Quirrell based on the provided context.')}\n",
            "'--------------------'\n",
            "Replanning step\n",
            "state:\n",
            "{'input': 'how did harry beat quirrell?', 'plan': ['Analyze the final confrontation between Harry and Quirrell', \"Determine how Harry's actions led to Quirrell's defeat\"], 'past_steps': \"Determine the circumstances of Quirrell's possession\\nI'll proceed to the next step.\\nUnderstand the nature of Voldemort's influence\\nI'll respond directly without using a tool. \\n\\nHarry's courage is demonstrated throughout the story, particularly in his final confrontation with Quirrell and Voldemort. Despite being frightened, Harry stands up to Quirrell and refuses to back down, even when faced with the evil wizard's threats. His bravery is rewarded when he is able to outsmart Quirrell and retrieve the Sorcerer's Stone from the Mirror of Erised.\\nDiscover the role of the Philosopher's Stone\\nI'll respond directly without using a tool. The Philosopher's Stone, also known as the Sorcerer's Stone, is a legendary substance with astonishing powers. It can transform any metal into pure gold and produce the Elixir of Life, which grants immortality. The only Stone currently in existence belongs to Nicolas Flamel, a noted alchemist.\\nAnalyze the final confrontation between Harry and Quirrell\\nI will analyze the final confrontation between Harry and Quirrell based on the provided context.\"}\n",
            "Checking if should end\n",
            " curr step: {'plan': [\"Determine how Harry's actions led to Quirrell's defeat\"]}\n",
            "'--------------------'\n",
            "Executing step\n",
            "task_formatted: For the following plan:\n",
            "1. Determine how Harry's actions led to Quirrell's defeat\n",
            "\n",
            "You are tasked with executing step 1, Determine how Harry's actions led to Quirrell's defeat.\n",
            "Retrieving relevant chunks...\n",
            "Retrieving relevant chapter summaries...\n",
            "Retrieving relevant chunks...\n",
            "Retrieving relevant chapter summaries...\n",
            "Retrieving relevant chunks...\n",
            "Retrieving relevant chapter summaries...\n",
            "agent_response: {'messages': [HumanMessage(content=\"For the following plan:\\n1. Determine how Harry's actions led to Quirrell's defeat\\n\\nYou are tasked with executing step 1, Determine how Harry's actions led to Quirrell's defeat.\", id='08b5e2b6-fc93-450d-a195-2ff1da0de29d'), AIMessage(content='', additional_kwargs={'tool_calls': [{'id': 'call_15sh', 'function': {'arguments': '{\"__arg1\":\"Harry Potter and the Philosopher\\'s Stone\"}', 'name': 'RetrieveChapterSummary'}, 'type': 'function'}]}, response_metadata={'token_usage': {'completion_time': 0.177166405, 'completion_tokens': 52, 'prompt_time': 0.369568872, 'prompt_tokens': 967, 'queue_time': None, 'total_time': 0.546735277, 'total_tokens': 1019}, 'model_name': 'llama3-70b-8192', 'system_fingerprint': 'fp_f128cfcd6c', 'finish_reason': 'tool_calls', 'logprobs': None}, id='run-f4d1728d-d3c9-4010-8a9b-d996e63cd420-0', tool_calls=[{'name': 'RetrieveChapterSummary', 'args': {'__arg1': \"Harry Potter and the Philosopher's Stone\"}, 'id': 'call_15sh'}]), ToolMessage(content='{\"context\": \"HP 1 - Harry Potter and the\\\\nSorcerer\\\\\\\\\\'s StoneIn Chapter Thirteen of Harry Potter and the Sorcerer\\\\\\\\\\'s Stone, Harry is haunted by nightmares of his parents\\\\\\\\\\' death and the mysterious figure he saw in the Mirror of Erised. He, Ron, and Hermione continue their search for Nicolas Flamel, the maker of the Sorcerer\\\\\\\\\\'s Stone, and finally discover that Flamel is the only one who possesses the stone, which has the power to turn metal into gold and grant immortality.\\\\nMeanwhile, Quidditch practice intensifies as Gryffindor prepares for a crucial match against Hufflepuff. However, tensions rise as Snape is appointed as the referee, leading to concerns about biased officiating. Harry is determined to play in the match despite his fears of Snape\\\\\\\\\\'s intentions.\\\\nDuring the match, Harry catches the Golden Snitch in record time, securing Gryffindor\\\\\\\\\\'s victory and putting them in the lead for the house championship. Dumbledore congratulates Harry, and Snape appears visibly angry. Later, Harry witnesses Snape meeting with Quirrell in the Forbidden Forest, discussing the Sorcerer\\\\\\\\\\'s Stone and the obstacles guarding it.\\\\nHarry shares this information with Ron and Hermione, realizing that Snape is trying to force Quirrell to help him obtain the Stone. They fear that the Stone is only safe as long as Quirrell resists Snape\\\\\\\\\\'s influence. The chapter ends with the ominous realization that the Stone may not be safe for long. (Chapter 13)\", \"question\": \"Harry Potter and the Philosopher\\'s Stone\"}', name='RetrieveChapterSummary', id='56997654-93fc-4896-8e2a-41f275862d7c', tool_call_id='call_15sh'), AIMessage(content='', additional_kwargs={'tool_calls': [{'id': 'call_tcmf', 'function': {'arguments': '{\"__arg1\":\"Harry Potter and the Philosopher\\'s Stone, Quirrell\\'s defeat\"}', 'name': 'RetrieveChapterSummary'}, 'type': 'function'}]}, response_metadata={'token_usage': {'completion_time': 0.161863851, 'completion_tokens': 48, 'prompt_time': 0.348767091, 'prompt_tokens': 1375, 'queue_time': None, 'total_time': 0.5106309419999999, 'total_tokens': 1423}, 'model_name': 'llama3-70b-8192', 'system_fingerprint': 'fp_f128cfcd6c', 'finish_reason': 'tool_calls', 'logprobs': None}, id='run-b0715da8-baa6-4c13-a29b-f490472031d2-0', tool_calls=[{'name': 'RetrieveChapterSummary', 'args': {'__arg1': \"Harry Potter and the Philosopher's Stone, Quirrell's defeat\"}, 'id': 'call_tcmf'}]), ToolMessage(content='{\"context\": \"HP 1 - Harry Potter and the\\\\nSorcerer\\\\\\\\\\'s StoneIn Chapter Seventeen, titled \\\\\\\\\\\\\"The Man with Two Faces,\\\\\\\\\\\\\" Harry comes face to face with Professor Quirrell, who reveals himself to be the one trying to steal the Sorcerer\\\\\\\\\\'s Stone. Quirrell explains how he tried to kill Harry during the Quidditch match and how Snape was actually trying to save him. Quirrell also reveals that he is serving Lord Voldemort and that Voldemort is sharing his body. Harry manages to get the Stone from the Mirror of Erised by lying to Quirrell and keeping him distracted. Quirrell\\\\\\\\\\'s true form is revealed to be Voldemort\\\\\\\\\\'s face on the back of his head, and he tries to kill Harry but is unable to touch him due to the protection of his mother\\\\\\\\\\'s love. Dumbledore arrives in time to save Harry and stop Quirrell. The Stone is destroyed, and Dumbledore explains that Nicolas Flamel and his wife will die as a result. Harry receives points for his bravery and courage, tying Gryffindor with Slytherin for the house cup. The students leave Hogwarts for the summer, and Harry looks forward to having fun with Dudley without using magic. The chapter ends with Harry\\\\\\\\\\'s family, the Dursleys, picking him up from the train station. (Chapter 17)\", \"question\": \"Harry Potter and the Philosopher\\'s Stone, Quirrell\\'s defeat\"}', name='RetrieveChapterSummary', id='c5ba119a-d109-43a2-82c7-e29601b5749d', tool_call_id='call_tcmf'), AIMessage(content='', additional_kwargs={'tool_calls': [{'id': 'call_350e', 'function': {'arguments': '{\"__arg1\":\"Harry Potter and the Philosopher\\'s Stone, Harry\\'s actions leading to Quirrell\\'s defeat\"}', 'name': 'RetrieveChapterSummary'}, 'type': 'function'}]}, response_metadata={'token_usage': {'completion_time': 0.201292863, 'completion_tokens': 58, 'prompt_time': 0.584159193, 'prompt_tokens': 1759, 'queue_time': None, 'total_time': 0.785452056, 'total_tokens': 1817}, 'model_name': 'llama3-70b-8192', 'system_fingerprint': 'fp_f128cfcd6c', 'finish_reason': 'tool_calls', 'logprobs': None}, id='run-cd11eddf-df14-43eb-a390-bac7e990a75f-0', tool_calls=[{'name': 'RetrieveChapterSummary', 'args': {'__arg1': \"Harry Potter and the Philosopher's Stone, Harry's actions leading to Quirrell's defeat\"}, 'id': 'call_350e'}]), ToolMessage(content='{\"context\": \"HP 1 - Harry Potter and the\\\\nSorcerer\\\\\\\\\\'s StoneIn Chapter Seventeen, titled \\\\\\\\\\\\\"The Man with Two Faces,\\\\\\\\\\\\\" Harry comes face to face with Professor Quirrell, who reveals himself to be the one trying to steal the Sorcerer\\\\\\\\\\'s Stone. Quirrell explains how he tried to kill Harry during the Quidditch match and how Snape was actually trying to save him. Quirrell also reveals that he is serving Lord Voldemort and that Voldemort is sharing his body. Harry manages to get the Stone from the Mirror of Erised by lying to Quirrell and keeping him distracted. Quirrell\\\\\\\\\\'s true form is revealed to be Voldemort\\\\\\\\\\'s face on the back of his head, and he tries to kill Harry but is unable to touch him due to the protection of his mother\\\\\\\\\\'s love. Dumbledore arrives in time to save Harry and stop Quirrell. The Stone is destroyed, and Dumbledore explains that Nicolas Flamel and his wife will die as a result. Harry receives points for his bravery and courage, tying Gryffindor with Slytherin for the house cup. The students leave Hogwarts for the summer, and Harry looks forward to having fun with Dudley without using magic. The chapter ends with Harry\\\\\\\\\\'s family, the Dursleys, picking him up from the train station. (Chapter 17)\", \"question\": \"Harry Potter and the Philosopher\\'s Stone, Harry\\'s actions leading to Quirrell\\'s defeat\"}', name='RetrieveChapterSummary', id='2c2daa2f-1e4f-472f-b4d3-094574a18587', tool_call_id='call_350e'), AIMessage(content=\"Harry's actions that led to Quirrell's defeat were his bravery and quick thinking in lying to Quirrell and keeping him distracted, which allowed him to retrieve the Sorcerer's Stone from the Mirror of Erised. Additionally, Harry's protection from his mother's love prevented Quirrell from touching him, ultimately leading to Quirrell's defeat.\", response_metadata={'token_usage': {'completion_time': 0.240726831, 'completion_tokens': 72, 'prompt_time': 1.547222026, 'prompt_tokens': 2153, 'queue_time': None, 'total_time': 1.787948857, 'total_tokens': 2225}, 'model_name': 'llama3-70b-8192', 'system_fingerprint': 'fp_abd29e8833', 'finish_reason': 'stop', 'logprobs': None}, id='run-0960dc01-11b2-4822-a72d-ea6105417fc8-0')]}\n",
            " curr step: {'past_steps': (\"Determine how Harry's actions led to Quirrell's defeat\", \"Harry's actions that led to Quirrell's defeat were his bravery and quick thinking in lying to Quirrell and keeping him distracted, which allowed him to retrieve the Sorcerer's Stone from the Mirror of Erised. Additionally, Harry's protection from his mother's love prevented Quirrell from touching him, ultimately leading to Quirrell's defeat.\")}\n",
            "'--------------------'\n",
            "Replanning step\n",
            "state:\n",
            "{'input': 'how did harry beat quirrell?', 'plan': [\"Determine how Harry's actions led to Quirrell's defeat\"], 'past_steps': \"Determine the circumstances of Quirrell's possession\\nI'll proceed to the next step.\\nUnderstand the nature of Voldemort's influence\\nI'll respond directly without using a tool. \\n\\nHarry's courage is demonstrated throughout the story, particularly in his final confrontation with Quirrell and Voldemort. Despite being frightened, Harry stands up to Quirrell and refuses to back down, even when faced with the evil wizard's threats. His bravery is rewarded when he is able to outsmart Quirrell and retrieve the Sorcerer's Stone from the Mirror of Erised.\\nDiscover the role of the Philosopher's Stone\\nI'll respond directly without using a tool. The Philosopher's Stone, also known as the Sorcerer's Stone, is a legendary substance with astonishing powers. It can transform any metal into pure gold and produce the Elixir of Life, which grants immortality. The only Stone currently in existence belongs to Nicolas Flamel, a noted alchemist.\\nAnalyze the final confrontation between Harry and Quirrell\\nI will analyze the final confrontation between Harry and Quirrell based on the provided context.\\nDetermine how Harry's actions led to Quirrell's defeat\\nHarry's actions that led to Quirrell's defeat were his bravery and quick thinking in lying to Quirrell and keeping him distracted, which allowed him to retrieve the Sorcerer's Stone from the Mirror of Erised. Additionally, Harry's protection from his mother's love prevented Quirrell from touching him, ultimately leading to Quirrell's defeat.\"}\n",
            "Checking if should end\n",
            " curr step: {'response': {'response': \"Harry's actions that led to Quirrell's defeat were his bravery and quick thinking in lying to Quirrell and keeping him distracted, which allowed him to retrieve the Sorcerer's Stone from the Mirror of Erised. Additionally, Harry's protection from his mother's love prevented Quirrell from touching him, ultimately leading to Quirrell's defeat.\"}}\n",
            "'--------------------'\n",
            "The final answer is: {'response': \"Harry's actions that led to Quirrell's defeat were his bravery and quick thinking in lying to Quirrell and keeping him distracted, which allowed him to retrieve the Sorcerer's Stone from the Mirror of Erised. Additionally, Harry's protection from his mother's love prevented Quirrell from touching him, ultimately leading to Quirrell's defeat.\"}\n"
          ]
        }
      ],
      "source": [
        "inputs = {\"input\": \"how did harry beat quirrell?\"}\n",
        "final_answer = execute_plan_and_print_steps(inputs)\n",
        "print(f'The final answer is: {final_answer}')"
      ]
    },
    {
      "cell_type": "markdown",
      "metadata": {},
      "source": [
        "### Template for Answering Questions Using Context-Specific Information\n"
      ]
    },
    {
      "cell_type": "markdown",
      "metadata": {
        "id": "JBKQkR-W4ZyV"
      },
      "source": [
        "### Model Evaluation\n"
      ]
    },
    {
      "cell_type": "code",
      "execution_count": null,
      "metadata": {
        "id": "ME52zvjPNv47"
      },
      "outputs": [],
      "source": [
        "questions = [\n",
        "    \"Who gave Harry Potter his first broomstick?\",\n",
        "    \"What is the name of the three-headed dog guarding the Sorcerer's Stone?\",\n",
        "    \"Which house did the Sorting Hat initially consider for Harry?\",\n",
        "    \"What is the name of Harry's owl?\"\n",
        "]\n",
        "#     \"How did Harry and his friends get past Fluffy?\",\n",
        "#     \"What is the Mirror of Erised?\",\n",
        "#     \"Who tried to steal the Sorcerer's Stone?\",\n",
        "#     \"How did Harry defeat Quirrell/Voldemort?\",\n",
        "#     \"What is Harry's parent's secret weapon against Voldemort?\",\n",
        "# ]\n",
        "\n",
        "ground_truth_answers = [\n",
        "    \"Professor McGonagall\",\n",
        "    \"Fluffy\",\n",
        "    \"Slytherin\",\n",
        "    \"Hedwig\",\n",
        "    # \"They played music to put Fluffy to sleep.\",\n",
        "    # \"A magical mirror that shows the 'deepest, most desperate desire of our hearts.'\",\n",
        "    # \"Professor Quirrell, possessed by Voldemort\",\n",
        "    # \"Harry's mother's love protected him, causing Quirrell/Voldemort pain when they touched him.\",\n",
        "    # \"Love\",\n",
        "]"
      ]
    },
    {
      "cell_type": "markdown",
      "metadata": {},
      "source": [
        "### Generating Answers and Retrieving Documents for Predefined Questions\n"
      ]
    },
    {
      "cell_type": "code",
      "execution_count": null,
      "metadata": {
        "colab": {
          "base_uri": "https://localhost:8080/",
          "height": 460
        },
        "id": "Wo9EEV0j4mJA",
        "outputId": "14c46214-8fb8-41aa-9845-73367d9a738f"
      },
      "outputs": [],
      "source": [
        "generated_answers = []\n",
        "retrieved_documents = []\n",
        "for question in questions:\n",
        "    result, all_context_book, all_context_summaries = answer_question_pipeline(question, chunks_retriever, chapter_summaries_retriever, answer_from_context_llm_chain, multi_query_retriver_llm)\n",
        "    generated_answers.append(result['text'])\n",
        "    retrieved_documents.append(all_context_book + all_context_summaries)\n"
      ]
    },
    {
      "cell_type": "markdown",
      "metadata": {},
      "source": [
        "### Displaying Retrieved Documents and Generated Answers\n"
      ]
    },
    {
      "cell_type": "code",
      "execution_count": null,
      "metadata": {},
      "outputs": [],
      "source": [
        "print(f'retrieved_documents: {retrieved_documents}\\n')\n",
        "print(f'generated_answers: {generated_answers}')"
      ]
    },
    {
      "cell_type": "markdown",
      "metadata": {},
      "source": [
        "### Preparing Data and Conducting Ragas Evaluation\n"
      ]
    },
    {
      "cell_type": "code",
      "execution_count": null,
      "metadata": {},
      "outputs": [],
      "source": [
        "# Prepare data for Ragas evaluation\n",
        "data_samples = {\n",
        "    'question': questions,  # Replace with your list of questions\n",
        "    'answer': generated_answers,  # Replace with your list of generated answers\n",
        "    'contexts': retrieved_documents,  # Your retrieved_documents list\n",
        "    'ground_truth': ground_truth_answers  # Replace with your list of ground truth answers\n",
        "}\n",
        "\n",
        "# Convert contexts to list of strings (if necessary)\n",
        "data_samples['contexts'] = [list(context) for context in data_samples['contexts']]\n",
        "\n",
        "dataset = Dataset.from_dict(data_samples)\n",
        "\n",
        "# Evaluate using Ragas with the specified metrics\n",
        "metrics = [\n",
        "    answer_correctness,\n",
        "    faithfulness,\n",
        "    answer_relevancy,\n",
        "    context_recall,\n",
        "    answer_similarity\n",
        "]\n",
        "llm = ChatOpenAI(temperature=0, model_name=\"gpt-4-1106-preview\", max_tokens=4000)\n",
        "score = evaluate(dataset, metrics=metrics, llm=llm)\n",
        "\n",
        "# Print results and explanations\n",
        "results_df = score.to_pandas()\n",
        "print(results_df)"
      ]
    },
    {
      "cell_type": "markdown",
      "metadata": {},
      "source": [
        "### Analyzing Metric Results from Ragas Evaluation\n"
      ]
    },
    {
      "cell_type": "code",
      "execution_count": null,
      "metadata": {},
      "outputs": [],
      "source": [
        "analyse_metric_results(results_df)"
      ]
    },
    {
      "cell_type": "markdown",
      "metadata": {},
      "source": [
        "### Interactive Chat Interface for Harry Potter Inquiries\n"
      ]
    },
    {
      "cell_type": "code",
      "execution_count": null,
      "metadata": {
        "id": "lV7UvEofS1nv"
      },
      "outputs": [],
      "source": [
        "def chat_with_data(chunks_retriever, chapter_summaries_retriever, answer_from_context_llm_chain, multi_query_retriver_llm):\n",
        "    \"\"\"\n",
        "    Provides an interactive chat interface for answering questions about Harry Potter.\n",
        "\n",
        "    Args:\n",
        "        retriever: A retriever for retrieving relevant documents.\n",
        "        chapter_summaries_retriever: A retriever for retrieving relevant chapter summaries.\n",
        "        answer_from_context_llm_chain: An LLM chain for answering questions based on context.\n",
        "        multi_query_retriver_llm: An LLM for use in the MultiQueryRetriever.\n",
        "    \"\"\"\n",
        "\n",
        "    print(\"You can start chatting with me about Harry Potter. Type 'exit' to stop.\")\n",
        "\n",
        "    while True:\n",
        "        # Prompt the user for a question\n",
        "        question = input(\"What's your question? \\n\")\n",
        "\n",
        "        # Check if the user wants to exit\n",
        "        if question.lower() == 'exit':\n",
        "            print(\"Exiting chat. Goodbye!\")\n",
        "            break\n",
        "\n",
        "        # Answer the question using the pipeline\n",
        "        result, _, _ = answer_question_pipeline(\n",
        "            question, chunks_retriever, chapter_summaries_retriever, answer_from_context_llm_chain, multi_query_retriver_llm\n",
        "        )\n",
        "\n",
        "        # Print the answer\n",
        "        print(\"Answer:\")\n",
        "        wrapped_result = textwrap.fill(result['text'], width=120)  # Wrap text for readability\n",
        "        print(wrapped_result)\n",
        "        print(\"-\" * 80)  # Print a separator line for readability"
      ]
    },
    {
      "cell_type": "markdown",
      "metadata": {},
      "source": [
        "### Calling the chat_with_data function"
      ]
    },
    {
      "cell_type": "code",
      "execution_count": null,
      "metadata": {
        "colab": {
          "base_uri": "https://localhost:8080/"
        },
        "id": "048b2Ol7QAiF",
        "outputId": "1c891083-5c91-4425-ba23-50d1f32e0ac5"
      },
      "outputs": [],
      "source": [
        "chat_with_data(chunks_retriever,chapter_summaries_retriever, answer_from_context_llm_chain, multi_query_retriver_llm)"
      ]
    }
  ],
  "metadata": {
    "colab": {
      "provenance": []
    },
    "kernelspec": {
      "display_name": "Python 3",
      "name": "python3"
    },
    "language_info": {
      "codemirror_mode": {
        "name": "ipython",
        "version": 3
      },
      "file_extension": ".py",
      "mimetype": "text/x-python",
      "name": "python",
      "nbconvert_exporter": "python",
      "pygments_lexer": "ipython3",
      "version": "3.12.0"
    }
  },
  "nbformat": 4,
  "nbformat_minor": 0
}
