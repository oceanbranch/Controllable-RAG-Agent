{
  "cells": [
    {
      "cell_type": "markdown",
      "metadata": {},
      "source": [
        "### Importing Necessary Libraries\n"
      ]
    },
    {
      "cell_type": "code",
      "execution_count": 44,
      "metadata": {
        "id": "XIL5OCqJ7bh8"
      },
      "outputs": [],
      "source": [
        "# from langchain.chat_models import ChatOpenAI\n",
        "from langchain_openai import ChatOpenAI \n",
        "\n",
        "from langchain.document_loaders import  PyPDFLoader\n",
        "from langchain.vectorstores import  FAISS\n",
        "from langchain.text_splitter import  RecursiveCharacterTextSplitter\n",
        "from langchain.embeddings import OpenAIEmbeddings \n",
        "from langchain.prompts import PromptTemplate\n",
        "from langchain.chains import LLMChain\n",
        "from langchain.docstore.document import Document\n",
        "from langchain.chains.summarize import load_summarize_chain\n",
        "from time import monotonic\n",
        "from langchain_groq import ChatGroq\n",
        "from langchain_core.pydantic_v1 import BaseModel, Field\n",
        "from langchain_core.output_parsers import JsonOutputParser\n",
        "from dotenv import load_dotenv\n",
        "from langchain.agents import initialize_agent, Tool\n",
        "from langchain.chains.question_answering import load_qa_chain\n",
        "from pprint import pprint\n",
        "import textwrap\n",
        "import os\n",
        "from datasets import Dataset\n",
        "from ragas import evaluate\n",
        "from ragas.metrics import (\n",
        "    answer_correctness,\n",
        "    faithfulness,\n",
        "    answer_relevancy,\n",
        "    context_recall,\n",
        "    answer_similarity\n",
        ")\n",
        "\n",
        "from langgraph.graph import END, StateGraph\n",
        "from typing_extensions import TypedDict\n",
        "from langchain_core.runnables.graph import MermaidDrawMethod\n",
        "from IPython.display import display, Image\n",
        "from langchain.schema import AIMessage\n",
        "from langchain import hub\n",
        "from langgraph.prebuilt import create_react_agent\n",
        "from typing import List, Tuple, Annotated, TypedDict\n",
        "from langchain_core.pydantic_v1 import BaseModel, Field\n",
        "\n",
        "import operator\n",
        "import langgraph\n",
        "\n",
        "### Helper functions for the notebook\n",
        "from helper_functions import num_tokens_from_string, replace_t_with_space, replace_double_lines_with_one_line, split_into_chapters,\\\n",
        "analyse_metric_results, escape_quotes, format_state_past_steps, clean_empty_fields_dictionary, process_replanner_output\n",
        "\n",
        "load_dotenv()\n",
        "\n",
        "os.environ[\"PYDEVD_WARN_EVALUATION_TIMEOUT\"] = \"100000\""
      ]
    },
    {
      "cell_type": "markdown",
      "metadata": {},
      "source": [
        "### Setting Preferred Encoding for PyPDF on Google Colab\n"
      ]
    },
    {
      "cell_type": "code",
      "execution_count": 2,
      "metadata": {
        "id": "c6QeKRm37HwC"
      },
      "outputs": [],
      "source": [
        "import locale\n",
        "def getpreferredencoding(do_setlocale = True):\n",
        "    return \"UTF-8\"\n",
        "locale.getpreferredencoding = getpreferredencoding # For using PyPDF on google colab "
      ]
    },
    {
      "cell_type": "markdown",
      "metadata": {},
      "source": [
        "### Setting OPENAI and GROQ API keys"
      ]
    },
    {
      "cell_type": "code",
      "execution_count": 10,
      "metadata": {},
      "outputs": [],
      "source": [
        "os.environ[\"OPENAI_API_KEY\"] = os.getenv('OPENAI_API_KEY')\n",
        "groq_api_key = os.getenv('GROQ_API_KEY')"
      ]
    },
    {
      "cell_type": "markdown",
      "metadata": {},
      "source": [
        "### Defining Path to Harry Potter PDF\n"
      ]
    },
    {
      "cell_type": "code",
      "execution_count": 4,
      "metadata": {
        "id": "8mUYHG_S6y22"
      },
      "outputs": [],
      "source": [
        "hp_pdf_path =\"Harry_Potter_Book_1_The_Sorcerers_Stone.pdf\""
      ]
    },
    {
      "cell_type": "markdown",
      "metadata": {},
      "source": [
        "### Splitting the PDF into Chapters and Preprocessing\n"
      ]
    },
    {
      "cell_type": "code",
      "execution_count": 5,
      "metadata": {
        "id": "cDHfDODdTIBY"
      },
      "outputs": [
        {
          "name": "stdout",
          "output_type": "stream",
          "text": [
            "17\n"
          ]
        }
      ],
      "source": [
        "chapters = split_into_chapters(hp_pdf_path) \n",
        "chapters = replace_t_with_space(chapters)\n",
        "print(len(chapters))"
      ]
    },
    {
      "cell_type": "markdown",
      "metadata": {},
      "source": [
        "### Defining Prompt Template for Summarization\n"
      ]
    },
    {
      "cell_type": "code",
      "execution_count": 6,
      "metadata": {
        "id": "49RqsAhDxjFg"
      },
      "outputs": [],
      "source": [
        "summarization_prompt_template = \"\"\"Write an extensive summary of about of the following:\n",
        "\n",
        "{text}\n",
        "\n",
        "SUMMARY:\"\"\"\n",
        "\n",
        "summarization_prompt = PromptTemplate(template=summarization_prompt_template, input_variables=[\"text\"])"
      ]
    },
    {
      "cell_type": "markdown",
      "metadata": {},
      "source": [
        "### Defining Function to Create Chapter Summaries using LLMs\n"
      ]
    },
    {
      "cell_type": "code",
      "execution_count": 7,
      "metadata": {
        "id": "ehe6iObnx4l9"
      },
      "outputs": [],
      "source": [
        "def create_chapter_summary(chapter):\n",
        "    \"\"\"\n",
        "    Creates a summary of a chapter using a large language model (LLM).\n",
        "\n",
        "    Args:\n",
        "        chapter: A Document object representing the chapter to summarize.\n",
        "\n",
        "    Returns:\n",
        "        A Document object containing the summary of the chapter.\n",
        "    \"\"\"\n",
        "\n",
        "    chapter_txt = chapter.page_content  # Extract chapter text\n",
        "    model_name = \"gpt-3.5-turbo-0125\"  # Specify LLM model\n",
        "    llm = ChatOpenAI(temperature=0, model_name=model_name)  # Create LLM instance\n",
        "    gpt_35_turbo_max_tokens = 16000  # Maximum token limit for the LLM\n",
        "    verbose = False  # Set to True for more detailed output\n",
        "\n",
        "    # Calculate number of tokens in the chapter text\n",
        "    num_tokens = num_tokens_from_string(chapter_txt, model_name)\n",
        "\n",
        "    # Choose appropriate chain type based on token count\n",
        "    if num_tokens < gpt_35_turbo_max_tokens:\n",
        "        chain = load_summarize_chain(llm, chain_type=\"stuff\", prompt=summarization_prompt, verbose=verbose)\n",
        "    else:\n",
        "        chain = load_summarize_chain(llm, chain_type=\"map_reduce\", map_prompt=summarization_prompt, combine_prompt=summarization_prompt, verbose=verbose)\n",
        "\n",
        "    start_time = monotonic()  # Start timer\n",
        "    doc_chapter = Document(page_content=chapter_txt)  # Create Document object for chapter\n",
        "    summary = chain.invoke([doc_chapter])  # Generate summary using the chain\n",
        "    print(f\"Chain type: {chain.__class__.__name__}\")  # Print chain type\n",
        "    print(f\"Run time: {monotonic() - start_time}\")  # Print execution time\n",
        "\n",
        "    # Clean up summary text\n",
        "    summary = replace_double_lines_with_one_line(summary[\"output_text\"])\n",
        "\n",
        "    # Create Document object for summary\n",
        "    doc_summary = Document(page_content=summary, metadata=chapter.metadata)\n",
        "\n",
        "    return doc_summary"
      ]
    },
    {
      "cell_type": "markdown",
      "metadata": {},
      "source": [
        "### Generating Summaries for Each Chapter\n"
      ]
    },
    {
      "cell_type": "code",
      "execution_count": null,
      "metadata": {
        "colab": {
          "base_uri": "https://localhost:8080/"
        },
        "id": "l4UBurLsMCHj",
        "outputId": "668932cf-02d8-446d-e0ed-3f85b30d3bba"
      },
      "outputs": [],
      "source": [
        "chapter_summaries = []\n",
        "for chapter in chapters:\n",
        "    chapter_summaries.append(create_chapter_summary(chapter))"
      ]
    },
    {
      "cell_type": "markdown",
      "metadata": {},
      "source": [
        "### Function to Encode a Book into a Vector Store using OpenAI Embeddings\n"
      ]
    },
    {
      "cell_type": "code",
      "execution_count": 9,
      "metadata": {
        "id": "9t1Kq6fGS0EA"
      },
      "outputs": [],
      "source": [
        "def encode_book(path, chunk_size=1000, chunk_overlap=200):\n",
        "    \"\"\"\n",
        "    Encodes a PDF book into a vector store using OpenAI embeddings.\n",
        "\n",
        "    Args:\n",
        "        path: The path to the PDF file.\n",
        "        chunk_size: The desired size of each text chunk.\n",
        "        chunk_overlap: The amount of overlap between consecutive chunks.\n",
        "\n",
        "    Returns:\n",
        "        A FAISS vector store containing the encoded book content.\n",
        "    \"\"\"\n",
        "\n",
        "    # Load PDF documents\n",
        "    loader = PyPDFLoader(path)\n",
        "    documents = loader.load()\n",
        "\n",
        "    # Split documents into chunks\n",
        "    text_splitter = RecursiveCharacterTextSplitter(\n",
        "        chunk_size=chunk_size, chunk_overlap=chunk_overlap, length_function=len\n",
        "    )\n",
        "    texts = text_splitter.split_documents(documents)\n",
        "    cleaned_texts = replace_t_with_space(texts)\n",
        "\n",
        "    # Create embeddings and vector store\n",
        "    embeddings = OpenAIEmbeddings()\n",
        "    vectorstore = FAISS.from_documents(cleaned_texts, embeddings)\n",
        "\n",
        "    return vectorstore"
      ]
    },
    {
      "cell_type": "markdown",
      "metadata": {},
      "source": [
        "### Encoding Chapter Summaries into Vector Store\n"
      ]
    },
    {
      "cell_type": "code",
      "execution_count": 10,
      "metadata": {
        "id": "FHt9Y12gMp2z"
      },
      "outputs": [],
      "source": [
        "def encode_chapter_summaries(chapter_summaries):\n",
        "    \"\"\"\n",
        "    Encodes a list of chapter summaries into a vector store using OpenAI embeddings.\n",
        "\n",
        "    Args:\n",
        "        chapter_summaries: A list of Document objects representing the chapter summaries.\n",
        "\n",
        "    Returns:\n",
        "        A FAISS vector store containing the encoded chapter summaries.\n",
        "    \"\"\"\n",
        "\n",
        "    embeddings = OpenAIEmbeddings()  # Create OpenAI embeddings\n",
        "    chapter_summaries_vectorstore = FAISS.from_documents(chapter_summaries, embeddings)  # Create vector store\n",
        "    return chapter_summaries_vectorstore"
      ]
    },
    {
      "cell_type": "markdown",
      "metadata": {},
      "source": [
        "### Creating Vector Stores and Retrievers for Book and Chapter Summaries\n"
      ]
    },
    {
      "cell_type": "code",
      "execution_count": 11,
      "metadata": {},
      "outputs": [
        {
          "name": "stderr",
          "output_type": "stream",
          "text": [
            "c:\\Users\\N7\\PycharmProjects\\llm_tasks\\RAG-Harry-Potter\\.venv\\Lib\\site-packages\\langchain_core\\_api\\deprecation.py:119: LangChainDeprecationWarning: The class `OpenAIEmbeddings` was deprecated in LangChain 0.0.9 and will be removed in 0.3.0. An updated version of the class exists in the langchain-openai package and should be used instead. To use it run `pip install -U langchain-openai` and import as `from langchain_openai import OpenAIEmbeddings`.\n",
            "  warn_deprecated(\n"
          ]
        }
      ],
      "source": [
        "# ### IF VECTOR STORES ALREADY EXIST, LOAD THEM\n",
        "if os.path.exists(\"chunks_vector_store\") and os.path.exists(\"chapter_summaries_vector_store\"):\n",
        "    embeddings = OpenAIEmbeddings()\n",
        "    chunks_vector_store =  FAISS.load_local(\"chunks_vector_store\", embeddings, allow_dangerous_deserialization=True)\n",
        "    chapter_summaries_vector_store =  FAISS.load_local(\"chapter_summaries_vector_store\", embeddings, allow_dangerous_deserialization=True)\n",
        "\n",
        "else:\n",
        "    chunks_vector_store = encode_book(hp_pdf_path, chunk_size=1000, chunk_overlap=200)\n",
        "    chapter_summaries_vector_store = encode_chapter_summaries(chapter_summaries)\n",
        "\n",
        "    chunks_vector_store.save_local(\"chunks_vector_store\") # save the chunks_vector_store\n",
        "    chapter_summaries_vector_store.save_local(\"chapter_summaries_vector_store\") # save the chapter_summaries_vector_store\n"
      ]
    },
    {
      "cell_type": "markdown",
      "metadata": {},
      "source": [
        "### Create retrievers from the vector stores"
      ]
    },
    {
      "cell_type": "code",
      "execution_count": 12,
      "metadata": {},
      "outputs": [],
      "source": [
        "chunks_query_retriever = chunks_vector_store.as_retriever(search_kwargs={\"k\": 1})     \n",
        "chapter_summaries_query_retriever = chapter_summaries_vector_store.as_retriever(search_kwargs={\"k\": 1})"
      ]
    },
    {
      "cell_type": "markdown",
      "metadata": {},
      "source": [
        "## Create graph nodes and LLM function for the nodes"
      ]
    },
    {
      "cell_type": "markdown",
      "metadata": {},
      "source": [
        "### Agrregate retrieved content as string context"
      ]
    },
    {
      "cell_type": "code",
      "execution_count": 13,
      "metadata": {},
      "outputs": [],
      "source": [
        "def retrieve_context_per_question(state):\n",
        " \n",
        "    # Retrieve relevant documents\n",
        "    print(\"Retrieving relevant chunks...\")\n",
        "    question = state[\"question\"]\n",
        "    docs = chunks_query_retriever.get_relevant_documents(question)\n",
        "\n",
        "    # Concatenate document content\n",
        "    context = \" \".join(doc.page_content for doc in docs)\n",
        "\n",
        "\n",
        "    print(\"Retrieving relevant chapter summaries...\")\n",
        "    question = state[\"question\"]\n",
        "\n",
        "    docs_summaries = chapter_summaries_query_retriever.get_relevant_documents(state[\"question\"])\n",
        "\n",
        "\n",
        "    # Concatenate chapter summaries with citation information\n",
        "    context_summaries = \"\".join(\n",
        "        f\"{doc.page_content} (Chapter {doc.metadata['chapter']})\" for doc in docs_summaries\n",
        "    )\n",
        "\n",
        "    all_contexts = context + context_summaries\n",
        "    all_contexts = escape_quotes(all_contexts)\n",
        "\n",
        "    return {\"context\": all_contexts, \"question\": question}\n",
        "\n"
      ]
    },
    {
      "cell_type": "markdown",
      "metadata": {},
      "source": [
        "### LLM based function to distill only relevant retrieved content"
      ]
    },
    {
      "cell_type": "code",
      "execution_count": 14,
      "metadata": {},
      "outputs": [],
      "source": [
        "keep_only_relevant_content_prompt_template = \"\"\"you receive a query: {query} and retrieved docuemnts: {retrieved_documents} from a vector store.\n",
        " You need to filter the retrieved data and keep only the sentences that are relevant, but all of them.\n",
        " you should output the distilled content in a json format. \n",
        " REMEMBER: the output has to be a json containing ALL the relevant sentences, and not the answer to the query. {format_instructions}\"\"\"\n",
        "\n",
        "class QuestionAnswer(BaseModel):\n",
        "    relevant_content: str = Field(description=\"The relevant content from the retrieved documents that is relevant to the query.\")\n",
        "\n",
        "\n",
        "json_parser = JsonOutputParser(pydantic_object=QuestionAnswer)\n",
        "\n",
        "keep_only_relevant_content_prompt = PromptTemplate(\n",
        "    template=keep_only_relevant_content_prompt_template,\n",
        "    input_variables=[\"query\", \"retrieved_documents\"],\n",
        "    partial_variables={\"format_instructions\": json_parser.get_format_instructions()}, \n",
        ")\n",
        "\n",
        "keep_only_relevant_content_llm = ChatGroq(temperature=0, model_name=\"llama3-70b-8192\", groq_api_key=groq_api_key, max_tokens=4000)\n",
        "keep_only_relevant_content_chain = keep_only_relevant_content_prompt | keep_only_relevant_content_llm | json_parser\n",
        "\n",
        "def keep_only_relevant_content(state):\n",
        "    \"\"\"\n",
        "    Keeps only the relevant content from the retrieved documents that is relevant to the query.\n",
        "\n",
        "    Args:\n",
        "        question: The query question.\n",
        "        context: The retrieved documents.\n",
        "        chain: The LLMChain instance.\n",
        "\n",
        "    Returns:\n",
        "        The relevant content from the retrieved documents that is relevant to the query.\n",
        "    \"\"\"\n",
        "    question = state[\"question\"]\n",
        "    context = state[\"context\"]\n",
        "\n",
        "    input_data = {\n",
        "    \"query\": question,\n",
        "    \"retrieved_documents\": context\n",
        "}\n",
        "    print(\"keeping only the relevant content...\")\n",
        "    # Invoke the chain to keep only the relevant content\n",
        "    output = keep_only_relevant_content_chain.invoke(input_data)\n",
        "    relevant_content = output[\"relevant_content\"]\n",
        "    relevant_content = \". \".join(relevant_content)\n",
        "    relevant_content = escape_quotes(relevant_content)\n",
        "\n",
        "    return {\"context\": relevant_content, \"question\": question}\n",
        "\n"
      ]
    },
    {
      "cell_type": "markdown",
      "metadata": {},
      "source": [
        "### LLM based function to re-write a question"
      ]
    },
    {
      "cell_type": "code",
      "execution_count": 15,
      "metadata": {},
      "outputs": [],
      "source": [
        "### Question Re-writer\n",
        "\n",
        "class RewriteQuestion(BaseModel):\n",
        "    \"\"\"\n",
        "    Output schema for the rewritten question.\n",
        "    \"\"\"\n",
        "    rewritten_question: str = Field(description=\"The improved question optimized for vectorstore retrieval.\")\n",
        "\n",
        "rewrite_question_string_parser = JsonOutputParser(pydantic_object=RewriteQuestion)\n",
        "\n",
        "\n",
        "rewrite_llm = ChatGroq(temperature=0, model_name=\"llama3-70b-8192\", groq_api_key=groq_api_key, max_tokens=4000)\n",
        "rewrite_prompt_template = \"\"\"You are a question re-writer that converts an input question to a better version optimized for vectorstore retrieval.\n",
        " Analyze the input question {question} and try to reason about the underlying semantic intent / meaning.\n",
        " {format_instructions}\n",
        " \"\"\"\n",
        "\n",
        "rewrite_prompt = PromptTemplate(\n",
        "    template=rewrite_prompt_template,\n",
        "    input_variables=[\"question\"],\n",
        "    partial_variables={\"format_instructions\": rewrite_question_string_parser.get_format_instructions()},\n",
        ")\n",
        "\n",
        "question_rewriter = rewrite_prompt | rewrite_llm | rewrite_question_string_parser  # Combine prompt, LLM, and parser\n",
        "\n",
        "def rewrite_question(state):\n",
        "    \"\"\"Rewrites the given question using the LLM.\"\"\"\n",
        "    question = state[\"question\"]\n",
        "    print(\"Rewriting the question...\")\n",
        "    result = question_rewriter.invoke({\"question\": question})\n",
        "    new_question = result[\"rewritten_question\"]\n",
        "    return {\"question\": new_question}"
      ]
    },
    {
      "cell_type": "markdown",
      "metadata": {},
      "source": [
        "### LLM based function to answer a question given context"
      ]
    },
    {
      "cell_type": "code",
      "execution_count": 16,
      "metadata": {},
      "outputs": [],
      "source": [
        "class QuestionAnswerFromContext(BaseModel):\n",
        "    answer_based_on_content: str = Field(description=\"generates an answer to a query based on a given context.\")\n",
        "\n",
        "question_answer_from_context_json_parser = JsonOutputParser(pydantic_object=QuestionAnswerFromContext)\n",
        "question_answer_from_context_llm = ChatGroq(temperature=0, model_name=\"llama3-70b-8192\", groq_api_key=groq_api_key, max_tokens=4000)\n",
        "\n",
        "question_answer_from_context_prompt_template = \"\"\"you receive a query: {query} and a context: {context}. \n",
        "You need to answer the query from the context. the output has to be a json containing the answer to the query.\n",
        " {format_instructions}\"\"\"\n",
        "\n",
        "question_answer_from_context_prompt = PromptTemplate(\n",
        "    template=question_answer_from_context_prompt_template,\n",
        "    input_variables=[\"query\", \"context\"],\n",
        "    partial_variables={\"format_instructions\": question_answer_from_context_json_parser.get_format_instructions()},\n",
        ")\n",
        "question_answer_from_context_chain = question_answer_from_context_prompt | question_answer_from_context_llm | question_answer_from_context_json_parser\n",
        "\n",
        "def answer_question_from_context(state):\n",
        "    \"\"\"\n",
        "    Answers a question from a given context.\n",
        "\n",
        "    Args:\n",
        "        question: The query question.\n",
        "        context: The context to answer the question from.\n",
        "        chain: The LLMChain instance.\n",
        "\n",
        "    Returns:\n",
        "        The answer to the question from the context.\n",
        "    \"\"\"\n",
        "    question = state[\"question\"]\n",
        "    context = state[\"context\"]\n",
        "\n",
        "    input_data = {\n",
        "    \"query\": question,\n",
        "    \"context\": context\n",
        "}\n",
        "    print(\"Answering the question from the retrieved context...\")\n",
        "\n",
        "    # Invoke the chain to answer the question from the context\n",
        "    output = question_answer_from_context_chain.invoke(input_data)\n",
        "    answer = output[\"answer_based_on_content\"]\n",
        "    return {\"answer\": answer, \"context\": context, \"question\": question}\n"
      ]
    },
    {
      "cell_type": "markdown",
      "metadata": {},
      "source": [
        "## Create graph edges"
      ]
    },
    {
      "cell_type": "markdown",
      "metadata": {},
      "source": [
        "### LLM based function to determine if retrieved content is relevant to question"
      ]
    },
    {
      "cell_type": "code",
      "execution_count": 17,
      "metadata": {},
      "outputs": [],
      "source": [
        "is_relevant_content_prompt_template = \"\"\"you receive a query: {query} and a context: {context} retrieved from a vector store. \n",
        "You need to determine if the document is relevant to the query. \n",
        "\n",
        "{format_instructions}\"\"\"\n",
        "\n",
        "class Relevance(BaseModel):\n",
        "    is_relevant: bool = Field(description=\"Whether the document is relevant to the query.\")\n",
        "    explanation: str = Field(description=\"An explanation of why the document is relevant or not.\")\n",
        "\n",
        "is_relevant_json_parser = JsonOutputParser(pydantic_object=Relevance)\n",
        "is_relevant_llm = ChatGroq(temperature=0, model_name=\"llama3-70b-8192\", groq_api_key=groq_api_key, max_tokens=4000)\n",
        "\n",
        "is_relevant_content_prompt = PromptTemplate(\n",
        "    template=is_relevant_content_prompt_template,\n",
        "    input_variables=[\"query\", \"context\"],\n",
        "    partial_variables={\"format_instructions\": is_relevant_json_parser.get_format_instructions()},\n",
        ")\n",
        "is_relevant_content_chain = is_relevant_content_prompt | is_relevant_llm | is_relevant_json_parser\n",
        "\n",
        "def is_relevant_content(state):\n",
        "    \"\"\"\n",
        "    Determines if the document is relevant to the query.\n",
        "\n",
        "    \"\"\"\n",
        "\n",
        "    question = state[\"question\"]\n",
        "    context = state[\"context\"]\n",
        "\n",
        "    input_data = {\n",
        "    \"query\": question,\n",
        "    \"context\": context\n",
        "}\n",
        "\n",
        "    # Invoke the chain to determine if the document is relevant\n",
        "    output = is_relevant_content_chain.invoke(input_data)\n",
        "    print(\"Determining if the document is relevant...\")\n",
        "    if output[\"is_relevant\"] == True:\n",
        "        print(\"The document is relevant.\")\n",
        "        return \"relevant\"\n",
        "    else:\n",
        "        print(\"The document is not relevant.\")\n",
        "        return \"not relevant\"\n",
        "    \n"
      ]
    },
    {
      "cell_type": "markdown",
      "metadata": {},
      "source": [
        "### LLM chain to check if an answer is hallucination"
      ]
    },
    {
      "cell_type": "code",
      "execution_count": 18,
      "metadata": {},
      "outputs": [],
      "source": [
        "class is_grounded_on_facts(BaseModel):\n",
        "    \"\"\"\n",
        "    Output schema for the rewritten question.\n",
        "    \"\"\"\n",
        "    grounded_on_facts: bool = Field(description=\"Answer is grounded in the facts, 'yes' or 'no'\")\n",
        "    explanation: str = Field(description=\"An explanation of why the answer is grounded in the facts or not.\")\n",
        "\n",
        "grounded_on_facts_parser = JsonOutputParser(pydantic_object=is_grounded_on_facts)\n",
        "is_grounded_on_facts_llm = ChatGroq(temperature=0, model_name=\"llama3-70b-8192\", groq_api_key=groq_api_key, max_tokens=4000)\n",
        "is_grounded_on_facts_prompt_template = \"\"\"You are a fact-checker that determines if the answer to the question is grounded in the facts.\n",
        " Analyze the input context {context} and the answer {answer} and determine if the answer is grounded in the facts.\n",
        " {format_instructions}\n",
        " \"\"\"\n",
        "is_grounded_on_facts_prompt = PromptTemplate(\n",
        "    template=is_grounded_on_facts_prompt_template,\n",
        "    input_variables=[\"context\", \"answer\"],\n",
        "    partial_variables={\"format_instructions\": grounded_on_facts_parser.get_format_instructions()},\n",
        ")\n",
        "is_grounded_on_facts_chain = is_grounded_on_facts_prompt | is_grounded_on_facts_llm | grounded_on_facts_parser\n",
        "\n",
        "\n"
      ]
    },
    {
      "cell_type": "markdown",
      "metadata": {},
      "source": [
        "### LLM chain to determine if a question can be fully answered given a context"
      ]
    },
    {
      "cell_type": "code",
      "execution_count": 19,
      "metadata": {},
      "outputs": [],
      "source": [
        "can_be_answered_prompt_template = \"\"\"You receive a query: {question} and a context: {context}. \n",
        "You need to determine if the question can be fully answered based on the context.\n",
        "{format_instructions}\n",
        "\"\"\"\n",
        "\n",
        "class QuestionAnswer(BaseModel):\n",
        "    can_be_answered: bool = Field(description=\"binary result of whether the question can be fully answered or not\")\n",
        "    explanation: str = Field(description=\"An explanation of why the question can be fully answered or not.\")\n",
        "\n",
        "can_be_answered_json_parser = JsonOutputParser(pydantic_object=QuestionAnswer)\n",
        "\n",
        "answer_question_prompt = PromptTemplate(\n",
        "    template=can_be_answered_prompt_template,\n",
        "    input_variables=[\"question\",\"context\"],\n",
        "    partial_variables={\"format_instructions\": can_be_answered_json_parser.get_format_instructions()},\n",
        ")\n",
        "\n",
        "can_be_answered_llm = ChatGroq(temperature=0, model_name=\"llama3-70b-8192\", groq_api_key=groq_api_key, max_tokens=4000)\n",
        "can_be_answered_chain = answer_question_prompt | can_be_answered_llm | can_be_answered_json_parser\n",
        "\n",
        "    "
      ]
    },
    {
      "cell_type": "markdown",
      "metadata": {},
      "source": [
        "### function to check both cases - hallucination and full answer"
      ]
    },
    {
      "cell_type": "code",
      "execution_count": 20,
      "metadata": {},
      "outputs": [],
      "source": [
        "def grade_generation_v_documents_and_question(state):\n",
        "    \"\"\"Determines if the answer to the question is grounded in the facts.\"\"\"\n",
        "    print(\"Checking if the answer is grounded in the facts...\")\n",
        "    context = state[\"context\"]\n",
        "    answer = state[\"answer\"]\n",
        "    question = state[\"question\"]\n",
        "    \n",
        "    result = is_grounded_on_facts_chain.invoke({\"context\": context, \"answer\": answer})\n",
        "    grounded_on_facts = result[\"grounded_on_facts\"]\n",
        "    if not grounded_on_facts:\n",
        "        print(\"The answer is hallucination.\")\n",
        "        return \"hallucination\"\n",
        "    else:\n",
        "        print(\"The answer is grounded in the facts.\")\n",
        "\n",
        "        input_data = {\n",
        "            \"question\": question,\n",
        "            \"context\": context\n",
        "        }\n",
        "\n",
        "        # Invoke the chain to determine if the question can be answered\n",
        "        print(\"Determining if the question is fully answered...\")\n",
        "        output = can_be_answered_chain.invoke(input_data)\n",
        "        can_be_answered = output[\"can_be_answered\"]\n",
        "        if can_be_answered == True:\n",
        "            print(\"The question can be fully answered.\")\n",
        "            return \"useful\"\n",
        "        else:\n",
        "            print(\"The question cannot be fully answered.\")\n",
        "            return \"not_useful\"\n",
        "     "
      ]
    },
    {
      "cell_type": "markdown",
      "metadata": {},
      "source": [
        "### Test a pipeline of all parts"
      ]
    },
    {
      "cell_type": "code",
      "execution_count": null,
      "metadata": {},
      "outputs": [],
      "source": [
        "init_state = {\"question\": \"who is harry?\"}\n",
        "context_state = retrieve_context_per_question(init_state)\n",
        "relevant_content_state = keep_only_relevant_content(context_state)\n",
        "is_relevant_content_state = is_relevant_content(relevant_content_state)\n",
        "answer_state = answer_question_from_context(relevant_content_state)\n",
        "final_answer = grade_generation_v_documents_and_question(answer_state)\n",
        "print(final_answer[\"answer\"])"
      ]
    },
    {
      "cell_type": "markdown",
      "metadata": {},
      "source": [
        "## Build the Graph"
      ]
    },
    {
      "cell_type": "code",
      "execution_count": 21,
      "metadata": {},
      "outputs": [],
      "source": [
        "class GraphState(TypedDict):\n",
        "    \"\"\"\n",
        "    Represents the state of our graph.\n",
        "\n",
        "    Attributes:\n",
        "        question: question\n",
        "        context: context\n",
        "        answer: answer\n",
        "    \"\"\"\n",
        "\n",
        "    question: str\n",
        "    context: str\n",
        "    answer: str\n",
        "\n",
        "workflow = StateGraph(GraphState)\n",
        "\n",
        "# Define the nodes\n",
        "workflow.add_node(\"retrieve_context_per_question\",retrieve_context_per_question)\n",
        "workflow.add_node(\"keep_only_relevant_content\",keep_only_relevant_content)\n",
        "workflow.add_node(\"rewrite_question\",rewrite_question)\n",
        "workflow.add_node(\"answer_question_from_context\",answer_question_from_context)\n",
        "\n",
        "# Build the graph\n",
        "workflow.set_entry_point(\"retrieve_context_per_question\")\n",
        "workflow.add_edge(\"retrieve_context_per_question\", \"keep_only_relevant_content\")\n",
        "workflow.add_conditional_edges(\n",
        "    \"keep_only_relevant_content\",\n",
        "    is_relevant_content,\n",
        "    {\"relevant\":\"answer_question_from_context\",\n",
        "      \"not relevant\":\"rewrite_question\"},\n",
        "    )\n",
        "workflow.add_edge(\"rewrite_question\", \"retrieve_context_per_question\")\n",
        "workflow.add_conditional_edges(\n",
        "\"answer_question_from_context\",\n",
        "grade_generation_v_documents_and_question,\n",
        "{\"hallucination\":\"answer_question_from_context\",\n",
        "\"not_useful\":\"rewrite_question\",\n",
        "\"useful\":END},\n",
        "\n",
        ")\n",
        "\n",
        "retrival_app = workflow.compile()\n",
        "\n"
      ]
    },
    {
      "cell_type": "code",
      "execution_count": 16,
      "metadata": {},
      "outputs": [
        {
          "data": {
            "image/jpeg": "[encoded data removed]",
            "text/plain": [
              "<IPython.core.display.Image object>"
            ]
          },
          "metadata": {},
          "output_type": "display_data"
        }
      ],
      "source": [
        "display(\n",
        "    Image(\n",
        "        retrival_app.get_graph().draw_mermaid_png(\n",
        "            draw_method=MermaidDrawMethod.API,\n",
        "        )\n",
        "    )\n",
        ")"
      ]
    },
    {
      "cell_type": "code",
      "execution_count": 22,
      "metadata": {},
      "outputs": [],
      "source": [
        "def run_retrieval_graph(question: str):\n",
        "    inputs = {\"question\": question}\n",
        "    for output in retrival_app.stream(inputs):\n",
        "        for key, value in output.items():\n",
        "            pass  # Node\n",
        "            # ... (your existing code)\n",
        "        pprint(\"--------------------\")\n",
        "    print(value)\n",
        "    return AIMessage(\n",
        "        content=value,  # The actual answer\n",
        "    )"
      ]
    },
    {
      "cell_type": "code",
      "execution_count": 23,
      "metadata": {},
      "outputs": [],
      "source": [
        "# tools = [\n",
        "#     Tool(\n",
        "#         name = \"retrieval_graph\",\n",
        "#         description=\"A graph that retrieves relevant information from a vector store based on a given question.\",\n",
        "#         func = lambda query: run_retrieval_graph(query),\n",
        "#     )\n",
        "# ]\n",
        "\n",
        "### TODO: the tools below is for debugging only, change it to the above tools\n",
        "\n",
        "def run_retrieve_context(question: str):\n",
        "    inputs = {\"question\": question}\n",
        "    state = retrieve_context_per_question(inputs)\n",
        "    return state\n",
        "tools = [\n",
        "Tool(\n",
        "    name=\"run_retrieve_context\",\n",
        "    func=lambda question: run_retrieve_context(question),\n",
        "    description=\"Retrieves relevant documents based on a given question.\",\n",
        "),\n",
        "]"
      ]
    },
    {
      "cell_type": "code",
      "execution_count": 37,
      "metadata": {},
      "outputs": [
        {
          "name": "stdout",
          "output_type": "stream",
          "text": [
            "================================\u001b[1m System Message \u001b[0m================================\n",
            "\n",
            "You are a helpful assistant.\n",
            "\n",
            "=============================\u001b[1m Messages Placeholder \u001b[0m=============================\n",
            "\n",
            "\u001b[33;1m\u001b[1;3m{{messages}}\u001b[0m\n"
          ]
        }
      ],
      "source": [
        "from langchain_community.llms.openai import OpenAI\n",
        "\n",
        "prompt = hub.pull(\"wfh/react-agent-executor\")\n",
        "prompt.pretty_print()\n",
        "\n",
        "\n",
        "\n",
        "class Response(BaseModel):\n",
        "    \"\"\"Response to user.\"\"\"\n",
        "\n",
        "    response: str = Field(description=\"Response to user.\")\n",
        "\n",
        "response_parser = JsonOutputParser(pydantic_object=Response)\n",
        "\n",
        "# Choose the LLM that will drive the agent\n",
        "model_name = \"gpt-3.5-turbo-0125\"  # Specify LLM model\n",
        "agent_llm = ChatOpenAI(temperature=0, model=model_name, max_tokens=2000)  # Create LLM instance\n",
        "# agent_llm = ChatGroq(temperature=0, model_name=\"llama3-70b-8192\", groq_api_key=groq_api_key, max_tokens=2000)\n",
        "agent_executor = create_react_agent(agent_llm, tools, messages_modifier=prompt) \n",
        "\n",
        "# llm = ChatOpenAI(model=\"gpt-4-turbo-preview\")\n",
        "# agent_executor = create_react_agent(llm, tools, messages_modifier=prompt)\n"
      ]
    },
    {
      "cell_type": "code",
      "execution_count": 25,
      "metadata": {},
      "outputs": [],
      "source": [
        "class PlanExecute(TypedDict):\n",
        "    input: str\n",
        "    anonymized_input: str\n",
        "    plan: List[str]\n",
        "    past_steps: Annotated[List[Tuple], operator.add]\n",
        "    response: str\n",
        "    mapping: dict "
      ]
    },
    {
      "cell_type": "code",
      "execution_count": 26,
      "metadata": {},
      "outputs": [],
      "source": [
        "class Plan(BaseModel):\n",
        "    \"\"\"Plan to follow in future\"\"\"\n",
        "\n",
        "    steps: List[str] = Field(\n",
        "        description=\"different steps to follow, should be in sorted order\"\n",
        "    )"
      ]
    },
    {
      "cell_type": "code",
      "execution_count": 29,
      "metadata": {},
      "outputs": [],
      "source": [
        "class GetPlan(BaseModel):\n",
        "    \"\"\"Possible results of the action.\"\"\"\n",
        "    plan: Plan = Field(description=\"Plan to follow in future.\")\n",
        "    explanation: str = Field(description=\"Explanation of the action.\")\n",
        "\n",
        "get_plan_parser = JsonOutputParser(pydantic_object=GetPlan)\n",
        "\n",
        "\n",
        "planner_prompt =\"\"\" For the given query {input}, come up with a simple step by step plan of how to figure out the answer. \n",
        "all you have is access to ONE function that retrieves both vector stores of chunks of a book and vector stores of the same book chapter summaries.\n",
        "any call to this function will retrive both the chunks and the chapter summaries. \n",
        "the function name is \"run_retrieve_context\", and you can use only this function to retrieve the information you need. \n",
        "so the plan should contain steps of different information you need to retrieve from the vector stores to answer the query.\n",
        "\n",
        "This plan should involve individual tasks, that if executed correctly will yield the correct answer. Do not add any superfluous steps. \n",
        "The result of the final step should be the final answer. Make sure that each step has all the information needed - do not skip steps.\n",
        "\n",
        "\"\"\"\n",
        "\n",
        "planner_prompt = PromptTemplate(\n",
        "    template=planner_prompt,\n",
        "      input_variables=[\"input\"], \n",
        "     )\n",
        "\n",
        "planner_llm = ChatGroq(temperature=0, model_name=\"llama3-70b-8192\", groq_api_key=groq_api_key, max_tokens=2000) \n",
        "\n",
        "planner = planner_prompt | planner_llm.with_structured_output(Plan)\n"
      ]
    },
    {
      "cell_type": "code",
      "execution_count": 78,
      "metadata": {},
      "outputs": [],
      "source": [
        "question = {\"input\": \"how did harry beat quirrell?\"}\n",
        "my_plan = planner.invoke(question)"
      ]
    },
    {
      "cell_type": "code",
      "execution_count": 79,
      "metadata": {},
      "outputs": [
        {
          "data": {
            "text/plain": [
              "Plan(steps=[\"Search the vector store of chunks from the book for mentions of 'Harry' and 'Quirrell' to identify relevant passages.\", 'Extract the relevant passages and analyze them to understand the context of the interaction between Harry and Quirrell.', 'Identify the specific event or situation in which Harry beats Quirrell.', 'Extract the details of how Harry beats Quirrell from the relevant passage.', 'Compile the extracted details into a concise step-by-step plan.'])"
            ]
          },
          "execution_count": 79,
          "metadata": {},
          "output_type": "execute_result"
        }
      ],
      "source": [
        "my_plan"
      ]
    },
    {
      "cell_type": "code",
      "execution_count": 30,
      "metadata": {},
      "outputs": [],
      "source": [
        "class Response(BaseModel):\n",
        "    \"\"\"Response to user.\"\"\"\n",
        "\n",
        "    response: str\n",
        "\n",
        "\n",
        "class ActPossibleResults(BaseModel):\n",
        "    \"\"\"Possible results of the action.\"\"\"\n",
        "    response: Response = Field(description=\"Response to user.\")\n",
        "    plan: Plan = Field(description=\"Plan to follow in future.\")\n",
        "    explanation: str = Field(description=\"Explanation of the action.\")\n",
        "    \n",
        "\n",
        "act_possible_results_parser = JsonOutputParser(pydantic_object=ActPossibleResults)\n",
        "\n",
        "\n",
        "# replanner_prompt_template = \"\"\"you have no prior information about the question. all you have is access to a vector store of chunks from some book and a vector store of the same book chapter summaries.\n",
        "# you don't know what book it is and cannot rely on any prior knowledge of that book even if you realize what book it is.\n",
        "#     For the given objective, come up with a simple step by step plan. \\\n",
        "# This plan should involve individual tasks, that if executed correctly will yield the correct answer. Do not add any superfluous steps. \\\n",
        "# The result of the final step should be the final answer. Make sure that each step has all the information needed - do not skip steps.\n",
        "\n",
        "\n",
        "replanner_prompt_template =\"\"\" For the given objective, come up with a simple step by step plan of how to figure out the answer. \\\n",
        "all you have is access to ONE function that retrieves both vector stores of chunks of a book and vector stores of the same book chapter summaries. \n",
        "the function name is \"run_retrieve_context\", and you can use only this function to retrieve the information you need.\n",
        "so the plan should contain steps of different information you need to retrieve from the vector stores to answer the query.\n",
        "\n",
        "This plan should involve individual tasks, that if executed correctly will yield the correct answer. Do not add any superfluous steps. \\\n",
        "The result of the final step should be the final answer. Make sure that each step has all the information needed - do not skip steps.\n",
        "\n",
        "\n",
        "\n",
        "\n",
        "Your objective was this:\n",
        "{input}\n",
        "\n",
        "Your original plan was this:\n",
        "{plan}\n",
        "\n",
        "You have currently done the follow steps:\n",
        "{past_steps}\n",
        "\n",
        "Update your plan accordingly. If no more steps are needed and you can return to the user,\n",
        "then respond with only the final answer. If further steps are needed, fill out the plan with only those steps.\n",
        "Do not return previously done steps as part of the plan.\n",
        "\n",
        "the format is json so escape quotes and new lines.\n",
        "\n",
        "{format_instructions}\n",
        "\n",
        "\"\"\"\n",
        "\n",
        "replanner_prompt = PromptTemplate(\n",
        "    template=replanner_prompt_template,\n",
        "    input_variables=[\"input\", \"plan\", \"past_steps\"],\n",
        "    partial_variables={\"format_instructions\": act_possible_results_parser.get_format_instructions()},\n",
        ")\n",
        "\n",
        "\n",
        "\n",
        "replanner = replanner_prompt | ChatGroq(temperature=0, model_name=\"llama3-70b-8192\", groq_api_key=groq_api_key, max_tokens=2000) | act_possible_results_parser\n"
      ]
    },
    {
      "cell_type": "code",
      "execution_count": 31,
      "metadata": {},
      "outputs": [],
      "source": [
        "class AnonymizeQuestion(BaseModel):\n",
        "    \"\"\"Anonymized question and mapping.\"\"\"\n",
        "    anonymize_question : str = Field(description=\"Anonymized question.\")\n",
        "    mapping: dict = Field(description=\"Mapping of original words to variables.\")\n",
        "    explanation: str = Field(description=\"Explanation of the action.\")\n",
        "\n",
        "anonymize_question_parser = JsonOutputParser(pydantic_object=AnonymizeQuestion)\n",
        "\n",
        "\n",
        "anonymize_question_prompt_template = \"\"\" You are a question anonymizer. The input You receive is a string containing several words that\n",
        " construct a question {input}. Your goal is to changes all name entities in the input strings to variables. keep those variables\n",
        "in the mapping dictionary do it here, don't write a code that does this. .just output the anonymized_question and mapping dictionary in this format: {format_instructions}\"\"\"\n",
        "\n",
        "\n",
        "anonymize_question_prompt = PromptTemplate(\n",
        "    template=anonymize_question_prompt_template,\n",
        "    input_variables=[\"input\"],\n",
        "    partial_variables={\"format_instructions\": anonymize_question_parser.get_format_instructions()},\n",
        ")\n",
        "\n",
        "anonymize_question_llm = ChatGroq(temperature=0, model_name=\"llama3-70b-8192\", groq_api_key=groq_api_key, max_tokens=2000)\n",
        "anonymize_question_chain = anonymize_question_prompt | anonymize_question_llm | anonymize_question_parser\n"
      ]
    },
    {
      "cell_type": "code",
      "execution_count": 32,
      "metadata": {},
      "outputs": [],
      "source": [
        "class DeAnonymizePlan(BaseModel):\n",
        "    \"\"\"Possible results of the action.\"\"\"\n",
        "    plan: List = Field(description=\"Plan to follow in future.\")\n",
        "    explanation: str = Field(description=\"Explanation of the action.\")\n",
        "\n",
        "deanonymize_plan_parser = JsonOutputParser(pydantic_object=DeAnonymizePlan)\n",
        "\n",
        "\n",
        "de_anonymize_plan_prompt_template = \"\"\" you receive a list of tasks: {plan}, where some of the words are replaced with mapped variables. you also receive\n",
        " the mapping for those variables to words {mapping}. you should create the new list of tasks, where all the mapped variables are now their mapped words. do it here, don't write a code that does this.\n",
        " {format_instructions}\"\"\"\n",
        "\n",
        "\n",
        "de_anonymize_plan_prompt = PromptTemplate(\n",
        "    template=de_anonymize_plan_prompt_template,\n",
        "    input_variables=[\"plan\", \"mapping\"],\n",
        "    partial_variables={\"format_instructions\": deanonymize_plan_parser.get_format_instructions()},\n",
        ")\n",
        "\n",
        "de_anonymize_plan_llm = ChatGroq(temperature=0, model_name=\"llama3-70b-8192\", groq_api_key=groq_api_key, max_tokens=2000)\n",
        "de_anonymize_plan_chain = de_anonymize_plan_prompt | de_anonymize_plan_llm | deanonymize_plan_parser"
      ]
    },
    {
      "cell_type": "code",
      "execution_count": null,
      "metadata": {},
      "outputs": [],
      "source": []
    },
    {
      "cell_type": "code",
      "execution_count": 67,
      "metadata": {},
      "outputs": [
        {
          "name": "stdout",
          "output_type": "stream",
          "text": [
            "anonimized_querry: how did X beat Y?\n"
          ]
        }
      ],
      "source": [
        "state1 = {'input': \"how did harry beat quirrell?\"}\n",
        "anonymized_question_output = anonymize_question_chain.invoke(state1)\n",
        "anonymized_question = anonymized_question_output[\"anonymize_question\"]\n",
        "mapping = anonymized_question_output[\"mapping\"]\n",
        "print(f'anonimized_querry: {anonymized_question}')\n",
        "\n"
      ]
    },
    {
      "cell_type": "code",
      "execution_count": 68,
      "metadata": {},
      "outputs": [
        {
          "data": {
            "text/plain": [
              "'how did X beat Y?'"
            ]
          },
          "execution_count": 68,
          "metadata": {},
          "output_type": "execute_result"
        }
      ],
      "source": [
        "anonymized_question\n"
      ]
    },
    {
      "cell_type": "code",
      "execution_count": 69,
      "metadata": {},
      "outputs": [
        {
          "data": {
            "text/plain": [
              "{'X': 'Harry', 'Y': 'Quirrell'}"
            ]
          },
          "execution_count": 69,
          "metadata": {},
          "output_type": "execute_result"
        }
      ],
      "source": [
        "mapping"
      ]
    },
    {
      "cell_type": "code",
      "execution_count": 101,
      "metadata": {},
      "outputs": [
        {
          "data": {
            "text/plain": [
              "Plan(steps=['Retrieve chapter summaries related to X and Y from vector stores', 'Retrieve vector stores of chunks from the book related to X and Y', 'Compare the information from the chapter summaries and vector stores to identify the key events or circumstances that led to X beating Y', 'Organize the key events or circumstances in a step-by-step manner to create a simple plan of how X beat Y'])"
            ]
          },
          "execution_count": 101,
          "metadata": {},
          "output_type": "execute_result"
        }
      ],
      "source": [
        "plan = planner.invoke({\"input\": anonymized_question})\n",
        "plan"
      ]
    },
    {
      "cell_type": "code",
      "execution_count": 108,
      "metadata": {},
      "outputs": [
        {
          "data": {
            "text/plain": [
              "['Determine the context of X and Y',\n",
              " 'Identify the competition or event where X beat Y',\n",
              " 'Research the details of the event',\n",
              " \"Analyze the factors that contributed to X's victory\"]"
            ]
          },
          "execution_count": 108,
          "metadata": {},
          "output_type": "execute_result"
        }
      ],
      "source": [
        "plan.steps"
      ]
    },
    {
      "cell_type": "code",
      "execution_count": 114,
      "metadata": {},
      "outputs": [],
      "source": [
        "deanonimzed_plan = de_anonymize_plan_chain.invoke({\"plan\": plan.steps, \"mapping\": mapping})"
      ]
    },
    {
      "cell_type": "code",
      "execution_count": 115,
      "metadata": {},
      "outputs": [
        {
          "data": {
            "text/plain": [
              "{'plan': ['Determine the context of Harry and Quirrell',\n",
              "  'Identify the competition or event where Harry beat Quirrell',\n",
              "  'Research the details of the event',\n",
              "  \"Analyze the factors that contributed to Harry's victory\"],\n",
              " 'explanation': \"This plan outlines the steps to understand the context and circumstances of Harry's victory over Quirrell.\"}"
            ]
          },
          "execution_count": 115,
          "metadata": {},
          "output_type": "execute_result"
        }
      ],
      "source": [
        "deanonimzed_plan"
      ]
    },
    {
      "cell_type": "code",
      "execution_count": 33,
      "metadata": {},
      "outputs": [],
      "source": [
        "from typing import Literal\n",
        "\n",
        "\n",
        "def execute_step(state: PlanExecute):\n",
        "    print(\"Executing step\")\n",
        "    plan = state[\"plan\"]\n",
        "    plan_str = \"\\n\".join(f\"{i+1}. {step}\" for i, step in enumerate(plan))\n",
        "    task = plan[0]\n",
        "    task_formatted = f\"\"\"For the following plan:\n",
        "{plan_str}\\n\\nYou are tasked with executing step {1}, {task}.\"\"\"\n",
        "    print(f'task_formatted: {task_formatted}')\n",
        "    agent_response = agent_executor.invoke(\n",
        "        {\"messages\": [(\"user\", task_formatted)]}\n",
        "    )\n",
        "    print(f'agent_response: {agent_response}')\n",
        "    return {\n",
        "        \"past_steps\": (task, agent_response[\"messages\"][-1].content),\n",
        "    }\n",
        "\n",
        "def anonymize_queries(state: PlanExecute):\n",
        "    print(\"Anonymizing question\")\n",
        "    anonymized_question_output = anonymize_question_chain.invoke(state['input'])\n",
        "    anonymized_question = anonymized_question_output[\"anonymize_question\"]\n",
        "    mapping = anonymized_question_output[\"mapping\"]\n",
        "    return {\"anonymized_input\": anonymized_question, \"mapping\": mapping}\n",
        "\n",
        "def deanonymize_queries(state: PlanExecute):\n",
        "    print(\"De-anonymizing plan\")\n",
        "    deanonimzed_plan = de_anonymize_plan_chain.invoke({\"plan\": state[\"plan\"], \"mapping\": state[\"mapping\"]})\n",
        "    return {\"plan\": deanonimzed_plan[\"plan\"]}\n",
        "\n",
        "\n",
        "def plan_step(state: PlanExecute):\n",
        "    print(\"Planning step\")\n",
        "    # plan = planner.invoke({\"messages\": [(\"user\", state['anonymized_input'])]})\n",
        "    plan = planner.invoke({\"input\": state['anonymized_input']})\n",
        "\n",
        "    return {\"plan\": plan.steps}\n",
        "\n",
        "\n",
        "def replan_step(state: PlanExecute):\n",
        "    print(\"Replanning step\")\n",
        "    state = format_state_past_steps(state)\n",
        "    state = clean_empty_fields_dictionary(state)\n",
        "    print(\"state:\")\n",
        "    print(state)\n",
        "    output =  replanner.invoke(state)\n",
        "    return process_replanner_output(output)\n",
        "  \n",
        "\n",
        "def should_end(state: PlanExecute) -> Literal[\"agent\", \"__end__\"]:\n",
        "    print(\"Checking if should end\")\n",
        "    if \"response\" in state and state[\"response\"]:\n",
        "        return \"__end__\"\n",
        "    else:\n",
        "        return \"agent\""
      ]
    },
    {
      "cell_type": "code",
      "execution_count": 34,
      "metadata": {},
      "outputs": [],
      "source": [
        "from langgraph.graph import StateGraph\n",
        "\n",
        "agent_workflow = StateGraph(PlanExecute)\n",
        "\n",
        "# Add the anonymize node\n",
        "agent_workflow.add_node(\"anonymize\", anonymize_queries)\n",
        "# Add the plan node\n",
        "agent_workflow.add_node(\"planner\", plan_step)\n",
        "# Add the deanonymize node\n",
        "agent_workflow.add_node(\"de-anonymize\", deanonymize_queries)\n",
        "\n",
        "\n",
        "# Add the execution step\n",
        "agent_workflow.add_node(\"agent\", execute_step)\n",
        "\n",
        "# Add a replan node\n",
        "agent_workflow.add_node(\"replan\", replan_step)\n",
        "\n",
        "\n",
        "agent_workflow.set_entry_point(\"anonymize\")\n",
        "\n",
        "# From anonymize we go to plan\n",
        "agent_workflow.add_edge(\"anonymize\", \"planner\")\n",
        "\n",
        "# From plan we go to deanonymize\n",
        "agent_workflow.add_edge(\"planner\", \"de-anonymize\")\n",
        "\n",
        "# From deanonymize we go to agent\n",
        "agent_workflow.add_edge(\"de-anonymize\", \"agent\")\n",
        "\n",
        "# From agent, we replan\n",
        "agent_workflow.add_edge(\"agent\", \"replan\")\n",
        "\n",
        "agent_workflow.add_conditional_edges(\n",
        "    \"replan\",\n",
        "    # Next, we pass in the function that will determine which node is called next.\n",
        "    should_end,\n",
        ")\n",
        "\n",
        "# Finally, we compile it!\n",
        "# This compiles it into a LangChain Runnable,\n",
        "# meaning you can use it as you would any other runnable\n",
        "plan_and_execute_app = agent_workflow.compile()"
      ]
    },
    {
      "cell_type": "code",
      "execution_count": 41,
      "metadata": {},
      "outputs": [
        {
          "data": {
            "image/jpeg": "[encoded data removed]",
            "text/plain": [
              "<IPython.core.display.Image object>"
            ]
          },
          "metadata": {},
          "output_type": "display_data"
        }
      ],
      "source": [
        "\n",
        "display(Image(plan_and_execute_app.get_graph(xray=True).draw_mermaid_png()))"
      ]
    },
    {
      "cell_type": "code",
      "execution_count": 45,
      "metadata": {},
      "outputs": [],
      "source": [
        "# def execute_plan_and_print_steps(inputs, recursion_limit=3):\n",
        "#     config = {\"recursion_limit\": recursion_limit}\n",
        "#     for plan_output in plan_and_execute_app.stream(inputs, config=config):\n",
        "#         for agent_state_key, agent_state_value in plan_output.items():\n",
        "#             print(f' curr step: {agent_state_value}')\n",
        "#             pass  # Node\n",
        "#             # ... (your existing code)\n",
        "#         pprint(\"--------------------\")\n",
        "#     return agent_state_value['response']\n",
        "\n",
        "def execute_plan_and_print_steps(inputs, recursion_limit=20):\n",
        "    config = {\"recursion_limit\": recursion_limit}\n",
        "    try:    \n",
        "        for plan_output in plan_and_execute_app.stream(inputs, config=config):\n",
        "            for agent_state_key, agent_state_value in plan_output.items():\n",
        "                print(f' curr step: {agent_state_value}')\n",
        "        return plan_output  # Return the final output if found\n",
        "    except langgraph.pregel.GraphRecursionError:\n",
        "        print(\"The answer wasn't found in the data.\")"
      ]
    },
    {
      "cell_type": "code",
      "execution_count": 46,
      "metadata": {},
      "outputs": [
        {
          "name": "stdout",
          "output_type": "stream",
          "text": [
            "Anonymizing question\n",
            " curr step: {'anonymized_input': 'who is X?.', 'mapping': {'X': 'charles darwin'}}\n",
            "Planning step\n",
            " curr step: {'plan': ['Retrieve book chunks and chapter summaries using run_retrieve_context function', 'Extract relevant information from chunks and chapter summaries to identify X', 'Analyze extracted information to determine who X is', 'Return the answer to the query: who is X?']}\n",
            "De-anonymizing plan\n",
            " curr step: {'plan': ['Retrieve book chunks and chapter summaries using run_retrieve_context function', 'Extract relevant information from chunks and chapter summaries to identify charles darwin', 'Analyze extracted information to determine who charles darwin is', 'Return the answer to the query: who is charles darwin?']}\n",
            "The answer wasn't found in the data.\n",
            "The final answer is: None\n"
          ]
        }
      ],
      "source": [
        "inputs = {\"input\": \"who is charles darwin?\"}\n",
        "final_answer = execute_plan_and_print_steps(inputs)\n",
        "print(f'The final answer is: {final_answer}')\n"
      ]
    },
    {
      "cell_type": "code",
      "execution_count": 38,
      "metadata": {},
      "outputs": [
        {
          "name": "stdout",
          "output_type": "stream",
          "text": [
            "Anonymizing question\n",
            " curr step: {'anonymized_input': 'how did X beat Y?', 'mapping': {'X': 'Harry', 'Y': 'Quirrell'}}\n",
            "'--------------------'\n",
            "Planning step\n",
            " curr step: {'plan': ['Retrieve context for the book using run_retrieve_context function', 'Extract relevant chunks and chapter summaries related to X and Y', 'Analyze the extracted information to identify the key factors that contributed to X beating Y', \"Determine the specific actions or events that led to X's victory\", 'Organize the findings into a clear and concise answer to the original query']}\n",
            "'--------------------'\n",
            "De-anonymizing plan\n",
            " curr step: {'plan': ['Retrieve context for the book using run_retrieve_context function', 'Extract relevant chunks and chapter summaries related to Harry and Quirrell', 'Analyze the extracted information to identify the key factors that contributed to Harry beating Quirrell', \"Determine the specific actions or events that led to Harry's victory\", 'Organize the findings into a clear and concise answer to the original query']}\n",
            "'--------------------'\n",
            "Executing step\n",
            "task_formatted: For the following plan:\n",
            "1. Retrieve context for the book using run_retrieve_context function\n",
            "2. Extract relevant chunks and chapter summaries related to Harry and Quirrell\n",
            "3. Analyze the extracted information to identify the key factors that contributed to Harry beating Quirrell\n",
            "4. Determine the specific actions or events that led to Harry's victory\n",
            "5. Organize the findings into a clear and concise answer to the original query\n",
            "\n",
            "You are tasked with executing step 1, Retrieve context for the book using run_retrieve_context function.\n",
            "Retrieving relevant chunks...\n"
          ]
        },
        {
          "name": "stderr",
          "output_type": "stream",
          "text": [
            "c:\\Users\\N7\\PycharmProjects\\llm_tasks\\RAG-Harry-Potter\\.venv\\Lib\\site-packages\\langchain_core\\_api\\deprecation.py:119: LangChainDeprecationWarning: The method `BaseRetriever.get_relevant_documents` was deprecated in langchain-core 0.1.46 and will be removed in 0.3.0. Use invoke instead.\n",
            "  warn_deprecated(\n"
          ]
        },
        {
          "name": "stdout",
          "output_type": "stream",
          "text": [
            "Retrieving relevant chapter summaries...\n",
            "agent_response: {'messages': [HumanMessage(content=\"For the following plan:\\n1. Retrieve context for the book using run_retrieve_context function\\n2. Extract relevant chunks and chapter summaries related to Harry and Quirrell\\n3. Analyze the extracted information to identify the key factors that contributed to Harry beating Quirrell\\n4. Determine the specific actions or events that led to Harry's victory\\n5. Organize the findings into a clear and concise answer to the original query\\n\\nYou are tasked with executing step 1, Retrieve context for the book using run_retrieve_context function.\", id='19938e05-e51d-472b-87d6-6baab12592fa'), AIMessage(content='', additional_kwargs={'tool_calls': [{'id': 'call_QMRA3tOcAVHNKePWxB5I57OR', 'function': {'arguments': '{\"__arg1\":\"Harry Potter and the Sorcerer\\'s Stone\"}', 'name': 'run_retrieve_context'}, 'type': 'function'}]}, response_metadata={'token_usage': {'completion_tokens': 25, 'prompt_tokens': 172, 'total_tokens': 197}, 'model_name': 'gpt-3.5-turbo-0125', 'system_fingerprint': None, 'finish_reason': 'tool_calls', 'logprobs': None}, id='run-4870b22e-aef0-483e-b17a-a9c923448540-0', tool_calls=[{'name': 'run_retrieve_context', 'args': {'__arg1': \"Harry Potter and the Sorcerer's Stone\"}, 'id': 'call_QMRA3tOcAVHNKePWxB5I57OR'}]), ToolMessage(content='{\"context\": \"HP 1 - Harry Potter and the\\\\nSorcerer\\\\\\\\\\'s StoneIn Chapter Thirteen of Harry Potter and the Sorcerer\\\\\\\\\\'s Stone, Harry is haunted by nightmares of his parents\\\\\\\\\\' death and the mysterious figure he saw in the Mirror of Erised. He, Ron, and Hermione continue their search for Nicolas Flamel, the maker of the Sorcerer\\\\\\\\\\'s Stone, and finally discover that Flamel is the only one who possesses the stone, which has the power to turn metal into gold and grant immortality.\\\\nMeanwhile, Quidditch practice intensifies as Gryffindor prepares for a crucial match against Hufflepuff. However, tensions rise as Snape is appointed as the referee, leading to concerns about biased officiating. Harry is determined to play in the match despite his fears of Snape\\\\\\\\\\'s intentions.\\\\nDuring the match, Harry catches the Golden Snitch in record time, securing Gryffindor\\\\\\\\\\'s victory and putting them in the lead for the house championship. Dumbledore congratulates Harry, and Snape appears visibly angry. Later, Harry witnesses Snape meeting with Quirrell in the Forbidden Forest, discussing the Sorcerer\\\\\\\\\\'s Stone and the obstacles guarding it.\\\\nHarry shares this information with Ron and Hermione, realizing that Snape is trying to force Quirrell to help him obtain the Stone. They fear that the Stone is only safe as long as Quirrell resists Snape\\\\\\\\\\'s influence. The chapter ends with the ominous realization that the Stone may not be safe for long. (Chapter 13)\", \"question\": \"Harry Potter and the Sorcerer\\'s Stone\"}', name='run_retrieve_context', id='a943ab43-f1f9-48fe-af41-6007c42cf0be', tool_call_id='call_QMRA3tOcAVHNKePWxB5I57OR'), AIMessage(content='The context retrieved for \"Harry Potter and the Sorcerer\\'s Stone\" is from Chapter Thirteen. In this chapter, Harry is haunted by nightmares of his parents\\' death and the mysterious figure he saw in the Mirror of Erised. He, Ron, and Hermione continue their search for Nicolas Flamel, the maker of the Sorcerer\\'s Stone, and discover that Flamel is the only one who possesses the stone, which has the power to turn metal into gold and grant immortality.\\n\\nMeanwhile, tensions rise as Gryffindor prepares for a crucial Quidditch match against Hufflepuff, with Snape appointed as the referee, leading to concerns about biased officiating. Harry catches the Golden Snitch in record time during the match, securing Gryffindor\\'s victory and putting them in the lead for the house championship. Dumbledore congratulates Harry, and Snape appears visibly angry.\\n\\nLater, Harry witnesses Snape meeting with Quirrell in the Forbidden Forest, discussing the Sorcerer\\'s Stone and the obstacles guarding it. Harry shares this information with Ron and Hermione, realizing that Snape is trying to force Quirrell to help him obtain the Stone. They fear that the Stone is only safe as long as Quirrell resists Snape\\'s influence, raising concerns about the Stone\\'s safety.\\n\\nThis context provides insights into the events leading up to Harry\\'s victory and the challenges he faces in the pursuit of the Sorcerer\\'s Stone.', response_metadata={'token_usage': {'completion_tokens': 288, 'prompt_tokens': 543, 'total_tokens': 831}, 'model_name': 'gpt-3.5-turbo-0125', 'system_fingerprint': None, 'finish_reason': 'stop', 'logprobs': None}, id='run-4481c382-59f2-499c-939d-c22693044eef-0')]}\n",
            " curr step: {'past_steps': ('Retrieve context for the book using run_retrieve_context function', 'The context retrieved for \"Harry Potter and the Sorcerer\\'s Stone\" is from Chapter Thirteen. In this chapter, Harry is haunted by nightmares of his parents\\' death and the mysterious figure he saw in the Mirror of Erised. He, Ron, and Hermione continue their search for Nicolas Flamel, the maker of the Sorcerer\\'s Stone, and discover that Flamel is the only one who possesses the stone, which has the power to turn metal into gold and grant immortality.\\n\\nMeanwhile, tensions rise as Gryffindor prepares for a crucial Quidditch match against Hufflepuff, with Snape appointed as the referee, leading to concerns about biased officiating. Harry catches the Golden Snitch in record time during the match, securing Gryffindor\\'s victory and putting them in the lead for the house championship. Dumbledore congratulates Harry, and Snape appears visibly angry.\\n\\nLater, Harry witnesses Snape meeting with Quirrell in the Forbidden Forest, discussing the Sorcerer\\'s Stone and the obstacles guarding it. Harry shares this information with Ron and Hermione, realizing that Snape is trying to force Quirrell to help him obtain the Stone. They fear that the Stone is only safe as long as Quirrell resists Snape\\'s influence, raising concerns about the Stone\\'s safety.\\n\\nThis context provides insights into the events leading up to Harry\\'s victory and the challenges he faces in the pursuit of the Sorcerer\\'s Stone.')}\n",
            "'--------------------'\n",
            "Replanning step\n",
            "state:\n",
            "{'input': 'how did harry beat quirrell?', 'anonymized_input': 'how did X beat Y?', 'plan': ['Retrieve context for the book using run_retrieve_context function', 'Extract relevant chunks and chapter summaries related to Harry and Quirrell', 'Analyze the extracted information to identify the key factors that contributed to Harry beating Quirrell', \"Determine the specific actions or events that led to Harry's victory\", 'Organize the findings into a clear and concise answer to the original query'], 'past_steps': 'Retrieve context for the book using run_retrieve_context function\\nThe context retrieved for \"Harry Potter and the Sorcerer\\'s Stone\" is from Chapter Thirteen. In this chapter, Harry is haunted by nightmares of his parents\\' death and the mysterious figure he saw in the Mirror of Erised. He, Ron, and Hermione continue their search for Nicolas Flamel, the maker of the Sorcerer\\'s Stone, and discover that Flamel is the only one who possesses the stone, which has the power to turn metal into gold and grant immortality.\\n\\nMeanwhile, tensions rise as Gryffindor prepares for a crucial Quidditch match against Hufflepuff, with Snape appointed as the referee, leading to concerns about biased officiating. Harry catches the Golden Snitch in record time during the match, securing Gryffindor\\'s victory and putting them in the lead for the house championship. Dumbledore congratulates Harry, and Snape appears visibly angry.\\n\\nLater, Harry witnesses Snape meeting with Quirrell in the Forbidden Forest, discussing the Sorcerer\\'s Stone and the obstacles guarding it. Harry shares this information with Ron and Hermione, realizing that Snape is trying to force Quirrell to help him obtain the Stone. They fear that the Stone is only safe as long as Quirrell resists Snape\\'s influence, raising concerns about the Stone\\'s safety.\\n\\nThis context provides insights into the events leading up to Harry\\'s victory and the challenges he faces in the pursuit of the Sorcerer\\'s Stone.', 'mapping': {'X': 'Harry', 'Y': 'Quirrell'}}\n",
            "Checking if should end\n",
            " curr step: {'plan': [\"Extract relevant chunks and chapter summaries related to Harry and Quirrell's final confrontation\", 'Analyze the extracted information to identify the key factors that contributed to Harry beating Quirrell', \"Determine the specific actions or events that led to Harry's victory\"]}\n",
            "'--------------------'\n",
            "Executing step\n",
            "task_formatted: For the following plan:\n",
            "1. Extract relevant chunks and chapter summaries related to Harry and Quirrell's final confrontation\n",
            "2. Analyze the extracted information to identify the key factors that contributed to Harry beating Quirrell\n",
            "3. Determine the specific actions or events that led to Harry's victory\n",
            "\n",
            "You are tasked with executing step 1, Extract relevant chunks and chapter summaries related to Harry and Quirrell's final confrontation.\n",
            "Retrieving relevant chunks...\n",
            "Retrieving relevant chapter summaries...\n",
            "Retrieving relevant chunks...Retrieving relevant chunks...\n",
            "\n",
            "Retrieving relevant chapter summaries...\n",
            "Retrieving relevant chapter summaries...\n",
            "agent_response: {'messages': [HumanMessage(content=\"For the following plan:\\n1. Extract relevant chunks and chapter summaries related to Harry and Quirrell's final confrontation\\n2. Analyze the extracted information to identify the key factors that contributed to Harry beating Quirrell\\n3. Determine the specific actions or events that led to Harry's victory\\n\\nYou are tasked with executing step 1, Extract relevant chunks and chapter summaries related to Harry and Quirrell's final confrontation.\", id='a12168bd-0f96-40b7-b402-2f79ef7727de'), AIMessage(content='', additional_kwargs={'tool_calls': [{'id': 'call_P8yr2Uz9DiW4WK8ivYAMN2Nt', 'function': {'arguments': '{\"__arg1\":\"Harry and Quirrell\\'s final confrontation\"}', 'name': 'run_retrieve_context'}, 'type': 'function'}]}, response_metadata={'token_usage': {'completion_tokens': 25, 'prompt_tokens': 149, 'total_tokens': 174}, 'model_name': 'gpt-3.5-turbo-0125', 'system_fingerprint': None, 'finish_reason': 'tool_calls', 'logprobs': None}, id='run-4205a108-1acd-45db-ad67-08efde0679d3-0', tool_calls=[{'name': 'run_retrieve_context', 'args': {'__arg1': \"Harry and Quirrell's final confrontation\"}, 'id': 'call_P8yr2Uz9DiW4WK8ivYAMN2Nt'}]), ToolMessage(content='{\"context\": \"as he could. Quirrell screamed and tried to throw Harry off \\\\u2014 the pain in\\\\nHarry\\\\u2019s head was building \\\\u2014 he couldn\\\\u2019t see \\\\u2014 he could only hear Quirrell\\\\u2019s\\\\nterrible shrieks and Voldemort\\\\u2019s yells of, \\\\u201cKILL HIM! KILL HIM!\\\\u201d and other\\\\nvoices, maybe in Harry\\\\u2019s own head, crying, \\\\u201cHarry! Harry!\\\\u201d\\\\n      He felt Quirrell\\\\u2019s arm wrenched from his grasp, knew all was lost, and\\\\nfell into blackness, down\\\\u2026down\\\\u2026 down\\\\u2026.\\\\n \\\\nSomething gold was glinting just above him. The Snitch! He tried to catch it,\\\\nbut his arms were too heavy.\\\\n      He blinked. It wasn\\\\u2019t the Snitch at all. It was a pair of glasses. How\\\\nstrange.\\\\n      He blinked again. The smiling face of Albus Dumbledore swam into\\\\nview above him.In Chapter Seventeen, titled \\\\\\\\\\\\\"The Man with Two Faces,\\\\\\\\\\\\\" Harry comes face to face with Professor Quirrell, who reveals himself to be the one trying to steal the Sorcerer\\\\\\\\\\'s Stone. Quirrell explains how he tried to kill Harry during the Quidditch match and how Snape was actually trying to save him. Quirrell also reveals that he is serving Lord Voldemort and that Voldemort is sharing his body. Harry manages to get the Stone from the Mirror of Erised by lying to Quirrell and keeping him distracted. Quirrell\\\\\\\\\\'s true form is revealed to be Voldemort\\\\\\\\\\'s face on the back of his head, and he tries to kill Harry but is unable to touch him due to the protection of his mother\\\\\\\\\\'s love. Dumbledore arrives in time to save Harry and stop Quirrell. The Stone is destroyed, and Dumbledore explains that Nicolas Flamel and his wife will die as a result. Harry receives points for his bravery and courage, tying Gryffindor with Slytherin for the house cup. The students leave Hogwarts for the summer, and Harry looks forward to having fun with Dudley without using magic. The chapter ends with Harry\\\\\\\\\\'s family, the Dursleys, picking him up from the train station. (Chapter 17)\", \"question\": \"Harry and Quirrell\\'s final confrontation\"}', name='run_retrieve_context', id='baa43881-0071-4b87-9fa4-79101b38c251', tool_call_id='call_P8yr2Uz9DiW4WK8ivYAMN2Nt'), AIMessage(content=\"I have extracted relevant chunks and a chapter summary related to Harry and Quirrell's final confrontation. Here is the information:\\n\\n- In the final confrontation, Harry faces Professor Quirrell, who is revealed to be serving Lord Voldemort and sharing his body.\\n- Quirrell tries to kill Harry but is unable to touch him due to the protection of his mother's love.\\n- Dumbledore arrives in time to save Harry and stop Quirrell.\\n- The Sorcerer's Stone is destroyed, and Dumbledore explains the consequences for Nicolas Flamel and his wife.\\n- Harry receives points for his bravery and courage, tying Gryffindor with Slytherin for the house cup.\\n- The chapter ends with Harry's family, the Dursleys, picking him up from the train station.\\n\\nNext, I will proceed with step 2 to analyze the extracted information to identify the key factors that contributed to Harry beating Quirrell.\", additional_kwargs={'tool_calls': [{'id': 'call_cWP13ZBLwf6JwoNOa2yfU4Ol', 'function': {'arguments': '{\"__arg1\": \"key factors that contributed to Harry beating Quirrell\"}', 'name': 'run_retrieve_context'}, 'type': 'function'}, {'id': 'call_ONrRZZE4CnC3EGZFp8YkDHf5', 'function': {'arguments': '{\"__arg1\": \"specific actions or events that led to Harry\\'s victory\"}', 'name': 'run_retrieve_context'}, 'type': 'function'}]}, response_metadata={'token_usage': {'completion_tokens': 255, 'prompt_tokens': 706, 'total_tokens': 961}, 'model_name': 'gpt-3.5-turbo-0125', 'system_fingerprint': None, 'finish_reason': 'tool_calls', 'logprobs': None}, id='run-547e97f6-bc1a-4093-9b19-2f9a0da9980e-0', tool_calls=[{'name': 'run_retrieve_context', 'args': {'__arg1': 'key factors that contributed to Harry beating Quirrell'}, 'id': 'call_cWP13ZBLwf6JwoNOa2yfU4Ol'}, {'name': 'run_retrieve_context', 'args': {'__arg1': \"specific actions or events that led to Harry's victory\"}, 'id': 'call_ONrRZZE4CnC3EGZFp8YkDHf5'}]), ToolMessage(content='{\"context\": \"\\\\u201cThat Quidditch Cup\\\\u2019ll have our name on it this year,\\\\u201d said Wood\\\\nhappily as they trudged back up to the castle. \\\\u201cI wouldn\\\\u2019t be surprised if you turn\\\\nout better than Charlie Weasley, and he could have played for England if he\\\\nhadn\\\\u2019t gone off chasing dragons.\\\\u201d\\\\n \\\\nPerhaps it was because he was now so busy, what with Quidditch practice\\\\nthree evenings a week on top of all his homework, but Harry could hardly\\\\nbelieve it when he realized that he\\\\u2019d already been at Hogwarts two months. The\\\\ncastle felt more like home than Privet Drive ever had. His lessons, too, were\\\\nbecoming more and more interesting now that they had mastered the basics.\\\\n      On Halloween morning they woke to the delicious smell of baking\\\\npumpkin wafting through the corridors. Even better, Professor Flitwick\\\\nannounced in Charms that he thought they were ready to start making objects fly,\\\\nsomething they had all been dying to try since they\\\\u2019d seen him make Neville\\\\u2019sIn Chapter Seventeen, titled \\\\\\\\\\\\\"The Man with Two Faces,\\\\\\\\\\\\\" Harry comes face to face with Professor Quirrell, who reveals himself to be the one trying to steal the Sorcerer\\\\\\\\\\'s Stone. Quirrell explains how he tried to kill Harry during the Quidditch match and how Snape was actually trying to save him. Quirrell also reveals that he is serving Lord Voldemort and that Voldemort is sharing his body. Harry manages to get the Stone from the Mirror of Erised by lying to Quirrell and keeping him distracted. Quirrell\\\\\\\\\\'s true form is revealed to be Voldemort\\\\\\\\\\'s face on the back of his head, and he tries to kill Harry but is unable to touch him due to the protection of his mother\\\\\\\\\\'s love. Dumbledore arrives in time to save Harry and stop Quirrell. The Stone is destroyed, and Dumbledore explains that Nicolas Flamel and his wife will die as a result. Harry receives points for his bravery and courage, tying Gryffindor with Slytherin for the house cup. The students leave Hogwarts for the summer, and Harry looks forward to having fun with Dudley without using magic. The chapter ends with Harry\\\\\\\\\\'s family, the Dursleys, picking him up from the train station. (Chapter 17)\", \"question\": \"key factors that contributed to Harry beating Quirrell\"}', name='run_retrieve_context', id='4d11946d-431e-484c-8e5d-016be70ab54f', tool_call_id='call_cWP13ZBLwf6JwoNOa2yfU4Ol'), ToolMessage(content='{\"context\": \"and hugging Parvati Patil in the row in front.\\\\n      Harry jumped off his broom, a foot from the ground. He couldn\\\\u2019t believe\\\\nit. He\\\\u2019d done it \\\\u2014 the game was over; it had barely lasted five minutes. As\\\\nGryffindors came spilling onto the field, he saw Snape land nearby, white-faced\\\\nand tight-lipped \\\\u2014 then Harry felt a hand on his shoulder and looked up into\\\\nDumbledore\\\\u2019s smiling face.\\\\n      \\\\u201cWell done,\\\\u201d said Dumbledore quietly, so that only Harry could hear.\\\\n\\\\u201cNice to see you haven\\\\u2019t been brooding about that mirror...been keeping\\\\nbusy...excellent...\\\\u201d\\\\n      Snape spat bitterly on the ground.\\\\n \\\\nHarry left the locker room alone some time later, to take his Nimbus Two\\\\nThousand back to the broomshed. He couldn\\\\u2019t ever remember feeling happier.\\\\nHe\\\\u2019d really done something to be proud of now \\\\u2013 no one could say he was just a\\\\nfamous name any more. The evening air had never smelled so sweet. He walked\\\\nover the damp grass, reliving the last hour in his head, which was a happy blur:In Chapter Sixteen of Harry Potter and the Sorcerer\\\\\\\\\\'s Stone, Harry, Ron, and Hermione are in the midst of their final exams at Hogwarts. Despite the looming threat of Voldemort, they manage to focus on their exams and complete them successfully. However, Harry is plagued by a recurring nightmare and a persistent pain in his scar.\\\\nAs they finish their exams, the trio relaxes by the lake, but Harry\\\\\\\\\\'s scar continues to bother him, signaling danger. Harry becomes increasingly convinced that Snape is planning to steal the Sorcerer\\\\\\\\\\'s Stone, and he rushes to Hagrid to confirm his suspicions. Hagrid inadvertently reveals that he unknowingly gave information about Fluffy, the three-headed dog guarding the Stone, to a stranger in a pub.\\\\nRealizing that Snape may be making a move that night, Harry, Ron, and Hermione set out to stop him. They navigate through various obstacles, including a giant squid, Peeves the poltergeist, and a series of enchantments guarding the Stone. They eventually find themselves in a chamber with a giant chessboard, where they must play a life-sized game of wizard\\\\\\\\\\'s chess to proceed.\\\\nAfter successfully navigating the chessboard, they encounter a troll and a series of potions that will help them pass through the final obstacles. Hermione figures out the logic puzzle presented by the potions, and Harry and Hermione each drink the correct potion to pass through the final challenges.\\\\nHermione successfully passes through the final obstacle and heads back to get help from Dumbledore, while Harry faces the final challenge alone. He confronts Snape, who is not alone but is accompanied by Quirrell, who is revealed to be working for Voldemort. Harry manages to thwart their plans and prevent them from obtaining the Sorcerer\\\\\\\\\\'s Stone.\\\\nIn the end, Harry emerges victorious, having faced his fears and overcome the challenges with the help of his friends. The chapter ends with Harry reflecting on the importance of friendship, bravery, and loyalty in the face of danger. (Chapter 16)\", \"question\": \"specific actions or events that led to Harry\\'s victory\"}', name='run_retrieve_context', id='0d36073c-3a7f-4a1d-8b28-e2ce726eaf7a', tool_call_id='call_ONrRZZE4CnC3EGZFp8YkDHf5'), AIMessage(content=\"I have retrieved the following information related to Harry beating Quirrell:\\n\\n### Key Factors that Contributed to Harry Beating Quirrell:\\n- Harry managed to get the Sorcerer's Stone from the Mirror of Erised by lying to Quirrell and keeping him distracted.\\n- Quirrell's true form was revealed to be Voldemort's face on the back of his head, and he was unable to touch Harry due to the protection of his mother's love.\\n- Dumbledore arrived in time to save Harry and stop Quirrell, contributing to Harry's victory.\\n\\n### Specific Actions or Events that Led to Harry's Victory:\\n- Harry successfully completed his final exams at Hogwarts despite the looming threat of Voldemort.\\n- Harry, Ron, and Hermione suspected Snape of planning to steal the Sorcerer's Stone and took action to stop him.\\n- They navigated through various obstacles, including a giant chessboard and a series of enchantments guarding the Stone.\\n- Harry confronted Snape and Quirrell, who was revealed to be working for Voldemort, and managed to thwart their plans and prevent them from obtaining the Sorcerer's Stone.\\n\\nThese actions and events played a crucial role in Harry's victory over Quirrell. If you need further analysis or information, feel free to let me know.\", response_metadata={'token_usage': {'completion_tokens': 257, 'prompt_tokens': 2229, 'total_tokens': 2486}, 'model_name': 'gpt-3.5-turbo-0125', 'system_fingerprint': None, 'finish_reason': 'stop', 'logprobs': None}, id='run-af073924-8713-40c7-bdb9-f41beaa8ab4c-0')]}\n",
            " curr step: {'past_steps': (\"Extract relevant chunks and chapter summaries related to Harry and Quirrell's final confrontation\", \"I have retrieved the following information related to Harry beating Quirrell:\\n\\n### Key Factors that Contributed to Harry Beating Quirrell:\\n- Harry managed to get the Sorcerer's Stone from the Mirror of Erised by lying to Quirrell and keeping him distracted.\\n- Quirrell's true form was revealed to be Voldemort's face on the back of his head, and he was unable to touch Harry due to the protection of his mother's love.\\n- Dumbledore arrived in time to save Harry and stop Quirrell, contributing to Harry's victory.\\n\\n### Specific Actions or Events that Led to Harry's Victory:\\n- Harry successfully completed his final exams at Hogwarts despite the looming threat of Voldemort.\\n- Harry, Ron, and Hermione suspected Snape of planning to steal the Sorcerer's Stone and took action to stop him.\\n- They navigated through various obstacles, including a giant chessboard and a series of enchantments guarding the Stone.\\n- Harry confronted Snape and Quirrell, who was revealed to be working for Voldemort, and managed to thwart their plans and prevent them from obtaining the Sorcerer's Stone.\\n\\nThese actions and events played a crucial role in Harry's victory over Quirrell. If you need further analysis or information, feel free to let me know.\")}\n",
            "'--------------------'\n",
            "Replanning step\n",
            "state:\n",
            "{'input': 'how did harry beat quirrell?', 'anonymized_input': 'how did X beat Y?', 'plan': [\"Extract relevant chunks and chapter summaries related to Harry and Quirrell's final confrontation\", 'Analyze the extracted information to identify the key factors that contributed to Harry beating Quirrell', \"Determine the specific actions or events that led to Harry's victory\"], 'past_steps': 'Retrieve context for the book using run_retrieve_context function\\nThe context retrieved for \"Harry Potter and the Sorcerer\\'s Stone\" is from Chapter Thirteen. In this chapter, Harry is haunted by nightmares of his parents\\' death and the mysterious figure he saw in the Mirror of Erised. He, Ron, and Hermione continue their search for Nicolas Flamel, the maker of the Sorcerer\\'s Stone, and discover that Flamel is the only one who possesses the stone, which has the power to turn metal into gold and grant immortality.\\n\\nMeanwhile, tensions rise as Gryffindor prepares for a crucial Quidditch match against Hufflepuff, with Snape appointed as the referee, leading to concerns about biased officiating. Harry catches the Golden Snitch in record time during the match, securing Gryffindor\\'s victory and putting them in the lead for the house championship. Dumbledore congratulates Harry, and Snape appears visibly angry.\\n\\nLater, Harry witnesses Snape meeting with Quirrell in the Forbidden Forest, discussing the Sorcerer\\'s Stone and the obstacles guarding it. Harry shares this information with Ron and Hermione, realizing that Snape is trying to force Quirrell to help him obtain the Stone. They fear that the Stone is only safe as long as Quirrell resists Snape\\'s influence, raising concerns about the Stone\\'s safety.\\n\\nThis context provides insights into the events leading up to Harry\\'s victory and the challenges he faces in the pursuit of the Sorcerer\\'s Stone.\\nExtract relevant chunks and chapter summaries related to Harry and Quirrell\\'s final confrontation\\nI have retrieved the following information related to Harry beating Quirrell:\\n\\n### Key Factors that Contributed to Harry Beating Quirrell:\\n- Harry managed to get the Sorcerer\\'s Stone from the Mirror of Erised by lying to Quirrell and keeping him distracted.\\n- Quirrell\\'s true form was revealed to be Voldemort\\'s face on the back of his head, and he was unable to touch Harry due to the protection of his mother\\'s love.\\n- Dumbledore arrived in time to save Harry and stop Quirrell, contributing to Harry\\'s victory.\\n\\n### Specific Actions or Events that Led to Harry\\'s Victory:\\n- Harry successfully completed his final exams at Hogwarts despite the looming threat of Voldemort.\\n- Harry, Ron, and Hermione suspected Snape of planning to steal the Sorcerer\\'s Stone and took action to stop him.\\n- They navigated through various obstacles, including a giant chessboard and a series of enchantments guarding the Stone.\\n- Harry confronted Snape and Quirrell, who was revealed to be working for Voldemort, and managed to thwart their plans and prevent them from obtaining the Sorcerer\\'s Stone.\\n\\nThese actions and events played a crucial role in Harry\\'s victory over Quirrell. If you need further analysis or information, feel free to let me know.', 'mapping': {'X': 'Harry', 'Y': 'Quirrell'}}\n",
            "Checking if should end\n",
            " curr step: {'response': {'response': \"Harry beat Quirrell by lying to him and keeping him distracted, and also due to the protection of his mother's love, which prevented Quirrell from touching him.\"}}\n",
            "'--------------------'\n",
            "The final answer is: {'response': \"Harry beat Quirrell by lying to him and keeping him distracted, and also due to the protection of his mother's love, which prevented Quirrell from touching him.\"}\n"
          ]
        }
      ],
      "source": [
        "inputs = {\"input\": \"how did harry beat quirrell?\"}\n",
        "final_answer = execute_plan_and_print_steps(inputs)\n",
        "print(f'The final answer is: {final_answer}')"
      ]
    },
    {
      "cell_type": "markdown",
      "metadata": {},
      "source": [
        "### Template for Answering Questions Using Context-Specific Information\n"
      ]
    },
    {
      "cell_type": "markdown",
      "metadata": {
        "id": "JBKQkR-W4ZyV"
      },
      "source": [
        "### Model Evaluation\n"
      ]
    },
    {
      "cell_type": "code",
      "execution_count": null,
      "metadata": {
        "id": "ME52zvjPNv47"
      },
      "outputs": [],
      "source": [
        "questions = [\n",
        "    \"Who gave Harry Potter his first broomstick?\",\n",
        "    \"What is the name of the three-headed dog guarding the Sorcerer's Stone?\",\n",
        "    \"Which house did the Sorting Hat initially consider for Harry?\",\n",
        "    \"What is the name of Harry's owl?\"\n",
        "]\n",
        "#     \"How did Harry and his friends get past Fluffy?\",\n",
        "#     \"What is the Mirror of Erised?\",\n",
        "#     \"Who tried to steal the Sorcerer's Stone?\",\n",
        "#     \"How did Harry defeat Quirrell/Voldemort?\",\n",
        "#     \"What is Harry's parent's secret weapon against Voldemort?\",\n",
        "# ]\n",
        "\n",
        "ground_truth_answers = [\n",
        "    \"Professor McGonagall\",\n",
        "    \"Fluffy\",\n",
        "    \"Slytherin\",\n",
        "    \"Hedwig\",\n",
        "    # \"They played music to put Fluffy to sleep.\",\n",
        "    # \"A magical mirror that shows the 'deepest, most desperate desire of our hearts.'\",\n",
        "    # \"Professor Quirrell, possessed by Voldemort\",\n",
        "    # \"Harry's mother's love protected him, causing Quirrell/Voldemort pain when they touched him.\",\n",
        "    # \"Love\",\n",
        "]"
      ]
    },
    {
      "cell_type": "markdown",
      "metadata": {},
      "source": [
        "### Generating Answers and Retrieving Documents for Predefined Questions\n"
      ]
    },
    {
      "cell_type": "code",
      "execution_count": null,
      "metadata": {
        "colab": {
          "base_uri": "https://localhost:8080/",
          "height": 460
        },
        "id": "Wo9EEV0j4mJA",
        "outputId": "14c46214-8fb8-41aa-9845-73367d9a738f"
      },
      "outputs": [],
      "source": [
        "generated_answers = []\n",
        "retrieved_documents = []\n",
        "for question in questions:\n",
        "    result, all_context_book, all_context_summaries = answer_question_pipeline(question, chunks_retriever, chapter_summaries_retriever, answer_from_context_llm_chain, multi_query_retriver_llm)\n",
        "    generated_answers.append(result['text'])\n",
        "    retrieved_documents.append(all_context_book + all_context_summaries)\n"
      ]
    },
    {
      "cell_type": "markdown",
      "metadata": {},
      "source": [
        "### Displaying Retrieved Documents and Generated Answers\n"
      ]
    },
    {
      "cell_type": "code",
      "execution_count": null,
      "metadata": {},
      "outputs": [],
      "source": [
        "print(f'retrieved_documents: {retrieved_documents}\\n')\n",
        "print(f'generated_answers: {generated_answers}')"
      ]
    },
    {
      "cell_type": "markdown",
      "metadata": {},
      "source": [
        "### Preparing Data and Conducting Ragas Evaluation\n"
      ]
    },
    {
      "cell_type": "code",
      "execution_count": null,
      "metadata": {},
      "outputs": [],
      "source": [
        "# Prepare data for Ragas evaluation\n",
        "data_samples = {\n",
        "    'question': questions,  # Replace with your list of questions\n",
        "    'answer': generated_answers,  # Replace with your list of generated answers\n",
        "    'contexts': retrieved_documents,  # Your retrieved_documents list\n",
        "    'ground_truth': ground_truth_answers  # Replace with your list of ground truth answers\n",
        "}\n",
        "\n",
        "# Convert contexts to list of strings (if necessary)\n",
        "data_samples['contexts'] = [list(context) for context in data_samples['contexts']]\n",
        "\n",
        "dataset = Dataset.from_dict(data_samples)\n",
        "\n",
        "# Evaluate using Ragas with the specified metrics\n",
        "metrics = [\n",
        "    answer_correctness,\n",
        "    faithfulness,\n",
        "    answer_relevancy,\n",
        "    context_recall,\n",
        "    answer_similarity\n",
        "]\n",
        "llm = ChatOpenAI(temperature=0, model_name=\"gpt-4-1106-preview\", max_tokens=4000)\n",
        "score = evaluate(dataset, metrics=metrics, llm=llm)\n",
        "\n",
        "# Print results and explanations\n",
        "results_df = score.to_pandas()\n",
        "print(results_df)"
      ]
    },
    {
      "cell_type": "markdown",
      "metadata": {},
      "source": [
        "### Analyzing Metric Results from Ragas Evaluation\n"
      ]
    },
    {
      "cell_type": "code",
      "execution_count": null,
      "metadata": {},
      "outputs": [],
      "source": [
        "analyse_metric_results(results_df)"
      ]
    },
    {
      "cell_type": "markdown",
      "metadata": {},
      "source": [
        "### Interactive Chat Interface for Harry Potter Inquiries\n"
      ]
    },
    {
      "cell_type": "code",
      "execution_count": null,
      "metadata": {
        "id": "lV7UvEofS1nv"
      },
      "outputs": [],
      "source": [
        "def chat_with_data(chunks_retriever, chapter_summaries_retriever, answer_from_context_llm_chain, multi_query_retriver_llm):\n",
        "    \"\"\"\n",
        "    Provides an interactive chat interface for answering questions about Harry Potter.\n",
        "\n",
        "    Args:\n",
        "        retriever: A retriever for retrieving relevant documents.\n",
        "        chapter_summaries_retriever: A retriever for retrieving relevant chapter summaries.\n",
        "        answer_from_context_llm_chain: An LLM chain for answering questions based on context.\n",
        "        multi_query_retriver_llm: An LLM for use in the MultiQueryRetriever.\n",
        "    \"\"\"\n",
        "\n",
        "    print(\"You can start chatting with me about Harry Potter. Type 'exit' to stop.\")\n",
        "\n",
        "    while True:\n",
        "        # Prompt the user for a question\n",
        "        question = input(\"What's your question? \\n\")\n",
        "\n",
        "        # Check if the user wants to exit\n",
        "        if question.lower() == 'exit':\n",
        "            print(\"Exiting chat. Goodbye!\")\n",
        "            break\n",
        "\n",
        "        # Answer the question using the pipeline\n",
        "        result, _, _ = answer_question_pipeline(\n",
        "            question, chunks_retriever, chapter_summaries_retriever, answer_from_context_llm_chain, multi_query_retriver_llm\n",
        "        )\n",
        "\n",
        "        # Print the answer\n",
        "        print(\"Answer:\")\n",
        "        wrapped_result = textwrap.fill(result['text'], width=120)  # Wrap text for readability\n",
        "        print(wrapped_result)\n",
        "        print(\"-\" * 80)  # Print a separator line for readability"
      ]
    },
    {
      "cell_type": "markdown",
      "metadata": {},
      "source": [
        "### Calling the chat_with_data function"
      ]
    },
    {
      "cell_type": "code",
      "execution_count": null,
      "metadata": {
        "colab": {
          "base_uri": "https://localhost:8080/"
        },
        "id": "048b2Ol7QAiF",
        "outputId": "1c891083-5c91-4425-ba23-50d1f32e0ac5"
      },
      "outputs": [],
      "source": [
        "chat_with_data(chunks_retriever,chapter_summaries_retriever, answer_from_context_llm_chain, multi_query_retriver_llm)"
      ]
    }
  ],
  "metadata": {
    "colab": {
      "provenance": []
    },
    "kernelspec": {
      "display_name": "Python 3",
      "name": "python3"
    },
    "language_info": {
      "codemirror_mode": {
        "name": "ipython",
        "version": 3
      },
      "file_extension": ".py",
      "mimetype": "text/x-python",
      "name": "python",
      "nbconvert_exporter": "python",
      "pygments_lexer": "ipython3",
      "version": "3.12.0"
    }
  },
  "nbformat": 4,
  "nbformat_minor": 0
}
